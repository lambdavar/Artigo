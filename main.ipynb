{
 "cells": [
  {
   "cell_type": "code",
   "execution_count": 157,
   "id": "e4c4f487",
   "metadata": {},
   "outputs": [],
   "source": [
    "import datetime as dt\n",
    "import wget\n",
    "import os\n",
    "import pandas as pd\n",
    "import numpy as np\n",
    "from zipfile import ZipFile\n",
    "from timeit import default_timer as timer\n",
    "from pyts.image import GramianAngularField\n",
    "from pyts.image import MarkovTransitionField"
   ]
  },
  {
   "cell_type": "markdown",
   "id": "2239fc88",
   "metadata": {},
   "source": [
    "## Constantes"
   ]
  },
  {
   "cell_type": "code",
   "execution_count": 4,
   "id": "b6d4ba7c",
   "metadata": {},
   "outputs": [],
   "source": [
    "# define o ticker do ativo que vou usar pra treinar o modelo\n",
    "ticker = \"BTCUSDT\"\n",
    "# timeframes precisa estar em ordem crescente e começar em 1s ou 1m\n",
    "timeframes = (\"1m\", \"5m\", \"15m\", \"30m\", \"1h\", \"2h\", \"4h\", \"8h\", \"1d\")\n",
    "# quantos períodos vamos olhar pro passado\n",
    "lookback = 20"
   ]
  },
  {
   "cell_type": "code",
   "execution_count": 3,
   "id": "7e2f5470",
   "metadata": {},
   "outputs": [],
   "source": [
    "# só extrai o arquivo dado como parâmetro para a pasta ./Dados/temp\n",
    "def extrai_arquivo(arq):\n",
    "    try:\n",
    "        ZipFile(arq, 'r').extractall('./Dados/temp/')\n",
    "    except:\n",
    "        print(f\"erro ao extrair {arq}\")\n",
    "# mazalves@inf.ufpr.br ou marco.eu@gmail.com"
   ]
  },
  {
   "cell_type": "code",
   "execution_count": 4,
   "id": "0b3375b7",
   "metadata": {},
   "outputs": [],
   "source": [
    "# Adiciona e preenche linhas faltantes nos arquivos com 0\n",
    "def corrige_arquivos(timeframes):\n",
    "    freq = [item.replace(\"m\", \"T\") for item in timeframes]\n",
    "    for timeframe, freqs in zip(timeframes, freq):\n",
    "        df = (pd.read_csv(f\"./Dados/Processados/BTCUSDT-{timeframe}.csv\", index_col =\"Close time\"))\n",
    "        df.index = pd.to_datetime(df.index, unit=\"ms\")\n",
    "        novo_index= pd.date_range(start = df.index[0], end=df.index[-1], freq=freqs)\n",
    "        df = df.reindex(novo_index, fill_value=0)\n",
    "        # faz virar unix de volta\n",
    "        df.index = (df.index - pd.Timestamp(\"1970-01-01\")) // pd.Timedelta(\"1ms\")\n",
    "        df.reset_index(inplace=True)\n",
    "        df.rename(columns={\"index\": \"Close time\"}, inplace=True)\n",
    "        df.to_csv(f\"./Dados/Processados/BTCUSDT-{timeframe}.csv\", index=False)"
   ]
  },
  {
   "cell_type": "code",
   "execution_count": 5,
   "id": "dc9c2625",
   "metadata": {},
   "outputs": [],
   "source": [
    "# baixa dados, concatena em um dataframe só e salva em um .csv\n",
    "# limpa depois\n",
    "def baixa_e_concatena(ticker, timeframe, ano_inicial):\n",
    "    ano_corrente, mes_corrente, dia_corrente = [dt.date.today().year, dt.date.today().month, dt.date.today().day]\n",
    "    \n",
    "    # baixa dados da binance conforme ticker e timeframe selecionados para a pasta ./Dados/\n",
    "    # timeframes disponiveis: 12h 15m 1d 1h 1m 1mo 1s 1w 2h 30m 3d 3m 4h 5m 6h 8h\n",
    "    # tickers disponiveis: https://data.binance.vision/?prefix=data/spot/monthly/klines/\n",
    "    url = \"https://data.binance.vision/data/spot/monthly/klines/\"\n",
    "    if not os.path.exists(f\"./Dados/Processados/{ticker}-{timeframe}.csv\"):\n",
    "        for ano in range(ano_inicial, ano_corrente+1):\n",
    "            for mes in range(1,12+1):\n",
    "                mes = str(mes).zfill(2)\n",
    "                if not ((os.path.exists(f\"./Dados/temp/{ticker}-{timeframe}-{ano}-{mes}.zip\"))):\n",
    "                    try:\n",
    "                        wget.download(f\"{url}{ticker}/{timeframe}/{ticker}-{timeframe}-{ano}-{mes}.zip\"\n",
    "                                      , out = f\"./Dados/temp/\")\n",
    "                        pass\n",
    "                    except:\n",
    "                        print(f\"\\nFalha ao baixar {url}{ticker}/{timeframe}/{ticker}-{timeframe}-{ano}-{mes}.zip\")\n",
    "                else:\n",
    "                    print(f\"{ano}/{mes} já baixado\")\n",
    "    else:\n",
    "        print(f\"{ticker}-{timeframe} já processado\")\n",
    "        return\n",
    "    \n",
    "    # cria uma lista de arquivos do ticker e timeframe selecionado\n",
    "    lista_arquivos = os.listdir(\"./Dados/temp/\")\n",
    "    lista_arquivos = [x for x in lista_arquivos if x.startswith(f\"{ticker}-{timeframe}\")]\n",
    "    lista_arquivos[-5:]\n",
    "    \n",
    "    # cria um dataframe vazio pra colocar todos os dados dentro\n",
    "    nomes = [\"Open time\",\"Open\",\"High\",\"Low\",\"Close\",\"Volume\",\"Close time\",\"Quote asset volume\"\n",
    "                                 ,\"Number of trades\",\"Taker buy base asset volume\",\"Taker buy quote asset volume\",\"Ignore\"]\n",
    "    df = pd.DataFrame(columns = nomes)\n",
    "    \n",
    "    # concatena tudo em um CSV e deixa na pasta ./Dados/Processados/\n",
    "    for arq in lista_arquivos:\n",
    "        extrai_arquivo(f\"./Dados/temp/{arq}\")\n",
    "        df = pd.concat([df, pd.read_csv(f'./Dados/temp/{arq[:-4]}.csv', sep=',',decimal='.'\n",
    "                                   , encoding='latin1', names=nomes, header=None)], ignore_index=True, copy=False)\n",
    "        os.remove(f\"./Dados/temp/{arq[:-4]}.csv\")\n",
    "    df.drop(\"Ignore\", inplace=True, axis=1)\n",
    "    df.set_index(\"Open time\", inplace=True)\n",
    "    df.to_csv(f\"./Dados/Processados/{ticker}-{timeframe}.csv\")\n",
    "    \n",
    "    print(f\"./Dados/Processados/{ticker}-{timeframe}.csv\")\n",
    "    \n",
    "    # deleta tudo que é temporario e já foi processado\n",
    "    for arq in lista_arquivos:\n",
    "        os.remove(f\"./Dados/temp/{arq}\")\n",
    "    \n",
    "    \n",
    "    return"
   ]
  },
  {
   "cell_type": "markdown",
   "id": "c93c9731",
   "metadata": {},
   "source": [
    "## Prepara os dados"
   ]
  },
  {
   "cell_type": "markdown",
   "id": "847dadd5",
   "metadata": {},
   "source": [
    "#### Só rodar se precisar baixar e processar tudo de novo!"
   ]
  },
  {
   "cell_type": "code",
   "execution_count": 6,
   "id": "a79cf363",
   "metadata": {},
   "outputs": [
    {
     "name": "stdout",
     "output_type": "stream",
     "text": [
      "BTCUSDT-1m já processado\n",
      "BTCUSDT-5m já processado\n",
      "BTCUSDT-15m já processado\n",
      "BTCUSDT-30m já processado\n",
      "BTCUSDT-1h já processado\n",
      "BTCUSDT-2h já processado\n",
      "BTCUSDT-4h já processado\n",
      "BTCUSDT-8h já processado\n",
      "BTCUSDT-1d já processado\n"
     ]
    }
   ],
   "source": [
    "for timeframe in timeframes:\n",
    "    baixa_e_concatena(ticker= ticker, timeframe=timeframe, ano_inicial=2017)"
   ]
  },
  {
   "cell_type": "code",
   "execution_count": null,
   "id": "9601ed5f",
   "metadata": {},
   "outputs": [],
   "source": [
    "corrige_arquivos(timeframes)"
   ]
  },
  {
   "cell_type": "markdown",
   "id": "8bcf5e29",
   "metadata": {},
   "source": [
    "## Cria janelas"
   ]
  },
  {
   "cell_type": "code",
   "execution_count": 5,
   "id": "2268e83c",
   "metadata": {},
   "outputs": [
    {
     "data": {
      "text/plain": [
       "(1, 5, 15, 30, 60, 120, 240, 480, 1440)"
      ]
     },
     "execution_count": 5,
     "metadata": {},
     "output_type": "execute_result"
    }
   ],
   "source": [
    "# cria lista de qtd de minutos ou segundos por timeframe, dependendo de qual for o primeiro timeframe utilizado\n",
    "# uso isso somente pra pegar a ultima linha que devemos iterar para criação de janelas\n",
    "def timeframes_mesma_unidade(timeframes=timeframes):\n",
    "    lista = []\n",
    "    for timeframe in timeframes:\n",
    "        qtd = int(timeframe[:-1])\n",
    "        unidade = timeframe[-1]\n",
    "        if timeframes[0] == \"1s\":\n",
    "            lista.append(int(pd.to_timedelta(qtd, unit=unidade).total_seconds()))\n",
    "        elif timeframes[0] == \"1m\":\n",
    "            lista.append(int(pd.to_timedelta(qtd, unit=unidade).total_seconds()/60))\n",
    "        else:\n",
    "            print(\"Timeframe inicial não é de 1 minuto ou 1 segundo.\")\n",
    "    return(lista)\n",
    "\n",
    "\n",
    "timeframes_padronizado = tuple(timeframes_mesma_unidade(timeframes))\n",
    "timeframes_padronizado"
   ]
  },
  {
   "cell_type": "code",
   "execution_count": 7,
   "id": "9bda3621",
   "metadata": {},
   "outputs": [
    {
     "data": {
      "text/plain": [
       "array([[1.6542400e+04, 1.6725311e+12],\n",
       "       [1.6536420e+04, 1.6725311e+12],\n",
       "       [1.6537779e+04, 1.6725310e+12],\n",
       "       ...,\n",
       "       [4.2805601e+03, 1.5029426e+12],\n",
       "       [4.2614800e+03, 1.5029425e+12],\n",
       "       [4.2614800e+03, 1.5029425e+12]], dtype=float32)"
      ]
     },
     "execution_count": 7,
     "metadata": {},
     "output_type": "execute_result"
    }
   ],
   "source": [
    "# cria uma lista de numpy arrays com os dados de cada timeframe.\n",
    "# Eles estão organizados na mesma ordem que os timeframes\n",
    "dfs = [(pd.read_csv(f\"./Dados/Processados/BTCUSDT-{timeframe}.csv\", \n",
    "                      usecols=[\"Close time\", \"Close\"])[::-1]).to_numpy(dtype=\"float32\") for timeframe in timeframes]\n",
    "dfs = tuple(dfs)\n",
    "dfs[0]"
   ]
  },
  {
   "cell_type": "code",
   "execution_count": 8,
   "id": "8adb81d3",
   "metadata": {},
   "outputs": [],
   "source": [
    "# cria janela pra cada linha de dados\n",
    "def cria_janela(linha, dfs=dfs , lookback=lookback):\n",
    "    # cria janela vazia. precisa ter 1 coluna a mais que a qtd de timeframes\n",
    "    df_janela = np.full(shape= (lookback, len(dfs)+1), fill_value=np.nan, dtype=\"float32\")\n",
    "    # coloca o preco de fechamento de 1m na primeira coluna e o close time de 1m na ultima coluna\n",
    "    df_janela[:, 0] = dfs[0][linha:linha+lookback, 0]\n",
    "    df_janela[:, -1] = dfs[0][linha:linha+lookback, -1]\n",
    "    \n",
    "    # define se a janela é long ou short\n",
    "    # long se o preço de fechamento é maior no minuto seguinte, short se não, none se igual\n",
    "    long = None\n",
    "    if dfs[0][linha, 0] < dfs[0][linha-1, 0]:\n",
    "        long = True\n",
    "    elif dfs[0][linha, 0] > dfs[0][linha-1, 0]:\n",
    "        long = False\n",
    "\n",
    "    i = 1\n",
    "    while i < len(dfs):\n",
    "        # pega o numero da linha o primeiro closetime do timeframe é igual ou menor que o da janela atual\n",
    "        index = (dfs[i][:,1] <= df_janela[0,-1]).argmax()\n",
    "        # coloca as 20 (lookback) linhas subsequentes dentro da janela\n",
    "        df_janela[:, i] = dfs[i][index:index+lookback, 0]\n",
    "        i += 1\n",
    "    # deleta coluna de close time e retorna\n",
    "    return(df_janela[:,:-1], long)\n",
    "#df_janela, long = cria_janela(99, dfs, lookback)\n",
    "#print(long)\n",
    "#pd.DataFrame(df_janela)"
   ]
  },
  {
   "cell_type": "code",
   "execution_count": 248,
   "id": "7c811c48",
   "metadata": {},
   "outputs": [
    {
     "name": "stdout",
     "output_type": "stream",
     "text": [
      "2789199\n",
      "Tempo de execução:  6.527470999999423\n",
      "Tempo estimado para execução completa:  30.344025976212315  min\n"
     ]
    }
   ],
   "source": [
    "#%%timeit\n",
    "# tentar meter um paralelismo. demora 3,4 min pra rodar atualmente\n",
    "\n",
    "linha = 0\n",
    "\n",
    "linhas = 10000\n",
    "start = timer()\n",
    "# ultima linha é a qtd de linhas de 1 min - (lookback (20 dias) x qtd de minutos em um dia) \n",
    "ultima_linha = len(dfs[0])-(lookback*timeframes_padronizado[-1])\n",
    "print(ultima_linha)\n",
    "for linha in range(linhas):# range(ultima_linha+1):\n",
    "    df_janela, long = cria_janela(linha, dfs, lookback)\n",
    "    # se não é long nem short cai fora\n",
    "    if long == None:\n",
    "        continue\n",
    "    create_gaf(df_janela)\n",
    "    # salva na pasta long ou short\n",
    "end = timer()\n",
    "print(\"Tempo de execução: \",end - start)\n",
    "print(\"Tempo estimado para execução completa: \", (ultima_linha/linhas)*(end - start)/60, \" min\")\n",
    "#pd.DataFrame(df_janela)"
   ]
  },
  {
   "cell_type": "markdown",
   "id": "74315062",
   "metadata": {},
   "source": [
    "# Problemas:\n",
    "- Se for usar GAF image vai ter uma imagem 20x20 por coluna (supondo que estamos olhando 20 períodos no passado por vez)\n",
    "- Não está claro se 1D CNN é uma boa alternativa para timeseries.\n",
    "\n",
    "# Soluções:\n",
    "#### 1\n",
    "- Usar GAF de qualquer maneira para tentar replicar os resultados do trabalho do BARRA, usando apenas os preços de fechamento de 4 timeframes e ver se os resultados melhoram com CSVM\n",
    "- Depois se eu quiser adiciono mais dados, mas a imagem vai ficar bem grande. (5 colunas de t-20 resulta em uma imagem de 100x100). GAF usando mais dados seria o melhor dos mundos.\n",
    "\n",
    "#### 2\n",
    "- Usar 1D CNN com todos os dados disponíveis\n",
    "- Metodo completamente diferente do do BARRA. Não usa GAF images. Provavelmente mais fácil"
   ]
  },
  {
   "cell_type": "markdown",
   "id": "ae8e311a",
   "metadata": {},
   "source": [
    "### A partir daqui são só testes"
   ]
  },
  {
   "cell_type": "code",
   "execution_count": 249,
   "id": "9ac87c8b",
   "metadata": {},
   "outputs": [],
   "source": [
    "# usando tambem markov\n",
    "# ler o artigo https://arxiv.org/pdf/1506.00327.pdf pra entender melhor\n",
    "def create_gaf(dft):\n",
    "    # cria uma imagem gaf RGB\n",
    "    # precisa da df_janela transposta pra funcionar\n",
    "    gasf = GramianAngularField(method='summation')#, image_size=0.5)\n",
    "    gadf = GramianAngularField(method='difference')#, image_size=0.5)\n",
    "    mtf = MarkovTransitionField(n_bins=2)#, image_size=0.5)# , \n",
    "    gadf = gadf.transform(dft)\n",
    "    gasf = gasf.transform(dft)\n",
    "    mtf = mtf.transform(dft)\n",
    "    #print(gadf.shape, gasf.shape, mtf.shape)\n",
    "    \n",
    "    # une os 3 metodos em uma unica imagem. precisa ter 3 dimensoes pra virar RGB, então criamos uma array vazia\n",
    "    return np.stack((gasf,gadf, mtf), axis=-1)"
   ]
  },
  {
   "cell_type": "code",
   "execution_count": 251,
   "id": "df6efdc1",
   "metadata": {},
   "outputs": [
    {
     "name": "stdout",
     "output_type": "stream",
     "text": [
      "9 imagens de dimensão (20, 20) com 3 canais (RGB)\n"
     ]
    },
    {
     "data": {
      "application/vnd.plotly.v1+json": {
       "config": {
        "plotlyServerURL": "https://plot.ly"
       },
       "data": [
        {
         "hovertemplate": "x: %{x}<br>y: %{y}<extra></extra>",
         "name": "0",
         "source": "data:image/png;base64,iVBORw0KGgoAAAANSUhEUgAAABQAAAAUCAIAAAAC64paAAAC50lEQVR4XmXUS2veVRAG8N+5/NvEpJEUbNV6W7Qk9kIt6UIpQgVdCn4DF4pbv4DgxqUbt162gt+hqAhiQeKliaFFsVWsqF2o6fsmac7/nOPibXUhzOLhmRnmGZ5hwtk3/0qjt97x4mcf1GMeesDZia8WVY4XNwa3toUf5OkrPcs7WiJog9DklGVyFBJRZWwqjdo1ehSTmLQkZDHpQUwE+a3X5eYFXj7p+799c8mlzy1fFLP1ry2dcm7V2hlLUekWgkqnEAnpqbdD9fKWj9547eiqC8949piPf1ZG5x+18ZsrW368rNx+NwzqVEgEcdCbXG/SfH+/o1c9weoxJxb9ekMZrcwpP5lcM7lm97Y02N+5KzhlvckP3VL55nkvfWH1pud4ck/61Fis/OnIpuV1hzZs7xmSnX0pCgxJ6/LZRWN06YJnP3Fi4sk593Pyc210eNf8dw5eNfxuuxmCaZcIDDTyVxOV5U99/Jhfn5AuOnnBt4zF6prrR6wvurxhsiv/f/LMlTgqWcnGQcvGwUgd7jJjUhLJGPUoBGHWfHxQg/Vzzr9vZc/KssPzVtfV4mGGTX1T+cX2aIimVQ4CQ9DIN4rG0nc2HlQed+S0+VOu/6GMhtOus7Vnc8/tPUMyvSNHwj3Zt5b05txVV86ZrFhec3DV+sRY9NO25nzJlWpnImV3dsUk/GtVOC5Waxs+fNpkxaEzhqMunzFW5RGbc64k1ynb4mCcClkIwuxI8sKrsVpqyqH3dg/ZnrMdTeaVaju7PWdnUVlSvdoGLZl5FQ7Q5D5qVQlCkYqhGmYeVEMzVGkUi1YEQqERxKBXOd8njBa6umD/PjsHTIOdA8ZmmkwPujNvXNCqMGhIQlBnk1sVq0qoYpWaRGp6k7vcxCqMVCJVQBBGmqzrXUenC+5FF9CFLvR72Rm4V5xbEatCLNJoqAaGKlRDv7tzKMK+2NV9IRMENDlEukiPetSCRgv/gRkv6ok4ewJEnX8AA1Nmj/C2XS8AAAAASUVORK5CYII=",
         "type": "image",
         "xaxis": "x",
         "yaxis": "y"
        }
       ],
       "layout": {
        "margin": {
         "t": 60
        },
        "template": {
         "data": {
          "bar": [
           {
            "error_x": {
             "color": "#2a3f5f"
            },
            "error_y": {
             "color": "#2a3f5f"
            },
            "marker": {
             "line": {
              "color": "#E5ECF6",
              "width": 0.5
             },
             "pattern": {
              "fillmode": "overlay",
              "size": 10,
              "solidity": 0.2
             }
            },
            "type": "bar"
           }
          ],
          "barpolar": [
           {
            "marker": {
             "line": {
              "color": "#E5ECF6",
              "width": 0.5
             },
             "pattern": {
              "fillmode": "overlay",
              "size": 10,
              "solidity": 0.2
             }
            },
            "type": "barpolar"
           }
          ],
          "carpet": [
           {
            "aaxis": {
             "endlinecolor": "#2a3f5f",
             "gridcolor": "white",
             "linecolor": "white",
             "minorgridcolor": "white",
             "startlinecolor": "#2a3f5f"
            },
            "baxis": {
             "endlinecolor": "#2a3f5f",
             "gridcolor": "white",
             "linecolor": "white",
             "minorgridcolor": "white",
             "startlinecolor": "#2a3f5f"
            },
            "type": "carpet"
           }
          ],
          "choropleth": [
           {
            "colorbar": {
             "outlinewidth": 0,
             "ticks": ""
            },
            "type": "choropleth"
           }
          ],
          "contour": [
           {
            "colorbar": {
             "outlinewidth": 0,
             "ticks": ""
            },
            "colorscale": [
             [
              0,
              "#0d0887"
             ],
             [
              0.1111111111111111,
              "#46039f"
             ],
             [
              0.2222222222222222,
              "#7201a8"
             ],
             [
              0.3333333333333333,
              "#9c179e"
             ],
             [
              0.4444444444444444,
              "#bd3786"
             ],
             [
              0.5555555555555556,
              "#d8576b"
             ],
             [
              0.6666666666666666,
              "#ed7953"
             ],
             [
              0.7777777777777778,
              "#fb9f3a"
             ],
             [
              0.8888888888888888,
              "#fdca26"
             ],
             [
              1,
              "#f0f921"
             ]
            ],
            "type": "contour"
           }
          ],
          "contourcarpet": [
           {
            "colorbar": {
             "outlinewidth": 0,
             "ticks": ""
            },
            "type": "contourcarpet"
           }
          ],
          "heatmap": [
           {
            "colorbar": {
             "outlinewidth": 0,
             "ticks": ""
            },
            "colorscale": [
             [
              0,
              "#0d0887"
             ],
             [
              0.1111111111111111,
              "#46039f"
             ],
             [
              0.2222222222222222,
              "#7201a8"
             ],
             [
              0.3333333333333333,
              "#9c179e"
             ],
             [
              0.4444444444444444,
              "#bd3786"
             ],
             [
              0.5555555555555556,
              "#d8576b"
             ],
             [
              0.6666666666666666,
              "#ed7953"
             ],
             [
              0.7777777777777778,
              "#fb9f3a"
             ],
             [
              0.8888888888888888,
              "#fdca26"
             ],
             [
              1,
              "#f0f921"
             ]
            ],
            "type": "heatmap"
           }
          ],
          "heatmapgl": [
           {
            "colorbar": {
             "outlinewidth": 0,
             "ticks": ""
            },
            "colorscale": [
             [
              0,
              "#0d0887"
             ],
             [
              0.1111111111111111,
              "#46039f"
             ],
             [
              0.2222222222222222,
              "#7201a8"
             ],
             [
              0.3333333333333333,
              "#9c179e"
             ],
             [
              0.4444444444444444,
              "#bd3786"
             ],
             [
              0.5555555555555556,
              "#d8576b"
             ],
             [
              0.6666666666666666,
              "#ed7953"
             ],
             [
              0.7777777777777778,
              "#fb9f3a"
             ],
             [
              0.8888888888888888,
              "#fdca26"
             ],
             [
              1,
              "#f0f921"
             ]
            ],
            "type": "heatmapgl"
           }
          ],
          "histogram": [
           {
            "marker": {
             "pattern": {
              "fillmode": "overlay",
              "size": 10,
              "solidity": 0.2
             }
            },
            "type": "histogram"
           }
          ],
          "histogram2d": [
           {
            "colorbar": {
             "outlinewidth": 0,
             "ticks": ""
            },
            "colorscale": [
             [
              0,
              "#0d0887"
             ],
             [
              0.1111111111111111,
              "#46039f"
             ],
             [
              0.2222222222222222,
              "#7201a8"
             ],
             [
              0.3333333333333333,
              "#9c179e"
             ],
             [
              0.4444444444444444,
              "#bd3786"
             ],
             [
              0.5555555555555556,
              "#d8576b"
             ],
             [
              0.6666666666666666,
              "#ed7953"
             ],
             [
              0.7777777777777778,
              "#fb9f3a"
             ],
             [
              0.8888888888888888,
              "#fdca26"
             ],
             [
              1,
              "#f0f921"
             ]
            ],
            "type": "histogram2d"
           }
          ],
          "histogram2dcontour": [
           {
            "colorbar": {
             "outlinewidth": 0,
             "ticks": ""
            },
            "colorscale": [
             [
              0,
              "#0d0887"
             ],
             [
              0.1111111111111111,
              "#46039f"
             ],
             [
              0.2222222222222222,
              "#7201a8"
             ],
             [
              0.3333333333333333,
              "#9c179e"
             ],
             [
              0.4444444444444444,
              "#bd3786"
             ],
             [
              0.5555555555555556,
              "#d8576b"
             ],
             [
              0.6666666666666666,
              "#ed7953"
             ],
             [
              0.7777777777777778,
              "#fb9f3a"
             ],
             [
              0.8888888888888888,
              "#fdca26"
             ],
             [
              1,
              "#f0f921"
             ]
            ],
            "type": "histogram2dcontour"
           }
          ],
          "mesh3d": [
           {
            "colorbar": {
             "outlinewidth": 0,
             "ticks": ""
            },
            "type": "mesh3d"
           }
          ],
          "parcoords": [
           {
            "line": {
             "colorbar": {
              "outlinewidth": 0,
              "ticks": ""
             }
            },
            "type": "parcoords"
           }
          ],
          "pie": [
           {
            "automargin": true,
            "type": "pie"
           }
          ],
          "scatter": [
           {
            "fillpattern": {
             "fillmode": "overlay",
             "size": 10,
             "solidity": 0.2
            },
            "type": "scatter"
           }
          ],
          "scatter3d": [
           {
            "line": {
             "colorbar": {
              "outlinewidth": 0,
              "ticks": ""
             }
            },
            "marker": {
             "colorbar": {
              "outlinewidth": 0,
              "ticks": ""
             }
            },
            "type": "scatter3d"
           }
          ],
          "scattercarpet": [
           {
            "marker": {
             "colorbar": {
              "outlinewidth": 0,
              "ticks": ""
             }
            },
            "type": "scattercarpet"
           }
          ],
          "scattergeo": [
           {
            "marker": {
             "colorbar": {
              "outlinewidth": 0,
              "ticks": ""
             }
            },
            "type": "scattergeo"
           }
          ],
          "scattergl": [
           {
            "marker": {
             "colorbar": {
              "outlinewidth": 0,
              "ticks": ""
             }
            },
            "type": "scattergl"
           }
          ],
          "scattermapbox": [
           {
            "marker": {
             "colorbar": {
              "outlinewidth": 0,
              "ticks": ""
             }
            },
            "type": "scattermapbox"
           }
          ],
          "scatterpolar": [
           {
            "marker": {
             "colorbar": {
              "outlinewidth": 0,
              "ticks": ""
             }
            },
            "type": "scatterpolar"
           }
          ],
          "scatterpolargl": [
           {
            "marker": {
             "colorbar": {
              "outlinewidth": 0,
              "ticks": ""
             }
            },
            "type": "scatterpolargl"
           }
          ],
          "scatterternary": [
           {
            "marker": {
             "colorbar": {
              "outlinewidth": 0,
              "ticks": ""
             }
            },
            "type": "scatterternary"
           }
          ],
          "surface": [
           {
            "colorbar": {
             "outlinewidth": 0,
             "ticks": ""
            },
            "colorscale": [
             [
              0,
              "#0d0887"
             ],
             [
              0.1111111111111111,
              "#46039f"
             ],
             [
              0.2222222222222222,
              "#7201a8"
             ],
             [
              0.3333333333333333,
              "#9c179e"
             ],
             [
              0.4444444444444444,
              "#bd3786"
             ],
             [
              0.5555555555555556,
              "#d8576b"
             ],
             [
              0.6666666666666666,
              "#ed7953"
             ],
             [
              0.7777777777777778,
              "#fb9f3a"
             ],
             [
              0.8888888888888888,
              "#fdca26"
             ],
             [
              1,
              "#f0f921"
             ]
            ],
            "type": "surface"
           }
          ],
          "table": [
           {
            "cells": {
             "fill": {
              "color": "#EBF0F8"
             },
             "line": {
              "color": "white"
             }
            },
            "header": {
             "fill": {
              "color": "#C8D4E3"
             },
             "line": {
              "color": "white"
             }
            },
            "type": "table"
           }
          ]
         },
         "layout": {
          "annotationdefaults": {
           "arrowcolor": "#2a3f5f",
           "arrowhead": 0,
           "arrowwidth": 1
          },
          "autotypenumbers": "strict",
          "coloraxis": {
           "colorbar": {
            "outlinewidth": 0,
            "ticks": ""
           }
          },
          "colorscale": {
           "diverging": [
            [
             0,
             "#8e0152"
            ],
            [
             0.1,
             "#c51b7d"
            ],
            [
             0.2,
             "#de77ae"
            ],
            [
             0.3,
             "#f1b6da"
            ],
            [
             0.4,
             "#fde0ef"
            ],
            [
             0.5,
             "#f7f7f7"
            ],
            [
             0.6,
             "#e6f5d0"
            ],
            [
             0.7,
             "#b8e186"
            ],
            [
             0.8,
             "#7fbc41"
            ],
            [
             0.9,
             "#4d9221"
            ],
            [
             1,
             "#276419"
            ]
           ],
           "sequential": [
            [
             0,
             "#0d0887"
            ],
            [
             0.1111111111111111,
             "#46039f"
            ],
            [
             0.2222222222222222,
             "#7201a8"
            ],
            [
             0.3333333333333333,
             "#9c179e"
            ],
            [
             0.4444444444444444,
             "#bd3786"
            ],
            [
             0.5555555555555556,
             "#d8576b"
            ],
            [
             0.6666666666666666,
             "#ed7953"
            ],
            [
             0.7777777777777778,
             "#fb9f3a"
            ],
            [
             0.8888888888888888,
             "#fdca26"
            ],
            [
             1,
             "#f0f921"
            ]
           ],
           "sequentialminus": [
            [
             0,
             "#0d0887"
            ],
            [
             0.1111111111111111,
             "#46039f"
            ],
            [
             0.2222222222222222,
             "#7201a8"
            ],
            [
             0.3333333333333333,
             "#9c179e"
            ],
            [
             0.4444444444444444,
             "#bd3786"
            ],
            [
             0.5555555555555556,
             "#d8576b"
            ],
            [
             0.6666666666666666,
             "#ed7953"
            ],
            [
             0.7777777777777778,
             "#fb9f3a"
            ],
            [
             0.8888888888888888,
             "#fdca26"
            ],
            [
             1,
             "#f0f921"
            ]
           ]
          },
          "colorway": [
           "#636efa",
           "#EF553B",
           "#00cc96",
           "#ab63fa",
           "#FFA15A",
           "#19d3f3",
           "#FF6692",
           "#B6E880",
           "#FF97FF",
           "#FECB52"
          ],
          "font": {
           "color": "#2a3f5f"
          },
          "geo": {
           "bgcolor": "white",
           "lakecolor": "white",
           "landcolor": "#E5ECF6",
           "showlakes": true,
           "showland": true,
           "subunitcolor": "white"
          },
          "hoverlabel": {
           "align": "left"
          },
          "hovermode": "closest",
          "mapbox": {
           "style": "light"
          },
          "paper_bgcolor": "white",
          "plot_bgcolor": "#E5ECF6",
          "polar": {
           "angularaxis": {
            "gridcolor": "white",
            "linecolor": "white",
            "ticks": ""
           },
           "bgcolor": "#E5ECF6",
           "radialaxis": {
            "gridcolor": "white",
            "linecolor": "white",
            "ticks": ""
           }
          },
          "scene": {
           "xaxis": {
            "backgroundcolor": "#E5ECF6",
            "gridcolor": "white",
            "gridwidth": 2,
            "linecolor": "white",
            "showbackground": true,
            "ticks": "",
            "zerolinecolor": "white"
           },
           "yaxis": {
            "backgroundcolor": "#E5ECF6",
            "gridcolor": "white",
            "gridwidth": 2,
            "linecolor": "white",
            "showbackground": true,
            "ticks": "",
            "zerolinecolor": "white"
           },
           "zaxis": {
            "backgroundcolor": "#E5ECF6",
            "gridcolor": "white",
            "gridwidth": 2,
            "linecolor": "white",
            "showbackground": true,
            "ticks": "",
            "zerolinecolor": "white"
           }
          },
          "shapedefaults": {
           "line": {
            "color": "#2a3f5f"
           }
          },
          "ternary": {
           "aaxis": {
            "gridcolor": "white",
            "linecolor": "white",
            "ticks": ""
           },
           "baxis": {
            "gridcolor": "white",
            "linecolor": "white",
            "ticks": ""
           },
           "bgcolor": "#E5ECF6",
           "caxis": {
            "gridcolor": "white",
            "linecolor": "white",
            "ticks": ""
           }
          },
          "title": {
           "x": 0.05
          },
          "xaxis": {
           "automargin": true,
           "gridcolor": "white",
           "linecolor": "white",
           "ticks": "",
           "title": {
            "standoff": 15
           },
           "zerolinecolor": "white",
           "zerolinewidth": 2
          },
          "yaxis": {
           "automargin": true,
           "gridcolor": "white",
           "linecolor": "white",
           "ticks": "",
           "title": {
            "standoff": 15
           },
           "zerolinecolor": "white",
           "zerolinewidth": 2
          }
         }
        },
        "xaxis": {
         "anchor": "y",
         "domain": [
          0,
          1
         ]
        },
        "yaxis": {
         "anchor": "x",
         "domain": [
          0,
          1
         ]
        }
       }
      },
      "text/html": [
       "<div>                            <div id=\"9d383fca-ddc2-4c27-be3f-eed94f1edbac\" class=\"plotly-graph-div\" style=\"height:525px; width:100%;\"></div>            <script type=\"text/javascript\">                require([\"plotly\"], function(Plotly) {                    window.PLOTLYENV=window.PLOTLYENV || {};                                    if (document.getElementById(\"9d383fca-ddc2-4c27-be3f-eed94f1edbac\")) {                    Plotly.newPlot(                        \"9d383fca-ddc2-4c27-be3f-eed94f1edbac\",                        [{\"name\":\"0\",\"source\":\"data:image/png;base64,iVBORw0KGgoAAAANSUhEUgAAABQAAAAUCAIAAAAC64paAAAC50lEQVR4XmXUS2veVRAG8N+5/NvEpJEUbNV6W7Qk9kIt6UIpQgVdCn4DF4pbv4DgxqUbt162gt+hqAhiQeKliaFFsVWsqF2o6fsmac7/nOPibXUhzOLhmRnmGZ5hwtk3/0qjt97x4mcf1GMeesDZia8WVY4XNwa3toUf5OkrPcs7WiJog9DklGVyFBJRZWwqjdo1ehSTmLQkZDHpQUwE+a3X5eYFXj7p+799c8mlzy1fFLP1ry2dcm7V2hlLUekWgkqnEAnpqbdD9fKWj9547eiqC8949piPf1ZG5x+18ZsrW368rNx+NwzqVEgEcdCbXG/SfH+/o1c9weoxJxb9ekMZrcwpP5lcM7lm97Y02N+5KzhlvckP3VL55nkvfWH1pud4ck/61Fis/OnIpuV1hzZs7xmSnX0pCgxJ6/LZRWN06YJnP3Fi4sk593Pyc210eNf8dw5eNfxuuxmCaZcIDDTyVxOV5U99/Jhfn5AuOnnBt4zF6prrR6wvurxhsiv/f/LMlTgqWcnGQcvGwUgd7jJjUhLJGPUoBGHWfHxQg/Vzzr9vZc/KssPzVtfV4mGGTX1T+cX2aIimVQ4CQ9DIN4rG0nc2HlQed+S0+VOu/6GMhtOus7Vnc8/tPUMyvSNHwj3Zt5b05txVV86ZrFhec3DV+sRY9NO25nzJlWpnImV3dsUk/GtVOC5Waxs+fNpkxaEzhqMunzFW5RGbc64k1ynb4mCcClkIwuxI8sKrsVpqyqH3dg/ZnrMdTeaVaju7PWdnUVlSvdoGLZl5FQ7Q5D5qVQlCkYqhGmYeVEMzVGkUi1YEQqERxKBXOd8njBa6umD/PjsHTIOdA8ZmmkwPujNvXNCqMGhIQlBnk1sVq0qoYpWaRGp6k7vcxCqMVCJVQBBGmqzrXUenC+5FF9CFLvR72Rm4V5xbEatCLNJoqAaGKlRDv7tzKMK+2NV9IRMENDlEukiPetSCRgv/gRkv6ok4ewJEnX8AA1Nmj/C2XS8AAAAASUVORK5CYII=\",\"type\":\"image\",\"xaxis\":\"x\",\"yaxis\":\"y\",\"hovertemplate\":\"x: %{x}<br>y: %{y}<extra></extra>\"}],                        {\"template\":{\"data\":{\"histogram2dcontour\":[{\"type\":\"histogram2dcontour\",\"colorbar\":{\"outlinewidth\":0,\"ticks\":\"\"},\"colorscale\":[[0.0,\"#0d0887\"],[0.1111111111111111,\"#46039f\"],[0.2222222222222222,\"#7201a8\"],[0.3333333333333333,\"#9c179e\"],[0.4444444444444444,\"#bd3786\"],[0.5555555555555556,\"#d8576b\"],[0.6666666666666666,\"#ed7953\"],[0.7777777777777778,\"#fb9f3a\"],[0.8888888888888888,\"#fdca26\"],[1.0,\"#f0f921\"]]}],\"choropleth\":[{\"type\":\"choropleth\",\"colorbar\":{\"outlinewidth\":0,\"ticks\":\"\"}}],\"histogram2d\":[{\"type\":\"histogram2d\",\"colorbar\":{\"outlinewidth\":0,\"ticks\":\"\"},\"colorscale\":[[0.0,\"#0d0887\"],[0.1111111111111111,\"#46039f\"],[0.2222222222222222,\"#7201a8\"],[0.3333333333333333,\"#9c179e\"],[0.4444444444444444,\"#bd3786\"],[0.5555555555555556,\"#d8576b\"],[0.6666666666666666,\"#ed7953\"],[0.7777777777777778,\"#fb9f3a\"],[0.8888888888888888,\"#fdca26\"],[1.0,\"#f0f921\"]]}],\"heatmap\":[{\"type\":\"heatmap\",\"colorbar\":{\"outlinewidth\":0,\"ticks\":\"\"},\"colorscale\":[[0.0,\"#0d0887\"],[0.1111111111111111,\"#46039f\"],[0.2222222222222222,\"#7201a8\"],[0.3333333333333333,\"#9c179e\"],[0.4444444444444444,\"#bd3786\"],[0.5555555555555556,\"#d8576b\"],[0.6666666666666666,\"#ed7953\"],[0.7777777777777778,\"#fb9f3a\"],[0.8888888888888888,\"#fdca26\"],[1.0,\"#f0f921\"]]}],\"heatmapgl\":[{\"type\":\"heatmapgl\",\"colorbar\":{\"outlinewidth\":0,\"ticks\":\"\"},\"colorscale\":[[0.0,\"#0d0887\"],[0.1111111111111111,\"#46039f\"],[0.2222222222222222,\"#7201a8\"],[0.3333333333333333,\"#9c179e\"],[0.4444444444444444,\"#bd3786\"],[0.5555555555555556,\"#d8576b\"],[0.6666666666666666,\"#ed7953\"],[0.7777777777777778,\"#fb9f3a\"],[0.8888888888888888,\"#fdca26\"],[1.0,\"#f0f921\"]]}],\"contourcarpet\":[{\"type\":\"contourcarpet\",\"colorbar\":{\"outlinewidth\":0,\"ticks\":\"\"}}],\"contour\":[{\"type\":\"contour\",\"colorbar\":{\"outlinewidth\":0,\"ticks\":\"\"},\"colorscale\":[[0.0,\"#0d0887\"],[0.1111111111111111,\"#46039f\"],[0.2222222222222222,\"#7201a8\"],[0.3333333333333333,\"#9c179e\"],[0.4444444444444444,\"#bd3786\"],[0.5555555555555556,\"#d8576b\"],[0.6666666666666666,\"#ed7953\"],[0.7777777777777778,\"#fb9f3a\"],[0.8888888888888888,\"#fdca26\"],[1.0,\"#f0f921\"]]}],\"surface\":[{\"type\":\"surface\",\"colorbar\":{\"outlinewidth\":0,\"ticks\":\"\"},\"colorscale\":[[0.0,\"#0d0887\"],[0.1111111111111111,\"#46039f\"],[0.2222222222222222,\"#7201a8\"],[0.3333333333333333,\"#9c179e\"],[0.4444444444444444,\"#bd3786\"],[0.5555555555555556,\"#d8576b\"],[0.6666666666666666,\"#ed7953\"],[0.7777777777777778,\"#fb9f3a\"],[0.8888888888888888,\"#fdca26\"],[1.0,\"#f0f921\"]]}],\"mesh3d\":[{\"type\":\"mesh3d\",\"colorbar\":{\"outlinewidth\":0,\"ticks\":\"\"}}],\"scatter\":[{\"fillpattern\":{\"fillmode\":\"overlay\",\"size\":10,\"solidity\":0.2},\"type\":\"scatter\"}],\"parcoords\":[{\"type\":\"parcoords\",\"line\":{\"colorbar\":{\"outlinewidth\":0,\"ticks\":\"\"}}}],\"scatterpolargl\":[{\"type\":\"scatterpolargl\",\"marker\":{\"colorbar\":{\"outlinewidth\":0,\"ticks\":\"\"}}}],\"bar\":[{\"error_x\":{\"color\":\"#2a3f5f\"},\"error_y\":{\"color\":\"#2a3f5f\"},\"marker\":{\"line\":{\"color\":\"#E5ECF6\",\"width\":0.5},\"pattern\":{\"fillmode\":\"overlay\",\"size\":10,\"solidity\":0.2}},\"type\":\"bar\"}],\"scattergeo\":[{\"type\":\"scattergeo\",\"marker\":{\"colorbar\":{\"outlinewidth\":0,\"ticks\":\"\"}}}],\"scatterpolar\":[{\"type\":\"scatterpolar\",\"marker\":{\"colorbar\":{\"outlinewidth\":0,\"ticks\":\"\"}}}],\"histogram\":[{\"marker\":{\"pattern\":{\"fillmode\":\"overlay\",\"size\":10,\"solidity\":0.2}},\"type\":\"histogram\"}],\"scattergl\":[{\"type\":\"scattergl\",\"marker\":{\"colorbar\":{\"outlinewidth\":0,\"ticks\":\"\"}}}],\"scatter3d\":[{\"type\":\"scatter3d\",\"line\":{\"colorbar\":{\"outlinewidth\":0,\"ticks\":\"\"}},\"marker\":{\"colorbar\":{\"outlinewidth\":0,\"ticks\":\"\"}}}],\"scattermapbox\":[{\"type\":\"scattermapbox\",\"marker\":{\"colorbar\":{\"outlinewidth\":0,\"ticks\":\"\"}}}],\"scatterternary\":[{\"type\":\"scatterternary\",\"marker\":{\"colorbar\":{\"outlinewidth\":0,\"ticks\":\"\"}}}],\"scattercarpet\":[{\"type\":\"scattercarpet\",\"marker\":{\"colorbar\":{\"outlinewidth\":0,\"ticks\":\"\"}}}],\"carpet\":[{\"aaxis\":{\"endlinecolor\":\"#2a3f5f\",\"gridcolor\":\"white\",\"linecolor\":\"white\",\"minorgridcolor\":\"white\",\"startlinecolor\":\"#2a3f5f\"},\"baxis\":{\"endlinecolor\":\"#2a3f5f\",\"gridcolor\":\"white\",\"linecolor\":\"white\",\"minorgridcolor\":\"white\",\"startlinecolor\":\"#2a3f5f\"},\"type\":\"carpet\"}],\"table\":[{\"cells\":{\"fill\":{\"color\":\"#EBF0F8\"},\"line\":{\"color\":\"white\"}},\"header\":{\"fill\":{\"color\":\"#C8D4E3\"},\"line\":{\"color\":\"white\"}},\"type\":\"table\"}],\"barpolar\":[{\"marker\":{\"line\":{\"color\":\"#E5ECF6\",\"width\":0.5},\"pattern\":{\"fillmode\":\"overlay\",\"size\":10,\"solidity\":0.2}},\"type\":\"barpolar\"}],\"pie\":[{\"automargin\":true,\"type\":\"pie\"}]},\"layout\":{\"autotypenumbers\":\"strict\",\"colorway\":[\"#636efa\",\"#EF553B\",\"#00cc96\",\"#ab63fa\",\"#FFA15A\",\"#19d3f3\",\"#FF6692\",\"#B6E880\",\"#FF97FF\",\"#FECB52\"],\"font\":{\"color\":\"#2a3f5f\"},\"hovermode\":\"closest\",\"hoverlabel\":{\"align\":\"left\"},\"paper_bgcolor\":\"white\",\"plot_bgcolor\":\"#E5ECF6\",\"polar\":{\"bgcolor\":\"#E5ECF6\",\"angularaxis\":{\"gridcolor\":\"white\",\"linecolor\":\"white\",\"ticks\":\"\"},\"radialaxis\":{\"gridcolor\":\"white\",\"linecolor\":\"white\",\"ticks\":\"\"}},\"ternary\":{\"bgcolor\":\"#E5ECF6\",\"aaxis\":{\"gridcolor\":\"white\",\"linecolor\":\"white\",\"ticks\":\"\"},\"baxis\":{\"gridcolor\":\"white\",\"linecolor\":\"white\",\"ticks\":\"\"},\"caxis\":{\"gridcolor\":\"white\",\"linecolor\":\"white\",\"ticks\":\"\"}},\"coloraxis\":{\"colorbar\":{\"outlinewidth\":0,\"ticks\":\"\"}},\"colorscale\":{\"sequential\":[[0.0,\"#0d0887\"],[0.1111111111111111,\"#46039f\"],[0.2222222222222222,\"#7201a8\"],[0.3333333333333333,\"#9c179e\"],[0.4444444444444444,\"#bd3786\"],[0.5555555555555556,\"#d8576b\"],[0.6666666666666666,\"#ed7953\"],[0.7777777777777778,\"#fb9f3a\"],[0.8888888888888888,\"#fdca26\"],[1.0,\"#f0f921\"]],\"sequentialminus\":[[0.0,\"#0d0887\"],[0.1111111111111111,\"#46039f\"],[0.2222222222222222,\"#7201a8\"],[0.3333333333333333,\"#9c179e\"],[0.4444444444444444,\"#bd3786\"],[0.5555555555555556,\"#d8576b\"],[0.6666666666666666,\"#ed7953\"],[0.7777777777777778,\"#fb9f3a\"],[0.8888888888888888,\"#fdca26\"],[1.0,\"#f0f921\"]],\"diverging\":[[0,\"#8e0152\"],[0.1,\"#c51b7d\"],[0.2,\"#de77ae\"],[0.3,\"#f1b6da\"],[0.4,\"#fde0ef\"],[0.5,\"#f7f7f7\"],[0.6,\"#e6f5d0\"],[0.7,\"#b8e186\"],[0.8,\"#7fbc41\"],[0.9,\"#4d9221\"],[1,\"#276419\"]]},\"xaxis\":{\"gridcolor\":\"white\",\"linecolor\":\"white\",\"ticks\":\"\",\"title\":{\"standoff\":15},\"zerolinecolor\":\"white\",\"automargin\":true,\"zerolinewidth\":2},\"yaxis\":{\"gridcolor\":\"white\",\"linecolor\":\"white\",\"ticks\":\"\",\"title\":{\"standoff\":15},\"zerolinecolor\":\"white\",\"automargin\":true,\"zerolinewidth\":2},\"scene\":{\"xaxis\":{\"backgroundcolor\":\"#E5ECF6\",\"gridcolor\":\"white\",\"linecolor\":\"white\",\"showbackground\":true,\"ticks\":\"\",\"zerolinecolor\":\"white\",\"gridwidth\":2},\"yaxis\":{\"backgroundcolor\":\"#E5ECF6\",\"gridcolor\":\"white\",\"linecolor\":\"white\",\"showbackground\":true,\"ticks\":\"\",\"zerolinecolor\":\"white\",\"gridwidth\":2},\"zaxis\":{\"backgroundcolor\":\"#E5ECF6\",\"gridcolor\":\"white\",\"linecolor\":\"white\",\"showbackground\":true,\"ticks\":\"\",\"zerolinecolor\":\"white\",\"gridwidth\":2}},\"shapedefaults\":{\"line\":{\"color\":\"#2a3f5f\"}},\"annotationdefaults\":{\"arrowcolor\":\"#2a3f5f\",\"arrowhead\":0,\"arrowwidth\":1},\"geo\":{\"bgcolor\":\"white\",\"landcolor\":\"#E5ECF6\",\"subunitcolor\":\"white\",\"showland\":true,\"showlakes\":true,\"lakecolor\":\"white\"},\"title\":{\"x\":0.05},\"mapbox\":{\"style\":\"light\"}}},\"xaxis\":{\"anchor\":\"y\",\"domain\":[0.0,1.0]},\"yaxis\":{\"anchor\":\"x\",\"domain\":[0.0,1.0]},\"margin\":{\"t\":60}},                        {\"responsive\": true}                    ).then(function(){\n",
       "                            \n",
       "var gd = document.getElementById('9d383fca-ddc2-4c27-be3f-eed94f1edbac');\n",
       "var x = new MutationObserver(function (mutations, observer) {{\n",
       "        var display = window.getComputedStyle(gd).display;\n",
       "        if (!display || display === 'none') {{\n",
       "            console.log([gd, 'removed!']);\n",
       "            Plotly.purge(gd);\n",
       "            observer.disconnect();\n",
       "        }}\n",
       "}});\n",
       "\n",
       "// Listen for the removal of the full notebook cells\n",
       "var notebookContainer = gd.closest('#notebook-container');\n",
       "if (notebookContainer) {{\n",
       "    x.observe(notebookContainer, {childList: true});\n",
       "}}\n",
       "\n",
       "// Listen for the clearing of the current output cell\n",
       "var outputEl = gd.closest('.output');\n",
       "if (outputEl) {{\n",
       "    x.observe(outputEl, {childList: true});\n",
       "}}\n",
       "\n",
       "                        })                };                });            </script>        </div>"
      ]
     },
     "metadata": {},
     "output_type": "display_data"
    },
    {
     "data": {
      "application/vnd.plotly.v1+json": {
       "config": {
        "plotlyServerURL": "https://plot.ly"
       },
       "data": [
        {
         "coloraxis": "coloraxis",
         "hovertemplate": "x: %{x}<br>y: %{y}<br>color: %{z}<extra></extra>",
         "name": "0",
         "type": "heatmap",
         "xaxis": "x",
         "yaxis": "y",
         "z": [
          [
           -0.6257733149423328,
           -0.6013223026898326,
           0.4325659978879912,
           -0.9746047536255124,
           -0.9958416794392125,
           -0.8021314831459387,
           -0.4325659978879912,
           -0.826562315324934,
           -0.8470928602354652,
           -0.5652484351642988,
           -0.8150131679266575,
           -0.980323829993617,
           -0.9699623607702004,
           -0.937764826817868,
           -0.9510477191483265,
           -0.920313679800054,
           -0.9306303822404322,
           -0.9333025784329958,
           -0.9474860933413357,
           -0.9419113105464726
          ],
          [
           -0.6013223026898326,
           -0.5762946750089544,
           0.4602745512142974,
           -0.9672039542384626,
           -0.9981849334490246,
           -0.8202361335444772,
           -0.4602745512142974,
           -0.8435931657599596,
           -0.8631416318557948,
           -0.5905191131321113,
           -0.8325634486813411,
           -0.9859657014614862,
           -0.9619654977191487,
           -0.9265627976599209,
           -0.9410229258057464,
           -0.9077604430024102,
           -0.9188530972696657,
           -0.9217367121300416,
           -0.9371300698007763,
           -0.9310605540470328
          ],
          [
           0.4325659978879912,
           0.4602745512142974,
           1,
           -0.21968321013730474,
           -0.5129039070750423,
           -0.8853643083421048,
           -1,
           -0.8650052798310526,
           -0.8455755015839941,
           -0.988257655755092,
           -0.8749736008447826,
           -0.6020274551215152,
           -0.20025343189024625,
           -0.09254487856389915,
           -0.1327560718057157,
           -0.04540654699053448,
           -0.07260823653643911,
           -0.07995776135169308,
           -0.1215205913410955,
           -0.10462513199581736
          ],
          [
           -0.9746047536255124,
           -0.9672039542384626,
           -0.21968321013730474,
           -0.9034785743675375,
           -0.7247988975707087,
           -0.259041340899293,
           0.21968321013730474,
           -0.2994781909064796,
           -0.3350556870160974,
           0.06803962682559625,
           -0.28012594196111723,
           -0.6467143167936097,
           -0.9118179019216692,
           -0.9510540558472954,
           -0.9377719473561961,
           -0.9645899928337855,
           -0.9570454688123442,
           -0.9548823515368431,
           -0.9416451827421943,
           -0.9472326789406913
          ],
          [
           -0.9958416794392125,
           -0.9981849334490246,
           -0.5129039070750423,
           -0.7247988975707087,
           -0.4738591642143128,
           0.055017072181273996,
           0.5129039070750423,
           0.012928340850854814,
           -0.024587457237083,
           0.37571356487010826,
           0.03314302551338055,
           -0.3766657899213879,
           -0.7383466899332425,
           -0.8072953888408934,
           -0.782756590841774,
           -0.8342714230344197,
           -0.8189391441406467,
           -0.8146868519572729,
           -0.7897556213303721,
           -0.8000720052075703
          ],
          [
           -0.8021314831459387,
           -0.8202361335444772,
           -0.8853643083421048,
           -0.259041340899293,
           0.055017072181273996,
           0.5677399169721871,
           0.8853643083421048,
           0.5325763571293938,
           0.5004539135717562,
           0.8039332325903388,
           0.5495804966283613,
           0.16180410455822708,
           -0.2781837312421481,
           -0.3809668478719541,
           -0.34324546330037137,
           -0.42421704688411016,
           -0.39938606175745334,
           -0.3926176492277276,
           -0.3538624889158263,
           -0.3697150403110635
          ],
          [
           -0.4325659978879912,
           -0.4602745512142974,
           -1,
           0.21968321013730474,
           0.5129039070750423,
           0.8853643083421048,
           1,
           0.8650052798310526,
           0.8455755015839941,
           0.988257655755092,
           0.8749736008447826,
           0.6020274551215152,
           0.20025343189024625,
           0.09254487856389915,
           0.1327560718057157,
           0.04540654699053448,
           0.07260823653643911,
           0.07995776135169308,
           0.1215205913410955,
           0.10462513199581736
          ],
          [
           -0.826562315324934,
           -0.8435931657599596,
           -0.8650052798310526,
           -0.2994781909064796,
           0.012928340850854814,
           0.5325763571293938,
           0.8650052798310526,
           0.4964682682711952,
           0.46355828820917017,
           0.7781804385530351,
           0.5139179941128951,
           0.12011171458524017,
           -0.31837884215274204,
           -0.41955764226504033,
           -0.38248682302155973,
           -0.4619683329570789,
           -0.4376318671580189,
           -0.43099235520975415,
           -0.39292819687698827,
           -0.40850765763573926
          ],
          [
           -0.8470928602354652,
           -0.8631416318557948,
           -0.8455755015839941,
           -0.3350556870160974,
           -0.024587457237083,
           0.5004539135717562,
           0.8455755015839941,
           0.46355828820917017,
           0.4299958577580463,
           0.7540750953180309,
           0.4813789176537113,
           0.08278890912190717,
           -0.3537127422698263,
           -0.45331113551406865,
           -0.41687527358345666,
           -0.4949105648190597,
           -0.471051014444797,
           -0.46453625663627507,
           -0.42714456407254237,
           -0.44245745902968947
          ],
          [
           -0.5652484351642988,
           -0.5905191131321113,
           -0.988257655755092,
           0.06803962682559625,
           0.37571356487010826,
           0.8039332325903388,
           0.988257655755092,
           0.7781804385530351,
           0.7540750953180309,
           0.9533063883170996,
           0.7907197259972102,
           0.4729539044918301,
           0.04820039939556167,
           -0.06068270670202221,
           -0.02024696909699153,
           -0.10776565242218988,
           -0.08063766954037548,
           -0.0732885299762203,
           -0.03157057186382235,
           -0.04856143922298539
          ],
          [
           -0.8150131679266575,
           -0.8325634486813411,
           -0.8749736008447826,
           -0.28012594196111723,
           0.03314302551338055,
           0.5495804966283613,
           0.8749736008447826,
           0.5139179941128951,
           0.4813789176537113,
           0.7907197259972102,
           0.5311576043505699,
           0.14015980009411616,
           -0.2991468658138691,
           -0.4011184918668881,
           -0.36372705067651484,
           -0.4439417208907035,
           -0.4193623889815054,
           -0.4126595064189851,
           -0.3742550877413888,
           -0.3899691413723888
          ],
          [
           -0.980323829993617,
           -0.9859657014614862,
           -0.6020274551215152,
           -0.6467143167936097,
           -0.3766657899213879,
           0.16180410455822708,
           0.6020274551215152,
           0.12011171458524017,
           0.08278890912190717,
           0.4729539044918301,
           0.14015980009411616,
           -0.2751258865598239,
           -0.6617435102778981,
           -0.7393341833418577,
           -0.7114850736981897,
           -0.7703158440152064,
           -0.7526556899586263,
           -0.7477821026994684,
           -0.7193990821210743,
           -0.7311059365631972
          ],
          [
           -0.9699623607702004,
           -0.9619654977191487,
           -0.20025343189024625,
           -0.9118179019216692,
           -0.7383466899332425,
           -0.2781837312421481,
           0.20025343189024625,
           -0.31837884215274204,
           -0.3537127422698263,
           0.04820039939556167,
           -0.2991468658138691,
           -0.6617435102778981,
           -0.919797126032357,
           -0.9570071439369213,
           -0.9444873026720211,
           -0.9696407974677473,
           -0.9626180860501454,
           -0.9605954220659291,
           -0.9481482448076238,
           -0.9534154896524006
          ],
          [
           -0.937764826817868,
           -0.9265627976599209,
           -0.09254487856389915,
           -0.9510540558472954,
           -0.8072953888408934,
           -0.3809668478719541,
           0.09254487856389915,
           -0.41955764226504033,
           -0.45331113551406865,
           -0.06068270670202221,
           -0.4011184918668881,
           -0.7393341833418577,
           -0.9570071439369213,
           -0.9828708909031861,
           -0.9746093451118049,
           -0.9904793880442206,
           -0.9863608596941597,
           -0.9851208258462885,
           -0.9770831213342331,
           -0.9805612773219984
          ],
          [
           -0.9510477191483265,
           -0.9410229258057464,
           -0.1327560718057157,
           -0.9377719473561961,
           -0.782756590841774,
           -0.34324546330037137,
           0.1327560718057157,
           -0.38248682302155973,
           -0.41687527358345666,
           -0.02024696909699153,
           -0.36372705067651484,
           -0.7114850736981897,
           -0.9444873026720211,
           -0.9746093451118049,
           -0.9647516507974314,
           -0.9840984656005771,
           -0.9788934572104204,
           -0.9773604540970908,
           -0.9676706522439006,
           -0.9718194271899127
          ],
          [
           -0.920313679800054,
           -0.9077604430024102,
           -0.04540654699053448,
           -0.9645899928337855,
           -0.8342714230344197,
           -0.42421704688411016,
           0.04540654699053448,
           -0.4619683329570789,
           -0.4949105648190597,
           -0.10776565242218988,
           -0.4439417208907035,
           -0.7703158440152064,
           -0.9696407974677473,
           -0.9904793880442206,
           -0.9840984656005771,
           -0.9958764909807927,
           -0.9930349625185576,
           -0.9921395399129077,
           -0.9860473150856011,
           -0.9887353158474325
          ],
          [
           -0.9306303822404322,
           -0.9188530972696657,
           -0.07260823653643911,
           -0.9570454688123442,
           -0.8189391441406467,
           -0.39938606175745334,
           0.07260823653643911,
           -0.4376318671580189,
           -0.471051014444797,
           -0.08063766954037548,
           -0.4193623889815054,
           -0.7526556899586263,
           -0.9626180860501454,
           -0.9863608596941597,
           -0.9788934572104204,
           -0.9930349625185576,
           -0.989456087974137,
           -0.9883616500614214,
           -0.981145614877532,
           -0.9842901086850183
          ],
          [
           -0.9333025784329958,
           -0.9217367121300416,
           -0.07995776135169308,
           -0.9548823515368431,
           -0.8146868519572729,
           -0.3926176492277276,
           0.07995776135169308,
           -0.43099235520975415,
           -0.46453625663627507,
           -0.0732885299762203,
           -0.4126595064189851,
           -0.7477821026994684,
           -0.9605954220659291,
           -0.9851208258462885,
           -0.9773604540970908,
           -0.9921395399129077,
           -0.9883616500614214,
           -0.9872135127992514,
           -0.979694377418956,
           -0.9829619636496595
          ],
          [
           -0.9474860933413357,
           -0.9371300698007763,
           -0.1215205913410955,
           -0.9416451827421943,
           -0.7897556213303721,
           -0.3538624889158263,
           0.1215205913410955,
           -0.39292819687698827,
           -0.42714456407254237,
           -0.03157057186382235,
           -0.3742550877413888,
           -0.7193990821210743,
           -0.9481482448076238,
           -0.9770831213342331,
           -0.9676706522439006,
           -0.9860473150856011,
           -0.981145614877532,
           -0.979694377418956,
           -0.9704654917602209,
           -0.9744272072907844
          ],
          [
           -0.9419113105464726,
           -0.9310605540470328,
           -0.10462513199581736,
           -0.9472326789406913,
           -0.8000720052075703,
           -0.3697150403110635,
           0.10462513199581736,
           -0.40850765763573926,
           -0.44245745902968947,
           -0.04856143922298539,
           -0.3899691413723888,
           -0.7311059365631972,
           -0.9534154896524006,
           -0.9805612773219984,
           -0.9718194271899127,
           -0.9887353158474325,
           -0.9842901086850183,
           -0.9829619636496595,
           -0.9744272072907844,
           -0.9781071635097155
          ]
         ]
        }
       ],
       "layout": {
        "coloraxis": {
         "cmax": 1,
         "cmin": -1,
         "colorscale": [
          [
           0,
           "rgb(5,48,97)"
          ],
          [
           0.1,
           "rgb(33,102,172)"
          ],
          [
           0.2,
           "rgb(67,147,195)"
          ],
          [
           0.3,
           "rgb(146,197,222)"
          ],
          [
           0.4,
           "rgb(209,229,240)"
          ],
          [
           0.5,
           "rgb(247,247,247)"
          ],
          [
           0.6,
           "rgb(253,219,199)"
          ],
          [
           0.7,
           "rgb(244,165,130)"
          ],
          [
           0.8,
           "rgb(214,96,77)"
          ],
          [
           0.9,
           "rgb(178,24,43)"
          ],
          [
           1,
           "rgb(103,0,31)"
          ]
         ]
        },
        "margin": {
         "t": 60
        },
        "template": {
         "data": {
          "bar": [
           {
            "error_x": {
             "color": "#2a3f5f"
            },
            "error_y": {
             "color": "#2a3f5f"
            },
            "marker": {
             "line": {
              "color": "#E5ECF6",
              "width": 0.5
             },
             "pattern": {
              "fillmode": "overlay",
              "size": 10,
              "solidity": 0.2
             }
            },
            "type": "bar"
           }
          ],
          "barpolar": [
           {
            "marker": {
             "line": {
              "color": "#E5ECF6",
              "width": 0.5
             },
             "pattern": {
              "fillmode": "overlay",
              "size": 10,
              "solidity": 0.2
             }
            },
            "type": "barpolar"
           }
          ],
          "carpet": [
           {
            "aaxis": {
             "endlinecolor": "#2a3f5f",
             "gridcolor": "white",
             "linecolor": "white",
             "minorgridcolor": "white",
             "startlinecolor": "#2a3f5f"
            },
            "baxis": {
             "endlinecolor": "#2a3f5f",
             "gridcolor": "white",
             "linecolor": "white",
             "minorgridcolor": "white",
             "startlinecolor": "#2a3f5f"
            },
            "type": "carpet"
           }
          ],
          "choropleth": [
           {
            "colorbar": {
             "outlinewidth": 0,
             "ticks": ""
            },
            "type": "choropleth"
           }
          ],
          "contour": [
           {
            "colorbar": {
             "outlinewidth": 0,
             "ticks": ""
            },
            "colorscale": [
             [
              0,
              "#0d0887"
             ],
             [
              0.1111111111111111,
              "#46039f"
             ],
             [
              0.2222222222222222,
              "#7201a8"
             ],
             [
              0.3333333333333333,
              "#9c179e"
             ],
             [
              0.4444444444444444,
              "#bd3786"
             ],
             [
              0.5555555555555556,
              "#d8576b"
             ],
             [
              0.6666666666666666,
              "#ed7953"
             ],
             [
              0.7777777777777778,
              "#fb9f3a"
             ],
             [
              0.8888888888888888,
              "#fdca26"
             ],
             [
              1,
              "#f0f921"
             ]
            ],
            "type": "contour"
           }
          ],
          "contourcarpet": [
           {
            "colorbar": {
             "outlinewidth": 0,
             "ticks": ""
            },
            "type": "contourcarpet"
           }
          ],
          "heatmap": [
           {
            "colorbar": {
             "outlinewidth": 0,
             "ticks": ""
            },
            "colorscale": [
             [
              0,
              "#0d0887"
             ],
             [
              0.1111111111111111,
              "#46039f"
             ],
             [
              0.2222222222222222,
              "#7201a8"
             ],
             [
              0.3333333333333333,
              "#9c179e"
             ],
             [
              0.4444444444444444,
              "#bd3786"
             ],
             [
              0.5555555555555556,
              "#d8576b"
             ],
             [
              0.6666666666666666,
              "#ed7953"
             ],
             [
              0.7777777777777778,
              "#fb9f3a"
             ],
             [
              0.8888888888888888,
              "#fdca26"
             ],
             [
              1,
              "#f0f921"
             ]
            ],
            "type": "heatmap"
           }
          ],
          "heatmapgl": [
           {
            "colorbar": {
             "outlinewidth": 0,
             "ticks": ""
            },
            "colorscale": [
             [
              0,
              "#0d0887"
             ],
             [
              0.1111111111111111,
              "#46039f"
             ],
             [
              0.2222222222222222,
              "#7201a8"
             ],
             [
              0.3333333333333333,
              "#9c179e"
             ],
             [
              0.4444444444444444,
              "#bd3786"
             ],
             [
              0.5555555555555556,
              "#d8576b"
             ],
             [
              0.6666666666666666,
              "#ed7953"
             ],
             [
              0.7777777777777778,
              "#fb9f3a"
             ],
             [
              0.8888888888888888,
              "#fdca26"
             ],
             [
              1,
              "#f0f921"
             ]
            ],
            "type": "heatmapgl"
           }
          ],
          "histogram": [
           {
            "marker": {
             "pattern": {
              "fillmode": "overlay",
              "size": 10,
              "solidity": 0.2
             }
            },
            "type": "histogram"
           }
          ],
          "histogram2d": [
           {
            "colorbar": {
             "outlinewidth": 0,
             "ticks": ""
            },
            "colorscale": [
             [
              0,
              "#0d0887"
             ],
             [
              0.1111111111111111,
              "#46039f"
             ],
             [
              0.2222222222222222,
              "#7201a8"
             ],
             [
              0.3333333333333333,
              "#9c179e"
             ],
             [
              0.4444444444444444,
              "#bd3786"
             ],
             [
              0.5555555555555556,
              "#d8576b"
             ],
             [
              0.6666666666666666,
              "#ed7953"
             ],
             [
              0.7777777777777778,
              "#fb9f3a"
             ],
             [
              0.8888888888888888,
              "#fdca26"
             ],
             [
              1,
              "#f0f921"
             ]
            ],
            "type": "histogram2d"
           }
          ],
          "histogram2dcontour": [
           {
            "colorbar": {
             "outlinewidth": 0,
             "ticks": ""
            },
            "colorscale": [
             [
              0,
              "#0d0887"
             ],
             [
              0.1111111111111111,
              "#46039f"
             ],
             [
              0.2222222222222222,
              "#7201a8"
             ],
             [
              0.3333333333333333,
              "#9c179e"
             ],
             [
              0.4444444444444444,
              "#bd3786"
             ],
             [
              0.5555555555555556,
              "#d8576b"
             ],
             [
              0.6666666666666666,
              "#ed7953"
             ],
             [
              0.7777777777777778,
              "#fb9f3a"
             ],
             [
              0.8888888888888888,
              "#fdca26"
             ],
             [
              1,
              "#f0f921"
             ]
            ],
            "type": "histogram2dcontour"
           }
          ],
          "mesh3d": [
           {
            "colorbar": {
             "outlinewidth": 0,
             "ticks": ""
            },
            "type": "mesh3d"
           }
          ],
          "parcoords": [
           {
            "line": {
             "colorbar": {
              "outlinewidth": 0,
              "ticks": ""
             }
            },
            "type": "parcoords"
           }
          ],
          "pie": [
           {
            "automargin": true,
            "type": "pie"
           }
          ],
          "scatter": [
           {
            "fillpattern": {
             "fillmode": "overlay",
             "size": 10,
             "solidity": 0.2
            },
            "type": "scatter"
           }
          ],
          "scatter3d": [
           {
            "line": {
             "colorbar": {
              "outlinewidth": 0,
              "ticks": ""
             }
            },
            "marker": {
             "colorbar": {
              "outlinewidth": 0,
              "ticks": ""
             }
            },
            "type": "scatter3d"
           }
          ],
          "scattercarpet": [
           {
            "marker": {
             "colorbar": {
              "outlinewidth": 0,
              "ticks": ""
             }
            },
            "type": "scattercarpet"
           }
          ],
          "scattergeo": [
           {
            "marker": {
             "colorbar": {
              "outlinewidth": 0,
              "ticks": ""
             }
            },
            "type": "scattergeo"
           }
          ],
          "scattergl": [
           {
            "marker": {
             "colorbar": {
              "outlinewidth": 0,
              "ticks": ""
             }
            },
            "type": "scattergl"
           }
          ],
          "scattermapbox": [
           {
            "marker": {
             "colorbar": {
              "outlinewidth": 0,
              "ticks": ""
             }
            },
            "type": "scattermapbox"
           }
          ],
          "scatterpolar": [
           {
            "marker": {
             "colorbar": {
              "outlinewidth": 0,
              "ticks": ""
             }
            },
            "type": "scatterpolar"
           }
          ],
          "scatterpolargl": [
           {
            "marker": {
             "colorbar": {
              "outlinewidth": 0,
              "ticks": ""
             }
            },
            "type": "scatterpolargl"
           }
          ],
          "scatterternary": [
           {
            "marker": {
             "colorbar": {
              "outlinewidth": 0,
              "ticks": ""
             }
            },
            "type": "scatterternary"
           }
          ],
          "surface": [
           {
            "colorbar": {
             "outlinewidth": 0,
             "ticks": ""
            },
            "colorscale": [
             [
              0,
              "#0d0887"
             ],
             [
              0.1111111111111111,
              "#46039f"
             ],
             [
              0.2222222222222222,
              "#7201a8"
             ],
             [
              0.3333333333333333,
              "#9c179e"
             ],
             [
              0.4444444444444444,
              "#bd3786"
             ],
             [
              0.5555555555555556,
              "#d8576b"
             ],
             [
              0.6666666666666666,
              "#ed7953"
             ],
             [
              0.7777777777777778,
              "#fb9f3a"
             ],
             [
              0.8888888888888888,
              "#fdca26"
             ],
             [
              1,
              "#f0f921"
             ]
            ],
            "type": "surface"
           }
          ],
          "table": [
           {
            "cells": {
             "fill": {
              "color": "#EBF0F8"
             },
             "line": {
              "color": "white"
             }
            },
            "header": {
             "fill": {
              "color": "#C8D4E3"
             },
             "line": {
              "color": "white"
             }
            },
            "type": "table"
           }
          ]
         },
         "layout": {
          "annotationdefaults": {
           "arrowcolor": "#2a3f5f",
           "arrowhead": 0,
           "arrowwidth": 1
          },
          "autotypenumbers": "strict",
          "coloraxis": {
           "colorbar": {
            "outlinewidth": 0,
            "ticks": ""
           }
          },
          "colorscale": {
           "diverging": [
            [
             0,
             "#8e0152"
            ],
            [
             0.1,
             "#c51b7d"
            ],
            [
             0.2,
             "#de77ae"
            ],
            [
             0.3,
             "#f1b6da"
            ],
            [
             0.4,
             "#fde0ef"
            ],
            [
             0.5,
             "#f7f7f7"
            ],
            [
             0.6,
             "#e6f5d0"
            ],
            [
             0.7,
             "#b8e186"
            ],
            [
             0.8,
             "#7fbc41"
            ],
            [
             0.9,
             "#4d9221"
            ],
            [
             1,
             "#276419"
            ]
           ],
           "sequential": [
            [
             0,
             "#0d0887"
            ],
            [
             0.1111111111111111,
             "#46039f"
            ],
            [
             0.2222222222222222,
             "#7201a8"
            ],
            [
             0.3333333333333333,
             "#9c179e"
            ],
            [
             0.4444444444444444,
             "#bd3786"
            ],
            [
             0.5555555555555556,
             "#d8576b"
            ],
            [
             0.6666666666666666,
             "#ed7953"
            ],
            [
             0.7777777777777778,
             "#fb9f3a"
            ],
            [
             0.8888888888888888,
             "#fdca26"
            ],
            [
             1,
             "#f0f921"
            ]
           ],
           "sequentialminus": [
            [
             0,
             "#0d0887"
            ],
            [
             0.1111111111111111,
             "#46039f"
            ],
            [
             0.2222222222222222,
             "#7201a8"
            ],
            [
             0.3333333333333333,
             "#9c179e"
            ],
            [
             0.4444444444444444,
             "#bd3786"
            ],
            [
             0.5555555555555556,
             "#d8576b"
            ],
            [
             0.6666666666666666,
             "#ed7953"
            ],
            [
             0.7777777777777778,
             "#fb9f3a"
            ],
            [
             0.8888888888888888,
             "#fdca26"
            ],
            [
             1,
             "#f0f921"
            ]
           ]
          },
          "colorway": [
           "#636efa",
           "#EF553B",
           "#00cc96",
           "#ab63fa",
           "#FFA15A",
           "#19d3f3",
           "#FF6692",
           "#B6E880",
           "#FF97FF",
           "#FECB52"
          ],
          "font": {
           "color": "#2a3f5f"
          },
          "geo": {
           "bgcolor": "white",
           "lakecolor": "white",
           "landcolor": "#E5ECF6",
           "showlakes": true,
           "showland": true,
           "subunitcolor": "white"
          },
          "hoverlabel": {
           "align": "left"
          },
          "hovermode": "closest",
          "mapbox": {
           "style": "light"
          },
          "paper_bgcolor": "white",
          "plot_bgcolor": "#E5ECF6",
          "polar": {
           "angularaxis": {
            "gridcolor": "white",
            "linecolor": "white",
            "ticks": ""
           },
           "bgcolor": "#E5ECF6",
           "radialaxis": {
            "gridcolor": "white",
            "linecolor": "white",
            "ticks": ""
           }
          },
          "scene": {
           "xaxis": {
            "backgroundcolor": "#E5ECF6",
            "gridcolor": "white",
            "gridwidth": 2,
            "linecolor": "white",
            "showbackground": true,
            "ticks": "",
            "zerolinecolor": "white"
           },
           "yaxis": {
            "backgroundcolor": "#E5ECF6",
            "gridcolor": "white",
            "gridwidth": 2,
            "linecolor": "white",
            "showbackground": true,
            "ticks": "",
            "zerolinecolor": "white"
           },
           "zaxis": {
            "backgroundcolor": "#E5ECF6",
            "gridcolor": "white",
            "gridwidth": 2,
            "linecolor": "white",
            "showbackground": true,
            "ticks": "",
            "zerolinecolor": "white"
           }
          },
          "shapedefaults": {
           "line": {
            "color": "#2a3f5f"
           }
          },
          "ternary": {
           "aaxis": {
            "gridcolor": "white",
            "linecolor": "white",
            "ticks": ""
           },
           "baxis": {
            "gridcolor": "white",
            "linecolor": "white",
            "ticks": ""
           },
           "bgcolor": "#E5ECF6",
           "caxis": {
            "gridcolor": "white",
            "linecolor": "white",
            "ticks": ""
           }
          },
          "title": {
           "x": 0.05
          },
          "xaxis": {
           "automargin": true,
           "gridcolor": "white",
           "linecolor": "white",
           "ticks": "",
           "title": {
            "standoff": 15
           },
           "zerolinecolor": "white",
           "zerolinewidth": 2
          },
          "yaxis": {
           "automargin": true,
           "gridcolor": "white",
           "linecolor": "white",
           "ticks": "",
           "title": {
            "standoff": 15
           },
           "zerolinecolor": "white",
           "zerolinewidth": 2
          }
         }
        },
        "xaxis": {
         "anchor": "y",
         "constrain": "domain",
         "domain": [
          0,
          1
         ],
         "scaleanchor": "y"
        },
        "yaxis": {
         "anchor": "x",
         "autorange": "reversed",
         "constrain": "domain",
         "domain": [
          0,
          1
         ]
        }
       }
      },
      "text/html": [
       "<div>                            <div id=\"75e8227b-0e39-47bd-b97e-5eccdd49e993\" class=\"plotly-graph-div\" style=\"height:525px; width:100%;\"></div>            <script type=\"text/javascript\">                require([\"plotly\"], function(Plotly) {                    window.PLOTLYENV=window.PLOTLYENV || {};                                    if (document.getElementById(\"75e8227b-0e39-47bd-b97e-5eccdd49e993\")) {                    Plotly.newPlot(                        \"75e8227b-0e39-47bd-b97e-5eccdd49e993\",                        [{\"coloraxis\":\"coloraxis\",\"name\":\"0\",\"z\":[[-0.6257733149423328,-0.6013223026898326,0.4325659978879912,-0.9746047536255124,-0.9958416794392125,-0.8021314831459387,-0.4325659978879912,-0.826562315324934,-0.8470928602354652,-0.5652484351642988,-0.8150131679266575,-0.980323829993617,-0.9699623607702004,-0.937764826817868,-0.9510477191483265,-0.920313679800054,-0.9306303822404322,-0.9333025784329958,-0.9474860933413357,-0.9419113105464726],[-0.6013223026898326,-0.5762946750089544,0.4602745512142974,-0.9672039542384626,-0.9981849334490246,-0.8202361335444772,-0.4602745512142974,-0.8435931657599596,-0.8631416318557948,-0.5905191131321113,-0.8325634486813411,-0.9859657014614862,-0.9619654977191487,-0.9265627976599209,-0.9410229258057464,-0.9077604430024102,-0.9188530972696657,-0.9217367121300416,-0.9371300698007763,-0.9310605540470328],[0.4325659978879912,0.4602745512142974,1.0,-0.21968321013730474,-0.5129039070750423,-0.8853643083421048,-1.0,-0.8650052798310526,-0.8455755015839941,-0.988257655755092,-0.8749736008447826,-0.6020274551215152,-0.20025343189024625,-0.09254487856389915,-0.1327560718057157,-0.04540654699053448,-0.07260823653643911,-0.07995776135169308,-0.1215205913410955,-0.10462513199581736],[-0.9746047536255124,-0.9672039542384626,-0.21968321013730474,-0.9034785743675375,-0.7247988975707087,-0.259041340899293,0.21968321013730474,-0.2994781909064796,-0.3350556870160974,0.06803962682559625,-0.28012594196111723,-0.6467143167936097,-0.9118179019216692,-0.9510540558472954,-0.9377719473561961,-0.9645899928337855,-0.9570454688123442,-0.9548823515368431,-0.9416451827421943,-0.9472326789406913],[-0.9958416794392125,-0.9981849334490246,-0.5129039070750423,-0.7247988975707087,-0.4738591642143128,0.055017072181273996,0.5129039070750423,0.012928340850854814,-0.024587457237083,0.37571356487010826,0.03314302551338055,-0.3766657899213879,-0.7383466899332425,-0.8072953888408934,-0.782756590841774,-0.8342714230344197,-0.8189391441406467,-0.8146868519572729,-0.7897556213303721,-0.8000720052075703],[-0.8021314831459387,-0.8202361335444772,-0.8853643083421048,-0.259041340899293,0.055017072181273996,0.5677399169721871,0.8853643083421048,0.5325763571293938,0.5004539135717562,0.8039332325903388,0.5495804966283613,0.16180410455822708,-0.2781837312421481,-0.3809668478719541,-0.34324546330037137,-0.42421704688411016,-0.39938606175745334,-0.3926176492277276,-0.3538624889158263,-0.3697150403110635],[-0.4325659978879912,-0.4602745512142974,-1.0,0.21968321013730474,0.5129039070750423,0.8853643083421048,1.0,0.8650052798310526,0.8455755015839941,0.988257655755092,0.8749736008447826,0.6020274551215152,0.20025343189024625,0.09254487856389915,0.1327560718057157,0.04540654699053448,0.07260823653643911,0.07995776135169308,0.1215205913410955,0.10462513199581736],[-0.826562315324934,-0.8435931657599596,-0.8650052798310526,-0.2994781909064796,0.012928340850854814,0.5325763571293938,0.8650052798310526,0.4964682682711952,0.46355828820917017,0.7781804385530351,0.5139179941128951,0.12011171458524017,-0.31837884215274204,-0.41955764226504033,-0.38248682302155973,-0.4619683329570789,-0.4376318671580189,-0.43099235520975415,-0.39292819687698827,-0.40850765763573926],[-0.8470928602354652,-0.8631416318557948,-0.8455755015839941,-0.3350556870160974,-0.024587457237083,0.5004539135717562,0.8455755015839941,0.46355828820917017,0.4299958577580463,0.7540750953180309,0.4813789176537113,0.08278890912190717,-0.3537127422698263,-0.45331113551406865,-0.41687527358345666,-0.4949105648190597,-0.471051014444797,-0.46453625663627507,-0.42714456407254237,-0.44245745902968947],[-0.5652484351642988,-0.5905191131321113,-0.988257655755092,0.06803962682559625,0.37571356487010826,0.8039332325903388,0.988257655755092,0.7781804385530351,0.7540750953180309,0.9533063883170996,0.7907197259972102,0.4729539044918301,0.04820039939556167,-0.06068270670202221,-0.02024696909699153,-0.10776565242218988,-0.08063766954037548,-0.0732885299762203,-0.03157057186382235,-0.04856143922298539],[-0.8150131679266575,-0.8325634486813411,-0.8749736008447826,-0.28012594196111723,0.03314302551338055,0.5495804966283613,0.8749736008447826,0.5139179941128951,0.4813789176537113,0.7907197259972102,0.5311576043505699,0.14015980009411616,-0.2991468658138691,-0.4011184918668881,-0.36372705067651484,-0.4439417208907035,-0.4193623889815054,-0.4126595064189851,-0.3742550877413888,-0.3899691413723888],[-0.980323829993617,-0.9859657014614862,-0.6020274551215152,-0.6467143167936097,-0.3766657899213879,0.16180410455822708,0.6020274551215152,0.12011171458524017,0.08278890912190717,0.4729539044918301,0.14015980009411616,-0.2751258865598239,-0.6617435102778981,-0.7393341833418577,-0.7114850736981897,-0.7703158440152064,-0.7526556899586263,-0.7477821026994684,-0.7193990821210743,-0.7311059365631972],[-0.9699623607702004,-0.9619654977191487,-0.20025343189024625,-0.9118179019216692,-0.7383466899332425,-0.2781837312421481,0.20025343189024625,-0.31837884215274204,-0.3537127422698263,0.04820039939556167,-0.2991468658138691,-0.6617435102778981,-0.919797126032357,-0.9570071439369213,-0.9444873026720211,-0.9696407974677473,-0.9626180860501454,-0.9605954220659291,-0.9481482448076238,-0.9534154896524006],[-0.937764826817868,-0.9265627976599209,-0.09254487856389915,-0.9510540558472954,-0.8072953888408934,-0.3809668478719541,0.09254487856389915,-0.41955764226504033,-0.45331113551406865,-0.06068270670202221,-0.4011184918668881,-0.7393341833418577,-0.9570071439369213,-0.9828708909031861,-0.9746093451118049,-0.9904793880442206,-0.9863608596941597,-0.9851208258462885,-0.9770831213342331,-0.9805612773219984],[-0.9510477191483265,-0.9410229258057464,-0.1327560718057157,-0.9377719473561961,-0.782756590841774,-0.34324546330037137,0.1327560718057157,-0.38248682302155973,-0.41687527358345666,-0.02024696909699153,-0.36372705067651484,-0.7114850736981897,-0.9444873026720211,-0.9746093451118049,-0.9647516507974314,-0.9840984656005771,-0.9788934572104204,-0.9773604540970908,-0.9676706522439006,-0.9718194271899127],[-0.920313679800054,-0.9077604430024102,-0.04540654699053448,-0.9645899928337855,-0.8342714230344197,-0.42421704688411016,0.04540654699053448,-0.4619683329570789,-0.4949105648190597,-0.10776565242218988,-0.4439417208907035,-0.7703158440152064,-0.9696407974677473,-0.9904793880442206,-0.9840984656005771,-0.9958764909807927,-0.9930349625185576,-0.9921395399129077,-0.9860473150856011,-0.9887353158474325],[-0.9306303822404322,-0.9188530972696657,-0.07260823653643911,-0.9570454688123442,-0.8189391441406467,-0.39938606175745334,0.07260823653643911,-0.4376318671580189,-0.471051014444797,-0.08063766954037548,-0.4193623889815054,-0.7526556899586263,-0.9626180860501454,-0.9863608596941597,-0.9788934572104204,-0.9930349625185576,-0.989456087974137,-0.9883616500614214,-0.981145614877532,-0.9842901086850183],[-0.9333025784329958,-0.9217367121300416,-0.07995776135169308,-0.9548823515368431,-0.8146868519572729,-0.3926176492277276,0.07995776135169308,-0.43099235520975415,-0.46453625663627507,-0.0732885299762203,-0.4126595064189851,-0.7477821026994684,-0.9605954220659291,-0.9851208258462885,-0.9773604540970908,-0.9921395399129077,-0.9883616500614214,-0.9872135127992514,-0.979694377418956,-0.9829619636496595],[-0.9474860933413357,-0.9371300698007763,-0.1215205913410955,-0.9416451827421943,-0.7897556213303721,-0.3538624889158263,0.1215205913410955,-0.39292819687698827,-0.42714456407254237,-0.03157057186382235,-0.3742550877413888,-0.7193990821210743,-0.9481482448076238,-0.9770831213342331,-0.9676706522439006,-0.9860473150856011,-0.981145614877532,-0.979694377418956,-0.9704654917602209,-0.9744272072907844],[-0.9419113105464726,-0.9310605540470328,-0.10462513199581736,-0.9472326789406913,-0.8000720052075703,-0.3697150403110635,0.10462513199581736,-0.40850765763573926,-0.44245745902968947,-0.04856143922298539,-0.3899691413723888,-0.7311059365631972,-0.9534154896524006,-0.9805612773219984,-0.9718194271899127,-0.9887353158474325,-0.9842901086850183,-0.9829619636496595,-0.9744272072907844,-0.9781071635097155]],\"type\":\"heatmap\",\"xaxis\":\"x\",\"yaxis\":\"y\",\"hovertemplate\":\"x: %{x}<br>y: %{y}<br>color: %{z}<extra></extra>\"}],                        {\"template\":{\"data\":{\"histogram2dcontour\":[{\"type\":\"histogram2dcontour\",\"colorbar\":{\"outlinewidth\":0,\"ticks\":\"\"},\"colorscale\":[[0.0,\"#0d0887\"],[0.1111111111111111,\"#46039f\"],[0.2222222222222222,\"#7201a8\"],[0.3333333333333333,\"#9c179e\"],[0.4444444444444444,\"#bd3786\"],[0.5555555555555556,\"#d8576b\"],[0.6666666666666666,\"#ed7953\"],[0.7777777777777778,\"#fb9f3a\"],[0.8888888888888888,\"#fdca26\"],[1.0,\"#f0f921\"]]}],\"choropleth\":[{\"type\":\"choropleth\",\"colorbar\":{\"outlinewidth\":0,\"ticks\":\"\"}}],\"histogram2d\":[{\"type\":\"histogram2d\",\"colorbar\":{\"outlinewidth\":0,\"ticks\":\"\"},\"colorscale\":[[0.0,\"#0d0887\"],[0.1111111111111111,\"#46039f\"],[0.2222222222222222,\"#7201a8\"],[0.3333333333333333,\"#9c179e\"],[0.4444444444444444,\"#bd3786\"],[0.5555555555555556,\"#d8576b\"],[0.6666666666666666,\"#ed7953\"],[0.7777777777777778,\"#fb9f3a\"],[0.8888888888888888,\"#fdca26\"],[1.0,\"#f0f921\"]]}],\"heatmap\":[{\"type\":\"heatmap\",\"colorbar\":{\"outlinewidth\":0,\"ticks\":\"\"},\"colorscale\":[[0.0,\"#0d0887\"],[0.1111111111111111,\"#46039f\"],[0.2222222222222222,\"#7201a8\"],[0.3333333333333333,\"#9c179e\"],[0.4444444444444444,\"#bd3786\"],[0.5555555555555556,\"#d8576b\"],[0.6666666666666666,\"#ed7953\"],[0.7777777777777778,\"#fb9f3a\"],[0.8888888888888888,\"#fdca26\"],[1.0,\"#f0f921\"]]}],\"heatmapgl\":[{\"type\":\"heatmapgl\",\"colorbar\":{\"outlinewidth\":0,\"ticks\":\"\"},\"colorscale\":[[0.0,\"#0d0887\"],[0.1111111111111111,\"#46039f\"],[0.2222222222222222,\"#7201a8\"],[0.3333333333333333,\"#9c179e\"],[0.4444444444444444,\"#bd3786\"],[0.5555555555555556,\"#d8576b\"],[0.6666666666666666,\"#ed7953\"],[0.7777777777777778,\"#fb9f3a\"],[0.8888888888888888,\"#fdca26\"],[1.0,\"#f0f921\"]]}],\"contourcarpet\":[{\"type\":\"contourcarpet\",\"colorbar\":{\"outlinewidth\":0,\"ticks\":\"\"}}],\"contour\":[{\"type\":\"contour\",\"colorbar\":{\"outlinewidth\":0,\"ticks\":\"\"},\"colorscale\":[[0.0,\"#0d0887\"],[0.1111111111111111,\"#46039f\"],[0.2222222222222222,\"#7201a8\"],[0.3333333333333333,\"#9c179e\"],[0.4444444444444444,\"#bd3786\"],[0.5555555555555556,\"#d8576b\"],[0.6666666666666666,\"#ed7953\"],[0.7777777777777778,\"#fb9f3a\"],[0.8888888888888888,\"#fdca26\"],[1.0,\"#f0f921\"]]}],\"surface\":[{\"type\":\"surface\",\"colorbar\":{\"outlinewidth\":0,\"ticks\":\"\"},\"colorscale\":[[0.0,\"#0d0887\"],[0.1111111111111111,\"#46039f\"],[0.2222222222222222,\"#7201a8\"],[0.3333333333333333,\"#9c179e\"],[0.4444444444444444,\"#bd3786\"],[0.5555555555555556,\"#d8576b\"],[0.6666666666666666,\"#ed7953\"],[0.7777777777777778,\"#fb9f3a\"],[0.8888888888888888,\"#fdca26\"],[1.0,\"#f0f921\"]]}],\"mesh3d\":[{\"type\":\"mesh3d\",\"colorbar\":{\"outlinewidth\":0,\"ticks\":\"\"}}],\"scatter\":[{\"fillpattern\":{\"fillmode\":\"overlay\",\"size\":10,\"solidity\":0.2},\"type\":\"scatter\"}],\"parcoords\":[{\"type\":\"parcoords\",\"line\":{\"colorbar\":{\"outlinewidth\":0,\"ticks\":\"\"}}}],\"scatterpolargl\":[{\"type\":\"scatterpolargl\",\"marker\":{\"colorbar\":{\"outlinewidth\":0,\"ticks\":\"\"}}}],\"bar\":[{\"error_x\":{\"color\":\"#2a3f5f\"},\"error_y\":{\"color\":\"#2a3f5f\"},\"marker\":{\"line\":{\"color\":\"#E5ECF6\",\"width\":0.5},\"pattern\":{\"fillmode\":\"overlay\",\"size\":10,\"solidity\":0.2}},\"type\":\"bar\"}],\"scattergeo\":[{\"type\":\"scattergeo\",\"marker\":{\"colorbar\":{\"outlinewidth\":0,\"ticks\":\"\"}}}],\"scatterpolar\":[{\"type\":\"scatterpolar\",\"marker\":{\"colorbar\":{\"outlinewidth\":0,\"ticks\":\"\"}}}],\"histogram\":[{\"marker\":{\"pattern\":{\"fillmode\":\"overlay\",\"size\":10,\"solidity\":0.2}},\"type\":\"histogram\"}],\"scattergl\":[{\"type\":\"scattergl\",\"marker\":{\"colorbar\":{\"outlinewidth\":0,\"ticks\":\"\"}}}],\"scatter3d\":[{\"type\":\"scatter3d\",\"line\":{\"colorbar\":{\"outlinewidth\":0,\"ticks\":\"\"}},\"marker\":{\"colorbar\":{\"outlinewidth\":0,\"ticks\":\"\"}}}],\"scattermapbox\":[{\"type\":\"scattermapbox\",\"marker\":{\"colorbar\":{\"outlinewidth\":0,\"ticks\":\"\"}}}],\"scatterternary\":[{\"type\":\"scatterternary\",\"marker\":{\"colorbar\":{\"outlinewidth\":0,\"ticks\":\"\"}}}],\"scattercarpet\":[{\"type\":\"scattercarpet\",\"marker\":{\"colorbar\":{\"outlinewidth\":0,\"ticks\":\"\"}}}],\"carpet\":[{\"aaxis\":{\"endlinecolor\":\"#2a3f5f\",\"gridcolor\":\"white\",\"linecolor\":\"white\",\"minorgridcolor\":\"white\",\"startlinecolor\":\"#2a3f5f\"},\"baxis\":{\"endlinecolor\":\"#2a3f5f\",\"gridcolor\":\"white\",\"linecolor\":\"white\",\"minorgridcolor\":\"white\",\"startlinecolor\":\"#2a3f5f\"},\"type\":\"carpet\"}],\"table\":[{\"cells\":{\"fill\":{\"color\":\"#EBF0F8\"},\"line\":{\"color\":\"white\"}},\"header\":{\"fill\":{\"color\":\"#C8D4E3\"},\"line\":{\"color\":\"white\"}},\"type\":\"table\"}],\"barpolar\":[{\"marker\":{\"line\":{\"color\":\"#E5ECF6\",\"width\":0.5},\"pattern\":{\"fillmode\":\"overlay\",\"size\":10,\"solidity\":0.2}},\"type\":\"barpolar\"}],\"pie\":[{\"automargin\":true,\"type\":\"pie\"}]},\"layout\":{\"autotypenumbers\":\"strict\",\"colorway\":[\"#636efa\",\"#EF553B\",\"#00cc96\",\"#ab63fa\",\"#FFA15A\",\"#19d3f3\",\"#FF6692\",\"#B6E880\",\"#FF97FF\",\"#FECB52\"],\"font\":{\"color\":\"#2a3f5f\"},\"hovermode\":\"closest\",\"hoverlabel\":{\"align\":\"left\"},\"paper_bgcolor\":\"white\",\"plot_bgcolor\":\"#E5ECF6\",\"polar\":{\"bgcolor\":\"#E5ECF6\",\"angularaxis\":{\"gridcolor\":\"white\",\"linecolor\":\"white\",\"ticks\":\"\"},\"radialaxis\":{\"gridcolor\":\"white\",\"linecolor\":\"white\",\"ticks\":\"\"}},\"ternary\":{\"bgcolor\":\"#E5ECF6\",\"aaxis\":{\"gridcolor\":\"white\",\"linecolor\":\"white\",\"ticks\":\"\"},\"baxis\":{\"gridcolor\":\"white\",\"linecolor\":\"white\",\"ticks\":\"\"},\"caxis\":{\"gridcolor\":\"white\",\"linecolor\":\"white\",\"ticks\":\"\"}},\"coloraxis\":{\"colorbar\":{\"outlinewidth\":0,\"ticks\":\"\"}},\"colorscale\":{\"sequential\":[[0.0,\"#0d0887\"],[0.1111111111111111,\"#46039f\"],[0.2222222222222222,\"#7201a8\"],[0.3333333333333333,\"#9c179e\"],[0.4444444444444444,\"#bd3786\"],[0.5555555555555556,\"#d8576b\"],[0.6666666666666666,\"#ed7953\"],[0.7777777777777778,\"#fb9f3a\"],[0.8888888888888888,\"#fdca26\"],[1.0,\"#f0f921\"]],\"sequentialminus\":[[0.0,\"#0d0887\"],[0.1111111111111111,\"#46039f\"],[0.2222222222222222,\"#7201a8\"],[0.3333333333333333,\"#9c179e\"],[0.4444444444444444,\"#bd3786\"],[0.5555555555555556,\"#d8576b\"],[0.6666666666666666,\"#ed7953\"],[0.7777777777777778,\"#fb9f3a\"],[0.8888888888888888,\"#fdca26\"],[1.0,\"#f0f921\"]],\"diverging\":[[0,\"#8e0152\"],[0.1,\"#c51b7d\"],[0.2,\"#de77ae\"],[0.3,\"#f1b6da\"],[0.4,\"#fde0ef\"],[0.5,\"#f7f7f7\"],[0.6,\"#e6f5d0\"],[0.7,\"#b8e186\"],[0.8,\"#7fbc41\"],[0.9,\"#4d9221\"],[1,\"#276419\"]]},\"xaxis\":{\"gridcolor\":\"white\",\"linecolor\":\"white\",\"ticks\":\"\",\"title\":{\"standoff\":15},\"zerolinecolor\":\"white\",\"automargin\":true,\"zerolinewidth\":2},\"yaxis\":{\"gridcolor\":\"white\",\"linecolor\":\"white\",\"ticks\":\"\",\"title\":{\"standoff\":15},\"zerolinecolor\":\"white\",\"automargin\":true,\"zerolinewidth\":2},\"scene\":{\"xaxis\":{\"backgroundcolor\":\"#E5ECF6\",\"gridcolor\":\"white\",\"linecolor\":\"white\",\"showbackground\":true,\"ticks\":\"\",\"zerolinecolor\":\"white\",\"gridwidth\":2},\"yaxis\":{\"backgroundcolor\":\"#E5ECF6\",\"gridcolor\":\"white\",\"linecolor\":\"white\",\"showbackground\":true,\"ticks\":\"\",\"zerolinecolor\":\"white\",\"gridwidth\":2},\"zaxis\":{\"backgroundcolor\":\"#E5ECF6\",\"gridcolor\":\"white\",\"linecolor\":\"white\",\"showbackground\":true,\"ticks\":\"\",\"zerolinecolor\":\"white\",\"gridwidth\":2}},\"shapedefaults\":{\"line\":{\"color\":\"#2a3f5f\"}},\"annotationdefaults\":{\"arrowcolor\":\"#2a3f5f\",\"arrowhead\":0,\"arrowwidth\":1},\"geo\":{\"bgcolor\":\"white\",\"landcolor\":\"#E5ECF6\",\"subunitcolor\":\"white\",\"showland\":true,\"showlakes\":true,\"lakecolor\":\"white\"},\"title\":{\"x\":0.05},\"mapbox\":{\"style\":\"light\"}}},\"xaxis\":{\"anchor\":\"y\",\"domain\":[0.0,1.0],\"scaleanchor\":\"y\",\"constrain\":\"domain\"},\"yaxis\":{\"anchor\":\"x\",\"domain\":[0.0,1.0],\"autorange\":\"reversed\",\"constrain\":\"domain\"},\"coloraxis\":{\"colorscale\":[[0.0,\"rgb(5,48,97)\"],[0.1,\"rgb(33,102,172)\"],[0.2,\"rgb(67,147,195)\"],[0.3,\"rgb(146,197,222)\"],[0.4,\"rgb(209,229,240)\"],[0.5,\"rgb(247,247,247)\"],[0.6,\"rgb(253,219,199)\"],[0.7,\"rgb(244,165,130)\"],[0.8,\"rgb(214,96,77)\"],[0.9,\"rgb(178,24,43)\"],[1.0,\"rgb(103,0,31)\"]],\"cmin\":-1.0,\"cmax\":1.0},\"margin\":{\"t\":60}},                        {\"responsive\": true}                    ).then(function(){\n",
       "                            \n",
       "var gd = document.getElementById('75e8227b-0e39-47bd-b97e-5eccdd49e993');\n",
       "var x = new MutationObserver(function (mutations, observer) {{\n",
       "        var display = window.getComputedStyle(gd).display;\n",
       "        if (!display || display === 'none') {{\n",
       "            console.log([gd, 'removed!']);\n",
       "            Plotly.purge(gd);\n",
       "            observer.disconnect();\n",
       "        }}\n",
       "}});\n",
       "\n",
       "// Listen for the removal of the full notebook cells\n",
       "var notebookContainer = gd.closest('#notebook-container');\n",
       "if (notebookContainer) {{\n",
       "    x.observe(notebookContainer, {childList: true});\n",
       "}}\n",
       "\n",
       "// Listen for the clearing of the current output cell\n",
       "var outputEl = gd.closest('.output');\n",
       "if (outputEl) {{\n",
       "    x.observe(outputEl, {childList: true});\n",
       "}}\n",
       "\n",
       "                        })                };                });            </script>        </div>"
      ]
     },
     "metadata": {},
     "output_type": "display_data"
    },
    {
     "data": {
      "application/vnd.plotly.v1+json": {
       "config": {
        "plotlyServerURL": "https://plot.ly"
       },
       "data": [
        {
         "coloraxis": "coloraxis",
         "hovertemplate": "x: %{x}<br>y: %{y}<br>color: %{z}<extra></extra>",
         "name": "0",
         "type": "heatmap",
         "xaxis": "x",
         "yaxis": "y",
         "z": [
          [
           0,
           -0.030962599184095885,
           -0.9016022723303033,
           0.6200658378979595,
           0.8337698906185793,
           0.9993454888689265,
           0.9016022723303033,
           0.996936234227175,
           0.9933006831683071,
           0.9571099687228123,
           0.9983139379599637,
           0.8881826240106057,
           0.6043529471088908,
           0.5141483198999438,
           0.5484304199090689,
           0.4730584913020032,
           0.49688800769139585,
           0.5032711301569223,
           0.5389234539888681,
           0.5245222157898143
          ],
          [
           0.030962599184095885,
           0,
           -0.887776625905682,
           0.6440602438451117,
           0.850464960079915,
           0.999986402764103,
           0.887776625905682,
           0.9988800972251461,
           0.9964024286123325,
           0.947680440978655,
           0.9996325300118613,
           0.9019838031122823,
           0.6287316064753403,
           0.5404584695964775,
           0.5740582791244713,
           0.500110690908621,
           0.5235195695553042,
           0.529785499957489,
           0.5647465560261933,
           0.5506321870210696
          ],
          [
           0.9016022723303033,
           0.887776625905682,
           0,
           0.9755712619710406,
           0.8584460274863857,
           0.46489788288817413,
           0,
           0.5017627585467084,
           0.5338558523805624,
           0.1527966159358584,
           0.484170628833178,
           0.7984753867715096,
           0.9797441314017545,
           0.9957085143010443,
           0.9911487403002214,
           0.9989685908427733,
           0.9973605386153337,
           0.9967982526066274,
           0.9925889108186281,
           0.9945117303254184
          ],
          [
           -0.6200658378979595,
           -0.6440602438451117,
           -0.9755712619710406,
           0,
           0.31178813284725015,
           0.7616057162945138,
           0.9755712619710406,
           0.7336454389315029,
           0.7076399917705438,
           0.930548917290631,
           0.7472349419712201,
           0.4119090479525194,
           -0.01987184263632341,
           -0.12845631881316005,
           -0.08822572848687826,
           -0.17515930451337708,
           -0.14826885583994207,
           -0.14097534584562937,
           -0.09950312162522747,
           -0.11640825738204719
          ],
          [
           -0.8337698906185793,
           -0.850464960079915,
           -0.8584460274863857,
           -0.31178813284725015,
           0,
           0.5215895328502513,
           0.8584460274863857,
           0.48520426694235863,
           0.45206417777372015,
           0.7699958774146203,
           0.5027846045811449,
           0.10726693170844026,
           -0.3306078298331061,
           -0.4312580039255021,
           -0.39440013892617604,
           -0.4733958234026095,
           -0.44921986480077525,
           -0.4426222957284487,
           -0.4047838615836752,
           -0.42027392317881973
          ],
          [
           -0.9993454888689265,
           -0.999986402764103,
           -0.46489788288817413,
           -0.7616057162945138,
           -0.5215895328502513,
           0,
           0.46489788288817413,
           -0.042103714391984015,
           -0.07955065698879665,
           0.3241582217235067,
           -0.02189401930066681,
           -0.42706031921060456,
           -0.774333088723884,
           -0.838540861957989,
           -0.8158097021970262,
           -0.8633417279218372,
           -0.8492720079928396,
           -0.8453574015028054,
           -0.8223081288531835,
           -0.8318651878959227
          ],
          [
           -0.9016022723303033,
           -0.887776625905682,
           0,
           -0.9755712619710406,
           -0.8584460274863857,
           -0.46489788288817413,
           0,
           -0.5017627585467084,
           -0.5338558523805624,
           -0.1527966159358584,
           -0.484170628833178,
           -0.7984753867715096,
           -0.9797441314017545,
           -0.9957085143010443,
           -0.9911487403002214,
           -0.9989685908427733,
           -0.9973605386153337,
           -0.9967982526066274,
           -0.9925889108186281,
           -0.9945117303254184
          ],
          [
           -0.996936234227175,
           -0.9988800972251461,
           -0.5017627585467084,
           -0.7336454389315029,
           -0.48520426694235863,
           0.042103714391984015,
           0.5017627585467084,
           0,
           -0.03750983474359204,
           0.3637010079817432,
           0.020219017335604828,
           -0.3886104687698715,
           -0.747004132152311,
           -0.8148575484855443,
           -0.7907368406545274,
           -0.8413297911903341,
           -0.8262900227396706,
           -0.8221159245280549,
           -0.7976201414283318,
           -0.8077609027418681
          ],
          [
           -0.9933006831683071,
           -0.9964024286123325,
           -0.5338558523805624,
           -0.7076399917705438,
           -0.45206417777372015,
           0.07955065698879665,
           0.5338558523805624,
           0.03750983474359204,
           0,
           0.3983860580244507,
           0.05770695516162905,
           -0.35377534546139555,
           -0.7215411687601129,
           -0.7925411013823731,
           -0.767218487351168,
           -0.820462816421244,
           -0.8045813056937331,
           -0.8001822635850481,
           -0.7744343872599813,
           -0.7850800161790256
          ],
          [
           -0.9571099687228123,
           -0.947680440978655,
           -0.1527966159358584,
           -0.930548917290631,
           -0.7699958774146203,
           -0.3241582217235067,
           0.1527966159358584,
           -0.3637010079817432,
           -0.3983860580244507,
           0,
           -0.34479232539384996,
           -0.6971116560659081,
           -0.9376415918165352,
           -0.9698760178917768,
           -0.959225652076858,
           -0.9803003910377607,
           -0.9745548950027872,
           -0.9728762290294519,
           -0.9623656550106736,
           -0.9668474651215347
          ],
          [
           -0.9983139379599637,
           -0.9996325300118613,
           -0.484170628833178,
           -0.7472349419712201,
           -0.5027846045811449,
           0.02189401930066681,
           0.484170628833178,
           -0.020219017335604828,
           -0.05770695516162905,
           0.34479232539384996,
           0,
           -0.40716087282837643,
           -0.7602934205148344,
           -0.8264111521002203,
           -0.8029523915056591,
           -0.8520866286509894,
           -0.8375093662704345,
           -0.8334589568052655,
           -0.809652392331778,
           -0.8195150938150376
          ],
          [
           -0.8881826240106057,
           -0.9019838031122823,
           -0.7984753867715096,
           -0.4119090479525194,
           -0.10726693170844026,
           0.42706031921060456,
           0.7984753867715096,
           0.3886104687698715,
           0.35377534546139555,
           0.6971116560659081,
           0.40716087282837643,
           0,
           -0.42993542961715125,
           -0.5255490552024508,
           -0.49069629798850267,
           -0.5651505083211753,
           -0.5424625371499826,
           -0.5362556108656639,
           -0.5005345747901916,
           -0.5151827733599258
          ],
          [
           -0.6043529471088908,
           -0.6287316064753403,
           -0.9797441314017545,
           0.01987184263632341,
           0.3306078298331061,
           0.774333088723884,
           0.9797441314017545,
           0.747004132152311,
           0.7215411687601129,
           0.9376415918165352,
           0.7602934205148344,
           0.42993542961715125,
           0,
           -0.10872374548685425,
           -0.06841395449921389,
           -0.15556009072563443,
           -0.12858737705161838,
           -0.12127412354233441,
           -0.07971024963672266,
           -0.09664852798273611
          ],
          [
           -0.5141483198999438,
           -0.5404584695964775,
           -0.9957085143010443,
           0.12845631881316005,
           0.4312580039255021,
           0.838540861957989,
           0.9957085143010443,
           0.8148575484855443,
           0.7925411013823731,
           0.9698760178917768,
           0.8264111521002203,
           0.5255490552024508,
           0.10872374548685425,
           0,
           0.04046061121226634,
           -0.04723774148520827,
           -0.020003970602864518,
           -0.012633949477855413,
           0.02914006724564369,
           0.012139167424766895
          ],
          [
           -0.5484304199090689,
           -0.5740582791244713,
           -0.9911487403002214,
           0.08822572848687826,
           0.39440013892617604,
           0.8158097021970262,
           0.9911487403002214,
           0.7907368406545274,
           0.767218487351168,
           0.959225652076858,
           0.8029523915056591,
           0.49069629798850267,
           0.06841395449921389,
           -0.04046061121226634,
           0,
           -0.08761450412652678,
           -0.060440105102092384,
           -0.05308098595790103,
           -0.011327223689930138,
           -0.028328402901309058
          ],
          [
           -0.4730584913020032,
           -0.500110690908621,
           -0.9989685908427733,
           0.17515930451337708,
           0.4733958234026095,
           0.8633417279218372,
           0.9989685908427733,
           0.8413297911903341,
           0.820462816421244,
           0.9803003910377607,
           0.8520866286509894,
           0.5651505083211753,
           0.15556009072563443,
           0.04723774148520827,
           0.08761450412652678,
           0,
           0.02724664957324341,
           0.03461412548737812,
           0.07632521886902521,
           0.05935987706094196
          ],
          [
           -0.49688800769139585,
           -0.5235195695553042,
           -0.9973605386153337,
           0.14826885583994207,
           0.44921986480077525,
           0.8492720079928396,
           0.9973605386153337,
           0.8262900227396706,
           0.8045813056937331,
           0.9745548950027872,
           0.8375093662704345,
           0.5424625371499826,
           0.12858737705161838,
           0.020003970602864518,
           0.060440105102092384,
           -0.02724664957324341,
           0,
           0.007370952623829738,
           0.04912971201264345,
           0.03213923504631745
          ],
          [
           -0.5032711301569223,
           -0.529785499957489,
           -0.9967982526066274,
           0.14097534584562937,
           0.4426222957284487,
           0.8453574015028054,
           0.9967982526066274,
           0.8221159245280549,
           0.8001822635850481,
           0.9728762290294519,
           0.8334589568052655,
           0.5362556108656639,
           0.12127412354233441,
           0.012633949477855413,
           0.05308098595790103,
           -0.03461412548737812,
           -0.007370952623829738,
           0,
           0.0417663258529552,
           0.024771217157349326
          ],
          [
           -0.5389234539888681,
           -0.5647465560261933,
           -0.9925889108186281,
           0.09950312162522747,
           0.4047838615836752,
           0.8223081288531835,
           0.9925889108186281,
           0.7976201414283318,
           0.7744343872599813,
           0.9623656550106736,
           0.809652392331778,
           0.5005345747901916,
           0.07971024963672266,
           -0.02914006724564369,
           0.011327223689930138,
           -0.07632521886902521,
           -0.04912971201264345,
           -0.0417663258529552,
           0,
           -0.01700390775281739
          ],
          [
           -0.5245222157898143,
           -0.5506321870210696,
           -0.9945117303254184,
           0.11640825738204719,
           0.42027392317881973,
           0.8318651878959227,
           0.9945117303254184,
           0.8077609027418681,
           0.7850800161790256,
           0.9668474651215347,
           0.8195150938150376,
           0.5151827733599258,
           0.09664852798273611,
           -0.012139167424766895,
           0.028328402901309058,
           -0.05935987706094196,
           -0.03213923504631745,
           -0.024771217157349326,
           0.01700390775281739,
           0
          ]
         ]
        }
       ],
       "layout": {
        "coloraxis": {
         "cmax": 1,
         "cmin": -1,
         "colorscale": [
          [
           0,
           "rgb(5,48,97)"
          ],
          [
           0.1,
           "rgb(33,102,172)"
          ],
          [
           0.2,
           "rgb(67,147,195)"
          ],
          [
           0.3,
           "rgb(146,197,222)"
          ],
          [
           0.4,
           "rgb(209,229,240)"
          ],
          [
           0.5,
           "rgb(247,247,247)"
          ],
          [
           0.6,
           "rgb(253,219,199)"
          ],
          [
           0.7,
           "rgb(244,165,130)"
          ],
          [
           0.8,
           "rgb(214,96,77)"
          ],
          [
           0.9,
           "rgb(178,24,43)"
          ],
          [
           1,
           "rgb(103,0,31)"
          ]
         ]
        },
        "margin": {
         "t": 60
        },
        "template": {
         "data": {
          "bar": [
           {
            "error_x": {
             "color": "#2a3f5f"
            },
            "error_y": {
             "color": "#2a3f5f"
            },
            "marker": {
             "line": {
              "color": "#E5ECF6",
              "width": 0.5
             },
             "pattern": {
              "fillmode": "overlay",
              "size": 10,
              "solidity": 0.2
             }
            },
            "type": "bar"
           }
          ],
          "barpolar": [
           {
            "marker": {
             "line": {
              "color": "#E5ECF6",
              "width": 0.5
             },
             "pattern": {
              "fillmode": "overlay",
              "size": 10,
              "solidity": 0.2
             }
            },
            "type": "barpolar"
           }
          ],
          "carpet": [
           {
            "aaxis": {
             "endlinecolor": "#2a3f5f",
             "gridcolor": "white",
             "linecolor": "white",
             "minorgridcolor": "white",
             "startlinecolor": "#2a3f5f"
            },
            "baxis": {
             "endlinecolor": "#2a3f5f",
             "gridcolor": "white",
             "linecolor": "white",
             "minorgridcolor": "white",
             "startlinecolor": "#2a3f5f"
            },
            "type": "carpet"
           }
          ],
          "choropleth": [
           {
            "colorbar": {
             "outlinewidth": 0,
             "ticks": ""
            },
            "type": "choropleth"
           }
          ],
          "contour": [
           {
            "colorbar": {
             "outlinewidth": 0,
             "ticks": ""
            },
            "colorscale": [
             [
              0,
              "#0d0887"
             ],
             [
              0.1111111111111111,
              "#46039f"
             ],
             [
              0.2222222222222222,
              "#7201a8"
             ],
             [
              0.3333333333333333,
              "#9c179e"
             ],
             [
              0.4444444444444444,
              "#bd3786"
             ],
             [
              0.5555555555555556,
              "#d8576b"
             ],
             [
              0.6666666666666666,
              "#ed7953"
             ],
             [
              0.7777777777777778,
              "#fb9f3a"
             ],
             [
              0.8888888888888888,
              "#fdca26"
             ],
             [
              1,
              "#f0f921"
             ]
            ],
            "type": "contour"
           }
          ],
          "contourcarpet": [
           {
            "colorbar": {
             "outlinewidth": 0,
             "ticks": ""
            },
            "type": "contourcarpet"
           }
          ],
          "heatmap": [
           {
            "colorbar": {
             "outlinewidth": 0,
             "ticks": ""
            },
            "colorscale": [
             [
              0,
              "#0d0887"
             ],
             [
              0.1111111111111111,
              "#46039f"
             ],
             [
              0.2222222222222222,
              "#7201a8"
             ],
             [
              0.3333333333333333,
              "#9c179e"
             ],
             [
              0.4444444444444444,
              "#bd3786"
             ],
             [
              0.5555555555555556,
              "#d8576b"
             ],
             [
              0.6666666666666666,
              "#ed7953"
             ],
             [
              0.7777777777777778,
              "#fb9f3a"
             ],
             [
              0.8888888888888888,
              "#fdca26"
             ],
             [
              1,
              "#f0f921"
             ]
            ],
            "type": "heatmap"
           }
          ],
          "heatmapgl": [
           {
            "colorbar": {
             "outlinewidth": 0,
             "ticks": ""
            },
            "colorscale": [
             [
              0,
              "#0d0887"
             ],
             [
              0.1111111111111111,
              "#46039f"
             ],
             [
              0.2222222222222222,
              "#7201a8"
             ],
             [
              0.3333333333333333,
              "#9c179e"
             ],
             [
              0.4444444444444444,
              "#bd3786"
             ],
             [
              0.5555555555555556,
              "#d8576b"
             ],
             [
              0.6666666666666666,
              "#ed7953"
             ],
             [
              0.7777777777777778,
              "#fb9f3a"
             ],
             [
              0.8888888888888888,
              "#fdca26"
             ],
             [
              1,
              "#f0f921"
             ]
            ],
            "type": "heatmapgl"
           }
          ],
          "histogram": [
           {
            "marker": {
             "pattern": {
              "fillmode": "overlay",
              "size": 10,
              "solidity": 0.2
             }
            },
            "type": "histogram"
           }
          ],
          "histogram2d": [
           {
            "colorbar": {
             "outlinewidth": 0,
             "ticks": ""
            },
            "colorscale": [
             [
              0,
              "#0d0887"
             ],
             [
              0.1111111111111111,
              "#46039f"
             ],
             [
              0.2222222222222222,
              "#7201a8"
             ],
             [
              0.3333333333333333,
              "#9c179e"
             ],
             [
              0.4444444444444444,
              "#bd3786"
             ],
             [
              0.5555555555555556,
              "#d8576b"
             ],
             [
              0.6666666666666666,
              "#ed7953"
             ],
             [
              0.7777777777777778,
              "#fb9f3a"
             ],
             [
              0.8888888888888888,
              "#fdca26"
             ],
             [
              1,
              "#f0f921"
             ]
            ],
            "type": "histogram2d"
           }
          ],
          "histogram2dcontour": [
           {
            "colorbar": {
             "outlinewidth": 0,
             "ticks": ""
            },
            "colorscale": [
             [
              0,
              "#0d0887"
             ],
             [
              0.1111111111111111,
              "#46039f"
             ],
             [
              0.2222222222222222,
              "#7201a8"
             ],
             [
              0.3333333333333333,
              "#9c179e"
             ],
             [
              0.4444444444444444,
              "#bd3786"
             ],
             [
              0.5555555555555556,
              "#d8576b"
             ],
             [
              0.6666666666666666,
              "#ed7953"
             ],
             [
              0.7777777777777778,
              "#fb9f3a"
             ],
             [
              0.8888888888888888,
              "#fdca26"
             ],
             [
              1,
              "#f0f921"
             ]
            ],
            "type": "histogram2dcontour"
           }
          ],
          "mesh3d": [
           {
            "colorbar": {
             "outlinewidth": 0,
             "ticks": ""
            },
            "type": "mesh3d"
           }
          ],
          "parcoords": [
           {
            "line": {
             "colorbar": {
              "outlinewidth": 0,
              "ticks": ""
             }
            },
            "type": "parcoords"
           }
          ],
          "pie": [
           {
            "automargin": true,
            "type": "pie"
           }
          ],
          "scatter": [
           {
            "fillpattern": {
             "fillmode": "overlay",
             "size": 10,
             "solidity": 0.2
            },
            "type": "scatter"
           }
          ],
          "scatter3d": [
           {
            "line": {
             "colorbar": {
              "outlinewidth": 0,
              "ticks": ""
             }
            },
            "marker": {
             "colorbar": {
              "outlinewidth": 0,
              "ticks": ""
             }
            },
            "type": "scatter3d"
           }
          ],
          "scattercarpet": [
           {
            "marker": {
             "colorbar": {
              "outlinewidth": 0,
              "ticks": ""
             }
            },
            "type": "scattercarpet"
           }
          ],
          "scattergeo": [
           {
            "marker": {
             "colorbar": {
              "outlinewidth": 0,
              "ticks": ""
             }
            },
            "type": "scattergeo"
           }
          ],
          "scattergl": [
           {
            "marker": {
             "colorbar": {
              "outlinewidth": 0,
              "ticks": ""
             }
            },
            "type": "scattergl"
           }
          ],
          "scattermapbox": [
           {
            "marker": {
             "colorbar": {
              "outlinewidth": 0,
              "ticks": ""
             }
            },
            "type": "scattermapbox"
           }
          ],
          "scatterpolar": [
           {
            "marker": {
             "colorbar": {
              "outlinewidth": 0,
              "ticks": ""
             }
            },
            "type": "scatterpolar"
           }
          ],
          "scatterpolargl": [
           {
            "marker": {
             "colorbar": {
              "outlinewidth": 0,
              "ticks": ""
             }
            },
            "type": "scatterpolargl"
           }
          ],
          "scatterternary": [
           {
            "marker": {
             "colorbar": {
              "outlinewidth": 0,
              "ticks": ""
             }
            },
            "type": "scatterternary"
           }
          ],
          "surface": [
           {
            "colorbar": {
             "outlinewidth": 0,
             "ticks": ""
            },
            "colorscale": [
             [
              0,
              "#0d0887"
             ],
             [
              0.1111111111111111,
              "#46039f"
             ],
             [
              0.2222222222222222,
              "#7201a8"
             ],
             [
              0.3333333333333333,
              "#9c179e"
             ],
             [
              0.4444444444444444,
              "#bd3786"
             ],
             [
              0.5555555555555556,
              "#d8576b"
             ],
             [
              0.6666666666666666,
              "#ed7953"
             ],
             [
              0.7777777777777778,
              "#fb9f3a"
             ],
             [
              0.8888888888888888,
              "#fdca26"
             ],
             [
              1,
              "#f0f921"
             ]
            ],
            "type": "surface"
           }
          ],
          "table": [
           {
            "cells": {
             "fill": {
              "color": "#EBF0F8"
             },
             "line": {
              "color": "white"
             }
            },
            "header": {
             "fill": {
              "color": "#C8D4E3"
             },
             "line": {
              "color": "white"
             }
            },
            "type": "table"
           }
          ]
         },
         "layout": {
          "annotationdefaults": {
           "arrowcolor": "#2a3f5f",
           "arrowhead": 0,
           "arrowwidth": 1
          },
          "autotypenumbers": "strict",
          "coloraxis": {
           "colorbar": {
            "outlinewidth": 0,
            "ticks": ""
           }
          },
          "colorscale": {
           "diverging": [
            [
             0,
             "#8e0152"
            ],
            [
             0.1,
             "#c51b7d"
            ],
            [
             0.2,
             "#de77ae"
            ],
            [
             0.3,
             "#f1b6da"
            ],
            [
             0.4,
             "#fde0ef"
            ],
            [
             0.5,
             "#f7f7f7"
            ],
            [
             0.6,
             "#e6f5d0"
            ],
            [
             0.7,
             "#b8e186"
            ],
            [
             0.8,
             "#7fbc41"
            ],
            [
             0.9,
             "#4d9221"
            ],
            [
             1,
             "#276419"
            ]
           ],
           "sequential": [
            [
             0,
             "#0d0887"
            ],
            [
             0.1111111111111111,
             "#46039f"
            ],
            [
             0.2222222222222222,
             "#7201a8"
            ],
            [
             0.3333333333333333,
             "#9c179e"
            ],
            [
             0.4444444444444444,
             "#bd3786"
            ],
            [
             0.5555555555555556,
             "#d8576b"
            ],
            [
             0.6666666666666666,
             "#ed7953"
            ],
            [
             0.7777777777777778,
             "#fb9f3a"
            ],
            [
             0.8888888888888888,
             "#fdca26"
            ],
            [
             1,
             "#f0f921"
            ]
           ],
           "sequentialminus": [
            [
             0,
             "#0d0887"
            ],
            [
             0.1111111111111111,
             "#46039f"
            ],
            [
             0.2222222222222222,
             "#7201a8"
            ],
            [
             0.3333333333333333,
             "#9c179e"
            ],
            [
             0.4444444444444444,
             "#bd3786"
            ],
            [
             0.5555555555555556,
             "#d8576b"
            ],
            [
             0.6666666666666666,
             "#ed7953"
            ],
            [
             0.7777777777777778,
             "#fb9f3a"
            ],
            [
             0.8888888888888888,
             "#fdca26"
            ],
            [
             1,
             "#f0f921"
            ]
           ]
          },
          "colorway": [
           "#636efa",
           "#EF553B",
           "#00cc96",
           "#ab63fa",
           "#FFA15A",
           "#19d3f3",
           "#FF6692",
           "#B6E880",
           "#FF97FF",
           "#FECB52"
          ],
          "font": {
           "color": "#2a3f5f"
          },
          "geo": {
           "bgcolor": "white",
           "lakecolor": "white",
           "landcolor": "#E5ECF6",
           "showlakes": true,
           "showland": true,
           "subunitcolor": "white"
          },
          "hoverlabel": {
           "align": "left"
          },
          "hovermode": "closest",
          "mapbox": {
           "style": "light"
          },
          "paper_bgcolor": "white",
          "plot_bgcolor": "#E5ECF6",
          "polar": {
           "angularaxis": {
            "gridcolor": "white",
            "linecolor": "white",
            "ticks": ""
           },
           "bgcolor": "#E5ECF6",
           "radialaxis": {
            "gridcolor": "white",
            "linecolor": "white",
            "ticks": ""
           }
          },
          "scene": {
           "xaxis": {
            "backgroundcolor": "#E5ECF6",
            "gridcolor": "white",
            "gridwidth": 2,
            "linecolor": "white",
            "showbackground": true,
            "ticks": "",
            "zerolinecolor": "white"
           },
           "yaxis": {
            "backgroundcolor": "#E5ECF6",
            "gridcolor": "white",
            "gridwidth": 2,
            "linecolor": "white",
            "showbackground": true,
            "ticks": "",
            "zerolinecolor": "white"
           },
           "zaxis": {
            "backgroundcolor": "#E5ECF6",
            "gridcolor": "white",
            "gridwidth": 2,
            "linecolor": "white",
            "showbackground": true,
            "ticks": "",
            "zerolinecolor": "white"
           }
          },
          "shapedefaults": {
           "line": {
            "color": "#2a3f5f"
           }
          },
          "ternary": {
           "aaxis": {
            "gridcolor": "white",
            "linecolor": "white",
            "ticks": ""
           },
           "baxis": {
            "gridcolor": "white",
            "linecolor": "white",
            "ticks": ""
           },
           "bgcolor": "#E5ECF6",
           "caxis": {
            "gridcolor": "white",
            "linecolor": "white",
            "ticks": ""
           }
          },
          "title": {
           "x": 0.05
          },
          "xaxis": {
           "automargin": true,
           "gridcolor": "white",
           "linecolor": "white",
           "ticks": "",
           "title": {
            "standoff": 15
           },
           "zerolinecolor": "white",
           "zerolinewidth": 2
          },
          "yaxis": {
           "automargin": true,
           "gridcolor": "white",
           "linecolor": "white",
           "ticks": "",
           "title": {
            "standoff": 15
           },
           "zerolinecolor": "white",
           "zerolinewidth": 2
          }
         }
        },
        "xaxis": {
         "anchor": "y",
         "constrain": "domain",
         "domain": [
          0,
          1
         ],
         "scaleanchor": "y"
        },
        "yaxis": {
         "anchor": "x",
         "autorange": "reversed",
         "constrain": "domain",
         "domain": [
          0,
          1
         ]
        }
       }
      },
      "text/html": [
       "<div>                            <div id=\"9d6fe1f7-e289-40c1-9c1b-4cf1bba79331\" class=\"plotly-graph-div\" style=\"height:525px; width:100%;\"></div>            <script type=\"text/javascript\">                require([\"plotly\"], function(Plotly) {                    window.PLOTLYENV=window.PLOTLYENV || {};                                    if (document.getElementById(\"9d6fe1f7-e289-40c1-9c1b-4cf1bba79331\")) {                    Plotly.newPlot(                        \"9d6fe1f7-e289-40c1-9c1b-4cf1bba79331\",                        [{\"coloraxis\":\"coloraxis\",\"name\":\"0\",\"z\":[[0.0,-0.030962599184095885,-0.9016022723303033,0.6200658378979595,0.8337698906185793,0.9993454888689265,0.9016022723303033,0.996936234227175,0.9933006831683071,0.9571099687228123,0.9983139379599637,0.8881826240106057,0.6043529471088908,0.5141483198999438,0.5484304199090689,0.4730584913020032,0.49688800769139585,0.5032711301569223,0.5389234539888681,0.5245222157898143],[0.030962599184095885,0.0,-0.887776625905682,0.6440602438451117,0.850464960079915,0.999986402764103,0.887776625905682,0.9988800972251461,0.9964024286123325,0.947680440978655,0.9996325300118613,0.9019838031122823,0.6287316064753403,0.5404584695964775,0.5740582791244713,0.500110690908621,0.5235195695553042,0.529785499957489,0.5647465560261933,0.5506321870210696],[0.9016022723303033,0.887776625905682,0.0,0.9755712619710406,0.8584460274863857,0.46489788288817413,0.0,0.5017627585467084,0.5338558523805624,0.1527966159358584,0.484170628833178,0.7984753867715096,0.9797441314017545,0.9957085143010443,0.9911487403002214,0.9989685908427733,0.9973605386153337,0.9967982526066274,0.9925889108186281,0.9945117303254184],[-0.6200658378979595,-0.6440602438451117,-0.9755712619710406,0.0,0.31178813284725015,0.7616057162945138,0.9755712619710406,0.7336454389315029,0.7076399917705438,0.930548917290631,0.7472349419712201,0.4119090479525194,-0.01987184263632341,-0.12845631881316005,-0.08822572848687826,-0.17515930451337708,-0.14826885583994207,-0.14097534584562937,-0.09950312162522747,-0.11640825738204719],[-0.8337698906185793,-0.850464960079915,-0.8584460274863857,-0.31178813284725015,0.0,0.5215895328502513,0.8584460274863857,0.48520426694235863,0.45206417777372015,0.7699958774146203,0.5027846045811449,0.10726693170844026,-0.3306078298331061,-0.4312580039255021,-0.39440013892617604,-0.4733958234026095,-0.44921986480077525,-0.4426222957284487,-0.4047838615836752,-0.42027392317881973],[-0.9993454888689265,-0.999986402764103,-0.46489788288817413,-0.7616057162945138,-0.5215895328502513,0.0,0.46489788288817413,-0.042103714391984015,-0.07955065698879665,0.3241582217235067,-0.02189401930066681,-0.42706031921060456,-0.774333088723884,-0.838540861957989,-0.8158097021970262,-0.8633417279218372,-0.8492720079928396,-0.8453574015028054,-0.8223081288531835,-0.8318651878959227],[-0.9016022723303033,-0.887776625905682,-0.0,-0.9755712619710406,-0.8584460274863857,-0.46489788288817413,0.0,-0.5017627585467084,-0.5338558523805624,-0.1527966159358584,-0.484170628833178,-0.7984753867715096,-0.9797441314017545,-0.9957085143010443,-0.9911487403002214,-0.9989685908427733,-0.9973605386153337,-0.9967982526066274,-0.9925889108186281,-0.9945117303254184],[-0.996936234227175,-0.9988800972251461,-0.5017627585467084,-0.7336454389315029,-0.48520426694235863,0.042103714391984015,0.5017627585467084,0.0,-0.03750983474359204,0.3637010079817432,0.020219017335604828,-0.3886104687698715,-0.747004132152311,-0.8148575484855443,-0.7907368406545274,-0.8413297911903341,-0.8262900227396706,-0.8221159245280549,-0.7976201414283318,-0.8077609027418681],[-0.9933006831683071,-0.9964024286123325,-0.5338558523805624,-0.7076399917705438,-0.45206417777372015,0.07955065698879665,0.5338558523805624,0.03750983474359204,0.0,0.3983860580244507,0.05770695516162905,-0.35377534546139555,-0.7215411687601129,-0.7925411013823731,-0.767218487351168,-0.820462816421244,-0.8045813056937331,-0.8001822635850481,-0.7744343872599813,-0.7850800161790256],[-0.9571099687228123,-0.947680440978655,-0.1527966159358584,-0.930548917290631,-0.7699958774146203,-0.3241582217235067,0.1527966159358584,-0.3637010079817432,-0.3983860580244507,0.0,-0.34479232539384996,-0.6971116560659081,-0.9376415918165352,-0.9698760178917768,-0.959225652076858,-0.9803003910377607,-0.9745548950027872,-0.9728762290294519,-0.9623656550106736,-0.9668474651215347],[-0.9983139379599637,-0.9996325300118613,-0.484170628833178,-0.7472349419712201,-0.5027846045811449,0.02189401930066681,0.484170628833178,-0.020219017335604828,-0.05770695516162905,0.34479232539384996,0.0,-0.40716087282837643,-0.7602934205148344,-0.8264111521002203,-0.8029523915056591,-0.8520866286509894,-0.8375093662704345,-0.8334589568052655,-0.809652392331778,-0.8195150938150376],[-0.8881826240106057,-0.9019838031122823,-0.7984753867715096,-0.4119090479525194,-0.10726693170844026,0.42706031921060456,0.7984753867715096,0.3886104687698715,0.35377534546139555,0.6971116560659081,0.40716087282837643,0.0,-0.42993542961715125,-0.5255490552024508,-0.49069629798850267,-0.5651505083211753,-0.5424625371499826,-0.5362556108656639,-0.5005345747901916,-0.5151827733599258],[-0.6043529471088908,-0.6287316064753403,-0.9797441314017545,0.01987184263632341,0.3306078298331061,0.774333088723884,0.9797441314017545,0.747004132152311,0.7215411687601129,0.9376415918165352,0.7602934205148344,0.42993542961715125,0.0,-0.10872374548685425,-0.06841395449921389,-0.15556009072563443,-0.12858737705161838,-0.12127412354233441,-0.07971024963672266,-0.09664852798273611],[-0.5141483198999438,-0.5404584695964775,-0.9957085143010443,0.12845631881316005,0.4312580039255021,0.838540861957989,0.9957085143010443,0.8148575484855443,0.7925411013823731,0.9698760178917768,0.8264111521002203,0.5255490552024508,0.10872374548685425,0.0,0.04046061121226634,-0.04723774148520827,-0.020003970602864518,-0.012633949477855413,0.02914006724564369,0.012139167424766895],[-0.5484304199090689,-0.5740582791244713,-0.9911487403002214,0.08822572848687826,0.39440013892617604,0.8158097021970262,0.9911487403002214,0.7907368406545274,0.767218487351168,0.959225652076858,0.8029523915056591,0.49069629798850267,0.06841395449921389,-0.04046061121226634,0.0,-0.08761450412652678,-0.060440105102092384,-0.05308098595790103,-0.011327223689930138,-0.028328402901309058],[-0.4730584913020032,-0.500110690908621,-0.9989685908427733,0.17515930451337708,0.4733958234026095,0.8633417279218372,0.9989685908427733,0.8413297911903341,0.820462816421244,0.9803003910377607,0.8520866286509894,0.5651505083211753,0.15556009072563443,0.04723774148520827,0.08761450412652678,0.0,0.02724664957324341,0.03461412548737812,0.07632521886902521,0.05935987706094196],[-0.49688800769139585,-0.5235195695553042,-0.9973605386153337,0.14826885583994207,0.44921986480077525,0.8492720079928396,0.9973605386153337,0.8262900227396706,0.8045813056937331,0.9745548950027872,0.8375093662704345,0.5424625371499826,0.12858737705161838,0.020003970602864518,0.060440105102092384,-0.02724664957324341,0.0,0.007370952623829738,0.04912971201264345,0.03213923504631745],[-0.5032711301569223,-0.529785499957489,-0.9967982526066274,0.14097534584562937,0.4426222957284487,0.8453574015028054,0.9967982526066274,0.8221159245280549,0.8001822635850481,0.9728762290294519,0.8334589568052655,0.5362556108656639,0.12127412354233441,0.012633949477855413,0.05308098595790103,-0.03461412548737812,-0.007370952623829738,0.0,0.0417663258529552,0.024771217157349326],[-0.5389234539888681,-0.5647465560261933,-0.9925889108186281,0.09950312162522747,0.4047838615836752,0.8223081288531835,0.9925889108186281,0.7976201414283318,0.7744343872599813,0.9623656550106736,0.809652392331778,0.5005345747901916,0.07971024963672266,-0.02914006724564369,0.011327223689930138,-0.07632521886902521,-0.04912971201264345,-0.0417663258529552,0.0,-0.01700390775281739],[-0.5245222157898143,-0.5506321870210696,-0.9945117303254184,0.11640825738204719,0.42027392317881973,0.8318651878959227,0.9945117303254184,0.8077609027418681,0.7850800161790256,0.9668474651215347,0.8195150938150376,0.5151827733599258,0.09664852798273611,-0.012139167424766895,0.028328402901309058,-0.05935987706094196,-0.03213923504631745,-0.024771217157349326,0.01700390775281739,0.0]],\"type\":\"heatmap\",\"xaxis\":\"x\",\"yaxis\":\"y\",\"hovertemplate\":\"x: %{x}<br>y: %{y}<br>color: %{z}<extra></extra>\"}],                        {\"template\":{\"data\":{\"histogram2dcontour\":[{\"type\":\"histogram2dcontour\",\"colorbar\":{\"outlinewidth\":0,\"ticks\":\"\"},\"colorscale\":[[0.0,\"#0d0887\"],[0.1111111111111111,\"#46039f\"],[0.2222222222222222,\"#7201a8\"],[0.3333333333333333,\"#9c179e\"],[0.4444444444444444,\"#bd3786\"],[0.5555555555555556,\"#d8576b\"],[0.6666666666666666,\"#ed7953\"],[0.7777777777777778,\"#fb9f3a\"],[0.8888888888888888,\"#fdca26\"],[1.0,\"#f0f921\"]]}],\"choropleth\":[{\"type\":\"choropleth\",\"colorbar\":{\"outlinewidth\":0,\"ticks\":\"\"}}],\"histogram2d\":[{\"type\":\"histogram2d\",\"colorbar\":{\"outlinewidth\":0,\"ticks\":\"\"},\"colorscale\":[[0.0,\"#0d0887\"],[0.1111111111111111,\"#46039f\"],[0.2222222222222222,\"#7201a8\"],[0.3333333333333333,\"#9c179e\"],[0.4444444444444444,\"#bd3786\"],[0.5555555555555556,\"#d8576b\"],[0.6666666666666666,\"#ed7953\"],[0.7777777777777778,\"#fb9f3a\"],[0.8888888888888888,\"#fdca26\"],[1.0,\"#f0f921\"]]}],\"heatmap\":[{\"type\":\"heatmap\",\"colorbar\":{\"outlinewidth\":0,\"ticks\":\"\"},\"colorscale\":[[0.0,\"#0d0887\"],[0.1111111111111111,\"#46039f\"],[0.2222222222222222,\"#7201a8\"],[0.3333333333333333,\"#9c179e\"],[0.4444444444444444,\"#bd3786\"],[0.5555555555555556,\"#d8576b\"],[0.6666666666666666,\"#ed7953\"],[0.7777777777777778,\"#fb9f3a\"],[0.8888888888888888,\"#fdca26\"],[1.0,\"#f0f921\"]]}],\"heatmapgl\":[{\"type\":\"heatmapgl\",\"colorbar\":{\"outlinewidth\":0,\"ticks\":\"\"},\"colorscale\":[[0.0,\"#0d0887\"],[0.1111111111111111,\"#46039f\"],[0.2222222222222222,\"#7201a8\"],[0.3333333333333333,\"#9c179e\"],[0.4444444444444444,\"#bd3786\"],[0.5555555555555556,\"#d8576b\"],[0.6666666666666666,\"#ed7953\"],[0.7777777777777778,\"#fb9f3a\"],[0.8888888888888888,\"#fdca26\"],[1.0,\"#f0f921\"]]}],\"contourcarpet\":[{\"type\":\"contourcarpet\",\"colorbar\":{\"outlinewidth\":0,\"ticks\":\"\"}}],\"contour\":[{\"type\":\"contour\",\"colorbar\":{\"outlinewidth\":0,\"ticks\":\"\"},\"colorscale\":[[0.0,\"#0d0887\"],[0.1111111111111111,\"#46039f\"],[0.2222222222222222,\"#7201a8\"],[0.3333333333333333,\"#9c179e\"],[0.4444444444444444,\"#bd3786\"],[0.5555555555555556,\"#d8576b\"],[0.6666666666666666,\"#ed7953\"],[0.7777777777777778,\"#fb9f3a\"],[0.8888888888888888,\"#fdca26\"],[1.0,\"#f0f921\"]]}],\"surface\":[{\"type\":\"surface\",\"colorbar\":{\"outlinewidth\":0,\"ticks\":\"\"},\"colorscale\":[[0.0,\"#0d0887\"],[0.1111111111111111,\"#46039f\"],[0.2222222222222222,\"#7201a8\"],[0.3333333333333333,\"#9c179e\"],[0.4444444444444444,\"#bd3786\"],[0.5555555555555556,\"#d8576b\"],[0.6666666666666666,\"#ed7953\"],[0.7777777777777778,\"#fb9f3a\"],[0.8888888888888888,\"#fdca26\"],[1.0,\"#f0f921\"]]}],\"mesh3d\":[{\"type\":\"mesh3d\",\"colorbar\":{\"outlinewidth\":0,\"ticks\":\"\"}}],\"scatter\":[{\"fillpattern\":{\"fillmode\":\"overlay\",\"size\":10,\"solidity\":0.2},\"type\":\"scatter\"}],\"parcoords\":[{\"type\":\"parcoords\",\"line\":{\"colorbar\":{\"outlinewidth\":0,\"ticks\":\"\"}}}],\"scatterpolargl\":[{\"type\":\"scatterpolargl\",\"marker\":{\"colorbar\":{\"outlinewidth\":0,\"ticks\":\"\"}}}],\"bar\":[{\"error_x\":{\"color\":\"#2a3f5f\"},\"error_y\":{\"color\":\"#2a3f5f\"},\"marker\":{\"line\":{\"color\":\"#E5ECF6\",\"width\":0.5},\"pattern\":{\"fillmode\":\"overlay\",\"size\":10,\"solidity\":0.2}},\"type\":\"bar\"}],\"scattergeo\":[{\"type\":\"scattergeo\",\"marker\":{\"colorbar\":{\"outlinewidth\":0,\"ticks\":\"\"}}}],\"scatterpolar\":[{\"type\":\"scatterpolar\",\"marker\":{\"colorbar\":{\"outlinewidth\":0,\"ticks\":\"\"}}}],\"histogram\":[{\"marker\":{\"pattern\":{\"fillmode\":\"overlay\",\"size\":10,\"solidity\":0.2}},\"type\":\"histogram\"}],\"scattergl\":[{\"type\":\"scattergl\",\"marker\":{\"colorbar\":{\"outlinewidth\":0,\"ticks\":\"\"}}}],\"scatter3d\":[{\"type\":\"scatter3d\",\"line\":{\"colorbar\":{\"outlinewidth\":0,\"ticks\":\"\"}},\"marker\":{\"colorbar\":{\"outlinewidth\":0,\"ticks\":\"\"}}}],\"scattermapbox\":[{\"type\":\"scattermapbox\",\"marker\":{\"colorbar\":{\"outlinewidth\":0,\"ticks\":\"\"}}}],\"scatterternary\":[{\"type\":\"scatterternary\",\"marker\":{\"colorbar\":{\"outlinewidth\":0,\"ticks\":\"\"}}}],\"scattercarpet\":[{\"type\":\"scattercarpet\",\"marker\":{\"colorbar\":{\"outlinewidth\":0,\"ticks\":\"\"}}}],\"carpet\":[{\"aaxis\":{\"endlinecolor\":\"#2a3f5f\",\"gridcolor\":\"white\",\"linecolor\":\"white\",\"minorgridcolor\":\"white\",\"startlinecolor\":\"#2a3f5f\"},\"baxis\":{\"endlinecolor\":\"#2a3f5f\",\"gridcolor\":\"white\",\"linecolor\":\"white\",\"minorgridcolor\":\"white\",\"startlinecolor\":\"#2a3f5f\"},\"type\":\"carpet\"}],\"table\":[{\"cells\":{\"fill\":{\"color\":\"#EBF0F8\"},\"line\":{\"color\":\"white\"}},\"header\":{\"fill\":{\"color\":\"#C8D4E3\"},\"line\":{\"color\":\"white\"}},\"type\":\"table\"}],\"barpolar\":[{\"marker\":{\"line\":{\"color\":\"#E5ECF6\",\"width\":0.5},\"pattern\":{\"fillmode\":\"overlay\",\"size\":10,\"solidity\":0.2}},\"type\":\"barpolar\"}],\"pie\":[{\"automargin\":true,\"type\":\"pie\"}]},\"layout\":{\"autotypenumbers\":\"strict\",\"colorway\":[\"#636efa\",\"#EF553B\",\"#00cc96\",\"#ab63fa\",\"#FFA15A\",\"#19d3f3\",\"#FF6692\",\"#B6E880\",\"#FF97FF\",\"#FECB52\"],\"font\":{\"color\":\"#2a3f5f\"},\"hovermode\":\"closest\",\"hoverlabel\":{\"align\":\"left\"},\"paper_bgcolor\":\"white\",\"plot_bgcolor\":\"#E5ECF6\",\"polar\":{\"bgcolor\":\"#E5ECF6\",\"angularaxis\":{\"gridcolor\":\"white\",\"linecolor\":\"white\",\"ticks\":\"\"},\"radialaxis\":{\"gridcolor\":\"white\",\"linecolor\":\"white\",\"ticks\":\"\"}},\"ternary\":{\"bgcolor\":\"#E5ECF6\",\"aaxis\":{\"gridcolor\":\"white\",\"linecolor\":\"white\",\"ticks\":\"\"},\"baxis\":{\"gridcolor\":\"white\",\"linecolor\":\"white\",\"ticks\":\"\"},\"caxis\":{\"gridcolor\":\"white\",\"linecolor\":\"white\",\"ticks\":\"\"}},\"coloraxis\":{\"colorbar\":{\"outlinewidth\":0,\"ticks\":\"\"}},\"colorscale\":{\"sequential\":[[0.0,\"#0d0887\"],[0.1111111111111111,\"#46039f\"],[0.2222222222222222,\"#7201a8\"],[0.3333333333333333,\"#9c179e\"],[0.4444444444444444,\"#bd3786\"],[0.5555555555555556,\"#d8576b\"],[0.6666666666666666,\"#ed7953\"],[0.7777777777777778,\"#fb9f3a\"],[0.8888888888888888,\"#fdca26\"],[1.0,\"#f0f921\"]],\"sequentialminus\":[[0.0,\"#0d0887\"],[0.1111111111111111,\"#46039f\"],[0.2222222222222222,\"#7201a8\"],[0.3333333333333333,\"#9c179e\"],[0.4444444444444444,\"#bd3786\"],[0.5555555555555556,\"#d8576b\"],[0.6666666666666666,\"#ed7953\"],[0.7777777777777778,\"#fb9f3a\"],[0.8888888888888888,\"#fdca26\"],[1.0,\"#f0f921\"]],\"diverging\":[[0,\"#8e0152\"],[0.1,\"#c51b7d\"],[0.2,\"#de77ae\"],[0.3,\"#f1b6da\"],[0.4,\"#fde0ef\"],[0.5,\"#f7f7f7\"],[0.6,\"#e6f5d0\"],[0.7,\"#b8e186\"],[0.8,\"#7fbc41\"],[0.9,\"#4d9221\"],[1,\"#276419\"]]},\"xaxis\":{\"gridcolor\":\"white\",\"linecolor\":\"white\",\"ticks\":\"\",\"title\":{\"standoff\":15},\"zerolinecolor\":\"white\",\"automargin\":true,\"zerolinewidth\":2},\"yaxis\":{\"gridcolor\":\"white\",\"linecolor\":\"white\",\"ticks\":\"\",\"title\":{\"standoff\":15},\"zerolinecolor\":\"white\",\"automargin\":true,\"zerolinewidth\":2},\"scene\":{\"xaxis\":{\"backgroundcolor\":\"#E5ECF6\",\"gridcolor\":\"white\",\"linecolor\":\"white\",\"showbackground\":true,\"ticks\":\"\",\"zerolinecolor\":\"white\",\"gridwidth\":2},\"yaxis\":{\"backgroundcolor\":\"#E5ECF6\",\"gridcolor\":\"white\",\"linecolor\":\"white\",\"showbackground\":true,\"ticks\":\"\",\"zerolinecolor\":\"white\",\"gridwidth\":2},\"zaxis\":{\"backgroundcolor\":\"#E5ECF6\",\"gridcolor\":\"white\",\"linecolor\":\"white\",\"showbackground\":true,\"ticks\":\"\",\"zerolinecolor\":\"white\",\"gridwidth\":2}},\"shapedefaults\":{\"line\":{\"color\":\"#2a3f5f\"}},\"annotationdefaults\":{\"arrowcolor\":\"#2a3f5f\",\"arrowhead\":0,\"arrowwidth\":1},\"geo\":{\"bgcolor\":\"white\",\"landcolor\":\"#E5ECF6\",\"subunitcolor\":\"white\",\"showland\":true,\"showlakes\":true,\"lakecolor\":\"white\"},\"title\":{\"x\":0.05},\"mapbox\":{\"style\":\"light\"}}},\"xaxis\":{\"anchor\":\"y\",\"domain\":[0.0,1.0],\"scaleanchor\":\"y\",\"constrain\":\"domain\"},\"yaxis\":{\"anchor\":\"x\",\"domain\":[0.0,1.0],\"autorange\":\"reversed\",\"constrain\":\"domain\"},\"coloraxis\":{\"colorscale\":[[0.0,\"rgb(5,48,97)\"],[0.1,\"rgb(33,102,172)\"],[0.2,\"rgb(67,147,195)\"],[0.3,\"rgb(146,197,222)\"],[0.4,\"rgb(209,229,240)\"],[0.5,\"rgb(247,247,247)\"],[0.6,\"rgb(253,219,199)\"],[0.7,\"rgb(244,165,130)\"],[0.8,\"rgb(214,96,77)\"],[0.9,\"rgb(178,24,43)\"],[1.0,\"rgb(103,0,31)\"]],\"cmin\":-1.0,\"cmax\":1.0},\"margin\":{\"t\":60}},                        {\"responsive\": true}                    ).then(function(){\n",
       "                            \n",
       "var gd = document.getElementById('9d6fe1f7-e289-40c1-9c1b-4cf1bba79331');\n",
       "var x = new MutationObserver(function (mutations, observer) {{\n",
       "        var display = window.getComputedStyle(gd).display;\n",
       "        if (!display || display === 'none') {{\n",
       "            console.log([gd, 'removed!']);\n",
       "            Plotly.purge(gd);\n",
       "            observer.disconnect();\n",
       "        }}\n",
       "}});\n",
       "\n",
       "// Listen for the removal of the full notebook cells\n",
       "var notebookContainer = gd.closest('#notebook-container');\n",
       "if (notebookContainer) {{\n",
       "    x.observe(notebookContainer, {childList: true});\n",
       "}}\n",
       "\n",
       "// Listen for the clearing of the current output cell\n",
       "var outputEl = gd.closest('.output');\n",
       "if (outputEl) {{\n",
       "    x.observe(outputEl, {childList: true});\n",
       "}}\n",
       "\n",
       "                        })                };                });            </script>        </div>"
      ]
     },
     "metadata": {},
     "output_type": "display_data"
    },
    {
     "data": {
      "application/vnd.plotly.v1+json": {
       "config": {
        "plotlyServerURL": "https://plot.ly"
       },
       "data": [
        {
         "coloraxis": "coloraxis",
         "hovertemplate": "x: %{x}<br>y: %{y}<br>color: %{z}<extra></extra>",
         "name": "0",
         "type": "heatmap",
         "xaxis": "x",
         "yaxis": "y",
         "z": [
          [
           0.8888888888888888,
           0.8888888888888888,
           0.8888888888888888,
           0.1111111111111111,
           0.1111111111111111,
           0.1111111111111111,
           0.1111111111111111,
           0.1111111111111111,
           0.1111111111111111,
           0.1111111111111111,
           0.1111111111111111,
           0.1111111111111111,
           0.1111111111111111,
           0.8888888888888888,
           0.8888888888888888,
           0.8888888888888888,
           0.8888888888888888,
           0.8888888888888888,
           0.8888888888888888,
           0.8888888888888888
          ],
          [
           0.8888888888888888,
           0.8888888888888888,
           0.8888888888888888,
           0.1111111111111111,
           0.1111111111111111,
           0.1111111111111111,
           0.1111111111111111,
           0.1111111111111111,
           0.1111111111111111,
           0.1111111111111111,
           0.1111111111111111,
           0.1111111111111111,
           0.1111111111111111,
           0.8888888888888888,
           0.8888888888888888,
           0.8888888888888888,
           0.8888888888888888,
           0.8888888888888888,
           0.8888888888888888,
           0.8888888888888888
          ],
          [
           0.8888888888888888,
           0.8888888888888888,
           0.8888888888888888,
           0.1111111111111111,
           0.1111111111111111,
           0.1111111111111111,
           0.1111111111111111,
           0.1111111111111111,
           0.1111111111111111,
           0.1111111111111111,
           0.1111111111111111,
           0.1111111111111111,
           0.1111111111111111,
           0.8888888888888888,
           0.8888888888888888,
           0.8888888888888888,
           0.8888888888888888,
           0.8888888888888888,
           0.8888888888888888,
           0.8888888888888888
          ],
          [
           0.1,
           0.1,
           0.1,
           0.9,
           0.9,
           0.9,
           0.9,
           0.9,
           0.9,
           0.9,
           0.9,
           0.9,
           0.9,
           0.1,
           0.1,
           0.1,
           0.1,
           0.1,
           0.1,
           0.1
          ],
          [
           0.1,
           0.1,
           0.1,
           0.9,
           0.9,
           0.9,
           0.9,
           0.9,
           0.9,
           0.9,
           0.9,
           0.9,
           0.9,
           0.1,
           0.1,
           0.1,
           0.1,
           0.1,
           0.1,
           0.1
          ],
          [
           0.1,
           0.1,
           0.1,
           0.9,
           0.9,
           0.9,
           0.9,
           0.9,
           0.9,
           0.9,
           0.9,
           0.9,
           0.9,
           0.1,
           0.1,
           0.1,
           0.1,
           0.1,
           0.1,
           0.1
          ],
          [
           0.1,
           0.1,
           0.1,
           0.9,
           0.9,
           0.9,
           0.9,
           0.9,
           0.9,
           0.9,
           0.9,
           0.9,
           0.9,
           0.1,
           0.1,
           0.1,
           0.1,
           0.1,
           0.1,
           0.1
          ],
          [
           0.1,
           0.1,
           0.1,
           0.9,
           0.9,
           0.9,
           0.9,
           0.9,
           0.9,
           0.9,
           0.9,
           0.9,
           0.9,
           0.1,
           0.1,
           0.1,
           0.1,
           0.1,
           0.1,
           0.1
          ],
          [
           0.1,
           0.1,
           0.1,
           0.9,
           0.9,
           0.9,
           0.9,
           0.9,
           0.9,
           0.9,
           0.9,
           0.9,
           0.9,
           0.1,
           0.1,
           0.1,
           0.1,
           0.1,
           0.1,
           0.1
          ],
          [
           0.1,
           0.1,
           0.1,
           0.9,
           0.9,
           0.9,
           0.9,
           0.9,
           0.9,
           0.9,
           0.9,
           0.9,
           0.9,
           0.1,
           0.1,
           0.1,
           0.1,
           0.1,
           0.1,
           0.1
          ],
          [
           0.1,
           0.1,
           0.1,
           0.9,
           0.9,
           0.9,
           0.9,
           0.9,
           0.9,
           0.9,
           0.9,
           0.9,
           0.9,
           0.1,
           0.1,
           0.1,
           0.1,
           0.1,
           0.1,
           0.1
          ],
          [
           0.1,
           0.1,
           0.1,
           0.9,
           0.9,
           0.9,
           0.9,
           0.9,
           0.9,
           0.9,
           0.9,
           0.9,
           0.9,
           0.1,
           0.1,
           0.1,
           0.1,
           0.1,
           0.1,
           0.1
          ],
          [
           0.1,
           0.1,
           0.1,
           0.9,
           0.9,
           0.9,
           0.9,
           0.9,
           0.9,
           0.9,
           0.9,
           0.9,
           0.9,
           0.1,
           0.1,
           0.1,
           0.1,
           0.1,
           0.1,
           0.1
          ],
          [
           0.8888888888888888,
           0.8888888888888888,
           0.8888888888888888,
           0.1111111111111111,
           0.1111111111111111,
           0.1111111111111111,
           0.1111111111111111,
           0.1111111111111111,
           0.1111111111111111,
           0.1111111111111111,
           0.1111111111111111,
           0.1111111111111111,
           0.1111111111111111,
           0.8888888888888888,
           0.8888888888888888,
           0.8888888888888888,
           0.8888888888888888,
           0.8888888888888888,
           0.8888888888888888,
           0.8888888888888888
          ],
          [
           0.8888888888888888,
           0.8888888888888888,
           0.8888888888888888,
           0.1111111111111111,
           0.1111111111111111,
           0.1111111111111111,
           0.1111111111111111,
           0.1111111111111111,
           0.1111111111111111,
           0.1111111111111111,
           0.1111111111111111,
           0.1111111111111111,
           0.1111111111111111,
           0.8888888888888888,
           0.8888888888888888,
           0.8888888888888888,
           0.8888888888888888,
           0.8888888888888888,
           0.8888888888888888,
           0.8888888888888888
          ],
          [
           0.8888888888888888,
           0.8888888888888888,
           0.8888888888888888,
           0.1111111111111111,
           0.1111111111111111,
           0.1111111111111111,
           0.1111111111111111,
           0.1111111111111111,
           0.1111111111111111,
           0.1111111111111111,
           0.1111111111111111,
           0.1111111111111111,
           0.1111111111111111,
           0.8888888888888888,
           0.8888888888888888,
           0.8888888888888888,
           0.8888888888888888,
           0.8888888888888888,
           0.8888888888888888,
           0.8888888888888888
          ],
          [
           0.8888888888888888,
           0.8888888888888888,
           0.8888888888888888,
           0.1111111111111111,
           0.1111111111111111,
           0.1111111111111111,
           0.1111111111111111,
           0.1111111111111111,
           0.1111111111111111,
           0.1111111111111111,
           0.1111111111111111,
           0.1111111111111111,
           0.1111111111111111,
           0.8888888888888888,
           0.8888888888888888,
           0.8888888888888888,
           0.8888888888888888,
           0.8888888888888888,
           0.8888888888888888,
           0.8888888888888888
          ],
          [
           0.8888888888888888,
           0.8888888888888888,
           0.8888888888888888,
           0.1111111111111111,
           0.1111111111111111,
           0.1111111111111111,
           0.1111111111111111,
           0.1111111111111111,
           0.1111111111111111,
           0.1111111111111111,
           0.1111111111111111,
           0.1111111111111111,
           0.1111111111111111,
           0.8888888888888888,
           0.8888888888888888,
           0.8888888888888888,
           0.8888888888888888,
           0.8888888888888888,
           0.8888888888888888,
           0.8888888888888888
          ],
          [
           0.8888888888888888,
           0.8888888888888888,
           0.8888888888888888,
           0.1111111111111111,
           0.1111111111111111,
           0.1111111111111111,
           0.1111111111111111,
           0.1111111111111111,
           0.1111111111111111,
           0.1111111111111111,
           0.1111111111111111,
           0.1111111111111111,
           0.1111111111111111,
           0.8888888888888888,
           0.8888888888888888,
           0.8888888888888888,
           0.8888888888888888,
           0.8888888888888888,
           0.8888888888888888,
           0.8888888888888888
          ],
          [
           0.8888888888888888,
           0.8888888888888888,
           0.8888888888888888,
           0.1111111111111111,
           0.1111111111111111,
           0.1111111111111111,
           0.1111111111111111,
           0.1111111111111111,
           0.1111111111111111,
           0.1111111111111111,
           0.1111111111111111,
           0.1111111111111111,
           0.1111111111111111,
           0.8888888888888888,
           0.8888888888888888,
           0.8888888888888888,
           0.8888888888888888,
           0.8888888888888888,
           0.8888888888888888,
           0.8888888888888888
          ]
         ]
        }
       ],
       "layout": {
        "coloraxis": {
         "cmax": 1,
         "cmin": -1,
         "colorscale": [
          [
           0,
           "rgb(5,48,97)"
          ],
          [
           0.1,
           "rgb(33,102,172)"
          ],
          [
           0.2,
           "rgb(67,147,195)"
          ],
          [
           0.3,
           "rgb(146,197,222)"
          ],
          [
           0.4,
           "rgb(209,229,240)"
          ],
          [
           0.5,
           "rgb(247,247,247)"
          ],
          [
           0.6,
           "rgb(253,219,199)"
          ],
          [
           0.7,
           "rgb(244,165,130)"
          ],
          [
           0.8,
           "rgb(214,96,77)"
          ],
          [
           0.9,
           "rgb(178,24,43)"
          ],
          [
           1,
           "rgb(103,0,31)"
          ]
         ]
        },
        "margin": {
         "t": 60
        },
        "template": {
         "data": {
          "bar": [
           {
            "error_x": {
             "color": "#2a3f5f"
            },
            "error_y": {
             "color": "#2a3f5f"
            },
            "marker": {
             "line": {
              "color": "#E5ECF6",
              "width": 0.5
             },
             "pattern": {
              "fillmode": "overlay",
              "size": 10,
              "solidity": 0.2
             }
            },
            "type": "bar"
           }
          ],
          "barpolar": [
           {
            "marker": {
             "line": {
              "color": "#E5ECF6",
              "width": 0.5
             },
             "pattern": {
              "fillmode": "overlay",
              "size": 10,
              "solidity": 0.2
             }
            },
            "type": "barpolar"
           }
          ],
          "carpet": [
           {
            "aaxis": {
             "endlinecolor": "#2a3f5f",
             "gridcolor": "white",
             "linecolor": "white",
             "minorgridcolor": "white",
             "startlinecolor": "#2a3f5f"
            },
            "baxis": {
             "endlinecolor": "#2a3f5f",
             "gridcolor": "white",
             "linecolor": "white",
             "minorgridcolor": "white",
             "startlinecolor": "#2a3f5f"
            },
            "type": "carpet"
           }
          ],
          "choropleth": [
           {
            "colorbar": {
             "outlinewidth": 0,
             "ticks": ""
            },
            "type": "choropleth"
           }
          ],
          "contour": [
           {
            "colorbar": {
             "outlinewidth": 0,
             "ticks": ""
            },
            "colorscale": [
             [
              0,
              "#0d0887"
             ],
             [
              0.1111111111111111,
              "#46039f"
             ],
             [
              0.2222222222222222,
              "#7201a8"
             ],
             [
              0.3333333333333333,
              "#9c179e"
             ],
             [
              0.4444444444444444,
              "#bd3786"
             ],
             [
              0.5555555555555556,
              "#d8576b"
             ],
             [
              0.6666666666666666,
              "#ed7953"
             ],
             [
              0.7777777777777778,
              "#fb9f3a"
             ],
             [
              0.8888888888888888,
              "#fdca26"
             ],
             [
              1,
              "#f0f921"
             ]
            ],
            "type": "contour"
           }
          ],
          "contourcarpet": [
           {
            "colorbar": {
             "outlinewidth": 0,
             "ticks": ""
            },
            "type": "contourcarpet"
           }
          ],
          "heatmap": [
           {
            "colorbar": {
             "outlinewidth": 0,
             "ticks": ""
            },
            "colorscale": [
             [
              0,
              "#0d0887"
             ],
             [
              0.1111111111111111,
              "#46039f"
             ],
             [
              0.2222222222222222,
              "#7201a8"
             ],
             [
              0.3333333333333333,
              "#9c179e"
             ],
             [
              0.4444444444444444,
              "#bd3786"
             ],
             [
              0.5555555555555556,
              "#d8576b"
             ],
             [
              0.6666666666666666,
              "#ed7953"
             ],
             [
              0.7777777777777778,
              "#fb9f3a"
             ],
             [
              0.8888888888888888,
              "#fdca26"
             ],
             [
              1,
              "#f0f921"
             ]
            ],
            "type": "heatmap"
           }
          ],
          "heatmapgl": [
           {
            "colorbar": {
             "outlinewidth": 0,
             "ticks": ""
            },
            "colorscale": [
             [
              0,
              "#0d0887"
             ],
             [
              0.1111111111111111,
              "#46039f"
             ],
             [
              0.2222222222222222,
              "#7201a8"
             ],
             [
              0.3333333333333333,
              "#9c179e"
             ],
             [
              0.4444444444444444,
              "#bd3786"
             ],
             [
              0.5555555555555556,
              "#d8576b"
             ],
             [
              0.6666666666666666,
              "#ed7953"
             ],
             [
              0.7777777777777778,
              "#fb9f3a"
             ],
             [
              0.8888888888888888,
              "#fdca26"
             ],
             [
              1,
              "#f0f921"
             ]
            ],
            "type": "heatmapgl"
           }
          ],
          "histogram": [
           {
            "marker": {
             "pattern": {
              "fillmode": "overlay",
              "size": 10,
              "solidity": 0.2
             }
            },
            "type": "histogram"
           }
          ],
          "histogram2d": [
           {
            "colorbar": {
             "outlinewidth": 0,
             "ticks": ""
            },
            "colorscale": [
             [
              0,
              "#0d0887"
             ],
             [
              0.1111111111111111,
              "#46039f"
             ],
             [
              0.2222222222222222,
              "#7201a8"
             ],
             [
              0.3333333333333333,
              "#9c179e"
             ],
             [
              0.4444444444444444,
              "#bd3786"
             ],
             [
              0.5555555555555556,
              "#d8576b"
             ],
             [
              0.6666666666666666,
              "#ed7953"
             ],
             [
              0.7777777777777778,
              "#fb9f3a"
             ],
             [
              0.8888888888888888,
              "#fdca26"
             ],
             [
              1,
              "#f0f921"
             ]
            ],
            "type": "histogram2d"
           }
          ],
          "histogram2dcontour": [
           {
            "colorbar": {
             "outlinewidth": 0,
             "ticks": ""
            },
            "colorscale": [
             [
              0,
              "#0d0887"
             ],
             [
              0.1111111111111111,
              "#46039f"
             ],
             [
              0.2222222222222222,
              "#7201a8"
             ],
             [
              0.3333333333333333,
              "#9c179e"
             ],
             [
              0.4444444444444444,
              "#bd3786"
             ],
             [
              0.5555555555555556,
              "#d8576b"
             ],
             [
              0.6666666666666666,
              "#ed7953"
             ],
             [
              0.7777777777777778,
              "#fb9f3a"
             ],
             [
              0.8888888888888888,
              "#fdca26"
             ],
             [
              1,
              "#f0f921"
             ]
            ],
            "type": "histogram2dcontour"
           }
          ],
          "mesh3d": [
           {
            "colorbar": {
             "outlinewidth": 0,
             "ticks": ""
            },
            "type": "mesh3d"
           }
          ],
          "parcoords": [
           {
            "line": {
             "colorbar": {
              "outlinewidth": 0,
              "ticks": ""
             }
            },
            "type": "parcoords"
           }
          ],
          "pie": [
           {
            "automargin": true,
            "type": "pie"
           }
          ],
          "scatter": [
           {
            "fillpattern": {
             "fillmode": "overlay",
             "size": 10,
             "solidity": 0.2
            },
            "type": "scatter"
           }
          ],
          "scatter3d": [
           {
            "line": {
             "colorbar": {
              "outlinewidth": 0,
              "ticks": ""
             }
            },
            "marker": {
             "colorbar": {
              "outlinewidth": 0,
              "ticks": ""
             }
            },
            "type": "scatter3d"
           }
          ],
          "scattercarpet": [
           {
            "marker": {
             "colorbar": {
              "outlinewidth": 0,
              "ticks": ""
             }
            },
            "type": "scattercarpet"
           }
          ],
          "scattergeo": [
           {
            "marker": {
             "colorbar": {
              "outlinewidth": 0,
              "ticks": ""
             }
            },
            "type": "scattergeo"
           }
          ],
          "scattergl": [
           {
            "marker": {
             "colorbar": {
              "outlinewidth": 0,
              "ticks": ""
             }
            },
            "type": "scattergl"
           }
          ],
          "scattermapbox": [
           {
            "marker": {
             "colorbar": {
              "outlinewidth": 0,
              "ticks": ""
             }
            },
            "type": "scattermapbox"
           }
          ],
          "scatterpolar": [
           {
            "marker": {
             "colorbar": {
              "outlinewidth": 0,
              "ticks": ""
             }
            },
            "type": "scatterpolar"
           }
          ],
          "scatterpolargl": [
           {
            "marker": {
             "colorbar": {
              "outlinewidth": 0,
              "ticks": ""
             }
            },
            "type": "scatterpolargl"
           }
          ],
          "scatterternary": [
           {
            "marker": {
             "colorbar": {
              "outlinewidth": 0,
              "ticks": ""
             }
            },
            "type": "scatterternary"
           }
          ],
          "surface": [
           {
            "colorbar": {
             "outlinewidth": 0,
             "ticks": ""
            },
            "colorscale": [
             [
              0,
              "#0d0887"
             ],
             [
              0.1111111111111111,
              "#46039f"
             ],
             [
              0.2222222222222222,
              "#7201a8"
             ],
             [
              0.3333333333333333,
              "#9c179e"
             ],
             [
              0.4444444444444444,
              "#bd3786"
             ],
             [
              0.5555555555555556,
              "#d8576b"
             ],
             [
              0.6666666666666666,
              "#ed7953"
             ],
             [
              0.7777777777777778,
              "#fb9f3a"
             ],
             [
              0.8888888888888888,
              "#fdca26"
             ],
             [
              1,
              "#f0f921"
             ]
            ],
            "type": "surface"
           }
          ],
          "table": [
           {
            "cells": {
             "fill": {
              "color": "#EBF0F8"
             },
             "line": {
              "color": "white"
             }
            },
            "header": {
             "fill": {
              "color": "#C8D4E3"
             },
             "line": {
              "color": "white"
             }
            },
            "type": "table"
           }
          ]
         },
         "layout": {
          "annotationdefaults": {
           "arrowcolor": "#2a3f5f",
           "arrowhead": 0,
           "arrowwidth": 1
          },
          "autotypenumbers": "strict",
          "coloraxis": {
           "colorbar": {
            "outlinewidth": 0,
            "ticks": ""
           }
          },
          "colorscale": {
           "diverging": [
            [
             0,
             "#8e0152"
            ],
            [
             0.1,
             "#c51b7d"
            ],
            [
             0.2,
             "#de77ae"
            ],
            [
             0.3,
             "#f1b6da"
            ],
            [
             0.4,
             "#fde0ef"
            ],
            [
             0.5,
             "#f7f7f7"
            ],
            [
             0.6,
             "#e6f5d0"
            ],
            [
             0.7,
             "#b8e186"
            ],
            [
             0.8,
             "#7fbc41"
            ],
            [
             0.9,
             "#4d9221"
            ],
            [
             1,
             "#276419"
            ]
           ],
           "sequential": [
            [
             0,
             "#0d0887"
            ],
            [
             0.1111111111111111,
             "#46039f"
            ],
            [
             0.2222222222222222,
             "#7201a8"
            ],
            [
             0.3333333333333333,
             "#9c179e"
            ],
            [
             0.4444444444444444,
             "#bd3786"
            ],
            [
             0.5555555555555556,
             "#d8576b"
            ],
            [
             0.6666666666666666,
             "#ed7953"
            ],
            [
             0.7777777777777778,
             "#fb9f3a"
            ],
            [
             0.8888888888888888,
             "#fdca26"
            ],
            [
             1,
             "#f0f921"
            ]
           ],
           "sequentialminus": [
            [
             0,
             "#0d0887"
            ],
            [
             0.1111111111111111,
             "#46039f"
            ],
            [
             0.2222222222222222,
             "#7201a8"
            ],
            [
             0.3333333333333333,
             "#9c179e"
            ],
            [
             0.4444444444444444,
             "#bd3786"
            ],
            [
             0.5555555555555556,
             "#d8576b"
            ],
            [
             0.6666666666666666,
             "#ed7953"
            ],
            [
             0.7777777777777778,
             "#fb9f3a"
            ],
            [
             0.8888888888888888,
             "#fdca26"
            ],
            [
             1,
             "#f0f921"
            ]
           ]
          },
          "colorway": [
           "#636efa",
           "#EF553B",
           "#00cc96",
           "#ab63fa",
           "#FFA15A",
           "#19d3f3",
           "#FF6692",
           "#B6E880",
           "#FF97FF",
           "#FECB52"
          ],
          "font": {
           "color": "#2a3f5f"
          },
          "geo": {
           "bgcolor": "white",
           "lakecolor": "white",
           "landcolor": "#E5ECF6",
           "showlakes": true,
           "showland": true,
           "subunitcolor": "white"
          },
          "hoverlabel": {
           "align": "left"
          },
          "hovermode": "closest",
          "mapbox": {
           "style": "light"
          },
          "paper_bgcolor": "white",
          "plot_bgcolor": "#E5ECF6",
          "polar": {
           "angularaxis": {
            "gridcolor": "white",
            "linecolor": "white",
            "ticks": ""
           },
           "bgcolor": "#E5ECF6",
           "radialaxis": {
            "gridcolor": "white",
            "linecolor": "white",
            "ticks": ""
           }
          },
          "scene": {
           "xaxis": {
            "backgroundcolor": "#E5ECF6",
            "gridcolor": "white",
            "gridwidth": 2,
            "linecolor": "white",
            "showbackground": true,
            "ticks": "",
            "zerolinecolor": "white"
           },
           "yaxis": {
            "backgroundcolor": "#E5ECF6",
            "gridcolor": "white",
            "gridwidth": 2,
            "linecolor": "white",
            "showbackground": true,
            "ticks": "",
            "zerolinecolor": "white"
           },
           "zaxis": {
            "backgroundcolor": "#E5ECF6",
            "gridcolor": "white",
            "gridwidth": 2,
            "linecolor": "white",
            "showbackground": true,
            "ticks": "",
            "zerolinecolor": "white"
           }
          },
          "shapedefaults": {
           "line": {
            "color": "#2a3f5f"
           }
          },
          "ternary": {
           "aaxis": {
            "gridcolor": "white",
            "linecolor": "white",
            "ticks": ""
           },
           "baxis": {
            "gridcolor": "white",
            "linecolor": "white",
            "ticks": ""
           },
           "bgcolor": "#E5ECF6",
           "caxis": {
            "gridcolor": "white",
            "linecolor": "white",
            "ticks": ""
           }
          },
          "title": {
           "x": 0.05
          },
          "xaxis": {
           "automargin": true,
           "gridcolor": "white",
           "linecolor": "white",
           "ticks": "",
           "title": {
            "standoff": 15
           },
           "zerolinecolor": "white",
           "zerolinewidth": 2
          },
          "yaxis": {
           "automargin": true,
           "gridcolor": "white",
           "linecolor": "white",
           "ticks": "",
           "title": {
            "standoff": 15
           },
           "zerolinecolor": "white",
           "zerolinewidth": 2
          }
         }
        },
        "xaxis": {
         "anchor": "y",
         "constrain": "domain",
         "domain": [
          0,
          1
         ],
         "scaleanchor": "y"
        },
        "yaxis": {
         "anchor": "x",
         "autorange": "reversed",
         "constrain": "domain",
         "domain": [
          0,
          1
         ]
        }
       }
      },
      "text/html": [
       "<div>                            <div id=\"63e4ec55-90f5-4835-90e3-530996189554\" class=\"plotly-graph-div\" style=\"height:525px; width:100%;\"></div>            <script type=\"text/javascript\">                require([\"plotly\"], function(Plotly) {                    window.PLOTLYENV=window.PLOTLYENV || {};                                    if (document.getElementById(\"63e4ec55-90f5-4835-90e3-530996189554\")) {                    Plotly.newPlot(                        \"63e4ec55-90f5-4835-90e3-530996189554\",                        [{\"coloraxis\":\"coloraxis\",\"name\":\"0\",\"z\":[[0.8888888888888888,0.8888888888888888,0.8888888888888888,0.1111111111111111,0.1111111111111111,0.1111111111111111,0.1111111111111111,0.1111111111111111,0.1111111111111111,0.1111111111111111,0.1111111111111111,0.1111111111111111,0.1111111111111111,0.8888888888888888,0.8888888888888888,0.8888888888888888,0.8888888888888888,0.8888888888888888,0.8888888888888888,0.8888888888888888],[0.8888888888888888,0.8888888888888888,0.8888888888888888,0.1111111111111111,0.1111111111111111,0.1111111111111111,0.1111111111111111,0.1111111111111111,0.1111111111111111,0.1111111111111111,0.1111111111111111,0.1111111111111111,0.1111111111111111,0.8888888888888888,0.8888888888888888,0.8888888888888888,0.8888888888888888,0.8888888888888888,0.8888888888888888,0.8888888888888888],[0.8888888888888888,0.8888888888888888,0.8888888888888888,0.1111111111111111,0.1111111111111111,0.1111111111111111,0.1111111111111111,0.1111111111111111,0.1111111111111111,0.1111111111111111,0.1111111111111111,0.1111111111111111,0.1111111111111111,0.8888888888888888,0.8888888888888888,0.8888888888888888,0.8888888888888888,0.8888888888888888,0.8888888888888888,0.8888888888888888],[0.1,0.1,0.1,0.9,0.9,0.9,0.9,0.9,0.9,0.9,0.9,0.9,0.9,0.1,0.1,0.1,0.1,0.1,0.1,0.1],[0.1,0.1,0.1,0.9,0.9,0.9,0.9,0.9,0.9,0.9,0.9,0.9,0.9,0.1,0.1,0.1,0.1,0.1,0.1,0.1],[0.1,0.1,0.1,0.9,0.9,0.9,0.9,0.9,0.9,0.9,0.9,0.9,0.9,0.1,0.1,0.1,0.1,0.1,0.1,0.1],[0.1,0.1,0.1,0.9,0.9,0.9,0.9,0.9,0.9,0.9,0.9,0.9,0.9,0.1,0.1,0.1,0.1,0.1,0.1,0.1],[0.1,0.1,0.1,0.9,0.9,0.9,0.9,0.9,0.9,0.9,0.9,0.9,0.9,0.1,0.1,0.1,0.1,0.1,0.1,0.1],[0.1,0.1,0.1,0.9,0.9,0.9,0.9,0.9,0.9,0.9,0.9,0.9,0.9,0.1,0.1,0.1,0.1,0.1,0.1,0.1],[0.1,0.1,0.1,0.9,0.9,0.9,0.9,0.9,0.9,0.9,0.9,0.9,0.9,0.1,0.1,0.1,0.1,0.1,0.1,0.1],[0.1,0.1,0.1,0.9,0.9,0.9,0.9,0.9,0.9,0.9,0.9,0.9,0.9,0.1,0.1,0.1,0.1,0.1,0.1,0.1],[0.1,0.1,0.1,0.9,0.9,0.9,0.9,0.9,0.9,0.9,0.9,0.9,0.9,0.1,0.1,0.1,0.1,0.1,0.1,0.1],[0.1,0.1,0.1,0.9,0.9,0.9,0.9,0.9,0.9,0.9,0.9,0.9,0.9,0.1,0.1,0.1,0.1,0.1,0.1,0.1],[0.8888888888888888,0.8888888888888888,0.8888888888888888,0.1111111111111111,0.1111111111111111,0.1111111111111111,0.1111111111111111,0.1111111111111111,0.1111111111111111,0.1111111111111111,0.1111111111111111,0.1111111111111111,0.1111111111111111,0.8888888888888888,0.8888888888888888,0.8888888888888888,0.8888888888888888,0.8888888888888888,0.8888888888888888,0.8888888888888888],[0.8888888888888888,0.8888888888888888,0.8888888888888888,0.1111111111111111,0.1111111111111111,0.1111111111111111,0.1111111111111111,0.1111111111111111,0.1111111111111111,0.1111111111111111,0.1111111111111111,0.1111111111111111,0.1111111111111111,0.8888888888888888,0.8888888888888888,0.8888888888888888,0.8888888888888888,0.8888888888888888,0.8888888888888888,0.8888888888888888],[0.8888888888888888,0.8888888888888888,0.8888888888888888,0.1111111111111111,0.1111111111111111,0.1111111111111111,0.1111111111111111,0.1111111111111111,0.1111111111111111,0.1111111111111111,0.1111111111111111,0.1111111111111111,0.1111111111111111,0.8888888888888888,0.8888888888888888,0.8888888888888888,0.8888888888888888,0.8888888888888888,0.8888888888888888,0.8888888888888888],[0.8888888888888888,0.8888888888888888,0.8888888888888888,0.1111111111111111,0.1111111111111111,0.1111111111111111,0.1111111111111111,0.1111111111111111,0.1111111111111111,0.1111111111111111,0.1111111111111111,0.1111111111111111,0.1111111111111111,0.8888888888888888,0.8888888888888888,0.8888888888888888,0.8888888888888888,0.8888888888888888,0.8888888888888888,0.8888888888888888],[0.8888888888888888,0.8888888888888888,0.8888888888888888,0.1111111111111111,0.1111111111111111,0.1111111111111111,0.1111111111111111,0.1111111111111111,0.1111111111111111,0.1111111111111111,0.1111111111111111,0.1111111111111111,0.1111111111111111,0.8888888888888888,0.8888888888888888,0.8888888888888888,0.8888888888888888,0.8888888888888888,0.8888888888888888,0.8888888888888888],[0.8888888888888888,0.8888888888888888,0.8888888888888888,0.1111111111111111,0.1111111111111111,0.1111111111111111,0.1111111111111111,0.1111111111111111,0.1111111111111111,0.1111111111111111,0.1111111111111111,0.1111111111111111,0.1111111111111111,0.8888888888888888,0.8888888888888888,0.8888888888888888,0.8888888888888888,0.8888888888888888,0.8888888888888888,0.8888888888888888],[0.8888888888888888,0.8888888888888888,0.8888888888888888,0.1111111111111111,0.1111111111111111,0.1111111111111111,0.1111111111111111,0.1111111111111111,0.1111111111111111,0.1111111111111111,0.1111111111111111,0.1111111111111111,0.1111111111111111,0.8888888888888888,0.8888888888888888,0.8888888888888888,0.8888888888888888,0.8888888888888888,0.8888888888888888,0.8888888888888888]],\"type\":\"heatmap\",\"xaxis\":\"x\",\"yaxis\":\"y\",\"hovertemplate\":\"x: %{x}<br>y: %{y}<br>color: %{z}<extra></extra>\"}],                        {\"template\":{\"data\":{\"histogram2dcontour\":[{\"type\":\"histogram2dcontour\",\"colorbar\":{\"outlinewidth\":0,\"ticks\":\"\"},\"colorscale\":[[0.0,\"#0d0887\"],[0.1111111111111111,\"#46039f\"],[0.2222222222222222,\"#7201a8\"],[0.3333333333333333,\"#9c179e\"],[0.4444444444444444,\"#bd3786\"],[0.5555555555555556,\"#d8576b\"],[0.6666666666666666,\"#ed7953\"],[0.7777777777777778,\"#fb9f3a\"],[0.8888888888888888,\"#fdca26\"],[1.0,\"#f0f921\"]]}],\"choropleth\":[{\"type\":\"choropleth\",\"colorbar\":{\"outlinewidth\":0,\"ticks\":\"\"}}],\"histogram2d\":[{\"type\":\"histogram2d\",\"colorbar\":{\"outlinewidth\":0,\"ticks\":\"\"},\"colorscale\":[[0.0,\"#0d0887\"],[0.1111111111111111,\"#46039f\"],[0.2222222222222222,\"#7201a8\"],[0.3333333333333333,\"#9c179e\"],[0.4444444444444444,\"#bd3786\"],[0.5555555555555556,\"#d8576b\"],[0.6666666666666666,\"#ed7953\"],[0.7777777777777778,\"#fb9f3a\"],[0.8888888888888888,\"#fdca26\"],[1.0,\"#f0f921\"]]}],\"heatmap\":[{\"type\":\"heatmap\",\"colorbar\":{\"outlinewidth\":0,\"ticks\":\"\"},\"colorscale\":[[0.0,\"#0d0887\"],[0.1111111111111111,\"#46039f\"],[0.2222222222222222,\"#7201a8\"],[0.3333333333333333,\"#9c179e\"],[0.4444444444444444,\"#bd3786\"],[0.5555555555555556,\"#d8576b\"],[0.6666666666666666,\"#ed7953\"],[0.7777777777777778,\"#fb9f3a\"],[0.8888888888888888,\"#fdca26\"],[1.0,\"#f0f921\"]]}],\"heatmapgl\":[{\"type\":\"heatmapgl\",\"colorbar\":{\"outlinewidth\":0,\"ticks\":\"\"},\"colorscale\":[[0.0,\"#0d0887\"],[0.1111111111111111,\"#46039f\"],[0.2222222222222222,\"#7201a8\"],[0.3333333333333333,\"#9c179e\"],[0.4444444444444444,\"#bd3786\"],[0.5555555555555556,\"#d8576b\"],[0.6666666666666666,\"#ed7953\"],[0.7777777777777778,\"#fb9f3a\"],[0.8888888888888888,\"#fdca26\"],[1.0,\"#f0f921\"]]}],\"contourcarpet\":[{\"type\":\"contourcarpet\",\"colorbar\":{\"outlinewidth\":0,\"ticks\":\"\"}}],\"contour\":[{\"type\":\"contour\",\"colorbar\":{\"outlinewidth\":0,\"ticks\":\"\"},\"colorscale\":[[0.0,\"#0d0887\"],[0.1111111111111111,\"#46039f\"],[0.2222222222222222,\"#7201a8\"],[0.3333333333333333,\"#9c179e\"],[0.4444444444444444,\"#bd3786\"],[0.5555555555555556,\"#d8576b\"],[0.6666666666666666,\"#ed7953\"],[0.7777777777777778,\"#fb9f3a\"],[0.8888888888888888,\"#fdca26\"],[1.0,\"#f0f921\"]]}],\"surface\":[{\"type\":\"surface\",\"colorbar\":{\"outlinewidth\":0,\"ticks\":\"\"},\"colorscale\":[[0.0,\"#0d0887\"],[0.1111111111111111,\"#46039f\"],[0.2222222222222222,\"#7201a8\"],[0.3333333333333333,\"#9c179e\"],[0.4444444444444444,\"#bd3786\"],[0.5555555555555556,\"#d8576b\"],[0.6666666666666666,\"#ed7953\"],[0.7777777777777778,\"#fb9f3a\"],[0.8888888888888888,\"#fdca26\"],[1.0,\"#f0f921\"]]}],\"mesh3d\":[{\"type\":\"mesh3d\",\"colorbar\":{\"outlinewidth\":0,\"ticks\":\"\"}}],\"scatter\":[{\"fillpattern\":{\"fillmode\":\"overlay\",\"size\":10,\"solidity\":0.2},\"type\":\"scatter\"}],\"parcoords\":[{\"type\":\"parcoords\",\"line\":{\"colorbar\":{\"outlinewidth\":0,\"ticks\":\"\"}}}],\"scatterpolargl\":[{\"type\":\"scatterpolargl\",\"marker\":{\"colorbar\":{\"outlinewidth\":0,\"ticks\":\"\"}}}],\"bar\":[{\"error_x\":{\"color\":\"#2a3f5f\"},\"error_y\":{\"color\":\"#2a3f5f\"},\"marker\":{\"line\":{\"color\":\"#E5ECF6\",\"width\":0.5},\"pattern\":{\"fillmode\":\"overlay\",\"size\":10,\"solidity\":0.2}},\"type\":\"bar\"}],\"scattergeo\":[{\"type\":\"scattergeo\",\"marker\":{\"colorbar\":{\"outlinewidth\":0,\"ticks\":\"\"}}}],\"scatterpolar\":[{\"type\":\"scatterpolar\",\"marker\":{\"colorbar\":{\"outlinewidth\":0,\"ticks\":\"\"}}}],\"histogram\":[{\"marker\":{\"pattern\":{\"fillmode\":\"overlay\",\"size\":10,\"solidity\":0.2}},\"type\":\"histogram\"}],\"scattergl\":[{\"type\":\"scattergl\",\"marker\":{\"colorbar\":{\"outlinewidth\":0,\"ticks\":\"\"}}}],\"scatter3d\":[{\"type\":\"scatter3d\",\"line\":{\"colorbar\":{\"outlinewidth\":0,\"ticks\":\"\"}},\"marker\":{\"colorbar\":{\"outlinewidth\":0,\"ticks\":\"\"}}}],\"scattermapbox\":[{\"type\":\"scattermapbox\",\"marker\":{\"colorbar\":{\"outlinewidth\":0,\"ticks\":\"\"}}}],\"scatterternary\":[{\"type\":\"scatterternary\",\"marker\":{\"colorbar\":{\"outlinewidth\":0,\"ticks\":\"\"}}}],\"scattercarpet\":[{\"type\":\"scattercarpet\",\"marker\":{\"colorbar\":{\"outlinewidth\":0,\"ticks\":\"\"}}}],\"carpet\":[{\"aaxis\":{\"endlinecolor\":\"#2a3f5f\",\"gridcolor\":\"white\",\"linecolor\":\"white\",\"minorgridcolor\":\"white\",\"startlinecolor\":\"#2a3f5f\"},\"baxis\":{\"endlinecolor\":\"#2a3f5f\",\"gridcolor\":\"white\",\"linecolor\":\"white\",\"minorgridcolor\":\"white\",\"startlinecolor\":\"#2a3f5f\"},\"type\":\"carpet\"}],\"table\":[{\"cells\":{\"fill\":{\"color\":\"#EBF0F8\"},\"line\":{\"color\":\"white\"}},\"header\":{\"fill\":{\"color\":\"#C8D4E3\"},\"line\":{\"color\":\"white\"}},\"type\":\"table\"}],\"barpolar\":[{\"marker\":{\"line\":{\"color\":\"#E5ECF6\",\"width\":0.5},\"pattern\":{\"fillmode\":\"overlay\",\"size\":10,\"solidity\":0.2}},\"type\":\"barpolar\"}],\"pie\":[{\"automargin\":true,\"type\":\"pie\"}]},\"layout\":{\"autotypenumbers\":\"strict\",\"colorway\":[\"#636efa\",\"#EF553B\",\"#00cc96\",\"#ab63fa\",\"#FFA15A\",\"#19d3f3\",\"#FF6692\",\"#B6E880\",\"#FF97FF\",\"#FECB52\"],\"font\":{\"color\":\"#2a3f5f\"},\"hovermode\":\"closest\",\"hoverlabel\":{\"align\":\"left\"},\"paper_bgcolor\":\"white\",\"plot_bgcolor\":\"#E5ECF6\",\"polar\":{\"bgcolor\":\"#E5ECF6\",\"angularaxis\":{\"gridcolor\":\"white\",\"linecolor\":\"white\",\"ticks\":\"\"},\"radialaxis\":{\"gridcolor\":\"white\",\"linecolor\":\"white\",\"ticks\":\"\"}},\"ternary\":{\"bgcolor\":\"#E5ECF6\",\"aaxis\":{\"gridcolor\":\"white\",\"linecolor\":\"white\",\"ticks\":\"\"},\"baxis\":{\"gridcolor\":\"white\",\"linecolor\":\"white\",\"ticks\":\"\"},\"caxis\":{\"gridcolor\":\"white\",\"linecolor\":\"white\",\"ticks\":\"\"}},\"coloraxis\":{\"colorbar\":{\"outlinewidth\":0,\"ticks\":\"\"}},\"colorscale\":{\"sequential\":[[0.0,\"#0d0887\"],[0.1111111111111111,\"#46039f\"],[0.2222222222222222,\"#7201a8\"],[0.3333333333333333,\"#9c179e\"],[0.4444444444444444,\"#bd3786\"],[0.5555555555555556,\"#d8576b\"],[0.6666666666666666,\"#ed7953\"],[0.7777777777777778,\"#fb9f3a\"],[0.8888888888888888,\"#fdca26\"],[1.0,\"#f0f921\"]],\"sequentialminus\":[[0.0,\"#0d0887\"],[0.1111111111111111,\"#46039f\"],[0.2222222222222222,\"#7201a8\"],[0.3333333333333333,\"#9c179e\"],[0.4444444444444444,\"#bd3786\"],[0.5555555555555556,\"#d8576b\"],[0.6666666666666666,\"#ed7953\"],[0.7777777777777778,\"#fb9f3a\"],[0.8888888888888888,\"#fdca26\"],[1.0,\"#f0f921\"]],\"diverging\":[[0,\"#8e0152\"],[0.1,\"#c51b7d\"],[0.2,\"#de77ae\"],[0.3,\"#f1b6da\"],[0.4,\"#fde0ef\"],[0.5,\"#f7f7f7\"],[0.6,\"#e6f5d0\"],[0.7,\"#b8e186\"],[0.8,\"#7fbc41\"],[0.9,\"#4d9221\"],[1,\"#276419\"]]},\"xaxis\":{\"gridcolor\":\"white\",\"linecolor\":\"white\",\"ticks\":\"\",\"title\":{\"standoff\":15},\"zerolinecolor\":\"white\",\"automargin\":true,\"zerolinewidth\":2},\"yaxis\":{\"gridcolor\":\"white\",\"linecolor\":\"white\",\"ticks\":\"\",\"title\":{\"standoff\":15},\"zerolinecolor\":\"white\",\"automargin\":true,\"zerolinewidth\":2},\"scene\":{\"xaxis\":{\"backgroundcolor\":\"#E5ECF6\",\"gridcolor\":\"white\",\"linecolor\":\"white\",\"showbackground\":true,\"ticks\":\"\",\"zerolinecolor\":\"white\",\"gridwidth\":2},\"yaxis\":{\"backgroundcolor\":\"#E5ECF6\",\"gridcolor\":\"white\",\"linecolor\":\"white\",\"showbackground\":true,\"ticks\":\"\",\"zerolinecolor\":\"white\",\"gridwidth\":2},\"zaxis\":{\"backgroundcolor\":\"#E5ECF6\",\"gridcolor\":\"white\",\"linecolor\":\"white\",\"showbackground\":true,\"ticks\":\"\",\"zerolinecolor\":\"white\",\"gridwidth\":2}},\"shapedefaults\":{\"line\":{\"color\":\"#2a3f5f\"}},\"annotationdefaults\":{\"arrowcolor\":\"#2a3f5f\",\"arrowhead\":0,\"arrowwidth\":1},\"geo\":{\"bgcolor\":\"white\",\"landcolor\":\"#E5ECF6\",\"subunitcolor\":\"white\",\"showland\":true,\"showlakes\":true,\"lakecolor\":\"white\"},\"title\":{\"x\":0.05},\"mapbox\":{\"style\":\"light\"}}},\"xaxis\":{\"anchor\":\"y\",\"domain\":[0.0,1.0],\"scaleanchor\":\"y\",\"constrain\":\"domain\"},\"yaxis\":{\"anchor\":\"x\",\"domain\":[0.0,1.0],\"autorange\":\"reversed\",\"constrain\":\"domain\"},\"coloraxis\":{\"colorscale\":[[0.0,\"rgb(5,48,97)\"],[0.1,\"rgb(33,102,172)\"],[0.2,\"rgb(67,147,195)\"],[0.3,\"rgb(146,197,222)\"],[0.4,\"rgb(209,229,240)\"],[0.5,\"rgb(247,247,247)\"],[0.6,\"rgb(253,219,199)\"],[0.7,\"rgb(244,165,130)\"],[0.8,\"rgb(214,96,77)\"],[0.9,\"rgb(178,24,43)\"],[1.0,\"rgb(103,0,31)\"]],\"cmin\":-1.0,\"cmax\":1.0},\"margin\":{\"t\":60}},                        {\"responsive\": true}                    ).then(function(){\n",
       "                            \n",
       "var gd = document.getElementById('63e4ec55-90f5-4835-90e3-530996189554');\n",
       "var x = new MutationObserver(function (mutations, observer) {{\n",
       "        var display = window.getComputedStyle(gd).display;\n",
       "        if (!display || display === 'none') {{\n",
       "            console.log([gd, 'removed!']);\n",
       "            Plotly.purge(gd);\n",
       "            observer.disconnect();\n",
       "        }}\n",
       "}});\n",
       "\n",
       "// Listen for the removal of the full notebook cells\n",
       "var notebookContainer = gd.closest('#notebook-container');\n",
       "if (notebookContainer) {{\n",
       "    x.observe(notebookContainer, {childList: true});\n",
       "}}\n",
       "\n",
       "// Listen for the clearing of the current output cell\n",
       "var outputEl = gd.closest('.output');\n",
       "if (outputEl) {{\n",
       "    x.observe(outputEl, {childList: true});\n",
       "}}\n",
       "\n",
       "                        })                };                });            </script>        </div>"
      ]
     },
     "metadata": {},
     "output_type": "display_data"
    }
   ],
   "source": [
    "import plotly.express as px\n",
    "\n",
    "df_janela = cria_janela(99)[0]\n",
    "img = create_gaf(df_janela.T)\n",
    "print(img.shape[0], \"imagens de dimensão\", img.shape[1:3], \"com\", img.shape[3], \"canais (RGB)\")\n",
    "\n",
    "# representação visual do que cada timeframe vira\n",
    "fig = px.imshow(img[0, :, :, :], zmin=-1., zmax=1.)# color_continuous_scale='RdBu_r'\n",
    "fig.show()\n",
    "\n",
    "fig = px.imshow(img[0, :, :, 0], zmin=-1., zmax=1., color_continuous_scale='RdBu_r')\n",
    "fig.show()\n",
    "\n",
    "fig = px.imshow(img[0, :, :, 1], zmin=-1., zmax=1., color_continuous_scale='RdBu_r')\n",
    "fig.show()\n",
    "\n",
    "fig = px.imshow(img[0, :, :, 2], zmin=-1., zmax=1., color_continuous_scale='RdBu_r')\n",
    "fig.show()"
   ]
  },
  {
   "cell_type": "code",
   "execution_count": 186,
   "id": "2058c95e",
   "metadata": {},
   "outputs": [
    {
     "name": "stdout",
     "output_type": "stream",
     "text": [
      "2789199\n",
      "Tempo de execução:  6.65773960000115\n",
      "Tempo estimado para execução completa:  30.94960105763935  min\n"
     ]
    }
   ],
   "source": [
    "# tentar meter um paralelismo. demora 3,4 min pra rodar atualmente\n",
    "\n",
    "linha = 0\n",
    "\n",
    "linhas = 10000\n",
    "start = timer()\n",
    "# ultima linha é a qtd de linhas de 1 min - (lookback (20 dias) x qtd de minutos em um dia) \n",
    "ultima_linha = len(dfs[0])-(lookback*timeframes_padronizado[-1])\n",
    "print(ultima_linha)\n",
    "for linha in range(linhas):# range(ultima_linha+1):\n",
    "    df_janela, long = cria_janela(linha, dfs, lookback)\n",
    "    # se não é long nem short cai fora\n",
    "    if long == None:\n",
    "        continue\n",
    "    # transforma em imagem\n",
    "    create_gaf(df_janela.T)\n",
    "    # salva na pasta long ou short\n",
    "end = timer()\n",
    "print(\"Tempo de execução: \",end - start)\n",
    "print(\"Tempo estimado para execução completa: \", (ultima_linha/linhas)*(end - start)/60, \" min\")"
   ]
  },
  {
   "cell_type": "code",
   "execution_count": null,
   "id": "663282ac",
   "metadata": {},
   "outputs": [],
   "source": []
  },
  {
   "cell_type": "code",
   "execution_count": null,
   "id": "511709dc",
   "metadata": {},
   "outputs": [],
   "source": [
    "# gera pra todos os tempos\n",
    "# define se é long ou short\n",
    "# transforma em gaf\n",
    "# salva como imagem nas pastas long e short\n",
    "# passa pro keras imagedatagenerator"
   ]
  },
  {
   "cell_type": "markdown",
   "id": "a9968ed5",
   "metadata": {},
   "source": [
    "## OLD"
   ]
  },
  {
   "cell_type": "code",
   "execution_count": 38,
   "id": "2d548ffd",
   "metadata": {},
   "outputs": [],
   "source": [
    "# cria um df com close times e close prices pra verificar as janelas\n",
    "dfs = [(pd.read_csv(f\"./Dados/Processados/BTCUSDT-{timeframe}.csv\", \n",
    "                      usecols=[\"Close time\", \"Close\"])[[\"Close\", \"Close time\"]][::-1]).rename(columns={\"Close\" : f\"Close_{timeframe}\",\n",
    "                                                                                                      \"Close time\" : f\"Close time_{timeframe}\"}).reset_index(drop=True) for timeframe in timeframes]\n",
    "\n",
    "dfs_teste = pd.concat(dfs, axis=1)\n",
    "for timeframe in timeframes:\n",
    "    dfs_teste[f\"Close time_{timeframe}\"] = pd.to_datetime(dfs_teste[f\"Close time_{timeframe}\"], unit=\"ms\")\n",
    "dfs_teste[:2000].to_csv(\"teste.csv\")"
   ]
  },
  {
   "cell_type": "code",
   "execution_count": 51,
   "id": "709ce15c",
   "metadata": {},
   "outputs": [
    {
     "data": {
      "text/html": [
       "<div>\n",
       "<style scoped>\n",
       "    .dataframe tbody tr th:only-of-type {\n",
       "        vertical-align: middle;\n",
       "    }\n",
       "\n",
       "    .dataframe tbody tr th {\n",
       "        vertical-align: top;\n",
       "    }\n",
       "\n",
       "    .dataframe thead th {\n",
       "        text-align: right;\n",
       "    }\n",
       "</style>\n",
       "<table border=\"1\" class=\"dataframe\">\n",
       "  <thead>\n",
       "    <tr style=\"text-align: right;\">\n",
       "      <th></th>\n",
       "      <th>Close</th>\n",
       "      <th>Close time</th>\n",
       "    </tr>\n",
       "  </thead>\n",
       "  <tbody>\n",
       "    <tr>\n",
       "      <th>2817998</th>\n",
       "      <td>16542.40</td>\n",
       "      <td>1672531199999</td>\n",
       "    </tr>\n",
       "    <tr>\n",
       "      <th>2817997</th>\n",
       "      <td>16536.42</td>\n",
       "      <td>1672531139999</td>\n",
       "    </tr>\n",
       "    <tr>\n",
       "      <th>2817996</th>\n",
       "      <td>16537.78</td>\n",
       "      <td>1672531079999</td>\n",
       "    </tr>\n",
       "    <tr>\n",
       "      <th>2817995</th>\n",
       "      <td>16540.52</td>\n",
       "      <td>1672531019999</td>\n",
       "    </tr>\n",
       "    <tr>\n",
       "      <th>2817994</th>\n",
       "      <td>16539.28</td>\n",
       "      <td>1672530959999</td>\n",
       "    </tr>\n",
       "    <tr>\n",
       "      <th>...</th>\n",
       "      <td>...</td>\n",
       "      <td>...</td>\n",
       "    </tr>\n",
       "    <tr>\n",
       "      <th>4</th>\n",
       "      <td>4261.48</td>\n",
       "      <td>1502942699999</td>\n",
       "    </tr>\n",
       "    <tr>\n",
       "      <th>3</th>\n",
       "      <td>4261.48</td>\n",
       "      <td>1502942639999</td>\n",
       "    </tr>\n",
       "    <tr>\n",
       "      <th>2</th>\n",
       "      <td>4280.56</td>\n",
       "      <td>1502942579999</td>\n",
       "    </tr>\n",
       "    <tr>\n",
       "      <th>1</th>\n",
       "      <td>4261.48</td>\n",
       "      <td>1502942519999</td>\n",
       "    </tr>\n",
       "    <tr>\n",
       "      <th>0</th>\n",
       "      <td>4261.48</td>\n",
       "      <td>1502942459999</td>\n",
       "    </tr>\n",
       "  </tbody>\n",
       "</table>\n",
       "<p>2817999 rows × 2 columns</p>\n",
       "</div>"
      ],
      "text/plain": [
       "            Close     Close time\n",
       "2817998  16542.40  1672531199999\n",
       "2817997  16536.42  1672531139999\n",
       "2817996  16537.78  1672531079999\n",
       "2817995  16540.52  1672531019999\n",
       "2817994  16539.28  1672530959999\n",
       "...           ...            ...\n",
       "4         4261.48  1502942699999\n",
       "3         4261.48  1502942639999\n",
       "2         4280.56  1502942579999\n",
       "1         4261.48  1502942519999\n",
       "0         4261.48  1502942459999\n",
       "\n",
       "[2817999 rows x 2 columns]"
      ]
     },
     "execution_count": 51,
     "metadata": {},
     "output_type": "execute_result"
    }
   ],
   "source": [
    "# cria um dicionário de dataframes. Pra acessar é só falar o timeframe desejado\n",
    "dfs = {}\n",
    "for timeframe in timeframes:\n",
    "    dfs[timeframe] = (pd.read_csv(f\"./Dados/Processados/BTCUSDT-{timeframe}.csv\", \n",
    "                      usecols=[\"Close time\", \"Close\"])[::-1])\n",
    "dfs[\"1m\"]"
   ]
  },
  {
   "cell_type": "code",
   "execution_count": 52,
   "id": "119fe691",
   "metadata": {},
   "outputs": [
    {
     "name": "stdout",
     "output_type": "stream",
     "text": [
      "Num linhas:  2817979\n",
      "Wall time: 3.98 ms\n"
     ]
    }
   ],
   "source": [
    "%%time\n",
    "\n",
    "# versao com query melhorada\n",
    "# confirmei que funciona batendo o resultado com o da versao antiga e lenta\n",
    "# ver se dá pra usar só numpy (fica mto escroto)\n",
    "# e depois paralelismo\n",
    "\n",
    "lookback = 20\n",
    "linha = 0\n",
    "\n",
    "colunas = [f\"Close_{timeframe}\" for timeframe in timeframes]\n",
    "colunas.append(\"Close time\")\n",
    "\n",
    "# pra todas as linhas\n",
    "print(\"Num linhas: \", len(dfs[timeframes[0]])-lookback)\n",
    "#for linha in range(100):\n",
    "for linha in [100]:\n",
    "#for linha in range(len(df)-lookback):\n",
    "    # cria o esqueleto da janela com o primeiro timeframe\n",
    "    df_janela = pd.DataFrame(np.nan, index=range(0,lookback), columns= colunas)\n",
    "    df_janela[[colunas[0], colunas[-1]]] = dfs[timeframes[0]].iloc[linha:linha+lookback].reset_index(drop=True)\n",
    "    # junta o preço de fechamento pra todos os timeframes\n",
    "    i = 1\n",
    "    for timeframe in timeframes[1:]:\n",
    "        # pega o numero da linha o primeiro closetime do timeframe é igual ou menor que o da janela atual\n",
    "        index = (dfs[timeframe].iloc[:,1] <= df_janela.iat[0,-1]).values.argmax()\n",
    "        # coloca as 20 (lookback) linhas subsequentes dentro da janela\n",
    "        df_janela.iloc[:, i] = dfs[timeframe].iloc[index:index+lookback, 0].reset_index(drop=True)\n",
    "        i += 1\n",
    "    # remove a coluna close time, que foi utilizada pra sincronizar cada timeframe\n",
    "    df_janela.drop(\"Close time\", inplace=True, axis=1)\n",
    "    # define se é long ou short\n",
    "    # create_gaf(df_janela)\n",
    "    # salva na pasta long ou short\n",
    "\n",
    "\n",
    "df_janela2 = df_janela"
   ]
  },
  {
   "cell_type": "code",
   "execution_count": 31,
   "id": "bd12e5e0",
   "metadata": {},
   "outputs": [
    {
     "name": "stdout",
     "output_type": "stream",
     "text": [
      "1m\n",
      "5m\n",
      "15m\n",
      "30m\n",
      "1h\n",
      "2h\n",
      "4h\n",
      "8h\n",
      "1d\n"
     ]
    },
    {
     "data": {
      "text/html": [
       "<div>\n",
       "<style scoped>\n",
       "    .dataframe tbody tr th:only-of-type {\n",
       "        vertical-align: middle;\n",
       "    }\n",
       "\n",
       "    .dataframe tbody tr th {\n",
       "        vertical-align: top;\n",
       "    }\n",
       "\n",
       "    .dataframe thead th {\n",
       "        text-align: right;\n",
       "    }\n",
       "</style>\n",
       "<table border=\"1\" class=\"dataframe\">\n",
       "  <thead>\n",
       "    <tr style=\"text-align: right;\">\n",
       "      <th></th>\n",
       "      <th>Open_1m</th>\n",
       "      <th>High_1m</th>\n",
       "      <th>Low_1m</th>\n",
       "      <th>Close_1m</th>\n",
       "      <th>Volume_1m</th>\n",
       "      <th>Number of trades_1m</th>\n",
       "      <th>Open_5m</th>\n",
       "      <th>High_5m</th>\n",
       "      <th>Low_5m</th>\n",
       "      <th>Close_5m</th>\n",
       "      <th>...</th>\n",
       "      <th>Low_8h</th>\n",
       "      <th>Close_8h</th>\n",
       "      <th>Volume_8h</th>\n",
       "      <th>Number of trades_8h</th>\n",
       "      <th>Open_1d</th>\n",
       "      <th>High_1d</th>\n",
       "      <th>Low_1d</th>\n",
       "      <th>Close_1d</th>\n",
       "      <th>Volume_1d</th>\n",
       "      <th>Number of trades_1d</th>\n",
       "    </tr>\n",
       "    <tr>\n",
       "      <th>Close time</th>\n",
       "      <th></th>\n",
       "      <th></th>\n",
       "      <th></th>\n",
       "      <th></th>\n",
       "      <th></th>\n",
       "      <th></th>\n",
       "      <th></th>\n",
       "      <th></th>\n",
       "      <th></th>\n",
       "      <th></th>\n",
       "      <th></th>\n",
       "      <th></th>\n",
       "      <th></th>\n",
       "      <th></th>\n",
       "      <th></th>\n",
       "      <th></th>\n",
       "      <th></th>\n",
       "      <th></th>\n",
       "      <th></th>\n",
       "      <th></th>\n",
       "      <th></th>\n",
       "    </tr>\n",
       "  </thead>\n",
       "  <tbody>\n",
       "    <tr>\n",
       "      <th>2022-12-31 23:59:59.999</th>\n",
       "      <td>16536.81</td>\n",
       "      <td>16544.47</td>\n",
       "      <td>16536.23</td>\n",
       "      <td>16542.40</td>\n",
       "      <td>69.999440</td>\n",
       "      <td>2536</td>\n",
       "      <td>16540.42</td>\n",
       "      <td>16544.47</td>\n",
       "      <td>16535.05</td>\n",
       "      <td>16542.40</td>\n",
       "      <td>...</td>\n",
       "      <td>16470.0</td>\n",
       "      <td>16542.4</td>\n",
       "      <td>34408.36186</td>\n",
       "      <td>1011670.0</td>\n",
       "      <td>16607.48</td>\n",
       "      <td>16644.09</td>\n",
       "      <td>16470.0</td>\n",
       "      <td>16542.4</td>\n",
       "      <td>114490.42864</td>\n",
       "      <td>3344374.0</td>\n",
       "    </tr>\n",
       "    <tr>\n",
       "      <th>2022-12-31 23:58:59.999</th>\n",
       "      <td>16537.78</td>\n",
       "      <td>16538.81</td>\n",
       "      <td>16536.42</td>\n",
       "      <td>16536.42</td>\n",
       "      <td>28.882390</td>\n",
       "      <td>1267</td>\n",
       "      <td>NaN</td>\n",
       "      <td>NaN</td>\n",
       "      <td>NaN</td>\n",
       "      <td>NaN</td>\n",
       "      <td>...</td>\n",
       "      <td>NaN</td>\n",
       "      <td>NaN</td>\n",
       "      <td>NaN</td>\n",
       "      <td>NaN</td>\n",
       "      <td>NaN</td>\n",
       "      <td>NaN</td>\n",
       "      <td>NaN</td>\n",
       "      <td>NaN</td>\n",
       "      <td>NaN</td>\n",
       "      <td>NaN</td>\n",
       "    </tr>\n",
       "    <tr>\n",
       "      <th>2022-12-31 23:57:59.999</th>\n",
       "      <td>16540.52</td>\n",
       "      <td>16540.79</td>\n",
       "      <td>16535.05</td>\n",
       "      <td>16537.78</td>\n",
       "      <td>53.359780</td>\n",
       "      <td>2088</td>\n",
       "      <td>NaN</td>\n",
       "      <td>NaN</td>\n",
       "      <td>NaN</td>\n",
       "      <td>NaN</td>\n",
       "      <td>...</td>\n",
       "      <td>NaN</td>\n",
       "      <td>NaN</td>\n",
       "      <td>NaN</td>\n",
       "      <td>NaN</td>\n",
       "      <td>NaN</td>\n",
       "      <td>NaN</td>\n",
       "      <td>NaN</td>\n",
       "      <td>NaN</td>\n",
       "      <td>NaN</td>\n",
       "      <td>NaN</td>\n",
       "    </tr>\n",
       "    <tr>\n",
       "      <th>2022-12-31 23:56:59.999</th>\n",
       "      <td>16538.65</td>\n",
       "      <td>16540.53</td>\n",
       "      <td>16538.38</td>\n",
       "      <td>16540.52</td>\n",
       "      <td>38.588400</td>\n",
       "      <td>1536</td>\n",
       "      <td>NaN</td>\n",
       "      <td>NaN</td>\n",
       "      <td>NaN</td>\n",
       "      <td>NaN</td>\n",
       "      <td>...</td>\n",
       "      <td>NaN</td>\n",
       "      <td>NaN</td>\n",
       "      <td>NaN</td>\n",
       "      <td>NaN</td>\n",
       "      <td>NaN</td>\n",
       "      <td>NaN</td>\n",
       "      <td>NaN</td>\n",
       "      <td>NaN</td>\n",
       "      <td>NaN</td>\n",
       "      <td>NaN</td>\n",
       "    </tr>\n",
       "    <tr>\n",
       "      <th>2022-12-31 23:55:59.999</th>\n",
       "      <td>16540.42</td>\n",
       "      <td>16540.92</td>\n",
       "      <td>16537.71</td>\n",
       "      <td>16539.28</td>\n",
       "      <td>36.236830</td>\n",
       "      <td>1551</td>\n",
       "      <td>NaN</td>\n",
       "      <td>NaN</td>\n",
       "      <td>NaN</td>\n",
       "      <td>NaN</td>\n",
       "      <td>...</td>\n",
       "      <td>NaN</td>\n",
       "      <td>NaN</td>\n",
       "      <td>NaN</td>\n",
       "      <td>NaN</td>\n",
       "      <td>NaN</td>\n",
       "      <td>NaN</td>\n",
       "      <td>NaN</td>\n",
       "      <td>NaN</td>\n",
       "      <td>NaN</td>\n",
       "      <td>NaN</td>\n",
       "    </tr>\n",
       "    <tr>\n",
       "      <th>...</th>\n",
       "      <td>...</td>\n",
       "      <td>...</td>\n",
       "      <td>...</td>\n",
       "      <td>...</td>\n",
       "      <td>...</td>\n",
       "      <td>...</td>\n",
       "      <td>...</td>\n",
       "      <td>...</td>\n",
       "      <td>...</td>\n",
       "      <td>...</td>\n",
       "      <td>...</td>\n",
       "      <td>...</td>\n",
       "      <td>...</td>\n",
       "      <td>...</td>\n",
       "      <td>...</td>\n",
       "      <td>...</td>\n",
       "      <td>...</td>\n",
       "      <td>...</td>\n",
       "      <td>...</td>\n",
       "      <td>...</td>\n",
       "      <td>...</td>\n",
       "    </tr>\n",
       "    <tr>\n",
       "      <th>2017-08-17 04:04:59.999</th>\n",
       "      <td>4261.48</td>\n",
       "      <td>4261.48</td>\n",
       "      <td>4261.48</td>\n",
       "      <td>4261.48</td>\n",
       "      <td>0.140796</td>\n",
       "      <td>1</td>\n",
       "      <td>4261.48</td>\n",
       "      <td>4280.56</td>\n",
       "      <td>4261.48</td>\n",
       "      <td>4261.48</td>\n",
       "      <td>...</td>\n",
       "      <td>NaN</td>\n",
       "      <td>NaN</td>\n",
       "      <td>NaN</td>\n",
       "      <td>NaN</td>\n",
       "      <td>NaN</td>\n",
       "      <td>NaN</td>\n",
       "      <td>NaN</td>\n",
       "      <td>NaN</td>\n",
       "      <td>NaN</td>\n",
       "      <td>NaN</td>\n",
       "    </tr>\n",
       "    <tr>\n",
       "      <th>2017-08-17 04:03:59.999</th>\n",
       "      <td>4261.48</td>\n",
       "      <td>4261.48</td>\n",
       "      <td>4261.48</td>\n",
       "      <td>4261.48</td>\n",
       "      <td>0.012008</td>\n",
       "      <td>3</td>\n",
       "      <td>NaN</td>\n",
       "      <td>NaN</td>\n",
       "      <td>NaN</td>\n",
       "      <td>NaN</td>\n",
       "      <td>...</td>\n",
       "      <td>NaN</td>\n",
       "      <td>NaN</td>\n",
       "      <td>NaN</td>\n",
       "      <td>NaN</td>\n",
       "      <td>NaN</td>\n",
       "      <td>NaN</td>\n",
       "      <td>NaN</td>\n",
       "      <td>NaN</td>\n",
       "      <td>NaN</td>\n",
       "      <td>NaN</td>\n",
       "    </tr>\n",
       "    <tr>\n",
       "      <th>2017-08-17 04:02:59.999</th>\n",
       "      <td>4280.56</td>\n",
       "      <td>4280.56</td>\n",
       "      <td>4280.56</td>\n",
       "      <td>4280.56</td>\n",
       "      <td>0.261074</td>\n",
       "      <td>2</td>\n",
       "      <td>NaN</td>\n",
       "      <td>NaN</td>\n",
       "      <td>NaN</td>\n",
       "      <td>NaN</td>\n",
       "      <td>...</td>\n",
       "      <td>NaN</td>\n",
       "      <td>NaN</td>\n",
       "      <td>NaN</td>\n",
       "      <td>NaN</td>\n",
       "      <td>NaN</td>\n",
       "      <td>NaN</td>\n",
       "      <td>NaN</td>\n",
       "      <td>NaN</td>\n",
       "      <td>NaN</td>\n",
       "      <td>NaN</td>\n",
       "    </tr>\n",
       "    <tr>\n",
       "      <th>2017-08-17 04:01:59.999</th>\n",
       "      <td>4261.48</td>\n",
       "      <td>4261.48</td>\n",
       "      <td>4261.48</td>\n",
       "      <td>4261.48</td>\n",
       "      <td>0.000000</td>\n",
       "      <td>0</td>\n",
       "      <td>NaN</td>\n",
       "      <td>NaN</td>\n",
       "      <td>NaN</td>\n",
       "      <td>NaN</td>\n",
       "      <td>...</td>\n",
       "      <td>NaN</td>\n",
       "      <td>NaN</td>\n",
       "      <td>NaN</td>\n",
       "      <td>NaN</td>\n",
       "      <td>NaN</td>\n",
       "      <td>NaN</td>\n",
       "      <td>NaN</td>\n",
       "      <td>NaN</td>\n",
       "      <td>NaN</td>\n",
       "      <td>NaN</td>\n",
       "    </tr>\n",
       "    <tr>\n",
       "      <th>2017-08-17 04:00:59.999</th>\n",
       "      <td>4261.48</td>\n",
       "      <td>4261.48</td>\n",
       "      <td>4261.48</td>\n",
       "      <td>4261.48</td>\n",
       "      <td>1.775183</td>\n",
       "      <td>3</td>\n",
       "      <td>NaN</td>\n",
       "      <td>NaN</td>\n",
       "      <td>NaN</td>\n",
       "      <td>NaN</td>\n",
       "      <td>...</td>\n",
       "      <td>NaN</td>\n",
       "      <td>NaN</td>\n",
       "      <td>NaN</td>\n",
       "      <td>NaN</td>\n",
       "      <td>NaN</td>\n",
       "      <td>NaN</td>\n",
       "      <td>NaN</td>\n",
       "      <td>NaN</td>\n",
       "      <td>NaN</td>\n",
       "      <td>NaN</td>\n",
       "    </tr>\n",
       "  </tbody>\n",
       "</table>\n",
       "<p>2817999 rows × 54 columns</p>\n",
       "</div>"
      ],
      "text/plain": [
       "                          Open_1m   High_1m    Low_1m  Close_1m  Volume_1m  \\\n",
       "Close time                                                                   \n",
       "2022-12-31 23:59:59.999  16536.81  16544.47  16536.23  16542.40  69.999440   \n",
       "2022-12-31 23:58:59.999  16537.78  16538.81  16536.42  16536.42  28.882390   \n",
       "2022-12-31 23:57:59.999  16540.52  16540.79  16535.05  16537.78  53.359780   \n",
       "2022-12-31 23:56:59.999  16538.65  16540.53  16538.38  16540.52  38.588400   \n",
       "2022-12-31 23:55:59.999  16540.42  16540.92  16537.71  16539.28  36.236830   \n",
       "...                           ...       ...       ...       ...        ...   \n",
       "2017-08-17 04:04:59.999   4261.48   4261.48   4261.48   4261.48   0.140796   \n",
       "2017-08-17 04:03:59.999   4261.48   4261.48   4261.48   4261.48   0.012008   \n",
       "2017-08-17 04:02:59.999   4280.56   4280.56   4280.56   4280.56   0.261074   \n",
       "2017-08-17 04:01:59.999   4261.48   4261.48   4261.48   4261.48   0.000000   \n",
       "2017-08-17 04:00:59.999   4261.48   4261.48   4261.48   4261.48   1.775183   \n",
       "\n",
       "                         Number of trades_1m   Open_5m   High_5m    Low_5m  \\\n",
       "Close time                                                                   \n",
       "2022-12-31 23:59:59.999                 2536  16540.42  16544.47  16535.05   \n",
       "2022-12-31 23:58:59.999                 1267       NaN       NaN       NaN   \n",
       "2022-12-31 23:57:59.999                 2088       NaN       NaN       NaN   \n",
       "2022-12-31 23:56:59.999                 1536       NaN       NaN       NaN   \n",
       "2022-12-31 23:55:59.999                 1551       NaN       NaN       NaN   \n",
       "...                                      ...       ...       ...       ...   \n",
       "2017-08-17 04:04:59.999                    1   4261.48   4280.56   4261.48   \n",
       "2017-08-17 04:03:59.999                    3       NaN       NaN       NaN   \n",
       "2017-08-17 04:02:59.999                    2       NaN       NaN       NaN   \n",
       "2017-08-17 04:01:59.999                    0       NaN       NaN       NaN   \n",
       "2017-08-17 04:00:59.999                    3       NaN       NaN       NaN   \n",
       "\n",
       "                         Close_5m  ...   Low_8h  Close_8h    Volume_8h  \\\n",
       "Close time                         ...                                   \n",
       "2022-12-31 23:59:59.999  16542.40  ...  16470.0   16542.4  34408.36186   \n",
       "2022-12-31 23:58:59.999       NaN  ...      NaN       NaN          NaN   \n",
       "2022-12-31 23:57:59.999       NaN  ...      NaN       NaN          NaN   \n",
       "2022-12-31 23:56:59.999       NaN  ...      NaN       NaN          NaN   \n",
       "2022-12-31 23:55:59.999       NaN  ...      NaN       NaN          NaN   \n",
       "...                           ...  ...      ...       ...          ...   \n",
       "2017-08-17 04:04:59.999   4261.48  ...      NaN       NaN          NaN   \n",
       "2017-08-17 04:03:59.999       NaN  ...      NaN       NaN          NaN   \n",
       "2017-08-17 04:02:59.999       NaN  ...      NaN       NaN          NaN   \n",
       "2017-08-17 04:01:59.999       NaN  ...      NaN       NaN          NaN   \n",
       "2017-08-17 04:00:59.999       NaN  ...      NaN       NaN          NaN   \n",
       "\n",
       "                         Number of trades_8h   Open_1d   High_1d   Low_1d  \\\n",
       "Close time                                                                  \n",
       "2022-12-31 23:59:59.999            1011670.0  16607.48  16644.09  16470.0   \n",
       "2022-12-31 23:58:59.999                  NaN       NaN       NaN      NaN   \n",
       "2022-12-31 23:57:59.999                  NaN       NaN       NaN      NaN   \n",
       "2022-12-31 23:56:59.999                  NaN       NaN       NaN      NaN   \n",
       "2022-12-31 23:55:59.999                  NaN       NaN       NaN      NaN   \n",
       "...                                      ...       ...       ...      ...   \n",
       "2017-08-17 04:04:59.999                  NaN       NaN       NaN      NaN   \n",
       "2017-08-17 04:03:59.999                  NaN       NaN       NaN      NaN   \n",
       "2017-08-17 04:02:59.999                  NaN       NaN       NaN      NaN   \n",
       "2017-08-17 04:01:59.999                  NaN       NaN       NaN      NaN   \n",
       "2017-08-17 04:00:59.999                  NaN       NaN       NaN      NaN   \n",
       "\n",
       "                         Close_1d     Volume_1d  Number of trades_1d  \n",
       "Close time                                                            \n",
       "2022-12-31 23:59:59.999   16542.4  114490.42864            3344374.0  \n",
       "2022-12-31 23:58:59.999       NaN           NaN                  NaN  \n",
       "2022-12-31 23:57:59.999       NaN           NaN                  NaN  \n",
       "2022-12-31 23:56:59.999       NaN           NaN                  NaN  \n",
       "2022-12-31 23:55:59.999       NaN           NaN                  NaN  \n",
       "...                           ...           ...                  ...  \n",
       "2017-08-17 04:04:59.999       NaN           NaN                  NaN  \n",
       "2017-08-17 04:03:59.999       NaN           NaN                  NaN  \n",
       "2017-08-17 04:02:59.999       NaN           NaN                  NaN  \n",
       "2017-08-17 04:01:59.999       NaN           NaN                  NaN  \n",
       "2017-08-17 04:00:59.999       NaN           NaN                  NaN  \n",
       "\n",
       "[2817999 rows x 54 columns]"
      ]
     },
     "execution_count": 31,
     "metadata": {},
     "output_type": "execute_result"
    }
   ],
   "source": [
    "# criação de DF gigante e cheio de nan's\n",
    "\n",
    "def une_timeframes(timeframes=timeframes):\n",
    "    # junta todos os timeframes em um df só\n",
    "\n",
    "    # pega o primeiro timeframe com as colunas desejadas\n",
    "    df = pd.read_csv(f\"./Dados/Processados/BTCUSDT-{timeframes[0]}.csv\", index_col = \"Close time\"\n",
    "                     , usecols=[\"Close time\",\"Open\", \"High\", \"Low\", \"Close\", \"Volume\", \"Number of trades\"])\n",
    "    #df.index = pd.to_datetime(df.index, unit=\"ms\")\n",
    "\n",
    "    # coloca o sufixo nas colunas do menor timeframe\n",
    "    df.columns = df.columns+f\"_{timeframes[0]}\"\n",
    "    print(timeframes[0])\n",
    "\n",
    "    # junta todos os outros timeframes e coloca o sufixo correto\n",
    "    for timeframe in timeframes[1:]:\n",
    "        print(timeframe)\n",
    "        df2 = pd.read_csv(f\"./Dados/Processados/BTCUSDT-{timeframe}.csv\", index_col = \"Close time\",\n",
    "                         usecols=[\"Close time\",\"Open\", \"High\", \"Low\", \"Close\", \"Volume\", \"Number of trades\"])\n",
    "        df2.columns = df2.columns+f\"_{timeframe}\"\n",
    "        df = df.merge(df2, how=\"left\", on=[\"Close time\"])#, suffixes=(None, f\"_{timeframe}\"))\n",
    "\n",
    "\n",
    "    # transforma o index em datetime\n",
    "    df.index = pd.to_datetime(df.index, unit=\"ms\")\n",
    "\n",
    "    #inverte a ordem do df pq vamos usar ele do fim pro começo pra fazer as janelas\n",
    "    df.sort_index(axis=0, inplace = True, ascending=False)\n",
    "    return(df)\n",
    "df = une_timeframes(timeframes)\n",
    "df"
   ]
  },
  {
   "cell_type": "code",
   "execution_count": 40,
   "id": "78529b48",
   "metadata": {},
   "outputs": [
    {
     "name": "stdout",
     "output_type": "stream",
     "text": [
      "Num linhas:  2817979\n",
      "Wall time: 12.7 ms\n"
     ]
    }
   ],
   "source": [
    "%%time\n",
    "# solução de janela usando uma df gigante. Bem mais lento\n",
    "# cria janela de precos\n",
    "lookback = 20\n",
    "linha = 0\n",
    "# tentar fazer um loop pra pegar tudo\n",
    "\n",
    "# pra todas as linhas\n",
    "print(\"Num linhas: \", len(df)-lookback)\n",
    "for linha in [2000000]:\n",
    "#for linha in range(len(df)-lookback):\n",
    "    # zera df_janela\n",
    "    df_janela = pd.DataFrame()\n",
    "    for timeframe in timeframes:\n",
    "        # insere na ultima coluna; com o nome de Close_timeframe ;\n",
    "        # df a partir da linha atual até linha atual + lookback\n",
    "        #df_janela[f\"Close_{timeframe}\"] = df[f\"Close_{timeframe}\"].iloc[linha:].dropna().iloc[:lookback].reset_index(drop=True)\n",
    "        df_janela.insert(len(df_janela.columns),(f\"Close_{timeframe}\"),df[f\"Close_{timeframe}\"].iloc[linha:].dropna().iloc[:lookback].to_list())\n",
    "    #print(linha)\n",
    "    # define se é long ou short\n",
    "    # create_gaf(df_janela)\n",
    "    # salva na pasta long ou short\n",
    "df_janela\n",
    "df_janela2 = df_janela\n",
    "# funciona, mas está muito lento\n",
    "# se tirar o dropna vai de 4,4 seg pra 190 ms\n",
    "# não unir mais tudo"
   ]
  },
  {
   "cell_type": "code",
   "execution_count": 104,
   "id": "10ab7dcc",
   "metadata": {},
   "outputs": [],
   "source": [
    "# sem rgb\n",
    "from pyts.image import GramianAngularField\n",
    "def create_gaf(df):\n",
    "    \"\"\"\n",
    "    :param ts:\n",
    "    :return:\n",
    "    \"\"\"\n",
    "    #data = dict()\n",
    "    gadf = GramianAngularField(method='difference')\n",
    "    df = gadf.fit_transform(df.T) # ts.T)\n",
    "    return df"
   ]
  },
  {
   "cell_type": "code",
   "execution_count": 112,
   "id": "90b4b053",
   "metadata": {},
   "outputs": [
    {
     "data": {
      "text/html": [
       "<div>\n",
       "<style scoped>\n",
       "    .dataframe tbody tr th:only-of-type {\n",
       "        vertical-align: middle;\n",
       "    }\n",
       "\n",
       "    .dataframe tbody tr th {\n",
       "        vertical-align: top;\n",
       "    }\n",
       "\n",
       "    .dataframe thead th {\n",
       "        text-align: right;\n",
       "    }\n",
       "</style>\n",
       "<table border=\"1\" class=\"dataframe\">\n",
       "  <thead>\n",
       "    <tr style=\"text-align: right;\">\n",
       "      <th></th>\n",
       "      <th>0</th>\n",
       "      <th>1</th>\n",
       "      <th>2</th>\n",
       "      <th>3</th>\n",
       "      <th>4</th>\n",
       "      <th>5</th>\n",
       "      <th>6</th>\n",
       "      <th>7</th>\n",
       "      <th>8</th>\n",
       "    </tr>\n",
       "  </thead>\n",
       "  <tbody>\n",
       "    <tr>\n",
       "      <th>0</th>\n",
       "      <td>16532.259766</td>\n",
       "      <td>16531.619141</td>\n",
       "      <td>16565.380859</td>\n",
       "      <td>16548.279297</td>\n",
       "      <td>16548.279297</td>\n",
       "      <td>16548.279297</td>\n",
       "      <td>16570.140625</td>\n",
       "      <td>16590.099609</td>\n",
       "      <td>16607.480469</td>\n",
       "    </tr>\n",
       "    <tr>\n",
       "      <th>1</th>\n",
       "      <td>16531.619141</td>\n",
       "      <td>16565.380859</td>\n",
       "      <td>16548.279297</td>\n",
       "      <td>16563.839844</td>\n",
       "      <td>16568.599609</td>\n",
       "      <td>16570.140625</td>\n",
       "      <td>16590.099609</td>\n",
       "      <td>16565.089844</td>\n",
       "      <td>16633.470703</td>\n",
       "    </tr>\n",
       "    <tr>\n",
       "      <th>2</th>\n",
       "      <td>16519.140625</td>\n",
       "      <td>16556.179688</td>\n",
       "      <td>16560.529297</td>\n",
       "      <td>16568.599609</td>\n",
       "      <td>16570.140625</td>\n",
       "      <td>16582.080078</td>\n",
       "      <td>16567.150391</td>\n",
       "      <td>16607.480469</td>\n",
       "      <td>16547.310547</td>\n",
       "    </tr>\n",
       "    <tr>\n",
       "      <th>3</th>\n",
       "      <td>16547.339844</td>\n",
       "      <td>16543.939453</td>\n",
       "      <td>16563.839844</td>\n",
       "      <td>16570.710938</td>\n",
       "      <td>16577.789062</td>\n",
       "      <td>16590.099609</td>\n",
       "      <td>16565.089844</td>\n",
       "      <td>16555.259766</td>\n",
       "      <td>16706.359375</td>\n",
       "    </tr>\n",
       "    <tr>\n",
       "      <th>4</th>\n",
       "      <td>16554.119141</td>\n",
       "      <td>16548.279297</td>\n",
       "      <td>16566.310547</td>\n",
       "      <td>16570.140625</td>\n",
       "      <td>16582.080078</td>\n",
       "      <td>16600.890625</td>\n",
       "      <td>16552.460938</td>\n",
       "      <td>16474.929688</td>\n",
       "      <td>16919.390625</td>\n",
       "    </tr>\n",
       "    <tr>\n",
       "      <th>5</th>\n",
       "      <td>16562.730469</td>\n",
       "      <td>16549.589844</td>\n",
       "      <td>16568.599609</td>\n",
       "      <td>16572.169922</td>\n",
       "      <td>16600.390625</td>\n",
       "      <td>16567.150391</td>\n",
       "      <td>16607.480469</td>\n",
       "      <td>16633.470703</td>\n",
       "      <td>16832.109375</td>\n",
       "    </tr>\n",
       "    <tr>\n",
       "      <th>6</th>\n",
       "      <td>16565.380859</td>\n",
       "      <td>16556.150391</td>\n",
       "      <td>16570.460938</td>\n",
       "      <td>16577.789062</td>\n",
       "      <td>16590.099609</td>\n",
       "      <td>16544.259766</td>\n",
       "      <td>16525.369141</td>\n",
       "      <td>16616.599609</td>\n",
       "      <td>16836.119141</td>\n",
       "    </tr>\n",
       "    <tr>\n",
       "      <th>7</th>\n",
       "      <td>16562.259766</td>\n",
       "      <td>16560.529297</td>\n",
       "      <td>16570.710938</td>\n",
       "      <td>16577.130859</td>\n",
       "      <td>16586.429688</td>\n",
       "      <td>16565.089844</td>\n",
       "      <td>16555.259766</td>\n",
       "      <td>16556.369141</td>\n",
       "      <td>16778.500000</td>\n",
       "    </tr>\n",
       "    <tr>\n",
       "      <th>8</th>\n",
       "      <td>16561.810547</td>\n",
       "      <td>16560.070312</td>\n",
       "      <td>16569.759766</td>\n",
       "      <td>16582.080078</td>\n",
       "      <td>16600.890625</td>\n",
       "      <td>16538.759766</td>\n",
       "      <td>16496.269531</td>\n",
       "      <td>16547.310547</td>\n",
       "      <td>16821.429688</td>\n",
       "    </tr>\n",
       "    <tr>\n",
       "      <th>9</th>\n",
       "      <td>16565.109375</td>\n",
       "      <td>16557.919922</td>\n",
       "      <td>16570.140625</td>\n",
       "      <td>16583.429688</td>\n",
       "      <td>16575.439453</td>\n",
       "      <td>16552.460938</td>\n",
       "      <td>16474.929688</td>\n",
       "      <td>16578.519531</td>\n",
       "      <td>16824.669922</td>\n",
       "    </tr>\n",
       "    <tr>\n",
       "      <th>10</th>\n",
       "      <td>16562.490234</td>\n",
       "      <td>16563.839844</td>\n",
       "      <td>16577.140625</td>\n",
       "      <td>16600.390625</td>\n",
       "      <td>16567.150391</td>\n",
       "      <td>16568.240234</td>\n",
       "      <td>16599.080078</td>\n",
       "      <td>16647.160156</td>\n",
       "      <td>16895.560547</td>\n",
       "    </tr>\n",
       "    <tr>\n",
       "      <th>11</th>\n",
       "      <td>16556.179688</td>\n",
       "      <td>16559.880859</td>\n",
       "      <td>16572.169922</td>\n",
       "      <td>16602.220703</td>\n",
       "      <td>16566.029297</td>\n",
       "      <td>16607.480469</td>\n",
       "      <td>16633.470703</td>\n",
       "      <td>16706.359375</td>\n",
       "      <td>16438.880859</td>\n",
       "    </tr>\n",
       "    <tr>\n",
       "      <th>12</th>\n",
       "      <td>16546.890625</td>\n",
       "      <td>16566.140625</td>\n",
       "      <td>16575.990234</td>\n",
       "      <td>16590.099609</td>\n",
       "      <td>16544.259766</td>\n",
       "      <td>16585.060547</td>\n",
       "      <td>16612.400391</td>\n",
       "      <td>16799.779297</td>\n",
       "      <td>16738.210938</td>\n",
       "    </tr>\n",
       "    <tr>\n",
       "      <th>13</th>\n",
       "      <td>16544.400391</td>\n",
       "      <td>16566.310547</td>\n",
       "      <td>16577.789062</td>\n",
       "      <td>16603.470703</td>\n",
       "      <td>16554.050781</td>\n",
       "      <td>16525.369141</td>\n",
       "      <td>16616.599609</td>\n",
       "      <td>16869.189453</td>\n",
       "      <td>16776.519531</td>\n",
       "    </tr>\n",
       "    <tr>\n",
       "      <th>14</th>\n",
       "      <td>16545.330078</td>\n",
       "      <td>16566.009766</td>\n",
       "      <td>16576.570312</td>\n",
       "      <td>16586.429688</td>\n",
       "      <td>16565.089844</td>\n",
       "      <td>16533.119141</td>\n",
       "      <td>16598.699219</td>\n",
       "      <td>16919.390625</td>\n",
       "      <td>16632.119141</td>\n",
       "    </tr>\n",
       "    <tr>\n",
       "      <th>15</th>\n",
       "      <td>16543.310547</td>\n",
       "      <td>16567.650391</td>\n",
       "      <td>16577.130859</td>\n",
       "      <td>16630.589844</td>\n",
       "      <td>16546.710938</td>\n",
       "      <td>16555.259766</td>\n",
       "      <td>16556.369141</td>\n",
       "      <td>16809.509766</td>\n",
       "      <td>17356.339844</td>\n",
       "    </tr>\n",
       "    <tr>\n",
       "      <th>16</th>\n",
       "      <td>16543.939453</td>\n",
       "      <td>16568.599609</td>\n",
       "      <td>16586.589844</td>\n",
       "      <td>16600.890625</td>\n",
       "      <td>16538.759766</td>\n",
       "      <td>16465.880859</td>\n",
       "      <td>16558.330078</td>\n",
       "      <td>16843.650391</td>\n",
       "      <td>17803.150391</td>\n",
       "    </tr>\n",
       "    <tr>\n",
       "      <th>17</th>\n",
       "      <td>16544.109375</td>\n",
       "      <td>16566.990234</td>\n",
       "      <td>16582.080078</td>\n",
       "      <td>16584.730469</td>\n",
       "      <td>16551.890625</td>\n",
       "      <td>16496.269531</td>\n",
       "      <td>16547.310547</td>\n",
       "      <td>16832.109375</td>\n",
       "      <td>17774.699219</td>\n",
       "    </tr>\n",
       "    <tr>\n",
       "      <th>18</th>\n",
       "      <td>16545.070312</td>\n",
       "      <td>16571.640625</td>\n",
       "      <td>16582.609375</td>\n",
       "      <td>16575.439453</td>\n",
       "      <td>16552.460938</td>\n",
       "      <td>16517.210938</td>\n",
       "      <td>16595.919922</td>\n",
       "      <td>16793.089844</td>\n",
       "      <td>17209.830078</td>\n",
       "    </tr>\n",
       "    <tr>\n",
       "      <th>19</th>\n",
       "      <td>16544.679688</td>\n",
       "      <td>16570.460938</td>\n",
       "      <td>16583.429688</td>\n",
       "      <td>16567.539062</td>\n",
       "      <td>16575.939453</td>\n",
       "      <td>16474.929688</td>\n",
       "      <td>16578.519531</td>\n",
       "      <td>16821.970703</td>\n",
       "      <td>17085.050781</td>\n",
       "    </tr>\n",
       "  </tbody>\n",
       "</table>\n",
       "</div>"
      ],
      "text/plain": [
       "               0             1             2             3             4  \\\n",
       "0   16532.259766  16531.619141  16565.380859  16548.279297  16548.279297   \n",
       "1   16531.619141  16565.380859  16548.279297  16563.839844  16568.599609   \n",
       "2   16519.140625  16556.179688  16560.529297  16568.599609  16570.140625   \n",
       "3   16547.339844  16543.939453  16563.839844  16570.710938  16577.789062   \n",
       "4   16554.119141  16548.279297  16566.310547  16570.140625  16582.080078   \n",
       "5   16562.730469  16549.589844  16568.599609  16572.169922  16600.390625   \n",
       "6   16565.380859  16556.150391  16570.460938  16577.789062  16590.099609   \n",
       "7   16562.259766  16560.529297  16570.710938  16577.130859  16586.429688   \n",
       "8   16561.810547  16560.070312  16569.759766  16582.080078  16600.890625   \n",
       "9   16565.109375  16557.919922  16570.140625  16583.429688  16575.439453   \n",
       "10  16562.490234  16563.839844  16577.140625  16600.390625  16567.150391   \n",
       "11  16556.179688  16559.880859  16572.169922  16602.220703  16566.029297   \n",
       "12  16546.890625  16566.140625  16575.990234  16590.099609  16544.259766   \n",
       "13  16544.400391  16566.310547  16577.789062  16603.470703  16554.050781   \n",
       "14  16545.330078  16566.009766  16576.570312  16586.429688  16565.089844   \n",
       "15  16543.310547  16567.650391  16577.130859  16630.589844  16546.710938   \n",
       "16  16543.939453  16568.599609  16586.589844  16600.890625  16538.759766   \n",
       "17  16544.109375  16566.990234  16582.080078  16584.730469  16551.890625   \n",
       "18  16545.070312  16571.640625  16582.609375  16575.439453  16552.460938   \n",
       "19  16544.679688  16570.460938  16583.429688  16567.539062  16575.939453   \n",
       "\n",
       "               5             6             7             8  \n",
       "0   16548.279297  16570.140625  16590.099609  16607.480469  \n",
       "1   16570.140625  16590.099609  16565.089844  16633.470703  \n",
       "2   16582.080078  16567.150391  16607.480469  16547.310547  \n",
       "3   16590.099609  16565.089844  16555.259766  16706.359375  \n",
       "4   16600.890625  16552.460938  16474.929688  16919.390625  \n",
       "5   16567.150391  16607.480469  16633.470703  16832.109375  \n",
       "6   16544.259766  16525.369141  16616.599609  16836.119141  \n",
       "7   16565.089844  16555.259766  16556.369141  16778.500000  \n",
       "8   16538.759766  16496.269531  16547.310547  16821.429688  \n",
       "9   16552.460938  16474.929688  16578.519531  16824.669922  \n",
       "10  16568.240234  16599.080078  16647.160156  16895.560547  \n",
       "11  16607.480469  16633.470703  16706.359375  16438.880859  \n",
       "12  16585.060547  16612.400391  16799.779297  16738.210938  \n",
       "13  16525.369141  16616.599609  16869.189453  16776.519531  \n",
       "14  16533.119141  16598.699219  16919.390625  16632.119141  \n",
       "15  16555.259766  16556.369141  16809.509766  17356.339844  \n",
       "16  16465.880859  16558.330078  16843.650391  17803.150391  \n",
       "17  16496.269531  16547.310547  16832.109375  17774.699219  \n",
       "18  16517.210938  16595.919922  16793.089844  17209.830078  \n",
       "19  16474.929688  16578.519531  16821.970703  17085.050781  "
      ]
     },
     "execution_count": 112,
     "metadata": {},
     "output_type": "execute_result"
    }
   ],
   "source": [
    "pd.DataFrame(cria_janela(99)[0])"
   ]
  },
  {
   "cell_type": "code",
   "execution_count": 153,
   "id": "c4fa6c05",
   "metadata": {},
   "outputs": [],
   "source": [
    "def create_gaf(df):\n",
    "    # cria uma imagem gaf RGB\n",
    "    gasf = GramianAngularField(method='summation')\n",
    "    gadf = GramianAngularField(method='difference')\n",
    "    gadf = gadf.transform(df.T)\n",
    "    gasf = gasf.transform(df.T)\n",
    "    print(gadf.shape, gasf.shape)\n",
    "    \n",
    "    # une os 2 metodos em uma unica imagem. precisa ter 3 dimensoes pra virar RGB, então criamos uma array vazia\n",
    "    df = np.stack((gasf,gadf, np.zeros(shape=gasf.shape)), axis=-1)\n",
    "    return df"
   ]
  },
  {
   "cell_type": "code",
   "execution_count": null,
   "id": "39f549a8",
   "metadata": {},
   "outputs": [],
   "source": [
    "# codigo pra tornar rgb\n",
    "from pyts.image import GramianAngularField\n",
    "import numpy as np\n",
    "\n",
    "gasf = GramianAngularField(method='summation')\n",
    "x_train_gasf = gasf.transform(x_train)\n",
    "gadf = GramianAngularField(method='difference')\n",
    "x_train_gadf = gadf.transform(x_train)\n",
    "x_train_gaf=np.concatenate((x_train_gasf,x_train_gadf,np.zeros(x_train_gadf.shape)),axis=-1)"
   ]
  },
  {
   "cell_type": "code",
   "execution_count": 108,
   "id": "78ef3c9e",
   "metadata": {},
   "outputs": [
    {
     "data": {
      "text/html": [
       "<div>\n",
       "<style scoped>\n",
       "    .dataframe tbody tr th:only-of-type {\n",
       "        vertical-align: middle;\n",
       "    }\n",
       "\n",
       "    .dataframe tbody tr th {\n",
       "        vertical-align: top;\n",
       "    }\n",
       "\n",
       "    .dataframe thead th {\n",
       "        text-align: right;\n",
       "    }\n",
       "</style>\n",
       "<table border=\"1\" class=\"dataframe\">\n",
       "  <thead>\n",
       "    <tr style=\"text-align: right;\">\n",
       "      <th></th>\n",
       "      <th>0</th>\n",
       "      <th>1</th>\n",
       "    </tr>\n",
       "  </thead>\n",
       "  <tbody>\n",
       "    <tr>\n",
       "      <th>0</th>\n",
       "      <td>17163.640625</td>\n",
       "      <td>1.669853e+12</td>\n",
       "    </tr>\n",
       "    <tr>\n",
       "      <th>1</th>\n",
       "      <td>16442.529297</td>\n",
       "      <td>1.669766e+12</td>\n",
       "    </tr>\n",
       "    <tr>\n",
       "      <th>2</th>\n",
       "      <td>16212.910156</td>\n",
       "      <td>1.669680e+12</td>\n",
       "    </tr>\n",
       "    <tr>\n",
       "      <th>3</th>\n",
       "      <td>16428.779297</td>\n",
       "      <td>1.669594e+12</td>\n",
       "    </tr>\n",
       "    <tr>\n",
       "      <th>4</th>\n",
       "      <td>16458.570312</td>\n",
       "      <td>1.669507e+12</td>\n",
       "    </tr>\n",
       "    <tr>\n",
       "      <th>...</th>\n",
       "      <td>...</td>\n",
       "      <td>...</td>\n",
       "    </tr>\n",
       "    <tr>\n",
       "      <th>1927</th>\n",
       "      <td>4016.000000</td>\n",
       "      <td>1.503360e+12</td>\n",
       "    </tr>\n",
       "    <tr>\n",
       "      <th>1928</th>\n",
       "      <td>4086.290039</td>\n",
       "      <td>1.503274e+12</td>\n",
       "    </tr>\n",
       "    <tr>\n",
       "      <th>1929</th>\n",
       "      <td>4139.979980</td>\n",
       "      <td>1.503187e+12</td>\n",
       "    </tr>\n",
       "    <tr>\n",
       "      <th>1930</th>\n",
       "      <td>4108.370117</td>\n",
       "      <td>1.503101e+12</td>\n",
       "    </tr>\n",
       "    <tr>\n",
       "      <th>1931</th>\n",
       "      <td>4285.080078</td>\n",
       "      <td>1.503014e+12</td>\n",
       "    </tr>\n",
       "  </tbody>\n",
       "</table>\n",
       "<p>1932 rows × 2 columns</p>\n",
       "</div>"
      ],
      "text/plain": [
       "                 0             1\n",
       "0     17163.640625  1.669853e+12\n",
       "1     16442.529297  1.669766e+12\n",
       "2     16212.910156  1.669680e+12\n",
       "3     16428.779297  1.669594e+12\n",
       "4     16458.570312  1.669507e+12\n",
       "...            ...           ...\n",
       "1927   4016.000000  1.503360e+12\n",
       "1928   4086.290039  1.503274e+12\n",
       "1929   4139.979980  1.503187e+12\n",
       "1930   4108.370117  1.503101e+12\n",
       "1931   4285.080078  1.503014e+12\n",
       "\n",
       "[1932 rows x 2 columns]"
      ]
     },
     "execution_count": 108,
     "metadata": {},
     "output_type": "execute_result"
    }
   ],
   "source": [
    "teste = pd.DataFrame(dfs[-1])#.to_excel(\"teste1.xlsx\")\n",
    "teste\n",
    "#teste.loc[teste.iloc[:,0].isna() == True]"
   ]
  },
  {
   "cell_type": "code",
   "execution_count": 111,
   "id": "87d5eda1",
   "metadata": {},
   "outputs": [
    {
     "data": {
      "text/html": [
       "<div>\n",
       "<style scoped>\n",
       "    .dataframe tbody tr th:only-of-type {\n",
       "        vertical-align: middle;\n",
       "    }\n",
       "\n",
       "    .dataframe tbody tr th {\n",
       "        vertical-align: top;\n",
       "    }\n",
       "\n",
       "    .dataframe thead th {\n",
       "        text-align: right;\n",
       "    }\n",
       "</style>\n",
       "<table border=\"1\" class=\"dataframe\">\n",
       "  <thead>\n",
       "    <tr style=\"text-align: right;\">\n",
       "      <th></th>\n",
       "      <th>Open</th>\n",
       "      <th>High</th>\n",
       "      <th>Low</th>\n",
       "      <th>Close</th>\n",
       "      <th>Volume</th>\n",
       "      <th>Number of trades</th>\n",
       "    </tr>\n",
       "    <tr>\n",
       "      <th>Close time</th>\n",
       "      <th></th>\n",
       "      <th></th>\n",
       "      <th></th>\n",
       "      <th></th>\n",
       "      <th></th>\n",
       "      <th></th>\n",
       "    </tr>\n",
       "  </thead>\n",
       "  <tbody>\n",
       "    <tr>\n",
       "      <th>2017-08-17 04:00:59.999</th>\n",
       "      <td>4261.48</td>\n",
       "      <td>4261.48</td>\n",
       "      <td>4261.48</td>\n",
       "      <td>4261.48</td>\n",
       "      <td>1.775183</td>\n",
       "      <td>3</td>\n",
       "    </tr>\n",
       "    <tr>\n",
       "      <th>2017-08-17 04:01:59.999</th>\n",
       "      <td>4261.48</td>\n",
       "      <td>4261.48</td>\n",
       "      <td>4261.48</td>\n",
       "      <td>4261.48</td>\n",
       "      <td>0.000000</td>\n",
       "      <td>0</td>\n",
       "    </tr>\n",
       "    <tr>\n",
       "      <th>2017-08-17 04:02:59.999</th>\n",
       "      <td>4280.56</td>\n",
       "      <td>4280.56</td>\n",
       "      <td>4280.56</td>\n",
       "      <td>4280.56</td>\n",
       "      <td>0.261074</td>\n",
       "      <td>2</td>\n",
       "    </tr>\n",
       "    <tr>\n",
       "      <th>2017-08-17 04:03:59.999</th>\n",
       "      <td>4261.48</td>\n",
       "      <td>4261.48</td>\n",
       "      <td>4261.48</td>\n",
       "      <td>4261.48</td>\n",
       "      <td>0.012008</td>\n",
       "      <td>3</td>\n",
       "    </tr>\n",
       "    <tr>\n",
       "      <th>2017-08-17 04:04:59.999</th>\n",
       "      <td>4261.48</td>\n",
       "      <td>4261.48</td>\n",
       "      <td>4261.48</td>\n",
       "      <td>4261.48</td>\n",
       "      <td>0.140796</td>\n",
       "      <td>1</td>\n",
       "    </tr>\n",
       "    <tr>\n",
       "      <th>...</th>\n",
       "      <td>...</td>\n",
       "      <td>...</td>\n",
       "      <td>...</td>\n",
       "      <td>...</td>\n",
       "      <td>...</td>\n",
       "      <td>...</td>\n",
       "    </tr>\n",
       "    <tr>\n",
       "      <th>2022-11-30 23:55:59.999</th>\n",
       "      <td>17175.50</td>\n",
       "      <td>17215.59</td>\n",
       "      <td>17170.01</td>\n",
       "      <td>17173.33</td>\n",
       "      <td>531.365170</td>\n",
       "      <td>6445</td>\n",
       "    </tr>\n",
       "    <tr>\n",
       "      <th>2022-11-30 23:56:59.999</th>\n",
       "      <td>17173.33</td>\n",
       "      <td>17175.40</td>\n",
       "      <td>17150.70</td>\n",
       "      <td>17167.16</td>\n",
       "      <td>322.428780</td>\n",
       "      <td>7797</td>\n",
       "    </tr>\n",
       "    <tr>\n",
       "      <th>2022-11-30 23:57:59.999</th>\n",
       "      <td>17165.50</td>\n",
       "      <td>17170.80</td>\n",
       "      <td>17156.77</td>\n",
       "      <td>17161.26</td>\n",
       "      <td>160.506230</td>\n",
       "      <td>4056</td>\n",
       "    </tr>\n",
       "    <tr>\n",
       "      <th>2022-11-30 23:58:59.999</th>\n",
       "      <td>17161.26</td>\n",
       "      <td>17170.27</td>\n",
       "      <td>17159.51</td>\n",
       "      <td>17164.87</td>\n",
       "      <td>129.203750</td>\n",
       "      <td>3760</td>\n",
       "    </tr>\n",
       "    <tr>\n",
       "      <th>2022-11-30 23:59:59.999</th>\n",
       "      <td>17164.11</td>\n",
       "      <td>17167.99</td>\n",
       "      <td>17160.00</td>\n",
       "      <td>17163.64</td>\n",
       "      <td>143.984230</td>\n",
       "      <td>3565</td>\n",
       "    </tr>\n",
       "  </tbody>\n",
       "</table>\n",
       "<p>2773359 rows × 6 columns</p>\n",
       "</div>"
      ],
      "text/plain": [
       "                             Open      High       Low     Close      Volume  \\\n",
       "Close time                                                                    \n",
       "2017-08-17 04:00:59.999   4261.48   4261.48   4261.48   4261.48    1.775183   \n",
       "2017-08-17 04:01:59.999   4261.48   4261.48   4261.48   4261.48    0.000000   \n",
       "2017-08-17 04:02:59.999   4280.56   4280.56   4280.56   4280.56    0.261074   \n",
       "2017-08-17 04:03:59.999   4261.48   4261.48   4261.48   4261.48    0.012008   \n",
       "2017-08-17 04:04:59.999   4261.48   4261.48   4261.48   4261.48    0.140796   \n",
       "...                           ...       ...       ...       ...         ...   \n",
       "2022-11-30 23:55:59.999  17175.50  17215.59  17170.01  17173.33  531.365170   \n",
       "2022-11-30 23:56:59.999  17173.33  17175.40  17150.70  17167.16  322.428780   \n",
       "2022-11-30 23:57:59.999  17165.50  17170.80  17156.77  17161.26  160.506230   \n",
       "2022-11-30 23:58:59.999  17161.26  17170.27  17159.51  17164.87  129.203750   \n",
       "2022-11-30 23:59:59.999  17164.11  17167.99  17160.00  17163.64  143.984230   \n",
       "\n",
       "                         Number of trades  \n",
       "Close time                                 \n",
       "2017-08-17 04:00:59.999                 3  \n",
       "2017-08-17 04:01:59.999                 0  \n",
       "2017-08-17 04:02:59.999                 2  \n",
       "2017-08-17 04:03:59.999                 3  \n",
       "2017-08-17 04:04:59.999                 1  \n",
       "...                                   ...  \n",
       "2022-11-30 23:55:59.999              6445  \n",
       "2022-11-30 23:56:59.999              7797  \n",
       "2022-11-30 23:57:59.999              4056  \n",
       "2022-11-30 23:58:59.999              3760  \n",
       "2022-11-30 23:59:59.999              3565  \n",
       "\n",
       "[2773359 rows x 6 columns]"
      ]
     },
     "execution_count": 111,
     "metadata": {},
     "output_type": "execute_result"
    }
   ],
   "source": [
    "df = pd.read_csv(f\"./Dados/Processados/BTCUSDT-1m.csv\", index_col = \"Close time\"\n",
    "                     , usecols=[\"Close time\",\"Open\", \"High\", \"Low\", \"Close\", \"Volume\", \"Number of trades\"])\n",
    "df.index = pd.to_datetime(df.index, unit=\"ms\")\n",
    "df"
   ]
  },
  {
   "cell_type": "markdown",
   "id": "4d519f19",
   "metadata": {},
   "source": [
    "# Falhas\n",
    "Numba. Mais devagar mesmo 100% nopython. Talvez devido a falta de suporte ao argmax(), que fez com que eu tivesse que criar uma função pra encontrar o primeiro menor. No futuro, tentar pegar o indexador somando linhas."
   ]
  },
  {
   "cell_type": "code",
   "execution_count": 7,
   "id": "cb7239bb",
   "metadata": {},
   "outputs": [],
   "source": [
    "# aparentemente o numba precisa de uma lista especializada quando é lista de listas\n",
    "from numba.typed import List\n",
    "import numba_funcs\n",
    "\n",
    "dfs = numba_funcs.dfs_numba(timeframes)"
   ]
  },
  {
   "cell_type": "code",
   "execution_count": 8,
   "id": "9c169c99",
   "metadata": {},
   "outputs": [
    {
     "data": {
      "text/html": [
       "<div>\n",
       "<style scoped>\n",
       "    .dataframe tbody tr th:only-of-type {\n",
       "        vertical-align: middle;\n",
       "    }\n",
       "\n",
       "    .dataframe tbody tr th {\n",
       "        vertical-align: top;\n",
       "    }\n",
       "\n",
       "    .dataframe thead th {\n",
       "        text-align: right;\n",
       "    }\n",
       "</style>\n",
       "<table border=\"1\" class=\"dataframe\">\n",
       "  <thead>\n",
       "    <tr style=\"text-align: right;\">\n",
       "      <th></th>\n",
       "      <th>0</th>\n",
       "      <th>1</th>\n",
       "      <th>2</th>\n",
       "      <th>3</th>\n",
       "      <th>4</th>\n",
       "      <th>5</th>\n",
       "      <th>6</th>\n",
       "      <th>7</th>\n",
       "      <th>8</th>\n",
       "    </tr>\n",
       "  </thead>\n",
       "  <tbody>\n",
       "    <tr>\n",
       "      <th>0</th>\n",
       "      <td>16532.259766</td>\n",
       "      <td>16531.619141</td>\n",
       "      <td>16565.380859</td>\n",
       "      <td>16548.279297</td>\n",
       "      <td>16548.279297</td>\n",
       "      <td>16548.279297</td>\n",
       "      <td>16570.140625</td>\n",
       "      <td>16590.099609</td>\n",
       "      <td>16607.480469</td>\n",
       "    </tr>\n",
       "    <tr>\n",
       "      <th>1</th>\n",
       "      <td>16531.619141</td>\n",
       "      <td>16565.380859</td>\n",
       "      <td>16548.279297</td>\n",
       "      <td>16563.839844</td>\n",
       "      <td>16568.599609</td>\n",
       "      <td>16570.140625</td>\n",
       "      <td>16590.099609</td>\n",
       "      <td>16565.089844</td>\n",
       "      <td>16633.470703</td>\n",
       "    </tr>\n",
       "    <tr>\n",
       "      <th>2</th>\n",
       "      <td>16519.140625</td>\n",
       "      <td>16556.179688</td>\n",
       "      <td>16560.529297</td>\n",
       "      <td>16568.599609</td>\n",
       "      <td>16570.140625</td>\n",
       "      <td>16582.080078</td>\n",
       "      <td>16567.150391</td>\n",
       "      <td>16607.480469</td>\n",
       "      <td>16547.310547</td>\n",
       "    </tr>\n",
       "    <tr>\n",
       "      <th>3</th>\n",
       "      <td>16547.339844</td>\n",
       "      <td>16543.939453</td>\n",
       "      <td>16563.839844</td>\n",
       "      <td>16570.710938</td>\n",
       "      <td>16577.789062</td>\n",
       "      <td>16590.099609</td>\n",
       "      <td>16565.089844</td>\n",
       "      <td>16555.259766</td>\n",
       "      <td>16706.359375</td>\n",
       "    </tr>\n",
       "    <tr>\n",
       "      <th>4</th>\n",
       "      <td>16554.119141</td>\n",
       "      <td>16548.279297</td>\n",
       "      <td>16566.310547</td>\n",
       "      <td>16570.140625</td>\n",
       "      <td>16582.080078</td>\n",
       "      <td>16600.890625</td>\n",
       "      <td>16552.460938</td>\n",
       "      <td>16474.929688</td>\n",
       "      <td>16919.390625</td>\n",
       "    </tr>\n",
       "    <tr>\n",
       "      <th>5</th>\n",
       "      <td>16562.730469</td>\n",
       "      <td>16549.589844</td>\n",
       "      <td>16568.599609</td>\n",
       "      <td>16572.169922</td>\n",
       "      <td>16600.390625</td>\n",
       "      <td>16567.150391</td>\n",
       "      <td>16607.480469</td>\n",
       "      <td>16633.470703</td>\n",
       "      <td>16832.109375</td>\n",
       "    </tr>\n",
       "    <tr>\n",
       "      <th>6</th>\n",
       "      <td>16565.380859</td>\n",
       "      <td>16556.150391</td>\n",
       "      <td>16570.460938</td>\n",
       "      <td>16577.789062</td>\n",
       "      <td>16590.099609</td>\n",
       "      <td>16544.259766</td>\n",
       "      <td>16525.369141</td>\n",
       "      <td>16616.599609</td>\n",
       "      <td>16836.119141</td>\n",
       "    </tr>\n",
       "    <tr>\n",
       "      <th>7</th>\n",
       "      <td>16562.259766</td>\n",
       "      <td>16560.529297</td>\n",
       "      <td>16570.710938</td>\n",
       "      <td>16577.130859</td>\n",
       "      <td>16586.429688</td>\n",
       "      <td>16565.089844</td>\n",
       "      <td>16555.259766</td>\n",
       "      <td>16556.369141</td>\n",
       "      <td>16778.500000</td>\n",
       "    </tr>\n",
       "    <tr>\n",
       "      <th>8</th>\n",
       "      <td>16561.810547</td>\n",
       "      <td>16560.070312</td>\n",
       "      <td>16569.759766</td>\n",
       "      <td>16582.080078</td>\n",
       "      <td>16600.890625</td>\n",
       "      <td>16538.759766</td>\n",
       "      <td>16496.269531</td>\n",
       "      <td>16547.310547</td>\n",
       "      <td>16821.429688</td>\n",
       "    </tr>\n",
       "    <tr>\n",
       "      <th>9</th>\n",
       "      <td>16565.109375</td>\n",
       "      <td>16557.919922</td>\n",
       "      <td>16570.140625</td>\n",
       "      <td>16583.429688</td>\n",
       "      <td>16575.439453</td>\n",
       "      <td>16552.460938</td>\n",
       "      <td>16474.929688</td>\n",
       "      <td>16578.519531</td>\n",
       "      <td>16824.669922</td>\n",
       "    </tr>\n",
       "    <tr>\n",
       "      <th>10</th>\n",
       "      <td>16562.490234</td>\n",
       "      <td>16563.839844</td>\n",
       "      <td>16577.140625</td>\n",
       "      <td>16600.390625</td>\n",
       "      <td>16567.150391</td>\n",
       "      <td>16568.240234</td>\n",
       "      <td>16599.080078</td>\n",
       "      <td>16647.160156</td>\n",
       "      <td>16895.560547</td>\n",
       "    </tr>\n",
       "    <tr>\n",
       "      <th>11</th>\n",
       "      <td>16556.179688</td>\n",
       "      <td>16559.880859</td>\n",
       "      <td>16572.169922</td>\n",
       "      <td>16602.220703</td>\n",
       "      <td>16566.029297</td>\n",
       "      <td>16607.480469</td>\n",
       "      <td>16633.470703</td>\n",
       "      <td>16706.359375</td>\n",
       "      <td>16438.880859</td>\n",
       "    </tr>\n",
       "    <tr>\n",
       "      <th>12</th>\n",
       "      <td>16546.890625</td>\n",
       "      <td>16566.140625</td>\n",
       "      <td>16575.990234</td>\n",
       "      <td>16590.099609</td>\n",
       "      <td>16544.259766</td>\n",
       "      <td>16585.060547</td>\n",
       "      <td>16612.400391</td>\n",
       "      <td>16799.779297</td>\n",
       "      <td>16738.210938</td>\n",
       "    </tr>\n",
       "    <tr>\n",
       "      <th>13</th>\n",
       "      <td>16544.400391</td>\n",
       "      <td>16566.310547</td>\n",
       "      <td>16577.789062</td>\n",
       "      <td>16603.470703</td>\n",
       "      <td>16554.050781</td>\n",
       "      <td>16525.369141</td>\n",
       "      <td>16616.599609</td>\n",
       "      <td>16869.189453</td>\n",
       "      <td>16776.519531</td>\n",
       "    </tr>\n",
       "    <tr>\n",
       "      <th>14</th>\n",
       "      <td>16545.330078</td>\n",
       "      <td>16566.009766</td>\n",
       "      <td>16576.570312</td>\n",
       "      <td>16586.429688</td>\n",
       "      <td>16565.089844</td>\n",
       "      <td>16533.119141</td>\n",
       "      <td>16598.699219</td>\n",
       "      <td>16919.390625</td>\n",
       "      <td>16632.119141</td>\n",
       "    </tr>\n",
       "    <tr>\n",
       "      <th>15</th>\n",
       "      <td>16543.310547</td>\n",
       "      <td>16567.650391</td>\n",
       "      <td>16577.130859</td>\n",
       "      <td>16630.589844</td>\n",
       "      <td>16546.710938</td>\n",
       "      <td>16555.259766</td>\n",
       "      <td>16556.369141</td>\n",
       "      <td>16809.509766</td>\n",
       "      <td>17356.339844</td>\n",
       "    </tr>\n",
       "    <tr>\n",
       "      <th>16</th>\n",
       "      <td>16543.939453</td>\n",
       "      <td>16568.599609</td>\n",
       "      <td>16586.589844</td>\n",
       "      <td>16600.890625</td>\n",
       "      <td>16538.759766</td>\n",
       "      <td>16465.880859</td>\n",
       "      <td>16558.330078</td>\n",
       "      <td>16843.650391</td>\n",
       "      <td>17803.150391</td>\n",
       "    </tr>\n",
       "    <tr>\n",
       "      <th>17</th>\n",
       "      <td>16544.109375</td>\n",
       "      <td>16566.990234</td>\n",
       "      <td>16582.080078</td>\n",
       "      <td>16584.730469</td>\n",
       "      <td>16551.890625</td>\n",
       "      <td>16496.269531</td>\n",
       "      <td>16547.310547</td>\n",
       "      <td>16832.109375</td>\n",
       "      <td>17774.699219</td>\n",
       "    </tr>\n",
       "    <tr>\n",
       "      <th>18</th>\n",
       "      <td>16545.070312</td>\n",
       "      <td>16571.640625</td>\n",
       "      <td>16582.609375</td>\n",
       "      <td>16575.439453</td>\n",
       "      <td>16552.460938</td>\n",
       "      <td>16517.210938</td>\n",
       "      <td>16595.919922</td>\n",
       "      <td>16793.089844</td>\n",
       "      <td>17209.830078</td>\n",
       "    </tr>\n",
       "    <tr>\n",
       "      <th>19</th>\n",
       "      <td>16544.679688</td>\n",
       "      <td>16570.460938</td>\n",
       "      <td>16583.429688</td>\n",
       "      <td>16567.539062</td>\n",
       "      <td>16575.939453</td>\n",
       "      <td>16474.929688</td>\n",
       "      <td>16578.519531</td>\n",
       "      <td>16821.970703</td>\n",
       "      <td>17085.050781</td>\n",
       "    </tr>\n",
       "  </tbody>\n",
       "</table>\n",
       "</div>"
      ],
      "text/plain": [
       "               0             1             2             3             4  \\\n",
       "0   16532.259766  16531.619141  16565.380859  16548.279297  16548.279297   \n",
       "1   16531.619141  16565.380859  16548.279297  16563.839844  16568.599609   \n",
       "2   16519.140625  16556.179688  16560.529297  16568.599609  16570.140625   \n",
       "3   16547.339844  16543.939453  16563.839844  16570.710938  16577.789062   \n",
       "4   16554.119141  16548.279297  16566.310547  16570.140625  16582.080078   \n",
       "5   16562.730469  16549.589844  16568.599609  16572.169922  16600.390625   \n",
       "6   16565.380859  16556.150391  16570.460938  16577.789062  16590.099609   \n",
       "7   16562.259766  16560.529297  16570.710938  16577.130859  16586.429688   \n",
       "8   16561.810547  16560.070312  16569.759766  16582.080078  16600.890625   \n",
       "9   16565.109375  16557.919922  16570.140625  16583.429688  16575.439453   \n",
       "10  16562.490234  16563.839844  16577.140625  16600.390625  16567.150391   \n",
       "11  16556.179688  16559.880859  16572.169922  16602.220703  16566.029297   \n",
       "12  16546.890625  16566.140625  16575.990234  16590.099609  16544.259766   \n",
       "13  16544.400391  16566.310547  16577.789062  16603.470703  16554.050781   \n",
       "14  16545.330078  16566.009766  16576.570312  16586.429688  16565.089844   \n",
       "15  16543.310547  16567.650391  16577.130859  16630.589844  16546.710938   \n",
       "16  16543.939453  16568.599609  16586.589844  16600.890625  16538.759766   \n",
       "17  16544.109375  16566.990234  16582.080078  16584.730469  16551.890625   \n",
       "18  16545.070312  16571.640625  16582.609375  16575.439453  16552.460938   \n",
       "19  16544.679688  16570.460938  16583.429688  16567.539062  16575.939453   \n",
       "\n",
       "               5             6             7             8  \n",
       "0   16548.279297  16570.140625  16590.099609  16607.480469  \n",
       "1   16570.140625  16590.099609  16565.089844  16633.470703  \n",
       "2   16582.080078  16567.150391  16607.480469  16547.310547  \n",
       "3   16590.099609  16565.089844  16555.259766  16706.359375  \n",
       "4   16600.890625  16552.460938  16474.929688  16919.390625  \n",
       "5   16567.150391  16607.480469  16633.470703  16832.109375  \n",
       "6   16544.259766  16525.369141  16616.599609  16836.119141  \n",
       "7   16565.089844  16555.259766  16556.369141  16778.500000  \n",
       "8   16538.759766  16496.269531  16547.310547  16821.429688  \n",
       "9   16552.460938  16474.929688  16578.519531  16824.669922  \n",
       "10  16568.240234  16599.080078  16647.160156  16895.560547  \n",
       "11  16607.480469  16633.470703  16706.359375  16438.880859  \n",
       "12  16585.060547  16612.400391  16799.779297  16738.210938  \n",
       "13  16525.369141  16616.599609  16869.189453  16776.519531  \n",
       "14  16533.119141  16598.699219  16919.390625  16632.119141  \n",
       "15  16555.259766  16556.369141  16809.509766  17356.339844  \n",
       "16  16465.880859  16558.330078  16843.650391  17803.150391  \n",
       "17  16496.269531  16547.310547  16832.109375  17774.699219  \n",
       "18  16517.210938  16595.919922  16793.089844  17209.830078  \n",
       "19  16474.929688  16578.519531  16821.970703  17085.050781  "
      ]
     },
     "execution_count": 8,
     "metadata": {},
     "output_type": "execute_result"
    }
   ],
   "source": [
    "lookback = 20\n",
    "\n",
    "pd.DataFrame(numba_funcs.cria_janela(99, dfs, lookback))"
   ]
  },
  {
   "cell_type": "code",
   "execution_count": 29,
   "id": "1a62041d",
   "metadata": {},
   "outputs": [
    {
     "name": "stdout",
     "output_type": "stream",
     "text": [
      "2789199\n"
     ]
    },
    {
     "data": {
      "text/plain": [
       "(array([[4395.  , 4395.  , 4415.07, 4415.07, 4366.47, 4366.47, 4366.47,\n",
       "         4366.47, 4366.47],\n",
       "        [4388.45, 4382.4 , 4368.01, 4366.47, 4423.46, 4374.43, 4442.48,\n",
       "         4151.  , 4100.11],\n",
       "        [4384.  , 4415.07, 4366.47, 4450.52, 4374.43, 4442.48, 4151.  ,\n",
       "         4190.4 , 4509.08],\n",
       "        [4383.85, 4403.  , 4426.27, 4423.46, 4431.61, 4322.47, 4246.82,\n",
       "         4100.11, 4472.14],\n",
       "        [4382.4 , 4367.99, 4450.52, 4413.99, 4442.48, 4151.  , 4190.4 ,\n",
       "         4015.03, 4834.91],\n",
       "        [4382.4 , 4368.01, 4425.  , 4374.43, 4390.14, 4261.04, 3988.04,\n",
       "         4186.96, 4724.89],\n",
       "        [4365.74, 4368.  , 4423.46, 4399.42, 4322.47, 4246.82, 4100.11,\n",
       "         4509.08, 4555.14],\n",
       "        [4365.74, 4368.05, 4415.72, 4431.61, 4142.69, 4120.05, 4203.67,\n",
       "         4384.15, 4587.48],\n",
       "        [4365.74, 4366.47, 4413.99, 4381.21, 4151.  , 4190.4 , 4015.03,\n",
       "         4620.87, 4386.69],\n",
       "        [4397.02, 4370.85, 4397.99, 4442.48, 4229.  , 3960.01, 4153.  ,\n",
       "         4472.14, 4310.01],\n",
       "        [4415.07, 4404.15, 4374.43, 4427.14, 4261.04, 3988.04, 4186.96,\n",
       "         4460.19, 4337.44],\n",
       "        [4403.11, 4426.27, 4370.42, 4390.14, 4221.83, 3620.  , 4340.51,\n",
       "         4697.71, 4280.68],\n",
       "        [4403.02, 4428.68, 4399.42, 4373.36, 4246.82, 4100.11, 4509.08,\n",
       "         4834.91, 4316.01],\n",
       "        [4403.02, 4450.52, 4399.42, 4322.47, 4169.76, 4258.4 , 4529.  ,\n",
       "         4803.83, 4114.01],\n",
       "        [4414.9 , 4450.52, 4431.61, 4250.  , 4120.05, 4203.67, 4384.15,\n",
       "         4707.5 , 4040.  ],\n",
       "        [4403.  , 4473.09, 4370.21, 4142.69, 4086.8 , 3972.53, 4486.  ,\n",
       "         4724.89, 4016.  ],\n",
       "        [4403.  , 4473.82, 4381.21, 4180.  , 4190.4 , 4015.03, 4620.87,\n",
       "         4648.82, 4086.29],\n",
       "        [4403.  , 4425.  , 4419.26, 4151.  , 4013.46, 4275.19, 4569.54,\n",
       "         4592.16, 4139.98],\n",
       "        [4365.73, 4430.89, 4442.48, 4202.65, 3960.01, 4153.  , 4472.14,\n",
       "         4555.14, 4108.37],\n",
       "        [4366.85, 4425.  , 4457.75, 4229.  , 4038.01, 4336.42, 4509.77,\n",
       "         4546.77, 4285.08]], dtype=float32),\n",
       " True)"
      ]
     },
     "execution_count": 29,
     "metadata": {},
     "output_type": "execute_result"
    }
   ],
   "source": [
    "#ultima_linha = ((len(dfs[-1])-lookback-6)*timeframes_padronizado[-1])\n",
    "# ultima linha é a qtd de linhas de 1 min - (lookback (20 dias) x qtd de minutos em um dia) \n",
    "ultima_linha = len(dfs[0])-(lookback*timeframes_padronizado[-1])\n",
    "print(ultima_linha)\n",
    "cria_janela(ultima_linha+200, dfs, lookback)"
   ]
  },
  {
   "cell_type": "code",
   "execution_count": null,
   "id": "1ec372ad",
   "metadata": {},
   "outputs": [],
   "source": []
  }
 ],
 "metadata": {
  "kernelspec": {
   "display_name": "Python 3 (ipykernel)",
   "language": "python",
   "name": "python3"
  },
  "language_info": {
   "codemirror_mode": {
    "name": "ipython",
    "version": 3
   },
   "file_extension": ".py",
   "mimetype": "text/x-python",
   "name": "python",
   "nbconvert_exporter": "python",
   "pygments_lexer": "ipython3",
   "version": "3.9.13"
  }
 },
 "nbformat": 4,
 "nbformat_minor": 5
}
