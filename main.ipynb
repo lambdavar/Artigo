{
 "cells": [
  {
   "cell_type": "code",
   "execution_count": 2,
   "id": "e4c4f487",
   "metadata": {},
   "outputs": [],
   "source": [
    "import datetime as dt\n",
    "import wget\n",
    "import os\n",
    "import pandas as pd\n",
    "import numpy as np\n",
    "from zipfile import ZipFile\n",
    "from timeit import default_timer as timer\n",
    "from pyts.image import GramianAngularField\n",
    "from pyts.image import MarkovTransitionField\n",
    "from keras.utils import load_img\n",
    "from keras.utils import save_img\n",
    "from keras.utils import img_to_array\n",
    "from keras.utils import array_to_img\n",
    "import funcoes as f\n",
    "import asyncio\n",
    "\n",
    "%load_ext autoreload\n",
    "%autoreload 2"
   ]
  },
  {
   "cell_type": "markdown",
   "id": "2239fc88",
   "metadata": {},
   "source": [
    "## Constantes"
   ]
  },
  {
   "cell_type": "code",
   "execution_count": 33,
   "id": "b6d4ba7c",
   "metadata": {},
   "outputs": [],
   "source": [
    "# define o ticker do ativo que vou usar pra treinar o modelo\n",
    "ticker = \"BTCUSDT\"\n",
    "# timeframes precisa estar em ordem crescente e começar em 1s ou 1m\n",
    "timeframes = (\"1m\", \"5m\", \"15m\", \"30m\", \"1h\", \"2h\", \"4h\", \"8h\", \"1d\")\n",
    "# quantos períodos vamos olhar pro passado\n",
    "lookback = 20\n",
    "# numero de quantis pra usar no markov transition field. Precisa tunar.\n",
    "quantis = 3\n",
    "# pega número de timeframes por minuto ou segundo\n",
    "timeframes_padronizado = tuple(f.timeframes_mesma_unidade(timeframes))\n",
    "# tamanho das batches de treinamento. Tem mais a ver com velocidade de processamento e não interfere muito nos resultados\n",
    "batch_size = 200"
   ]
  },
  {
   "cell_type": "markdown",
   "id": "c93c9731",
   "metadata": {},
   "source": [
    "## Prepara os dados"
   ]
  },
  {
   "cell_type": "markdown",
   "id": "847dadd5",
   "metadata": {},
   "source": [
    "#### Só rodar se precisar baixar e processar tudo de novo!"
   ]
  },
  {
   "cell_type": "code",
   "execution_count": 5,
   "id": "a79cf363",
   "metadata": {},
   "outputs": [
    {
     "name": "stdout",
     "output_type": "stream",
     "text": [
      "BTCUSDT-1m já processado\n",
      "BTCUSDT-5m já processado\n",
      "BTCUSDT-15m já processado\n",
      "BTCUSDT-30m já processado\n",
      "BTCUSDT-1h já processado\n",
      "BTCUSDT-2h já processado\n",
      "BTCUSDT-4h já processado\n",
      "BTCUSDT-8h já processado\n",
      "BTCUSDT-1d já processado\n"
     ]
    }
   ],
   "source": [
    "# baixa os dados e junta cada timeframe e junta em 1 csv por timeframe\n",
    "# retorna None se arquivo processado já existe e timeframe se ele criou um arquivo do 0\n",
    "lista_processados = []\n",
    "for timeframe in timeframes:\n",
    "    lista_processados.append(f.baixa_e_concatena(ticker= ticker, timeframe=timeframe, ano_inicial=2017))"
   ]
  },
  {
   "cell_type": "code",
   "execution_count": 6,
   "id": "9601ed5f",
   "metadata": {},
   "outputs": [
    {
     "name": "stdout",
     "output_type": "stream",
     "text": [
      "Nada corrigido\n"
     ]
    }
   ],
   "source": [
    "# insere linhas sem dados e preenche com 0\n",
    "# só corrige os timeframes que foram processados anteriormente\n",
    "lista_p_correcao = [item for item in lista_processados if item != None]\n",
    "f.corrige_arquivos(lista_p_correcao)"
   ]
  },
  {
   "cell_type": "markdown",
   "id": "8bcf5e29",
   "metadata": {},
   "source": [
    "## Cria janelas, GAF images e salva como imagem\n",
    "Imagens ficam localizadas na pasta dados e são separadas por clissificação de compra ou venda"
   ]
  },
  {
   "cell_type": "code",
   "execution_count": 4,
   "id": "9bda3621",
   "metadata": {},
   "outputs": [
    {
     "data": {
      "text/plain": [
       "array([[1.6542400e+04, 1.6725311e+12],\n",
       "       [1.6536420e+04, 1.6725311e+12],\n",
       "       [1.6537779e+04, 1.6725310e+12],\n",
       "       ...,\n",
       "       [4.2805601e+03, 1.5029426e+12],\n",
       "       [4.2614800e+03, 1.5029425e+12],\n",
       "       [4.2614800e+03, 1.5029425e+12]], dtype=float32)"
      ]
     },
     "execution_count": 4,
     "metadata": {},
     "output_type": "execute_result"
    }
   ],
   "source": [
    "# cria uma lista de numpy arrays com os dados de cada timeframe.\n",
    "# Eles estão organizados na mesma ordem que os timeframes\n",
    "dfs = [(pd.read_csv(f\"./Dados/Processados/BTCUSDT-{timeframe}.csv\", \n",
    "                      usecols=[\"Close time\", \"Close\"])[::-1][[\"Close\", \"Close time\"]]).to_numpy(dtype=\"float32\") for timeframe in timeframes]\n",
    "dfs = tuple(dfs)\n",
    "dfs[0]"
   ]
  },
  {
   "cell_type": "code",
   "execution_count": null,
   "id": "07696cd4",
   "metadata": {},
   "outputs": [],
   "source": [
    "# pra poder rodar asincrono no jupyter precisa ter isso no topo da celula\n",
    "import nest_asyncio\n",
    "nest_asyncio.apply()\n",
    "\n",
    "\n",
    "if __name__ == '__main__':\n",
    "    ultima_linha = len(dfs[0])-(lookback*timeframes_padronizado[-1])\n",
    "    print(ultima_linha)\n",
    "    #linhas = ultima_linha\n",
    "    linhas = 10000\n",
    "    \n",
    "    start = timer()\n",
    "    f.roda_async(linhas, dfs, lookback, quantis)\n",
    "    end = timer()\n",
    "\n",
    "    print(\"Tempo de execução: \",end - start)\n",
    "    print(\"Tempo estimado para execução completa: \", (ultima_linha/linhas)*(end - start)/60, \" min\")"
   ]
  },
  {
   "cell_type": "markdown",
   "id": "95b3acaf",
   "metadata": {},
   "source": [
    "- paralelo threadpool = 149 min. 32 seg\n",
    "- async = 131 min 28 seg\n",
    "- normal = 167 min 35 seg\n",
    "- paralelo pool = N/A\n",
    "- async threadpool = 450 min 96 seg"
   ]
  },
  {
   "cell_type": "markdown",
   "id": "35b74b63",
   "metadata": {},
   "source": [
    "# Modelo"
   ]
  },
  {
   "cell_type": "code",
   "execution_count": 46,
   "id": "ad64f9ae",
   "metadata": {},
   "outputs": [],
   "source": [
    "import tensorflow as tf\n",
    "from tensorflow import keras\n",
    "from tensorflow.keras import layers\n",
    "from tensorflow.keras.preprocessing import image_dataset_from_directory\n",
    "from sklearn.svm import SVC"
   ]
  },
  {
   "cell_type": "markdown",
   "id": "93940693",
   "metadata": {},
   "source": [
    "Alimentar o modelo"
   ]
  },
  {
   "cell_type": "code",
   "execution_count": 36,
   "id": "ac1907df",
   "metadata": {},
   "outputs": [
    {
     "name": "stdout",
     "output_type": "stream",
     "text": [
      "Found 2564023 files belonging to 2 classes.\n",
      "Using 2051219 files for training.\n"
     ]
    },
    {
     "data": {
      "text/plain": [
       "<BatchDataset element_spec=(TensorSpec(shape=(None, 256, 256, 3), dtype=tf.float32, name=None), TensorSpec(shape=(None, 1), dtype=tf.float32, name=None))>"
      ]
     },
     "execution_count": 36,
     "metadata": {},
     "output_type": "execute_result"
    }
   ],
   "source": [
    "train_data = image_dataset_from_directory(\"./Dados/Imagens/\",\n",
    "                                                   label_mode=\"binary\",\n",
    "                                                  validation_split=0.2,\n",
    "                                                  batch_size=batch_size,\n",
    "                                                  subset=\"training\",\n",
    "                                                  seed=1337)\n",
    "\n",
    "test_data = image_dataset_from_directory(\"./Dados/Imagens/\",\n",
    "                                                   label_mode=\"binary\",\n",
    "                                                  validation_split=0.8,\n",
    "                                                  batch_size=batch_size,\n",
    "                                                  subset=\"training\",\n",
    "                                                  seed=1337)\n",
    "train_data, test_data"
   ]
  },
  {
   "cell_type": "markdown",
   "id": "ba3714f8",
   "metadata": {},
   "source": [
    "Definir modelo"
   ]
  },
  {
   "cell_type": "code",
   "execution_count": 37,
   "id": "c7d694e3",
   "metadata": {},
   "outputs": [
    {
     "name": "stdout",
     "output_type": "stream",
     "text": [
      "Model: \"sequential_19\"\n",
      "_________________________________________________________________\n",
      " Layer (type)                Output Shape              Param #   \n",
      "=================================================================\n",
      " conv2d_68 (Conv2D)          (None, 20, 180, 32)       896       \n",
      "                                                                 \n",
      " max_pooling2d_37 (MaxPoolin  (None, 10, 90, 32)       0         \n",
      " g2D)                                                            \n",
      "                                                                 \n",
      " dropout_32 (Dropout)        (None, 10, 90, 32)        0         \n",
      "                                                                 \n",
      "=================================================================\n",
      "Total params: 896\n",
      "Trainable params: 896\n",
      "Non-trainable params: 0\n",
      "_________________________________________________________________\n"
     ]
    }
   ],
   "source": [
    "def create_model():\n",
    "    # define our MLP network\n",
    "    model = keras.Sequential()\n",
    "    #model.add(layers.Input(shape=(20, 180, 3)))\n",
    "    #model.add(layers.Input(shape=(20, 20, 3)))\n",
    "    \n",
    "    \n",
    "    # primeira convolucao\n",
    "    model.add(layers.Conv2D(filters=32, kernel_size=(3, 3), activation='relu', padding=\"same\", input_shape = (20, 180, 3)))\n",
    "    model.add(layers.MaxPool2D(pool_size=(2, 2)))\n",
    "    model.add(layers.Dropout(0.25))\n",
    "    \n",
    "    # segunda convolucao\n",
    "    #model.add(layers.Conv2D(filters=64, kernel_size=(3, 3), activation='relu', padding=\"same\"))\n",
    "    #model.add(layers.Conv2D(filters=64, kernel_size=(3, 3), activation='relu', padding=\"same\"))\n",
    "    #model.add(layers.MaxPool2D(pool_size=(2, 2)))\n",
    "    #model.add(layers.Dropout(0.25))\n",
    "    \n",
    "    # terceira\n",
    "    #model.add(layers.Conv2D(filters=128, kernel_size=(3, 3), activation='relu', padding=\"same\"))\n",
    "    #model.add(layers.Conv2D(filters=128, kernel_size=(3, 3), activation='relu', padding=\"same\"))\n",
    "    #model.add(layers.MaxPool2D(pool_size=(2, 2)))\n",
    "    \n",
    "    # FC_1024\n",
    "    #model.add(layers.Dense(1, activation=\"softmax\"))\n",
    "    \n",
    "    return model\n",
    "model = create_model()\n",
    "model.summary()"
   ]
  },
  {
   "cell_type": "code",
   "execution_count": null,
   "id": "0e9724c0",
   "metadata": {},
   "outputs": [],
   "source": [
    "# compilar e treinar\n",
    "#model.compile()"
   ]
  },
  {
   "cell_type": "code",
   "execution_count": 45,
   "id": "40b17c88",
   "metadata": {},
   "outputs": [
    {
     "data": {
      "text/plain": [
       "<KerasTensor: shape=(None, 28800) dtype=float32 (created by layer 'flatten')>"
      ]
     },
     "execution_count": 45,
     "metadata": {},
     "output_type": "execute_result"
    }
   ],
   "source": [
    "# Primeira etapa seria treinar esse modelo pra depois pegar um output da layer flatten pra svm.\n",
    "# primeiro fazer sem treinar só pra ver o que a svm dá\n",
    "# depois pego os dados de x e y do gerador e passo pro svm\n",
    "model.add(layers.Flatten())\n",
    "saida = model.layers[3].output\n",
    "# dar predict no modelo com a ultima layer sendo o flatten e usando x_train\n",
    "\n",
    "\n",
    "# prototipo. nao entendi o argmax aqui. acho que só serve se é categorical. testar remover e deixar so o predict\n",
    "# nao rodar em tudo de uma vez tbm, pq tem muito dado\n",
    "predictions = np.array([])\n",
    "labels =  np.array([])\n",
    "for x, y in train_data:\n",
    "    predictions = np.concatenate([predictions, **np.argmax**(model.predict(x), axis = -1)])\n",
    "    labels = np.concatenate([labels, np.argmax(y.numpy(), axis=-1)])\n",
    "\n",
    "\n",
    "modelo_svm = SVC()\n",
    "model_svm.fit(predictions, labels)\n",
    "\n"
   ]
  },
  {
   "cell_type": "code",
   "execution_count": null,
   "id": "20e82f13",
   "metadata": {},
   "outputs": [],
   "source": [
    "train_label = np.concatenate([y for x, y in train_data], axis=0)"
   ]
  },
  {
   "cell_type": "code",
   "execution_count": 41,
   "id": "1b8d4c8c",
   "metadata": {},
   "outputs": [
    {
     "data": {
      "text/plain": [
       "<KerasTensor: shape=(None, 10, 90, 32) dtype=float32 (created by layer 'dropout_32')>"
      ]
     },
     "execution_count": 41,
     "metadata": {},
     "output_type": "execute_result"
    }
   ],
   "source": [
    "model.layers[2].output"
   ]
  },
  {
   "cell_type": "code",
   "execution_count": null,
   "id": "5b786a97",
   "metadata": {},
   "outputs": [],
   "source": [
    "'''\n",
    "Explicação de como fazer:\n",
    "\n",
    "You just select the output of a layer of the neural network and use that as a feature vector to train a SVM. Generally one normalizes the feature vectors as well.\n",
    "\n",
    "About implementation, you just have to train a neural network, then select one of the layers (usually the ones right before the fully connected layers or the first fully connected one), run the neural network on your dataset, store all the feature vectors, then train an SVM with a different library (e.g sklearn).\n",
    "\n",
    "'''"
   ]
  },
  {
   "cell_type": "code",
   "execution_count": null,
   "id": "5e49e8c3",
   "metadata": {},
   "outputs": [],
   "source": []
  },
  {
   "cell_type": "markdown",
   "id": "74315062",
   "metadata": {},
   "source": [
    "# Problemas:\n",
    "- Se for usar GAF image vai ter uma imagem 20x20 por coluna (supondo que estamos olhando 20 períodos no passado por vez)\n",
    "- Não está claro se 1D CNN é uma boa alternativa para timeseries.\n",
    "\n",
    "# Soluções:\n",
    "#### 1\n",
    "- Usar GAF de qualquer maneira para tentar replicar os resultados do trabalho do BARRA, usando apenas os preços de fechamento e ver se os resultados melhoram com CSVM\n",
    "- Depois se eu quiser adiciono mais dados, mas a imagem vai ficar bem grande. (5 colunas de t-20 resulta em uma imagem de 100x100). GAF usando mais dados seria o melhor dos mundos.\n",
    "\n",
    "#### 2\n",
    "- Usar 1D CNN com todos os dados disponíveis\n",
    "- Metodo completamente diferente do do BARRA. Não usa GAF images. Provavelmente mais fácil"
   ]
  },
  {
   "cell_type": "markdown",
   "id": "ae8e311a",
   "metadata": {},
   "source": [
    "### A partir daqui são só testes"
   ]
  },
  {
   "cell_type": "code",
   "execution_count": 62,
   "id": "7f91fd3b",
   "metadata": {},
   "outputs": [
    {
     "data": {
      "text/html": [
       "<div>\n",
       "<style scoped>\n",
       "    .dataframe tbody tr th:only-of-type {\n",
       "        vertical-align: middle;\n",
       "    }\n",
       "\n",
       "    .dataframe tbody tr th {\n",
       "        vertical-align: top;\n",
       "    }\n",
       "\n",
       "    .dataframe thead th {\n",
       "        text-align: right;\n",
       "    }\n",
       "</style>\n",
       "<table border=\"1\" class=\"dataframe\">\n",
       "  <thead>\n",
       "    <tr style=\"text-align: right;\">\n",
       "      <th></th>\n",
       "      <th>1m</th>\n",
       "      <th>5m</th>\n",
       "      <th>15m</th>\n",
       "      <th>30m</th>\n",
       "      <th>1h</th>\n",
       "      <th>2h</th>\n",
       "      <th>4h</th>\n",
       "      <th>8h</th>\n",
       "      <th>1d</th>\n",
       "    </tr>\n",
       "  </thead>\n",
       "  <tbody>\n",
       "    <tr>\n",
       "      <th>0</th>\n",
       "      <td>16531.619141</td>\n",
       "      <td>16531.619141</td>\n",
       "      <td>16565.380859</td>\n",
       "      <td>16548.279297</td>\n",
       "      <td>16548.279297</td>\n",
       "      <td>16548.279297</td>\n",
       "      <td>16570.140625</td>\n",
       "      <td>16590.099609</td>\n",
       "      <td>16607.480469</td>\n",
       "    </tr>\n",
       "    <tr>\n",
       "      <th>1</th>\n",
       "      <td>16519.140625</td>\n",
       "      <td>16565.380859</td>\n",
       "      <td>16548.279297</td>\n",
       "      <td>16563.839844</td>\n",
       "      <td>16568.599609</td>\n",
       "      <td>16570.140625</td>\n",
       "      <td>16590.099609</td>\n",
       "      <td>16565.089844</td>\n",
       "      <td>16633.470703</td>\n",
       "    </tr>\n",
       "    <tr>\n",
       "      <th>2</th>\n",
       "      <td>16547.339844</td>\n",
       "      <td>16556.179688</td>\n",
       "      <td>16560.529297</td>\n",
       "      <td>16568.599609</td>\n",
       "      <td>16570.140625</td>\n",
       "      <td>16582.080078</td>\n",
       "      <td>16567.150391</td>\n",
       "      <td>16607.480469</td>\n",
       "      <td>16547.310547</td>\n",
       "    </tr>\n",
       "    <tr>\n",
       "      <th>3</th>\n",
       "      <td>16554.119141</td>\n",
       "      <td>16543.939453</td>\n",
       "      <td>16563.839844</td>\n",
       "      <td>16570.710938</td>\n",
       "      <td>16577.789062</td>\n",
       "      <td>16590.099609</td>\n",
       "      <td>16565.089844</td>\n",
       "      <td>16555.259766</td>\n",
       "      <td>16706.359375</td>\n",
       "    </tr>\n",
       "    <tr>\n",
       "      <th>4</th>\n",
       "      <td>16562.730469</td>\n",
       "      <td>16548.279297</td>\n",
       "      <td>16566.310547</td>\n",
       "      <td>16570.140625</td>\n",
       "      <td>16582.080078</td>\n",
       "      <td>16600.890625</td>\n",
       "      <td>16552.460938</td>\n",
       "      <td>16474.929688</td>\n",
       "      <td>16919.390625</td>\n",
       "    </tr>\n",
       "    <tr>\n",
       "      <th>5</th>\n",
       "      <td>16565.380859</td>\n",
       "      <td>16549.589844</td>\n",
       "      <td>16568.599609</td>\n",
       "      <td>16572.169922</td>\n",
       "      <td>16600.390625</td>\n",
       "      <td>16567.150391</td>\n",
       "      <td>16607.480469</td>\n",
       "      <td>16633.470703</td>\n",
       "      <td>16832.109375</td>\n",
       "    </tr>\n",
       "    <tr>\n",
       "      <th>6</th>\n",
       "      <td>16562.259766</td>\n",
       "      <td>16556.150391</td>\n",
       "      <td>16570.460938</td>\n",
       "      <td>16577.789062</td>\n",
       "      <td>16590.099609</td>\n",
       "      <td>16544.259766</td>\n",
       "      <td>16525.369141</td>\n",
       "      <td>16616.599609</td>\n",
       "      <td>16836.119141</td>\n",
       "    </tr>\n",
       "    <tr>\n",
       "      <th>7</th>\n",
       "      <td>16561.810547</td>\n",
       "      <td>16560.529297</td>\n",
       "      <td>16570.710938</td>\n",
       "      <td>16577.130859</td>\n",
       "      <td>16586.429688</td>\n",
       "      <td>16565.089844</td>\n",
       "      <td>16555.259766</td>\n",
       "      <td>16556.369141</td>\n",
       "      <td>16778.500000</td>\n",
       "    </tr>\n",
       "    <tr>\n",
       "      <th>8</th>\n",
       "      <td>16565.109375</td>\n",
       "      <td>16560.070312</td>\n",
       "      <td>16569.759766</td>\n",
       "      <td>16582.080078</td>\n",
       "      <td>16600.890625</td>\n",
       "      <td>16538.759766</td>\n",
       "      <td>16496.269531</td>\n",
       "      <td>16547.310547</td>\n",
       "      <td>16821.429688</td>\n",
       "    </tr>\n",
       "    <tr>\n",
       "      <th>9</th>\n",
       "      <td>16562.490234</td>\n",
       "      <td>16557.919922</td>\n",
       "      <td>16570.140625</td>\n",
       "      <td>16583.429688</td>\n",
       "      <td>16575.439453</td>\n",
       "      <td>16552.460938</td>\n",
       "      <td>16474.929688</td>\n",
       "      <td>16578.519531</td>\n",
       "      <td>16824.669922</td>\n",
       "    </tr>\n",
       "    <tr>\n",
       "      <th>10</th>\n",
       "      <td>16556.179688</td>\n",
       "      <td>16563.839844</td>\n",
       "      <td>16577.140625</td>\n",
       "      <td>16600.390625</td>\n",
       "      <td>16567.150391</td>\n",
       "      <td>16568.240234</td>\n",
       "      <td>16599.080078</td>\n",
       "      <td>16647.160156</td>\n",
       "      <td>16895.560547</td>\n",
       "    </tr>\n",
       "    <tr>\n",
       "      <th>11</th>\n",
       "      <td>16546.890625</td>\n",
       "      <td>16559.880859</td>\n",
       "      <td>16572.169922</td>\n",
       "      <td>16602.220703</td>\n",
       "      <td>16566.029297</td>\n",
       "      <td>16607.480469</td>\n",
       "      <td>16633.470703</td>\n",
       "      <td>16706.359375</td>\n",
       "      <td>16438.880859</td>\n",
       "    </tr>\n",
       "    <tr>\n",
       "      <th>12</th>\n",
       "      <td>16544.400391</td>\n",
       "      <td>16566.140625</td>\n",
       "      <td>16575.990234</td>\n",
       "      <td>16590.099609</td>\n",
       "      <td>16544.259766</td>\n",
       "      <td>16585.060547</td>\n",
       "      <td>16612.400391</td>\n",
       "      <td>16799.779297</td>\n",
       "      <td>16738.210938</td>\n",
       "    </tr>\n",
       "    <tr>\n",
       "      <th>13</th>\n",
       "      <td>16545.330078</td>\n",
       "      <td>16566.310547</td>\n",
       "      <td>16577.789062</td>\n",
       "      <td>16603.470703</td>\n",
       "      <td>16554.050781</td>\n",
       "      <td>16525.369141</td>\n",
       "      <td>16616.599609</td>\n",
       "      <td>16869.189453</td>\n",
       "      <td>16776.519531</td>\n",
       "    </tr>\n",
       "    <tr>\n",
       "      <th>14</th>\n",
       "      <td>16543.310547</td>\n",
       "      <td>16566.009766</td>\n",
       "      <td>16576.570312</td>\n",
       "      <td>16586.429688</td>\n",
       "      <td>16565.089844</td>\n",
       "      <td>16533.119141</td>\n",
       "      <td>16598.699219</td>\n",
       "      <td>16919.390625</td>\n",
       "      <td>16632.119141</td>\n",
       "    </tr>\n",
       "    <tr>\n",
       "      <th>15</th>\n",
       "      <td>16543.939453</td>\n",
       "      <td>16567.650391</td>\n",
       "      <td>16577.130859</td>\n",
       "      <td>16630.589844</td>\n",
       "      <td>16546.710938</td>\n",
       "      <td>16555.259766</td>\n",
       "      <td>16556.369141</td>\n",
       "      <td>16809.509766</td>\n",
       "      <td>17356.339844</td>\n",
       "    </tr>\n",
       "    <tr>\n",
       "      <th>16</th>\n",
       "      <td>16544.109375</td>\n",
       "      <td>16568.599609</td>\n",
       "      <td>16586.589844</td>\n",
       "      <td>16600.890625</td>\n",
       "      <td>16538.759766</td>\n",
       "      <td>16465.880859</td>\n",
       "      <td>16558.330078</td>\n",
       "      <td>16843.650391</td>\n",
       "      <td>17803.150391</td>\n",
       "    </tr>\n",
       "    <tr>\n",
       "      <th>17</th>\n",
       "      <td>16545.070312</td>\n",
       "      <td>16566.990234</td>\n",
       "      <td>16582.080078</td>\n",
       "      <td>16584.730469</td>\n",
       "      <td>16551.890625</td>\n",
       "      <td>16496.269531</td>\n",
       "      <td>16547.310547</td>\n",
       "      <td>16832.109375</td>\n",
       "      <td>17774.699219</td>\n",
       "    </tr>\n",
       "    <tr>\n",
       "      <th>18</th>\n",
       "      <td>16544.679688</td>\n",
       "      <td>16571.640625</td>\n",
       "      <td>16582.609375</td>\n",
       "      <td>16575.439453</td>\n",
       "      <td>16552.460938</td>\n",
       "      <td>16517.210938</td>\n",
       "      <td>16595.919922</td>\n",
       "      <td>16793.089844</td>\n",
       "      <td>17209.830078</td>\n",
       "    </tr>\n",
       "    <tr>\n",
       "      <th>19</th>\n",
       "      <td>16545.550781</td>\n",
       "      <td>16570.460938</td>\n",
       "      <td>16583.429688</td>\n",
       "      <td>16567.539062</td>\n",
       "      <td>16575.939453</td>\n",
       "      <td>16474.929688</td>\n",
       "      <td>16578.519531</td>\n",
       "      <td>16821.970703</td>\n",
       "      <td>17085.050781</td>\n",
       "    </tr>\n",
       "  </tbody>\n",
       "</table>\n",
       "</div>"
      ],
      "text/plain": [
       "              1m            5m           15m           30m            1h  \\\n",
       "0   16531.619141  16531.619141  16565.380859  16548.279297  16548.279297   \n",
       "1   16519.140625  16565.380859  16548.279297  16563.839844  16568.599609   \n",
       "2   16547.339844  16556.179688  16560.529297  16568.599609  16570.140625   \n",
       "3   16554.119141  16543.939453  16563.839844  16570.710938  16577.789062   \n",
       "4   16562.730469  16548.279297  16566.310547  16570.140625  16582.080078   \n",
       "5   16565.380859  16549.589844  16568.599609  16572.169922  16600.390625   \n",
       "6   16562.259766  16556.150391  16570.460938  16577.789062  16590.099609   \n",
       "7   16561.810547  16560.529297  16570.710938  16577.130859  16586.429688   \n",
       "8   16565.109375  16560.070312  16569.759766  16582.080078  16600.890625   \n",
       "9   16562.490234  16557.919922  16570.140625  16583.429688  16575.439453   \n",
       "10  16556.179688  16563.839844  16577.140625  16600.390625  16567.150391   \n",
       "11  16546.890625  16559.880859  16572.169922  16602.220703  16566.029297   \n",
       "12  16544.400391  16566.140625  16575.990234  16590.099609  16544.259766   \n",
       "13  16545.330078  16566.310547  16577.789062  16603.470703  16554.050781   \n",
       "14  16543.310547  16566.009766  16576.570312  16586.429688  16565.089844   \n",
       "15  16543.939453  16567.650391  16577.130859  16630.589844  16546.710938   \n",
       "16  16544.109375  16568.599609  16586.589844  16600.890625  16538.759766   \n",
       "17  16545.070312  16566.990234  16582.080078  16584.730469  16551.890625   \n",
       "18  16544.679688  16571.640625  16582.609375  16575.439453  16552.460938   \n",
       "19  16545.550781  16570.460938  16583.429688  16567.539062  16575.939453   \n",
       "\n",
       "              2h            4h            8h            1d  \n",
       "0   16548.279297  16570.140625  16590.099609  16607.480469  \n",
       "1   16570.140625  16590.099609  16565.089844  16633.470703  \n",
       "2   16582.080078  16567.150391  16607.480469  16547.310547  \n",
       "3   16590.099609  16565.089844  16555.259766  16706.359375  \n",
       "4   16600.890625  16552.460938  16474.929688  16919.390625  \n",
       "5   16567.150391  16607.480469  16633.470703  16832.109375  \n",
       "6   16544.259766  16525.369141  16616.599609  16836.119141  \n",
       "7   16565.089844  16555.259766  16556.369141  16778.500000  \n",
       "8   16538.759766  16496.269531  16547.310547  16821.429688  \n",
       "9   16552.460938  16474.929688  16578.519531  16824.669922  \n",
       "10  16568.240234  16599.080078  16647.160156  16895.560547  \n",
       "11  16607.480469  16633.470703  16706.359375  16438.880859  \n",
       "12  16585.060547  16612.400391  16799.779297  16738.210938  \n",
       "13  16525.369141  16616.599609  16869.189453  16776.519531  \n",
       "14  16533.119141  16598.699219  16919.390625  16632.119141  \n",
       "15  16555.259766  16556.369141  16809.509766  17356.339844  \n",
       "16  16465.880859  16558.330078  16843.650391  17803.150391  \n",
       "17  16496.269531  16547.310547  16832.109375  17774.699219  \n",
       "18  16517.210938  16595.919922  16793.089844  17209.830078  \n",
       "19  16474.929688  16578.519531  16821.970703  17085.050781  "
      ]
     },
     "execution_count": 62,
     "metadata": {},
     "output_type": "execute_result"
    }
   ],
   "source": [
    "# exemplo de input que vai ser transformado em GAF dimesão é timeframes(linhas) x lookback(colunas) \n",
    "pd.DataFrame(cria_janela(100, dfs, lookback)[0], columns = timeframes)"
   ]
  },
  {
   "cell_type": "code",
   "execution_count": null,
   "id": "511709dc",
   "metadata": {},
   "outputs": [],
   "source": [
    "# gera pra todos os tempos\n",
    "# define se é long ou short\n",
    "# transforma em gaf\n",
    "# salva como imagem nas pastas long e short\n",
    "# passa pro keras imagedatagenerator"
   ]
  },
  {
   "cell_type": "code",
   "execution_count": 1,
   "id": "1aa53291",
   "metadata": {},
   "outputs": [],
   "source": []
  },
  {
   "cell_type": "code",
   "execution_count": null,
   "id": "effc8b3d",
   "metadata": {},
   "outputs": [],
   "source": []
  },
  {
   "cell_type": "markdown",
   "id": "a9968ed5",
   "metadata": {},
   "source": [
    "## OLD"
   ]
  },
  {
   "cell_type": "code",
   "execution_count": 6,
   "id": "6c70fe64",
   "metadata": {},
   "outputs": [
    {
     "name": "stdout",
     "output_type": "stream",
     "text": [
      "2797680\n",
      "Tempo de execução:  96.5389822\n",
      "Tempo estimado para execução completa:  450.14196620216  min\n"
     ]
    }
   ],
   "source": [
    "# pra poder rodar asincrono precisa ter isso no topo da celula\n",
    "import nest_asyncio\n",
    "nest_asyncio.apply()\n",
    "\n",
    "\n",
    "if __name__ == '__main__':\n",
    "    ultima_linha = len(dfs[0])-(lookback*timeframes_padronizado[-1])\n",
    "    print(ultima_linha)\n",
    "    linhas = ultima_linha\n",
    "    linhas = 10000\n",
    "    \n",
    "    start = timer()\n",
    "    f.roda_async(linhas, dfs, lookback, quantis)\n",
    "    #f.roda_paralelo(linhas, dfs, lookback, quantis)\n",
    "    #for linha in range(linhas):\n",
    "    #    df_janela, decisao = f.cria_janela(linha, dfs, lookback)\n",
    "    #    # se decisao não é long nem short ou tem um buraco nos dados no meio da janela, pula a iteração\n",
    "    #    if decisao == None or (0 in df_janela):\n",
    "    #        continue\n",
    "    #    # cria gaf image\n",
    "    #    img_array = f.cria_gaf(df_janela.T, quantis)\n",
    "    #    # salva como imagem na pasta long ou short\n",
    "    #    save_img(f'./Dados/Imagens/{decisao}/{linha}.png', array_to_img(img_array), scale=False)\n",
    "    end = timer()\n",
    "\n",
    "    print(\"Tempo de execução: \",end - start)\n",
    "    print(\"Tempo estimado para execução completa: \", (ultima_linha/linhas)*(end - start)/60, \" min\")"
   ]
  },
  {
   "cell_type": "code",
   "execution_count": 22,
   "id": "7c811c48",
   "metadata": {},
   "outputs": [
    {
     "name": "stdout",
     "output_type": "stream",
     "text": [
      "2797680\n",
      "Tempo de execução:  15.488407899999856\n",
      "Tempo estimado para execução completa:  72.21934835611933  min\n"
     ]
    }
   ],
   "source": [
    "#%%timeit\n",
    "# Paralelizar.\n",
    "\n",
    "linha = 0\n",
    "\n",
    "linhas = 10000\n",
    "start = timer()\n",
    "# ultima linha é a qtd de linhas de 1 min - (lookback (20 dias) x qtd de minutos em um dia) \n",
    "ultima_linha = len(dfs[0])-(lookback*timeframes_padronizado[-1])\n",
    "print(ultima_linha)\n",
    "for linha in range(linhas):# range(ultima_linha+1):\n",
    "    df_janela, decisao = cria_janela(linha, dfs, lookback)\n",
    "    # se decisao não é long nem short ou tem um buraco nos dados no meio da janela, pula a iteração\n",
    "    if decisao == None or (0 in df_janela):\n",
    "        continue\n",
    "    # cria gaf image\n",
    "    img_array = cria_gaf(df_janela.T, quantis)\n",
    "    # salva como imagem na pasta long ou short\n",
    "    save_img(f'./Dados/Imagens/{decisao}/{linha}.png', array_to_img(img_array), scale=False)\n",
    "end = timer()\n",
    "print(\"Tempo de execução: \",end - start)\n",
    "print(\"Tempo estimado para execução completa: \", (ultima_linha/linhas)*(end - start)/60, \" min\")\n",
    "#pd.DataFrame(df_janela)"
   ]
  },
  {
   "cell_type": "code",
   "execution_count": 85,
   "id": "a48e47a4",
   "metadata": {},
   "outputs": [
    {
     "name": "stdout",
     "output_type": "stream",
     "text": [
      "2797680\n",
      "Tempo de execução:  0.15151669999977457\n",
      "Tempo estimado para execução completa:  70.64920687589488  min\n",
      "Tempo cria_janela:  0.01038999998854706\n",
      "Tempo cria_gaf:  0.06572000002051936\n",
      "Tempo save_img:  0.06828999994468177\n",
      "0.001443999999537482\n"
     ]
    }
   ],
   "source": [
    "if __name__ == '__main__':\n",
    "    # medicao de tempo por funcao\n",
    "\n",
    "    linha = 0\n",
    "\n",
    "    linhas = 100\n",
    "    start = timer()\n",
    "    # ultima linha é a qtd de linhas de 1 min - (lookback (20 dias) x qtd de minutos em um dia) \n",
    "    ultima_linha = len(dfs[0])-(lookback*timeframes_padronizado[-1])\n",
    "    print(ultima_linha)\n",
    "    for linha in range(linhas):# range(ultima_linha+1):\n",
    "        cria_janela_ini = timer()\n",
    "        df_janela, decisao = cria_janela(linha, dfs, lookback)\n",
    "        cria_janela_fim = timer()\n",
    "        # se não é long nem short ou tem um buraco nos dados no meio da janela, pula a iteração\n",
    "        if decisao == None or (0 in df_janela):\n",
    "            continue\n",
    "        # cria gaf image\n",
    "        cria_gaf_ini = timer()\n",
    "        img_array = cria_gaf(df_janela.T, quantis)\n",
    "        cria_gaf_fim = timer()\n",
    "        # salva como imagem na pasta long ou short\n",
    "        save_img_ini = timer()\n",
    "        save_img(f'./Dados/Imagens/{decisao}/{linha}.png', array_to_img(img_array), scale=False)\n",
    "        save_img_fim = timer()\n",
    "    end = timer()\n",
    "    print(\"Tempo de execução: \",end - start)\n",
    "    print(\"Tempo estimado para execução completa: \", (ultima_linha/linhas)*(end - start)/60, \" min\")\n",
    "\n",
    "    cria_janela_t = cria_janela_fim - cria_janela_ini\n",
    "    cria_gaf_t = cria_gaf_fim - cria_gaf_ini\n",
    "    save_img_t = save_img_fim - save_img_ini\n",
    "\n",
    "\n",
    "    print(\"Tempo cria_janela: \", cria_janela_t*linhas)\n",
    "    print(\"Tempo cria_gaf: \", cria_gaf_t*linhas)\n",
    "    print(\"Tempo save_img: \", save_img_t*linhas)\n",
    "    print((cria_janela_t + cria_gaf_t + save_img_t)*linhas)\n",
    "    #pd.DataFrame(df_janela)"
   ]
  },
  {
   "cell_type": "code",
   "execution_count": 7,
   "id": "c8a31509",
   "metadata": {},
   "outputs": [
    {
     "name": "stdout",
     "output_type": "stream",
     "text": [
      "short\n",
      "(20, 180, 3)\n"
     ]
    },
    {
     "data": {
      "application/vnd.plotly.v1+json": {
       "config": {
        "plotlyServerURL": "https://plot.ly"
       },
       "data": [
        {
         "hovertemplate": "x: %{x}<br>y: %{y}<extra></extra>",
         "name": "0",
         "source": "data:image/png;base64,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",
         "type": "image",
         "xaxis": "x",
         "yaxis": "y"
        }
       ],
       "layout": {
        "margin": {
         "t": 60
        },
        "template": {
         "data": {
          "bar": [
           {
            "error_x": {
             "color": "#2a3f5f"
            },
            "error_y": {
             "color": "#2a3f5f"
            },
            "marker": {
             "line": {
              "color": "#E5ECF6",
              "width": 0.5
             },
             "pattern": {
              "fillmode": "overlay",
              "size": 10,
              "solidity": 0.2
             }
            },
            "type": "bar"
           }
          ],
          "barpolar": [
           {
            "marker": {
             "line": {
              "color": "#E5ECF6",
              "width": 0.5
             },
             "pattern": {
              "fillmode": "overlay",
              "size": 10,
              "solidity": 0.2
             }
            },
            "type": "barpolar"
           }
          ],
          "carpet": [
           {
            "aaxis": {
             "endlinecolor": "#2a3f5f",
             "gridcolor": "white",
             "linecolor": "white",
             "minorgridcolor": "white",
             "startlinecolor": "#2a3f5f"
            },
            "baxis": {
             "endlinecolor": "#2a3f5f",
             "gridcolor": "white",
             "linecolor": "white",
             "minorgridcolor": "white",
             "startlinecolor": "#2a3f5f"
            },
            "type": "carpet"
           }
          ],
          "choropleth": [
           {
            "colorbar": {
             "outlinewidth": 0,
             "ticks": ""
            },
            "type": "choropleth"
           }
          ],
          "contour": [
           {
            "colorbar": {
             "outlinewidth": 0,
             "ticks": ""
            },
            "colorscale": [
             [
              0,
              "#0d0887"
             ],
             [
              0.1111111111111111,
              "#46039f"
             ],
             [
              0.2222222222222222,
              "#7201a8"
             ],
             [
              0.3333333333333333,
              "#9c179e"
             ],
             [
              0.4444444444444444,
              "#bd3786"
             ],
             [
              0.5555555555555556,
              "#d8576b"
             ],
             [
              0.6666666666666666,
              "#ed7953"
             ],
             [
              0.7777777777777778,
              "#fb9f3a"
             ],
             [
              0.8888888888888888,
              "#fdca26"
             ],
             [
              1,
              "#f0f921"
             ]
            ],
            "type": "contour"
           }
          ],
          "contourcarpet": [
           {
            "colorbar": {
             "outlinewidth": 0,
             "ticks": ""
            },
            "type": "contourcarpet"
           }
          ],
          "heatmap": [
           {
            "colorbar": {
             "outlinewidth": 0,
             "ticks": ""
            },
            "colorscale": [
             [
              0,
              "#0d0887"
             ],
             [
              0.1111111111111111,
              "#46039f"
             ],
             [
              0.2222222222222222,
              "#7201a8"
             ],
             [
              0.3333333333333333,
              "#9c179e"
             ],
             [
              0.4444444444444444,
              "#bd3786"
             ],
             [
              0.5555555555555556,
              "#d8576b"
             ],
             [
              0.6666666666666666,
              "#ed7953"
             ],
             [
              0.7777777777777778,
              "#fb9f3a"
             ],
             [
              0.8888888888888888,
              "#fdca26"
             ],
             [
              1,
              "#f0f921"
             ]
            ],
            "type": "heatmap"
           }
          ],
          "heatmapgl": [
           {
            "colorbar": {
             "outlinewidth": 0,
             "ticks": ""
            },
            "colorscale": [
             [
              0,
              "#0d0887"
             ],
             [
              0.1111111111111111,
              "#46039f"
             ],
             [
              0.2222222222222222,
              "#7201a8"
             ],
             [
              0.3333333333333333,
              "#9c179e"
             ],
             [
              0.4444444444444444,
              "#bd3786"
             ],
             [
              0.5555555555555556,
              "#d8576b"
             ],
             [
              0.6666666666666666,
              "#ed7953"
             ],
             [
              0.7777777777777778,
              "#fb9f3a"
             ],
             [
              0.8888888888888888,
              "#fdca26"
             ],
             [
              1,
              "#f0f921"
             ]
            ],
            "type": "heatmapgl"
           }
          ],
          "histogram": [
           {
            "marker": {
             "pattern": {
              "fillmode": "overlay",
              "size": 10,
              "solidity": 0.2
             }
            },
            "type": "histogram"
           }
          ],
          "histogram2d": [
           {
            "colorbar": {
             "outlinewidth": 0,
             "ticks": ""
            },
            "colorscale": [
             [
              0,
              "#0d0887"
             ],
             [
              0.1111111111111111,
              "#46039f"
             ],
             [
              0.2222222222222222,
              "#7201a8"
             ],
             [
              0.3333333333333333,
              "#9c179e"
             ],
             [
              0.4444444444444444,
              "#bd3786"
             ],
             [
              0.5555555555555556,
              "#d8576b"
             ],
             [
              0.6666666666666666,
              "#ed7953"
             ],
             [
              0.7777777777777778,
              "#fb9f3a"
             ],
             [
              0.8888888888888888,
              "#fdca26"
             ],
             [
              1,
              "#f0f921"
             ]
            ],
            "type": "histogram2d"
           }
          ],
          "histogram2dcontour": [
           {
            "colorbar": {
             "outlinewidth": 0,
             "ticks": ""
            },
            "colorscale": [
             [
              0,
              "#0d0887"
             ],
             [
              0.1111111111111111,
              "#46039f"
             ],
             [
              0.2222222222222222,
              "#7201a8"
             ],
             [
              0.3333333333333333,
              "#9c179e"
             ],
             [
              0.4444444444444444,
              "#bd3786"
             ],
             [
              0.5555555555555556,
              "#d8576b"
             ],
             [
              0.6666666666666666,
              "#ed7953"
             ],
             [
              0.7777777777777778,
              "#fb9f3a"
             ],
             [
              0.8888888888888888,
              "#fdca26"
             ],
             [
              1,
              "#f0f921"
             ]
            ],
            "type": "histogram2dcontour"
           }
          ],
          "mesh3d": [
           {
            "colorbar": {
             "outlinewidth": 0,
             "ticks": ""
            },
            "type": "mesh3d"
           }
          ],
          "parcoords": [
           {
            "line": {
             "colorbar": {
              "outlinewidth": 0,
              "ticks": ""
             }
            },
            "type": "parcoords"
           }
          ],
          "pie": [
           {
            "automargin": true,
            "type": "pie"
           }
          ],
          "scatter": [
           {
            "fillpattern": {
             "fillmode": "overlay",
             "size": 10,
             "solidity": 0.2
            },
            "type": "scatter"
           }
          ],
          "scatter3d": [
           {
            "line": {
             "colorbar": {
              "outlinewidth": 0,
              "ticks": ""
             }
            },
            "marker": {
             "colorbar": {
              "outlinewidth": 0,
              "ticks": ""
             }
            },
            "type": "scatter3d"
           }
          ],
          "scattercarpet": [
           {
            "marker": {
             "colorbar": {
              "outlinewidth": 0,
              "ticks": ""
             }
            },
            "type": "scattercarpet"
           }
          ],
          "scattergeo": [
           {
            "marker": {
             "colorbar": {
              "outlinewidth": 0,
              "ticks": ""
             }
            },
            "type": "scattergeo"
           }
          ],
          "scattergl": [
           {
            "marker": {
             "colorbar": {
              "outlinewidth": 0,
              "ticks": ""
             }
            },
            "type": "scattergl"
           }
          ],
          "scattermapbox": [
           {
            "marker": {
             "colorbar": {
              "outlinewidth": 0,
              "ticks": ""
             }
            },
            "type": "scattermapbox"
           }
          ],
          "scatterpolar": [
           {
            "marker": {
             "colorbar": {
              "outlinewidth": 0,
              "ticks": ""
             }
            },
            "type": "scatterpolar"
           }
          ],
          "scatterpolargl": [
           {
            "marker": {
             "colorbar": {
              "outlinewidth": 0,
              "ticks": ""
             }
            },
            "type": "scatterpolargl"
           }
          ],
          "scatterternary": [
           {
            "marker": {
             "colorbar": {
              "outlinewidth": 0,
              "ticks": ""
             }
            },
            "type": "scatterternary"
           }
          ],
          "surface": [
           {
            "colorbar": {
             "outlinewidth": 0,
             "ticks": ""
            },
            "colorscale": [
             [
              0,
              "#0d0887"
             ],
             [
              0.1111111111111111,
              "#46039f"
             ],
             [
              0.2222222222222222,
              "#7201a8"
             ],
             [
              0.3333333333333333,
              "#9c179e"
             ],
             [
              0.4444444444444444,
              "#bd3786"
             ],
             [
              0.5555555555555556,
              "#d8576b"
             ],
             [
              0.6666666666666666,
              "#ed7953"
             ],
             [
              0.7777777777777778,
              "#fb9f3a"
             ],
             [
              0.8888888888888888,
              "#fdca26"
             ],
             [
              1,
              "#f0f921"
             ]
            ],
            "type": "surface"
           }
          ],
          "table": [
           {
            "cells": {
             "fill": {
              "color": "#EBF0F8"
             },
             "line": {
              "color": "white"
             }
            },
            "header": {
             "fill": {
              "color": "#C8D4E3"
             },
             "line": {
              "color": "white"
             }
            },
            "type": "table"
           }
          ]
         },
         "layout": {
          "annotationdefaults": {
           "arrowcolor": "#2a3f5f",
           "arrowhead": 0,
           "arrowwidth": 1
          },
          "autotypenumbers": "strict",
          "coloraxis": {
           "colorbar": {
            "outlinewidth": 0,
            "ticks": ""
           }
          },
          "colorscale": {
           "diverging": [
            [
             0,
             "#8e0152"
            ],
            [
             0.1,
             "#c51b7d"
            ],
            [
             0.2,
             "#de77ae"
            ],
            [
             0.3,
             "#f1b6da"
            ],
            [
             0.4,
             "#fde0ef"
            ],
            [
             0.5,
             "#f7f7f7"
            ],
            [
             0.6,
             "#e6f5d0"
            ],
            [
             0.7,
             "#b8e186"
            ],
            [
             0.8,
             "#7fbc41"
            ],
            [
             0.9,
             "#4d9221"
            ],
            [
             1,
             "#276419"
            ]
           ],
           "sequential": [
            [
             0,
             "#0d0887"
            ],
            [
             0.1111111111111111,
             "#46039f"
            ],
            [
             0.2222222222222222,
             "#7201a8"
            ],
            [
             0.3333333333333333,
             "#9c179e"
            ],
            [
             0.4444444444444444,
             "#bd3786"
            ],
            [
             0.5555555555555556,
             "#d8576b"
            ],
            [
             0.6666666666666666,
             "#ed7953"
            ],
            [
             0.7777777777777778,
             "#fb9f3a"
            ],
            [
             0.8888888888888888,
             "#fdca26"
            ],
            [
             1,
             "#f0f921"
            ]
           ],
           "sequentialminus": [
            [
             0,
             "#0d0887"
            ],
            [
             0.1111111111111111,
             "#46039f"
            ],
            [
             0.2222222222222222,
             "#7201a8"
            ],
            [
             0.3333333333333333,
             "#9c179e"
            ],
            [
             0.4444444444444444,
             "#bd3786"
            ],
            [
             0.5555555555555556,
             "#d8576b"
            ],
            [
             0.6666666666666666,
             "#ed7953"
            ],
            [
             0.7777777777777778,
             "#fb9f3a"
            ],
            [
             0.8888888888888888,
             "#fdca26"
            ],
            [
             1,
             "#f0f921"
            ]
           ]
          },
          "colorway": [
           "#636efa",
           "#EF553B",
           "#00cc96",
           "#ab63fa",
           "#FFA15A",
           "#19d3f3",
           "#FF6692",
           "#B6E880",
           "#FF97FF",
           "#FECB52"
          ],
          "font": {
           "color": "#2a3f5f"
          },
          "geo": {
           "bgcolor": "white",
           "lakecolor": "white",
           "landcolor": "#E5ECF6",
           "showlakes": true,
           "showland": true,
           "subunitcolor": "white"
          },
          "hoverlabel": {
           "align": "left"
          },
          "hovermode": "closest",
          "mapbox": {
           "style": "light"
          },
          "paper_bgcolor": "white",
          "plot_bgcolor": "#E5ECF6",
          "polar": {
           "angularaxis": {
            "gridcolor": "white",
            "linecolor": "white",
            "ticks": ""
           },
           "bgcolor": "#E5ECF6",
           "radialaxis": {
            "gridcolor": "white",
            "linecolor": "white",
            "ticks": ""
           }
          },
          "scene": {
           "xaxis": {
            "backgroundcolor": "#E5ECF6",
            "gridcolor": "white",
            "gridwidth": 2,
            "linecolor": "white",
            "showbackground": true,
            "ticks": "",
            "zerolinecolor": "white"
           },
           "yaxis": {
            "backgroundcolor": "#E5ECF6",
            "gridcolor": "white",
            "gridwidth": 2,
            "linecolor": "white",
            "showbackground": true,
            "ticks": "",
            "zerolinecolor": "white"
           },
           "zaxis": {
            "backgroundcolor": "#E5ECF6",
            "gridcolor": "white",
            "gridwidth": 2,
            "linecolor": "white",
            "showbackground": true,
            "ticks": "",
            "zerolinecolor": "white"
           }
          },
          "shapedefaults": {
           "line": {
            "color": "#2a3f5f"
           }
          },
          "ternary": {
           "aaxis": {
            "gridcolor": "white",
            "linecolor": "white",
            "ticks": ""
           },
           "baxis": {
            "gridcolor": "white",
            "linecolor": "white",
            "ticks": ""
           },
           "bgcolor": "#E5ECF6",
           "caxis": {
            "gridcolor": "white",
            "linecolor": "white",
            "ticks": ""
           }
          },
          "title": {
           "x": 0.05
          },
          "xaxis": {
           "automargin": true,
           "gridcolor": "white",
           "linecolor": "white",
           "ticks": "",
           "title": {
            "standoff": 15
           },
           "zerolinecolor": "white",
           "zerolinewidth": 2
          },
          "yaxis": {
           "automargin": true,
           "gridcolor": "white",
           "linecolor": "white",
           "ticks": "",
           "title": {
            "standoff": 15
           },
           "zerolinecolor": "white",
           "zerolinewidth": 2
          }
         }
        },
        "xaxis": {
         "anchor": "y",
         "domain": [
          0,
          1
         ]
        },
        "yaxis": {
         "anchor": "x",
         "domain": [
          0,
          1
         ]
        }
       }
      },
      "text/html": [
       "<div>                            <div id=\"fb587fbf-2a69-490f-9460-2764749191c4\" class=\"plotly-graph-div\" style=\"height:525px; width:100%;\"></div>            <script type=\"text/javascript\">                require([\"plotly\"], function(Plotly) {                    window.PLOTLYENV=window.PLOTLYENV || {};                                    if (document.getElementById(\"fb587fbf-2a69-490f-9460-2764749191c4\")) {                    Plotly.newPlot(                        \"fb587fbf-2a69-490f-9460-2764749191c4\",                        [{\"name\":\"0\",\"source\":\"data:image/png;base64,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\",\"type\":\"image\",\"xaxis\":\"x\",\"yaxis\":\"y\",\"hovertemplate\":\"x: %{x}<br>y: %{y}<extra></extra>\"}],                        {\"template\":{\"data\":{\"histogram2dcontour\":[{\"type\":\"histogram2dcontour\",\"colorbar\":{\"outlinewidth\":0,\"ticks\":\"\"},\"colorscale\":[[0.0,\"#0d0887\"],[0.1111111111111111,\"#46039f\"],[0.2222222222222222,\"#7201a8\"],[0.3333333333333333,\"#9c179e\"],[0.4444444444444444,\"#bd3786\"],[0.5555555555555556,\"#d8576b\"],[0.6666666666666666,\"#ed7953\"],[0.7777777777777778,\"#fb9f3a\"],[0.8888888888888888,\"#fdca26\"],[1.0,\"#f0f921\"]]}],\"choropleth\":[{\"type\":\"choropleth\",\"colorbar\":{\"outlinewidth\":0,\"ticks\":\"\"}}],\"histogram2d\":[{\"type\":\"histogram2d\",\"colorbar\":{\"outlinewidth\":0,\"ticks\":\"\"},\"colorscale\":[[0.0,\"#0d0887\"],[0.1111111111111111,\"#46039f\"],[0.2222222222222222,\"#7201a8\"],[0.3333333333333333,\"#9c179e\"],[0.4444444444444444,\"#bd3786\"],[0.5555555555555556,\"#d8576b\"],[0.6666666666666666,\"#ed7953\"],[0.7777777777777778,\"#fb9f3a\"],[0.8888888888888888,\"#fdca26\"],[1.0,\"#f0f921\"]]}],\"heatmap\":[{\"type\":\"heatmap\",\"colorbar\":{\"outlinewidth\":0,\"ticks\":\"\"},\"colorscale\":[[0.0,\"#0d0887\"],[0.1111111111111111,\"#46039f\"],[0.2222222222222222,\"#7201a8\"],[0.3333333333333333,\"#9c179e\"],[0.4444444444444444,\"#bd3786\"],[0.5555555555555556,\"#d8576b\"],[0.6666666666666666,\"#ed7953\"],[0.7777777777777778,\"#fb9f3a\"],[0.8888888888888888,\"#fdca26\"],[1.0,\"#f0f921\"]]}],\"heatmapgl\":[{\"type\":\"heatmapgl\",\"colorbar\":{\"outlinewidth\":0,\"ticks\":\"\"},\"colorscale\":[[0.0,\"#0d0887\"],[0.1111111111111111,\"#46039f\"],[0.2222222222222222,\"#7201a8\"],[0.3333333333333333,\"#9c179e\"],[0.4444444444444444,\"#bd3786\"],[0.5555555555555556,\"#d8576b\"],[0.6666666666666666,\"#ed7953\"],[0.7777777777777778,\"#fb9f3a\"],[0.8888888888888888,\"#fdca26\"],[1.0,\"#f0f921\"]]}],\"contourcarpet\":[{\"type\":\"contourcarpet\",\"colorbar\":{\"outlinewidth\":0,\"ticks\":\"\"}}],\"contour\":[{\"type\":\"contour\",\"colorbar\":{\"outlinewidth\":0,\"ticks\":\"\"},\"colorscale\":[[0.0,\"#0d0887\"],[0.1111111111111111,\"#46039f\"],[0.2222222222222222,\"#7201a8\"],[0.3333333333333333,\"#9c179e\"],[0.4444444444444444,\"#bd3786\"],[0.5555555555555556,\"#d8576b\"],[0.6666666666666666,\"#ed7953\"],[0.7777777777777778,\"#fb9f3a\"],[0.8888888888888888,\"#fdca26\"],[1.0,\"#f0f921\"]]}],\"surface\":[{\"type\":\"surface\",\"colorbar\":{\"outlinewidth\":0,\"ticks\":\"\"},\"colorscale\":[[0.0,\"#0d0887\"],[0.1111111111111111,\"#46039f\"],[0.2222222222222222,\"#7201a8\"],[0.3333333333333333,\"#9c179e\"],[0.4444444444444444,\"#bd3786\"],[0.5555555555555556,\"#d8576b\"],[0.6666666666666666,\"#ed7953\"],[0.7777777777777778,\"#fb9f3a\"],[0.8888888888888888,\"#fdca26\"],[1.0,\"#f0f921\"]]}],\"mesh3d\":[{\"type\":\"mesh3d\",\"colorbar\":{\"outlinewidth\":0,\"ticks\":\"\"}}],\"scatter\":[{\"fillpattern\":{\"fillmode\":\"overlay\",\"size\":10,\"solidity\":0.2},\"type\":\"scatter\"}],\"parcoords\":[{\"type\":\"parcoords\",\"line\":{\"colorbar\":{\"outlinewidth\":0,\"ticks\":\"\"}}}],\"scatterpolargl\":[{\"type\":\"scatterpolargl\",\"marker\":{\"colorbar\":{\"outlinewidth\":0,\"ticks\":\"\"}}}],\"bar\":[{\"error_x\":{\"color\":\"#2a3f5f\"},\"error_y\":{\"color\":\"#2a3f5f\"},\"marker\":{\"line\":{\"color\":\"#E5ECF6\",\"width\":0.5},\"pattern\":{\"fillmode\":\"overlay\",\"size\":10,\"solidity\":0.2}},\"type\":\"bar\"}],\"scattergeo\":[{\"type\":\"scattergeo\",\"marker\":{\"colorbar\":{\"outlinewidth\":0,\"ticks\":\"\"}}}],\"scatterpolar\":[{\"type\":\"scatterpolar\",\"marker\":{\"colorbar\":{\"outlinewidth\":0,\"ticks\":\"\"}}}],\"histogram\":[{\"marker\":{\"pattern\":{\"fillmode\":\"overlay\",\"size\":10,\"solidity\":0.2}},\"type\":\"histogram\"}],\"scattergl\":[{\"type\":\"scattergl\",\"marker\":{\"colorbar\":{\"outlinewidth\":0,\"ticks\":\"\"}}}],\"scatter3d\":[{\"type\":\"scatter3d\",\"line\":{\"colorbar\":{\"outlinewidth\":0,\"ticks\":\"\"}},\"marker\":{\"colorbar\":{\"outlinewidth\":0,\"ticks\":\"\"}}}],\"scattermapbox\":[{\"type\":\"scattermapbox\",\"marker\":{\"colorbar\":{\"outlinewidth\":0,\"ticks\":\"\"}}}],\"scatterternary\":[{\"type\":\"scatterternary\",\"marker\":{\"colorbar\":{\"outlinewidth\":0,\"ticks\":\"\"}}}],\"scattercarpet\":[{\"type\":\"scattercarpet\",\"marker\":{\"colorbar\":{\"outlinewidth\":0,\"ticks\":\"\"}}}],\"carpet\":[{\"aaxis\":{\"endlinecolor\":\"#2a3f5f\",\"gridcolor\":\"white\",\"linecolor\":\"white\",\"minorgridcolor\":\"white\",\"startlinecolor\":\"#2a3f5f\"},\"baxis\":{\"endlinecolor\":\"#2a3f5f\",\"gridcolor\":\"white\",\"linecolor\":\"white\",\"minorgridcolor\":\"white\",\"startlinecolor\":\"#2a3f5f\"},\"type\":\"carpet\"}],\"table\":[{\"cells\":{\"fill\":{\"color\":\"#EBF0F8\"},\"line\":{\"color\":\"white\"}},\"header\":{\"fill\":{\"color\":\"#C8D4E3\"},\"line\":{\"color\":\"white\"}},\"type\":\"table\"}],\"barpolar\":[{\"marker\":{\"line\":{\"color\":\"#E5ECF6\",\"width\":0.5},\"pattern\":{\"fillmode\":\"overlay\",\"size\":10,\"solidity\":0.2}},\"type\":\"barpolar\"}],\"pie\":[{\"automargin\":true,\"type\":\"pie\"}]},\"layout\":{\"autotypenumbers\":\"strict\",\"colorway\":[\"#636efa\",\"#EF553B\",\"#00cc96\",\"#ab63fa\",\"#FFA15A\",\"#19d3f3\",\"#FF6692\",\"#B6E880\",\"#FF97FF\",\"#FECB52\"],\"font\":{\"color\":\"#2a3f5f\"},\"hovermode\":\"closest\",\"hoverlabel\":{\"align\":\"left\"},\"paper_bgcolor\":\"white\",\"plot_bgcolor\":\"#E5ECF6\",\"polar\":{\"bgcolor\":\"#E5ECF6\",\"angularaxis\":{\"gridcolor\":\"white\",\"linecolor\":\"white\",\"ticks\":\"\"},\"radialaxis\":{\"gridcolor\":\"white\",\"linecolor\":\"white\",\"ticks\":\"\"}},\"ternary\":{\"bgcolor\":\"#E5ECF6\",\"aaxis\":{\"gridcolor\":\"white\",\"linecolor\":\"white\",\"ticks\":\"\"},\"baxis\":{\"gridcolor\":\"white\",\"linecolor\":\"white\",\"ticks\":\"\"},\"caxis\":{\"gridcolor\":\"white\",\"linecolor\":\"white\",\"ticks\":\"\"}},\"coloraxis\":{\"colorbar\":{\"outlinewidth\":0,\"ticks\":\"\"}},\"colorscale\":{\"sequential\":[[0.0,\"#0d0887\"],[0.1111111111111111,\"#46039f\"],[0.2222222222222222,\"#7201a8\"],[0.3333333333333333,\"#9c179e\"],[0.4444444444444444,\"#bd3786\"],[0.5555555555555556,\"#d8576b\"],[0.6666666666666666,\"#ed7953\"],[0.7777777777777778,\"#fb9f3a\"],[0.8888888888888888,\"#fdca26\"],[1.0,\"#f0f921\"]],\"sequentialminus\":[[0.0,\"#0d0887\"],[0.1111111111111111,\"#46039f\"],[0.2222222222222222,\"#7201a8\"],[0.3333333333333333,\"#9c179e\"],[0.4444444444444444,\"#bd3786\"],[0.5555555555555556,\"#d8576b\"],[0.6666666666666666,\"#ed7953\"],[0.7777777777777778,\"#fb9f3a\"],[0.8888888888888888,\"#fdca26\"],[1.0,\"#f0f921\"]],\"diverging\":[[0,\"#8e0152\"],[0.1,\"#c51b7d\"],[0.2,\"#de77ae\"],[0.3,\"#f1b6da\"],[0.4,\"#fde0ef\"],[0.5,\"#f7f7f7\"],[0.6,\"#e6f5d0\"],[0.7,\"#b8e186\"],[0.8,\"#7fbc41\"],[0.9,\"#4d9221\"],[1,\"#276419\"]]},\"xaxis\":{\"gridcolor\":\"white\",\"linecolor\":\"white\",\"ticks\":\"\",\"title\":{\"standoff\":15},\"zerolinecolor\":\"white\",\"automargin\":true,\"zerolinewidth\":2},\"yaxis\":{\"gridcolor\":\"white\",\"linecolor\":\"white\",\"ticks\":\"\",\"title\":{\"standoff\":15},\"zerolinecolor\":\"white\",\"automargin\":true,\"zerolinewidth\":2},\"scene\":{\"xaxis\":{\"backgroundcolor\":\"#E5ECF6\",\"gridcolor\":\"white\",\"linecolor\":\"white\",\"showbackground\":true,\"ticks\":\"\",\"zerolinecolor\":\"white\",\"gridwidth\":2},\"yaxis\":{\"backgroundcolor\":\"#E5ECF6\",\"gridcolor\":\"white\",\"linecolor\":\"white\",\"showbackground\":true,\"ticks\":\"\",\"zerolinecolor\":\"white\",\"gridwidth\":2},\"zaxis\":{\"backgroundcolor\":\"#E5ECF6\",\"gridcolor\":\"white\",\"linecolor\":\"white\",\"showbackground\":true,\"ticks\":\"\",\"zerolinecolor\":\"white\",\"gridwidth\":2}},\"shapedefaults\":{\"line\":{\"color\":\"#2a3f5f\"}},\"annotationdefaults\":{\"arrowcolor\":\"#2a3f5f\",\"arrowhead\":0,\"arrowwidth\":1},\"geo\":{\"bgcolor\":\"white\",\"landcolor\":\"#E5ECF6\",\"subunitcolor\":\"white\",\"showland\":true,\"showlakes\":true,\"lakecolor\":\"white\"},\"title\":{\"x\":0.05},\"mapbox\":{\"style\":\"light\"}}},\"xaxis\":{\"anchor\":\"y\",\"domain\":[0.0,1.0]},\"yaxis\":{\"anchor\":\"x\",\"domain\":[0.0,1.0]},\"margin\":{\"t\":60}},                        {\"responsive\": true}                    ).then(function(){\n",
       "                            \n",
       "var gd = document.getElementById('fb587fbf-2a69-490f-9460-2764749191c4');\n",
       "var x = new MutationObserver(function (mutations, observer) {{\n",
       "        var display = window.getComputedStyle(gd).display;\n",
       "        if (!display || display === 'none') {{\n",
       "            console.log([gd, 'removed!']);\n",
       "            Plotly.purge(gd);\n",
       "            observer.disconnect();\n",
       "        }}\n",
       "}});\n",
       "\n",
       "// Listen for the removal of the full notebook cells\n",
       "var notebookContainer = gd.closest('#notebook-container');\n",
       "if (notebookContainer) {{\n",
       "    x.observe(notebookContainer, {childList: true});\n",
       "}}\n",
       "\n",
       "// Listen for the clearing of the current output cell\n",
       "var outputEl = gd.closest('.output');\n",
       "if (outputEl) {{\n",
       "    x.observe(outputEl, {childList: true});\n",
       "}}\n",
       "\n",
       "                        })                };                });            </script>        </div>"
      ]
     },
     "metadata": {},
     "output_type": "display_data"
    },
    {
     "data": {
      "application/vnd.plotly.v1+json": {
       "config": {
        "plotlyServerURL": "https://plot.ly"
       },
       "data": [
        {
         "hovertemplate": "x: %{x}<br>y: %{y}<br>color: [%{z[0]}, %{z[1]}, %{z[2]}]<extra></extra>",
         "name": "0",
         "source": "data:image/png;base64,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",
         "type": "image",
         "xaxis": "x",
         "yaxis": "y"
        }
       ],
       "layout": {
        "margin": {
         "t": 60
        },
        "template": {
         "data": {
          "bar": [
           {
            "error_x": {
             "color": "#2a3f5f"
            },
            "error_y": {
             "color": "#2a3f5f"
            },
            "marker": {
             "line": {
              "color": "#E5ECF6",
              "width": 0.5
             },
             "pattern": {
              "fillmode": "overlay",
              "size": 10,
              "solidity": 0.2
             }
            },
            "type": "bar"
           }
          ],
          "barpolar": [
           {
            "marker": {
             "line": {
              "color": "#E5ECF6",
              "width": 0.5
             },
             "pattern": {
              "fillmode": "overlay",
              "size": 10,
              "solidity": 0.2
             }
            },
            "type": "barpolar"
           }
          ],
          "carpet": [
           {
            "aaxis": {
             "endlinecolor": "#2a3f5f",
             "gridcolor": "white",
             "linecolor": "white",
             "minorgridcolor": "white",
             "startlinecolor": "#2a3f5f"
            },
            "baxis": {
             "endlinecolor": "#2a3f5f",
             "gridcolor": "white",
             "linecolor": "white",
             "minorgridcolor": "white",
             "startlinecolor": "#2a3f5f"
            },
            "type": "carpet"
           }
          ],
          "choropleth": [
           {
            "colorbar": {
             "outlinewidth": 0,
             "ticks": ""
            },
            "type": "choropleth"
           }
          ],
          "contour": [
           {
            "colorbar": {
             "outlinewidth": 0,
             "ticks": ""
            },
            "colorscale": [
             [
              0,
              "#0d0887"
             ],
             [
              0.1111111111111111,
              "#46039f"
             ],
             [
              0.2222222222222222,
              "#7201a8"
             ],
             [
              0.3333333333333333,
              "#9c179e"
             ],
             [
              0.4444444444444444,
              "#bd3786"
             ],
             [
              0.5555555555555556,
              "#d8576b"
             ],
             [
              0.6666666666666666,
              "#ed7953"
             ],
             [
              0.7777777777777778,
              "#fb9f3a"
             ],
             [
              0.8888888888888888,
              "#fdca26"
             ],
             [
              1,
              "#f0f921"
             ]
            ],
            "type": "contour"
           }
          ],
          "contourcarpet": [
           {
            "colorbar": {
             "outlinewidth": 0,
             "ticks": ""
            },
            "type": "contourcarpet"
           }
          ],
          "heatmap": [
           {
            "colorbar": {
             "outlinewidth": 0,
             "ticks": ""
            },
            "colorscale": [
             [
              0,
              "#0d0887"
             ],
             [
              0.1111111111111111,
              "#46039f"
             ],
             [
              0.2222222222222222,
              "#7201a8"
             ],
             [
              0.3333333333333333,
              "#9c179e"
             ],
             [
              0.4444444444444444,
              "#bd3786"
             ],
             [
              0.5555555555555556,
              "#d8576b"
             ],
             [
              0.6666666666666666,
              "#ed7953"
             ],
             [
              0.7777777777777778,
              "#fb9f3a"
             ],
             [
              0.8888888888888888,
              "#fdca26"
             ],
             [
              1,
              "#f0f921"
             ]
            ],
            "type": "heatmap"
           }
          ],
          "heatmapgl": [
           {
            "colorbar": {
             "outlinewidth": 0,
             "ticks": ""
            },
            "colorscale": [
             [
              0,
              "#0d0887"
             ],
             [
              0.1111111111111111,
              "#46039f"
             ],
             [
              0.2222222222222222,
              "#7201a8"
             ],
             [
              0.3333333333333333,
              "#9c179e"
             ],
             [
              0.4444444444444444,
              "#bd3786"
             ],
             [
              0.5555555555555556,
              "#d8576b"
             ],
             [
              0.6666666666666666,
              "#ed7953"
             ],
             [
              0.7777777777777778,
              "#fb9f3a"
             ],
             [
              0.8888888888888888,
              "#fdca26"
             ],
             [
              1,
              "#f0f921"
             ]
            ],
            "type": "heatmapgl"
           }
          ],
          "histogram": [
           {
            "marker": {
             "pattern": {
              "fillmode": "overlay",
              "size": 10,
              "solidity": 0.2
             }
            },
            "type": "histogram"
           }
          ],
          "histogram2d": [
           {
            "colorbar": {
             "outlinewidth": 0,
             "ticks": ""
            },
            "colorscale": [
             [
              0,
              "#0d0887"
             ],
             [
              0.1111111111111111,
              "#46039f"
             ],
             [
              0.2222222222222222,
              "#7201a8"
             ],
             [
              0.3333333333333333,
              "#9c179e"
             ],
             [
              0.4444444444444444,
              "#bd3786"
             ],
             [
              0.5555555555555556,
              "#d8576b"
             ],
             [
              0.6666666666666666,
              "#ed7953"
             ],
             [
              0.7777777777777778,
              "#fb9f3a"
             ],
             [
              0.8888888888888888,
              "#fdca26"
             ],
             [
              1,
              "#f0f921"
             ]
            ],
            "type": "histogram2d"
           }
          ],
          "histogram2dcontour": [
           {
            "colorbar": {
             "outlinewidth": 0,
             "ticks": ""
            },
            "colorscale": [
             [
              0,
              "#0d0887"
             ],
             [
              0.1111111111111111,
              "#46039f"
             ],
             [
              0.2222222222222222,
              "#7201a8"
             ],
             [
              0.3333333333333333,
              "#9c179e"
             ],
             [
              0.4444444444444444,
              "#bd3786"
             ],
             [
              0.5555555555555556,
              "#d8576b"
             ],
             [
              0.6666666666666666,
              "#ed7953"
             ],
             [
              0.7777777777777778,
              "#fb9f3a"
             ],
             [
              0.8888888888888888,
              "#fdca26"
             ],
             [
              1,
              "#f0f921"
             ]
            ],
            "type": "histogram2dcontour"
           }
          ],
          "mesh3d": [
           {
            "colorbar": {
             "outlinewidth": 0,
             "ticks": ""
            },
            "type": "mesh3d"
           }
          ],
          "parcoords": [
           {
            "line": {
             "colorbar": {
              "outlinewidth": 0,
              "ticks": ""
             }
            },
            "type": "parcoords"
           }
          ],
          "pie": [
           {
            "automargin": true,
            "type": "pie"
           }
          ],
          "scatter": [
           {
            "fillpattern": {
             "fillmode": "overlay",
             "size": 10,
             "solidity": 0.2
            },
            "type": "scatter"
           }
          ],
          "scatter3d": [
           {
            "line": {
             "colorbar": {
              "outlinewidth": 0,
              "ticks": ""
             }
            },
            "marker": {
             "colorbar": {
              "outlinewidth": 0,
              "ticks": ""
             }
            },
            "type": "scatter3d"
           }
          ],
          "scattercarpet": [
           {
            "marker": {
             "colorbar": {
              "outlinewidth": 0,
              "ticks": ""
             }
            },
            "type": "scattercarpet"
           }
          ],
          "scattergeo": [
           {
            "marker": {
             "colorbar": {
              "outlinewidth": 0,
              "ticks": ""
             }
            },
            "type": "scattergeo"
           }
          ],
          "scattergl": [
           {
            "marker": {
             "colorbar": {
              "outlinewidth": 0,
              "ticks": ""
             }
            },
            "type": "scattergl"
           }
          ],
          "scattermapbox": [
           {
            "marker": {
             "colorbar": {
              "outlinewidth": 0,
              "ticks": ""
             }
            },
            "type": "scattermapbox"
           }
          ],
          "scatterpolar": [
           {
            "marker": {
             "colorbar": {
              "outlinewidth": 0,
              "ticks": ""
             }
            },
            "type": "scatterpolar"
           }
          ],
          "scatterpolargl": [
           {
            "marker": {
             "colorbar": {
              "outlinewidth": 0,
              "ticks": ""
             }
            },
            "type": "scatterpolargl"
           }
          ],
          "scatterternary": [
           {
            "marker": {
             "colorbar": {
              "outlinewidth": 0,
              "ticks": ""
             }
            },
            "type": "scatterternary"
           }
          ],
          "surface": [
           {
            "colorbar": {
             "outlinewidth": 0,
             "ticks": ""
            },
            "colorscale": [
             [
              0,
              "#0d0887"
             ],
             [
              0.1111111111111111,
              "#46039f"
             ],
             [
              0.2222222222222222,
              "#7201a8"
             ],
             [
              0.3333333333333333,
              "#9c179e"
             ],
             [
              0.4444444444444444,
              "#bd3786"
             ],
             [
              0.5555555555555556,
              "#d8576b"
             ],
             [
              0.6666666666666666,
              "#ed7953"
             ],
             [
              0.7777777777777778,
              "#fb9f3a"
             ],
             [
              0.8888888888888888,
              "#fdca26"
             ],
             [
              1,
              "#f0f921"
             ]
            ],
            "type": "surface"
           }
          ],
          "table": [
           {
            "cells": {
             "fill": {
              "color": "#EBF0F8"
             },
             "line": {
              "color": "white"
             }
            },
            "header": {
             "fill": {
              "color": "#C8D4E3"
             },
             "line": {
              "color": "white"
             }
            },
            "type": "table"
           }
          ]
         },
         "layout": {
          "annotationdefaults": {
           "arrowcolor": "#2a3f5f",
           "arrowhead": 0,
           "arrowwidth": 1
          },
          "autotypenumbers": "strict",
          "coloraxis": {
           "colorbar": {
            "outlinewidth": 0,
            "ticks": ""
           }
          },
          "colorscale": {
           "diverging": [
            [
             0,
             "#8e0152"
            ],
            [
             0.1,
             "#c51b7d"
            ],
            [
             0.2,
             "#de77ae"
            ],
            [
             0.3,
             "#f1b6da"
            ],
            [
             0.4,
             "#fde0ef"
            ],
            [
             0.5,
             "#f7f7f7"
            ],
            [
             0.6,
             "#e6f5d0"
            ],
            [
             0.7,
             "#b8e186"
            ],
            [
             0.8,
             "#7fbc41"
            ],
            [
             0.9,
             "#4d9221"
            ],
            [
             1,
             "#276419"
            ]
           ],
           "sequential": [
            [
             0,
             "#0d0887"
            ],
            [
             0.1111111111111111,
             "#46039f"
            ],
            [
             0.2222222222222222,
             "#7201a8"
            ],
            [
             0.3333333333333333,
             "#9c179e"
            ],
            [
             0.4444444444444444,
             "#bd3786"
            ],
            [
             0.5555555555555556,
             "#d8576b"
            ],
            [
             0.6666666666666666,
             "#ed7953"
            ],
            [
             0.7777777777777778,
             "#fb9f3a"
            ],
            [
             0.8888888888888888,
             "#fdca26"
            ],
            [
             1,
             "#f0f921"
            ]
           ],
           "sequentialminus": [
            [
             0,
             "#0d0887"
            ],
            [
             0.1111111111111111,
             "#46039f"
            ],
            [
             0.2222222222222222,
             "#7201a8"
            ],
            [
             0.3333333333333333,
             "#9c179e"
            ],
            [
             0.4444444444444444,
             "#bd3786"
            ],
            [
             0.5555555555555556,
             "#d8576b"
            ],
            [
             0.6666666666666666,
             "#ed7953"
            ],
            [
             0.7777777777777778,
             "#fb9f3a"
            ],
            [
             0.8888888888888888,
             "#fdca26"
            ],
            [
             1,
             "#f0f921"
            ]
           ]
          },
          "colorway": [
           "#636efa",
           "#EF553B",
           "#00cc96",
           "#ab63fa",
           "#FFA15A",
           "#19d3f3",
           "#FF6692",
           "#B6E880",
           "#FF97FF",
           "#FECB52"
          ],
          "font": {
           "color": "#2a3f5f"
          },
          "geo": {
           "bgcolor": "white",
           "lakecolor": "white",
           "landcolor": "#E5ECF6",
           "showlakes": true,
           "showland": true,
           "subunitcolor": "white"
          },
          "hoverlabel": {
           "align": "left"
          },
          "hovermode": "closest",
          "mapbox": {
           "style": "light"
          },
          "paper_bgcolor": "white",
          "plot_bgcolor": "#E5ECF6",
          "polar": {
           "angularaxis": {
            "gridcolor": "white",
            "linecolor": "white",
            "ticks": ""
           },
           "bgcolor": "#E5ECF6",
           "radialaxis": {
            "gridcolor": "white",
            "linecolor": "white",
            "ticks": ""
           }
          },
          "scene": {
           "xaxis": {
            "backgroundcolor": "#E5ECF6",
            "gridcolor": "white",
            "gridwidth": 2,
            "linecolor": "white",
            "showbackground": true,
            "ticks": "",
            "zerolinecolor": "white"
           },
           "yaxis": {
            "backgroundcolor": "#E5ECF6",
            "gridcolor": "white",
            "gridwidth": 2,
            "linecolor": "white",
            "showbackground": true,
            "ticks": "",
            "zerolinecolor": "white"
           },
           "zaxis": {
            "backgroundcolor": "#E5ECF6",
            "gridcolor": "white",
            "gridwidth": 2,
            "linecolor": "white",
            "showbackground": true,
            "ticks": "",
            "zerolinecolor": "white"
           }
          },
          "shapedefaults": {
           "line": {
            "color": "#2a3f5f"
           }
          },
          "ternary": {
           "aaxis": {
            "gridcolor": "white",
            "linecolor": "white",
            "ticks": ""
           },
           "baxis": {
            "gridcolor": "white",
            "linecolor": "white",
            "ticks": ""
           },
           "bgcolor": "#E5ECF6",
           "caxis": {
            "gridcolor": "white",
            "linecolor": "white",
            "ticks": ""
           }
          },
          "title": {
           "x": 0.05
          },
          "xaxis": {
           "automargin": true,
           "gridcolor": "white",
           "linecolor": "white",
           "ticks": "",
           "title": {
            "standoff": 15
           },
           "zerolinecolor": "white",
           "zerolinewidth": 2
          },
          "yaxis": {
           "automargin": true,
           "gridcolor": "white",
           "linecolor": "white",
           "ticks": "",
           "title": {
            "standoff": 15
           },
           "zerolinecolor": "white",
           "zerolinewidth": 2
          }
         }
        },
        "xaxis": {
         "anchor": "y",
         "domain": [
          0,
          1
         ]
        },
        "yaxis": {
         "anchor": "x",
         "domain": [
          0,
          1
         ]
        }
       }
      },
      "text/html": [
       "<div>                            <div id=\"6ebde5bc-d43c-44c6-a347-9f9f794299b5\" class=\"plotly-graph-div\" style=\"height:525px; width:100%;\"></div>            <script type=\"text/javascript\">                require([\"plotly\"], function(Plotly) {                    window.PLOTLYENV=window.PLOTLYENV || {};                                    if (document.getElementById(\"6ebde5bc-d43c-44c6-a347-9f9f794299b5\")) {                    Plotly.newPlot(                        \"6ebde5bc-d43c-44c6-a347-9f9f794299b5\",                        [{\"name\":\"0\",\"source\":\"data:image/png;base64,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\",\"type\":\"image\",\"xaxis\":\"x\",\"yaxis\":\"y\",\"hovertemplate\":\"x: %{x}<br>y: %{y}<br>color: [%{z[0]}, %{z[1]}, %{z[2]}]<extra></extra>\"}],                        {\"template\":{\"data\":{\"histogram2dcontour\":[{\"type\":\"histogram2dcontour\",\"colorbar\":{\"outlinewidth\":0,\"ticks\":\"\"},\"colorscale\":[[0.0,\"#0d0887\"],[0.1111111111111111,\"#46039f\"],[0.2222222222222222,\"#7201a8\"],[0.3333333333333333,\"#9c179e\"],[0.4444444444444444,\"#bd3786\"],[0.5555555555555556,\"#d8576b\"],[0.6666666666666666,\"#ed7953\"],[0.7777777777777778,\"#fb9f3a\"],[0.8888888888888888,\"#fdca26\"],[1.0,\"#f0f921\"]]}],\"choropleth\":[{\"type\":\"choropleth\",\"colorbar\":{\"outlinewidth\":0,\"ticks\":\"\"}}],\"histogram2d\":[{\"type\":\"histogram2d\",\"colorbar\":{\"outlinewidth\":0,\"ticks\":\"\"},\"colorscale\":[[0.0,\"#0d0887\"],[0.1111111111111111,\"#46039f\"],[0.2222222222222222,\"#7201a8\"],[0.3333333333333333,\"#9c179e\"],[0.4444444444444444,\"#bd3786\"],[0.5555555555555556,\"#d8576b\"],[0.6666666666666666,\"#ed7953\"],[0.7777777777777778,\"#fb9f3a\"],[0.8888888888888888,\"#fdca26\"],[1.0,\"#f0f921\"]]}],\"heatmap\":[{\"type\":\"heatmap\",\"colorbar\":{\"outlinewidth\":0,\"ticks\":\"\"},\"colorscale\":[[0.0,\"#0d0887\"],[0.1111111111111111,\"#46039f\"],[0.2222222222222222,\"#7201a8\"],[0.3333333333333333,\"#9c179e\"],[0.4444444444444444,\"#bd3786\"],[0.5555555555555556,\"#d8576b\"],[0.6666666666666666,\"#ed7953\"],[0.7777777777777778,\"#fb9f3a\"],[0.8888888888888888,\"#fdca26\"],[1.0,\"#f0f921\"]]}],\"heatmapgl\":[{\"type\":\"heatmapgl\",\"colorbar\":{\"outlinewidth\":0,\"ticks\":\"\"},\"colorscale\":[[0.0,\"#0d0887\"],[0.1111111111111111,\"#46039f\"],[0.2222222222222222,\"#7201a8\"],[0.3333333333333333,\"#9c179e\"],[0.4444444444444444,\"#bd3786\"],[0.5555555555555556,\"#d8576b\"],[0.6666666666666666,\"#ed7953\"],[0.7777777777777778,\"#fb9f3a\"],[0.8888888888888888,\"#fdca26\"],[1.0,\"#f0f921\"]]}],\"contourcarpet\":[{\"type\":\"contourcarpet\",\"colorbar\":{\"outlinewidth\":0,\"ticks\":\"\"}}],\"contour\":[{\"type\":\"contour\",\"colorbar\":{\"outlinewidth\":0,\"ticks\":\"\"},\"colorscale\":[[0.0,\"#0d0887\"],[0.1111111111111111,\"#46039f\"],[0.2222222222222222,\"#7201a8\"],[0.3333333333333333,\"#9c179e\"],[0.4444444444444444,\"#bd3786\"],[0.5555555555555556,\"#d8576b\"],[0.6666666666666666,\"#ed7953\"],[0.7777777777777778,\"#fb9f3a\"],[0.8888888888888888,\"#fdca26\"],[1.0,\"#f0f921\"]]}],\"surface\":[{\"type\":\"surface\",\"colorbar\":{\"outlinewidth\":0,\"ticks\":\"\"},\"colorscale\":[[0.0,\"#0d0887\"],[0.1111111111111111,\"#46039f\"],[0.2222222222222222,\"#7201a8\"],[0.3333333333333333,\"#9c179e\"],[0.4444444444444444,\"#bd3786\"],[0.5555555555555556,\"#d8576b\"],[0.6666666666666666,\"#ed7953\"],[0.7777777777777778,\"#fb9f3a\"],[0.8888888888888888,\"#fdca26\"],[1.0,\"#f0f921\"]]}],\"mesh3d\":[{\"type\":\"mesh3d\",\"colorbar\":{\"outlinewidth\":0,\"ticks\":\"\"}}],\"scatter\":[{\"fillpattern\":{\"fillmode\":\"overlay\",\"size\":10,\"solidity\":0.2},\"type\":\"scatter\"}],\"parcoords\":[{\"type\":\"parcoords\",\"line\":{\"colorbar\":{\"outlinewidth\":0,\"ticks\":\"\"}}}],\"scatterpolargl\":[{\"type\":\"scatterpolargl\",\"marker\":{\"colorbar\":{\"outlinewidth\":0,\"ticks\":\"\"}}}],\"bar\":[{\"error_x\":{\"color\":\"#2a3f5f\"},\"error_y\":{\"color\":\"#2a3f5f\"},\"marker\":{\"line\":{\"color\":\"#E5ECF6\",\"width\":0.5},\"pattern\":{\"fillmode\":\"overlay\",\"size\":10,\"solidity\":0.2}},\"type\":\"bar\"}],\"scattergeo\":[{\"type\":\"scattergeo\",\"marker\":{\"colorbar\":{\"outlinewidth\":0,\"ticks\":\"\"}}}],\"scatterpolar\":[{\"type\":\"scatterpolar\",\"marker\":{\"colorbar\":{\"outlinewidth\":0,\"ticks\":\"\"}}}],\"histogram\":[{\"marker\":{\"pattern\":{\"fillmode\":\"overlay\",\"size\":10,\"solidity\":0.2}},\"type\":\"histogram\"}],\"scattergl\":[{\"type\":\"scattergl\",\"marker\":{\"colorbar\":{\"outlinewidth\":0,\"ticks\":\"\"}}}],\"scatter3d\":[{\"type\":\"scatter3d\",\"line\":{\"colorbar\":{\"outlinewidth\":0,\"ticks\":\"\"}},\"marker\":{\"colorbar\":{\"outlinewidth\":0,\"ticks\":\"\"}}}],\"scattermapbox\":[{\"type\":\"scattermapbox\",\"marker\":{\"colorbar\":{\"outlinewidth\":0,\"ticks\":\"\"}}}],\"scatterternary\":[{\"type\":\"scatterternary\",\"marker\":{\"colorbar\":{\"outlinewidth\":0,\"ticks\":\"\"}}}],\"scattercarpet\":[{\"type\":\"scattercarpet\",\"marker\":{\"colorbar\":{\"outlinewidth\":0,\"ticks\":\"\"}}}],\"carpet\":[{\"aaxis\":{\"endlinecolor\":\"#2a3f5f\",\"gridcolor\":\"white\",\"linecolor\":\"white\",\"minorgridcolor\":\"white\",\"startlinecolor\":\"#2a3f5f\"},\"baxis\":{\"endlinecolor\":\"#2a3f5f\",\"gridcolor\":\"white\",\"linecolor\":\"white\",\"minorgridcolor\":\"white\",\"startlinecolor\":\"#2a3f5f\"},\"type\":\"carpet\"}],\"table\":[{\"cells\":{\"fill\":{\"color\":\"#EBF0F8\"},\"line\":{\"color\":\"white\"}},\"header\":{\"fill\":{\"color\":\"#C8D4E3\"},\"line\":{\"color\":\"white\"}},\"type\":\"table\"}],\"barpolar\":[{\"marker\":{\"line\":{\"color\":\"#E5ECF6\",\"width\":0.5},\"pattern\":{\"fillmode\":\"overlay\",\"size\":10,\"solidity\":0.2}},\"type\":\"barpolar\"}],\"pie\":[{\"automargin\":true,\"type\":\"pie\"}]},\"layout\":{\"autotypenumbers\":\"strict\",\"colorway\":[\"#636efa\",\"#EF553B\",\"#00cc96\",\"#ab63fa\",\"#FFA15A\",\"#19d3f3\",\"#FF6692\",\"#B6E880\",\"#FF97FF\",\"#FECB52\"],\"font\":{\"color\":\"#2a3f5f\"},\"hovermode\":\"closest\",\"hoverlabel\":{\"align\":\"left\"},\"paper_bgcolor\":\"white\",\"plot_bgcolor\":\"#E5ECF6\",\"polar\":{\"bgcolor\":\"#E5ECF6\",\"angularaxis\":{\"gridcolor\":\"white\",\"linecolor\":\"white\",\"ticks\":\"\"},\"radialaxis\":{\"gridcolor\":\"white\",\"linecolor\":\"white\",\"ticks\":\"\"}},\"ternary\":{\"bgcolor\":\"#E5ECF6\",\"aaxis\":{\"gridcolor\":\"white\",\"linecolor\":\"white\",\"ticks\":\"\"},\"baxis\":{\"gridcolor\":\"white\",\"linecolor\":\"white\",\"ticks\":\"\"},\"caxis\":{\"gridcolor\":\"white\",\"linecolor\":\"white\",\"ticks\":\"\"}},\"coloraxis\":{\"colorbar\":{\"outlinewidth\":0,\"ticks\":\"\"}},\"colorscale\":{\"sequential\":[[0.0,\"#0d0887\"],[0.1111111111111111,\"#46039f\"],[0.2222222222222222,\"#7201a8\"],[0.3333333333333333,\"#9c179e\"],[0.4444444444444444,\"#bd3786\"],[0.5555555555555556,\"#d8576b\"],[0.6666666666666666,\"#ed7953\"],[0.7777777777777778,\"#fb9f3a\"],[0.8888888888888888,\"#fdca26\"],[1.0,\"#f0f921\"]],\"sequentialminus\":[[0.0,\"#0d0887\"],[0.1111111111111111,\"#46039f\"],[0.2222222222222222,\"#7201a8\"],[0.3333333333333333,\"#9c179e\"],[0.4444444444444444,\"#bd3786\"],[0.5555555555555556,\"#d8576b\"],[0.6666666666666666,\"#ed7953\"],[0.7777777777777778,\"#fb9f3a\"],[0.8888888888888888,\"#fdca26\"],[1.0,\"#f0f921\"]],\"diverging\":[[0,\"#8e0152\"],[0.1,\"#c51b7d\"],[0.2,\"#de77ae\"],[0.3,\"#f1b6da\"],[0.4,\"#fde0ef\"],[0.5,\"#f7f7f7\"],[0.6,\"#e6f5d0\"],[0.7,\"#b8e186\"],[0.8,\"#7fbc41\"],[0.9,\"#4d9221\"],[1,\"#276419\"]]},\"xaxis\":{\"gridcolor\":\"white\",\"linecolor\":\"white\",\"ticks\":\"\",\"title\":{\"standoff\":15},\"zerolinecolor\":\"white\",\"automargin\":true,\"zerolinewidth\":2},\"yaxis\":{\"gridcolor\":\"white\",\"linecolor\":\"white\",\"ticks\":\"\",\"title\":{\"standoff\":15},\"zerolinecolor\":\"white\",\"automargin\":true,\"zerolinewidth\":2},\"scene\":{\"xaxis\":{\"backgroundcolor\":\"#E5ECF6\",\"gridcolor\":\"white\",\"linecolor\":\"white\",\"showbackground\":true,\"ticks\":\"\",\"zerolinecolor\":\"white\",\"gridwidth\":2},\"yaxis\":{\"backgroundcolor\":\"#E5ECF6\",\"gridcolor\":\"white\",\"linecolor\":\"white\",\"showbackground\":true,\"ticks\":\"\",\"zerolinecolor\":\"white\",\"gridwidth\":2},\"zaxis\":{\"backgroundcolor\":\"#E5ECF6\",\"gridcolor\":\"white\",\"linecolor\":\"white\",\"showbackground\":true,\"ticks\":\"\",\"zerolinecolor\":\"white\",\"gridwidth\":2}},\"shapedefaults\":{\"line\":{\"color\":\"#2a3f5f\"}},\"annotationdefaults\":{\"arrowcolor\":\"#2a3f5f\",\"arrowhead\":0,\"arrowwidth\":1},\"geo\":{\"bgcolor\":\"white\",\"landcolor\":\"#E5ECF6\",\"subunitcolor\":\"white\",\"showland\":true,\"showlakes\":true,\"lakecolor\":\"white\"},\"title\":{\"x\":0.05},\"mapbox\":{\"style\":\"light\"}}},\"xaxis\":{\"anchor\":\"y\",\"domain\":[0.0,1.0]},\"yaxis\":{\"anchor\":\"x\",\"domain\":[0.0,1.0]},\"margin\":{\"t\":60}},                        {\"responsive\": true}                    ).then(function(){\n",
       "                            \n",
       "var gd = document.getElementById('6ebde5bc-d43c-44c6-a347-9f9f794299b5');\n",
       "var x = new MutationObserver(function (mutations, observer) {{\n",
       "        var display = window.getComputedStyle(gd).display;\n",
       "        if (!display || display === 'none') {{\n",
       "            console.log([gd, 'removed!']);\n",
       "            Plotly.purge(gd);\n",
       "            observer.disconnect();\n",
       "        }}\n",
       "}});\n",
       "\n",
       "// Listen for the removal of the full notebook cells\n",
       "var notebookContainer = gd.closest('#notebook-container');\n",
       "if (notebookContainer) {{\n",
       "    x.observe(notebookContainer, {childList: true});\n",
       "}}\n",
       "\n",
       "// Listen for the clearing of the current output cell\n",
       "var outputEl = gd.closest('.output');\n",
       "if (outputEl) {{\n",
       "    x.observe(outputEl, {childList: true});\n",
       "}}\n",
       "\n",
       "                        })                };                });            </script>        </div>"
      ]
     },
     "metadata": {},
     "output_type": "display_data"
    }
   ],
   "source": [
    "if __name__ == '__main__':\n",
    "    # prova que as imagens salvas são iguais aos dados originais. \n",
    "    # Primeiro plota o dado puro e depois salvando e lendo como imagem\n",
    "    import plotly.express as px\n",
    "\n",
    "    df_janela, long = f.cria_janela(99,dfs, lookback)\n",
    "    print(long)\n",
    "    img_array = f.cria_gaf(df_janela.T, quantis)\n",
    "    fig = px.imshow(img_array, zmin=-1., zmax=1.)\n",
    "    print(img_array.shape)\n",
    "    fig.show()\n",
    "\n",
    "\n",
    "    # example of saving an image with the Keras API\n",
    "    from keras.utils import load_img\n",
    "    from keras.utils import save_img\n",
    "    from keras.utils import img_to_array\n",
    "    from keras.utils import array_to_img\n",
    "\n",
    "\n",
    "    save_img('teste.png', array_to_img(img_array), scale=False)\n",
    "    # load the image to confirm it was saved correctly\n",
    "    img = load_img('teste.png')\n",
    "    img = img_to_array(img)\n",
    "\n",
    "    fig = px.imshow(img)#, zmin=-1., zmax=1.)\n",
    "    fig.show()"
   ]
  },
  {
   "cell_type": "code",
   "execution_count": 108,
   "id": "df6efdc1",
   "metadata": {},
   "outputs": [
    {
     "name": "stdout",
     "output_type": "stream",
     "text": [
      "9 imagens de dimensão (20, 20) com 3 canais (RGB)\n"
     ]
    },
    {
     "data": {
      "application/vnd.plotly.v1+json": {
       "config": {
        "plotlyServerURL": "https://plot.ly"
       },
       "data": [
        {
         "hovertemplate": "x: %{x}<br>y: %{y}<extra></extra>",
         "name": "0",
         "source": "data:image/png;base64,iVBORw0KGgoAAAANSUhEUgAAABQAAAAUCAIAAAAC64paAAADDElEQVR4XkWUz2vcZRDGP/P+SDbNZku+4MYkRhtI2W2aEEMKKqFQQY+Cdw/9E/wHBC/9B7z3quDBS8+hLUIxIltrkoaUiolio25gxc13N5t933lfD5sozOHhmRnmGZ5hZO3zbRu59wUffdvReWZf+36t5GkVhaXAkeeki/z8jusV2XVcv0gWhOQ7knDW4cAZxIJBISYUEmgmQTYYi7EkiziMJQvGguDufYpLfAh3l3n5D8+22HrC9B2Mo/UjtZusN9lYpWYImUlBIUMAA2LffiDK3X2+/oyZJpvv/XF7noe/ESK3Ftj9k519ftmeDaeIR3uIBcF4csLpK0i8vMrMAdegOc/1KsdHhEijQviV8gXlC85OsZ5h/0KwdeSEmz1pKTz7gI+/K5qveJ9Pbgywj4mBxt/U95huMbX7ZXfQ8bboDzvWIOBtkTJurUo0bG1y+xHXS25UuArLT0iR4oyJ54wf4P+im/BCL2NBwEMC97REYfoxD9/k+Br2Dsub/AQx0NzgsE6ryvYu5RnO0h9yOZmUcSNXTCQ4giN6kiN6Iqi/YKIlWLBEQzaIIKPmJY8KrXVu3acxoDFNMUGzhQbmwO+R9wi/0414Q09xgoAXErijQILac3ZfJ7xFfYWJmxy2CRG/wiHsD9gbcDrAW3rnOANyKfukRk6sH7CzTtlgeoPxJq2SGMgr7Ff4AXaUfol1nJ9hLPKfVbK0YZSNXb56l7LB1Oo3fobtVaIS3mCvwo7lkMXQXTSe2FsUhwgyOhI3WTdKLRGmOmdTdCvHXUM5QVC6jtMK/SqhtqAUyXeSLUZeyViHhMuxnZQgSMAGvM75kQeKT3jFRkyIKbQFJLRJIBghK85dqUtkMqOTneEV+mPHPaE/Rkz0LL1xzieIkwtJC/GdRIFFBB1NTopRFEQxik1YsImccBmXMIpEUDCgCCBIhIQjkzMZyJARLiMjQEYyki+zI3BZ7FJoGyWACdiI1zkPXhHF54udJUQZtk1Gh21xIAiQcGIgYyAbsiEJCZL8D0Y8hmzBjJ4AGDL8C6kAfPCN4g8vAAAAAElFTkSuQmCC",
         "type": "image",
         "xaxis": "x",
         "yaxis": "y"
        }
       ],
       "layout": {
        "autosize": true,
        "margin": {
         "t": 60
        },
        "template": {
         "data": {
          "bar": [
           {
            "error_x": {
             "color": "#2a3f5f"
            },
            "error_y": {
             "color": "#2a3f5f"
            },
            "marker": {
             "line": {
              "color": "#E5ECF6",
              "width": 0.5
             },
             "pattern": {
              "fillmode": "overlay",
              "size": 10,
              "solidity": 0.2
             }
            },
            "type": "bar"
           }
          ],
          "barpolar": [
           {
            "marker": {
             "line": {
              "color": "#E5ECF6",
              "width": 0.5
             },
             "pattern": {
              "fillmode": "overlay",
              "size": 10,
              "solidity": 0.2
             }
            },
            "type": "barpolar"
           }
          ],
          "carpet": [
           {
            "aaxis": {
             "endlinecolor": "#2a3f5f",
             "gridcolor": "white",
             "linecolor": "white",
             "minorgridcolor": "white",
             "startlinecolor": "#2a3f5f"
            },
            "baxis": {
             "endlinecolor": "#2a3f5f",
             "gridcolor": "white",
             "linecolor": "white",
             "minorgridcolor": "white",
             "startlinecolor": "#2a3f5f"
            },
            "type": "carpet"
           }
          ],
          "choropleth": [
           {
            "colorbar": {
             "outlinewidth": 0,
             "ticks": ""
            },
            "type": "choropleth"
           }
          ],
          "contour": [
           {
            "colorbar": {
             "outlinewidth": 0,
             "ticks": ""
            },
            "colorscale": [
             [
              0,
              "#0d0887"
             ],
             [
              0.1111111111111111,
              "#46039f"
             ],
             [
              0.2222222222222222,
              "#7201a8"
             ],
             [
              0.3333333333333333,
              "#9c179e"
             ],
             [
              0.4444444444444444,
              "#bd3786"
             ],
             [
              0.5555555555555556,
              "#d8576b"
             ],
             [
              0.6666666666666666,
              "#ed7953"
             ],
             [
              0.7777777777777778,
              "#fb9f3a"
             ],
             [
              0.8888888888888888,
              "#fdca26"
             ],
             [
              1,
              "#f0f921"
             ]
            ],
            "type": "contour"
           }
          ],
          "contourcarpet": [
           {
            "colorbar": {
             "outlinewidth": 0,
             "ticks": ""
            },
            "type": "contourcarpet"
           }
          ],
          "heatmap": [
           {
            "colorbar": {
             "outlinewidth": 0,
             "ticks": ""
            },
            "colorscale": [
             [
              0,
              "#0d0887"
             ],
             [
              0.1111111111111111,
              "#46039f"
             ],
             [
              0.2222222222222222,
              "#7201a8"
             ],
             [
              0.3333333333333333,
              "#9c179e"
             ],
             [
              0.4444444444444444,
              "#bd3786"
             ],
             [
              0.5555555555555556,
              "#d8576b"
             ],
             [
              0.6666666666666666,
              "#ed7953"
             ],
             [
              0.7777777777777778,
              "#fb9f3a"
             ],
             [
              0.8888888888888888,
              "#fdca26"
             ],
             [
              1,
              "#f0f921"
             ]
            ],
            "type": "heatmap"
           }
          ],
          "heatmapgl": [
           {
            "colorbar": {
             "outlinewidth": 0,
             "ticks": ""
            },
            "colorscale": [
             [
              0,
              "#0d0887"
             ],
             [
              0.1111111111111111,
              "#46039f"
             ],
             [
              0.2222222222222222,
              "#7201a8"
             ],
             [
              0.3333333333333333,
              "#9c179e"
             ],
             [
              0.4444444444444444,
              "#bd3786"
             ],
             [
              0.5555555555555556,
              "#d8576b"
             ],
             [
              0.6666666666666666,
              "#ed7953"
             ],
             [
              0.7777777777777778,
              "#fb9f3a"
             ],
             [
              0.8888888888888888,
              "#fdca26"
             ],
             [
              1,
              "#f0f921"
             ]
            ],
            "type": "heatmapgl"
           }
          ],
          "histogram": [
           {
            "marker": {
             "pattern": {
              "fillmode": "overlay",
              "size": 10,
              "solidity": 0.2
             }
            },
            "type": "histogram"
           }
          ],
          "histogram2d": [
           {
            "colorbar": {
             "outlinewidth": 0,
             "ticks": ""
            },
            "colorscale": [
             [
              0,
              "#0d0887"
             ],
             [
              0.1111111111111111,
              "#46039f"
             ],
             [
              0.2222222222222222,
              "#7201a8"
             ],
             [
              0.3333333333333333,
              "#9c179e"
             ],
             [
              0.4444444444444444,
              "#bd3786"
             ],
             [
              0.5555555555555556,
              "#d8576b"
             ],
             [
              0.6666666666666666,
              "#ed7953"
             ],
             [
              0.7777777777777778,
              "#fb9f3a"
             ],
             [
              0.8888888888888888,
              "#fdca26"
             ],
             [
              1,
              "#f0f921"
             ]
            ],
            "type": "histogram2d"
           }
          ],
          "histogram2dcontour": [
           {
            "colorbar": {
             "outlinewidth": 0,
             "ticks": ""
            },
            "colorscale": [
             [
              0,
              "#0d0887"
             ],
             [
              0.1111111111111111,
              "#46039f"
             ],
             [
              0.2222222222222222,
              "#7201a8"
             ],
             [
              0.3333333333333333,
              "#9c179e"
             ],
             [
              0.4444444444444444,
              "#bd3786"
             ],
             [
              0.5555555555555556,
              "#d8576b"
             ],
             [
              0.6666666666666666,
              "#ed7953"
             ],
             [
              0.7777777777777778,
              "#fb9f3a"
             ],
             [
              0.8888888888888888,
              "#fdca26"
             ],
             [
              1,
              "#f0f921"
             ]
            ],
            "type": "histogram2dcontour"
           }
          ],
          "mesh3d": [
           {
            "colorbar": {
             "outlinewidth": 0,
             "ticks": ""
            },
            "type": "mesh3d"
           }
          ],
          "parcoords": [
           {
            "line": {
             "colorbar": {
              "outlinewidth": 0,
              "ticks": ""
             }
            },
            "type": "parcoords"
           }
          ],
          "pie": [
           {
            "automargin": true,
            "type": "pie"
           }
          ],
          "scatter": [
           {
            "fillpattern": {
             "fillmode": "overlay",
             "size": 10,
             "solidity": 0.2
            },
            "type": "scatter"
           }
          ],
          "scatter3d": [
           {
            "line": {
             "colorbar": {
              "outlinewidth": 0,
              "ticks": ""
             }
            },
            "marker": {
             "colorbar": {
              "outlinewidth": 0,
              "ticks": ""
             }
            },
            "type": "scatter3d"
           }
          ],
          "scattercarpet": [
           {
            "marker": {
             "colorbar": {
              "outlinewidth": 0,
              "ticks": ""
             }
            },
            "type": "scattercarpet"
           }
          ],
          "scattergeo": [
           {
            "marker": {
             "colorbar": {
              "outlinewidth": 0,
              "ticks": ""
             }
            },
            "type": "scattergeo"
           }
          ],
          "scattergl": [
           {
            "marker": {
             "colorbar": {
              "outlinewidth": 0,
              "ticks": ""
             }
            },
            "type": "scattergl"
           }
          ],
          "scattermapbox": [
           {
            "marker": {
             "colorbar": {
              "outlinewidth": 0,
              "ticks": ""
             }
            },
            "type": "scattermapbox"
           }
          ],
          "scatterpolar": [
           {
            "marker": {
             "colorbar": {
              "outlinewidth": 0,
              "ticks": ""
             }
            },
            "type": "scatterpolar"
           }
          ],
          "scatterpolargl": [
           {
            "marker": {
             "colorbar": {
              "outlinewidth": 0,
              "ticks": ""
             }
            },
            "type": "scatterpolargl"
           }
          ],
          "scatterternary": [
           {
            "marker": {
             "colorbar": {
              "outlinewidth": 0,
              "ticks": ""
             }
            },
            "type": "scatterternary"
           }
          ],
          "surface": [
           {
            "colorbar": {
             "outlinewidth": 0,
             "ticks": ""
            },
            "colorscale": [
             [
              0,
              "#0d0887"
             ],
             [
              0.1111111111111111,
              "#46039f"
             ],
             [
              0.2222222222222222,
              "#7201a8"
             ],
             [
              0.3333333333333333,
              "#9c179e"
             ],
             [
              0.4444444444444444,
              "#bd3786"
             ],
             [
              0.5555555555555556,
              "#d8576b"
             ],
             [
              0.6666666666666666,
              "#ed7953"
             ],
             [
              0.7777777777777778,
              "#fb9f3a"
             ],
             [
              0.8888888888888888,
              "#fdca26"
             ],
             [
              1,
              "#f0f921"
             ]
            ],
            "type": "surface"
           }
          ],
          "table": [
           {
            "cells": {
             "fill": {
              "color": "#EBF0F8"
             },
             "line": {
              "color": "white"
             }
            },
            "header": {
             "fill": {
              "color": "#C8D4E3"
             },
             "line": {
              "color": "white"
             }
            },
            "type": "table"
           }
          ]
         },
         "layout": {
          "annotationdefaults": {
           "arrowcolor": "#2a3f5f",
           "arrowhead": 0,
           "arrowwidth": 1
          },
          "autotypenumbers": "strict",
          "coloraxis": {
           "colorbar": {
            "outlinewidth": 0,
            "ticks": ""
           }
          },
          "colorscale": {
           "diverging": [
            [
             0,
             "#8e0152"
            ],
            [
             0.1,
             "#c51b7d"
            ],
            [
             0.2,
             "#de77ae"
            ],
            [
             0.3,
             "#f1b6da"
            ],
            [
             0.4,
             "#fde0ef"
            ],
            [
             0.5,
             "#f7f7f7"
            ],
            [
             0.6,
             "#e6f5d0"
            ],
            [
             0.7,
             "#b8e186"
            ],
            [
             0.8,
             "#7fbc41"
            ],
            [
             0.9,
             "#4d9221"
            ],
            [
             1,
             "#276419"
            ]
           ],
           "sequential": [
            [
             0,
             "#0d0887"
            ],
            [
             0.1111111111111111,
             "#46039f"
            ],
            [
             0.2222222222222222,
             "#7201a8"
            ],
            [
             0.3333333333333333,
             "#9c179e"
            ],
            [
             0.4444444444444444,
             "#bd3786"
            ],
            [
             0.5555555555555556,
             "#d8576b"
            ],
            [
             0.6666666666666666,
             "#ed7953"
            ],
            [
             0.7777777777777778,
             "#fb9f3a"
            ],
            [
             0.8888888888888888,
             "#fdca26"
            ],
            [
             1,
             "#f0f921"
            ]
           ],
           "sequentialminus": [
            [
             0,
             "#0d0887"
            ],
            [
             0.1111111111111111,
             "#46039f"
            ],
            [
             0.2222222222222222,
             "#7201a8"
            ],
            [
             0.3333333333333333,
             "#9c179e"
            ],
            [
             0.4444444444444444,
             "#bd3786"
            ],
            [
             0.5555555555555556,
             "#d8576b"
            ],
            [
             0.6666666666666666,
             "#ed7953"
            ],
            [
             0.7777777777777778,
             "#fb9f3a"
            ],
            [
             0.8888888888888888,
             "#fdca26"
            ],
            [
             1,
             "#f0f921"
            ]
           ]
          },
          "colorway": [
           "#636efa",
           "#EF553B",
           "#00cc96",
           "#ab63fa",
           "#FFA15A",
           "#19d3f3",
           "#FF6692",
           "#B6E880",
           "#FF97FF",
           "#FECB52"
          ],
          "font": {
           "color": "#2a3f5f"
          },
          "geo": {
           "bgcolor": "white",
           "lakecolor": "white",
           "landcolor": "#E5ECF6",
           "showlakes": true,
           "showland": true,
           "subunitcolor": "white"
          },
          "hoverlabel": {
           "align": "left"
          },
          "hovermode": "closest",
          "mapbox": {
           "style": "light"
          },
          "paper_bgcolor": "white",
          "plot_bgcolor": "#E5ECF6",
          "polar": {
           "angularaxis": {
            "gridcolor": "white",
            "linecolor": "white",
            "ticks": ""
           },
           "bgcolor": "#E5ECF6",
           "radialaxis": {
            "gridcolor": "white",
            "linecolor": "white",
            "ticks": ""
           }
          },
          "scene": {
           "xaxis": {
            "backgroundcolor": "#E5ECF6",
            "gridcolor": "white",
            "gridwidth": 2,
            "linecolor": "white",
            "showbackground": true,
            "ticks": "",
            "zerolinecolor": "white"
           },
           "yaxis": {
            "backgroundcolor": "#E5ECF6",
            "gridcolor": "white",
            "gridwidth": 2,
            "linecolor": "white",
            "showbackground": true,
            "ticks": "",
            "zerolinecolor": "white"
           },
           "zaxis": {
            "backgroundcolor": "#E5ECF6",
            "gridcolor": "white",
            "gridwidth": 2,
            "linecolor": "white",
            "showbackground": true,
            "ticks": "",
            "zerolinecolor": "white"
           }
          },
          "shapedefaults": {
           "line": {
            "color": "#2a3f5f"
           }
          },
          "ternary": {
           "aaxis": {
            "gridcolor": "white",
            "linecolor": "white",
            "ticks": ""
           },
           "baxis": {
            "gridcolor": "white",
            "linecolor": "white",
            "ticks": ""
           },
           "bgcolor": "#E5ECF6",
           "caxis": {
            "gridcolor": "white",
            "linecolor": "white",
            "ticks": ""
           }
          },
          "title": {
           "x": 0.05
          },
          "xaxis": {
           "automargin": true,
           "gridcolor": "white",
           "linecolor": "white",
           "ticks": "",
           "title": {
            "standoff": 15
           },
           "zerolinecolor": "white",
           "zerolinewidth": 2
          },
          "yaxis": {
           "automargin": true,
           "gridcolor": "white",
           "linecolor": "white",
           "ticks": "",
           "title": {
            "standoff": 15
           },
           "zerolinecolor": "white",
           "zerolinewidth": 2
          }
         }
        },
        "xaxis": {
         "anchor": "y",
         "autorange": true,
         "domain": [
          0.41609458428680396,
          0.583905415713196
         ],
         "range": [
          -0.5,
          19.5
         ]
        },
        "yaxis": {
         "anchor": "x",
         "autorange": true,
         "domain": [
          0,
          1
         ],
         "range": [
          19.5,
          -0.5
         ]
        }
       }
      },
      "image/png": "[encoded data removed]",
      "text/html": [
       "<div>                            <div id=\"acda174d-5e12-42d9-bb25-4d676f754ded\" class=\"plotly-graph-div\" style=\"height:525px; width:100%;\"></div>            <script type=\"text/javascript\">                require([\"plotly\"], function(Plotly) {                    window.PLOTLYENV=window.PLOTLYENV || {};                                    if (document.getElementById(\"acda174d-5e12-42d9-bb25-4d676f754ded\")) {                    Plotly.newPlot(                        \"acda174d-5e12-42d9-bb25-4d676f754ded\",                        [{\"name\":\"0\",\"source\":\"data:image/png;base64,iVBORw0KGgoAAAANSUhEUgAAABQAAAAUCAIAAAAC64paAAADDElEQVR4XkWUz2vcZRDGP/P+SDbNZku+4MYkRhtI2W2aEEMKKqFQQY+Cdw/9E/wHBC/9B7z3quDBS8+hLUIxIltrkoaUiolio25gxc13N5t933lfD5sozOHhmRnmGZ5hZO3zbRu59wUffdvReWZf+36t5GkVhaXAkeeki/z8jusV2XVcv0gWhOQ7knDW4cAZxIJBISYUEmgmQTYYi7EkiziMJQvGguDufYpLfAh3l3n5D8+22HrC9B2Mo/UjtZusN9lYpWYImUlBIUMAA2LffiDK3X2+/oyZJpvv/XF7noe/ESK3Ftj9k519ftmeDaeIR3uIBcF4csLpK0i8vMrMAdegOc/1KsdHhEijQviV8gXlC85OsZ5h/0KwdeSEmz1pKTz7gI+/K5qveJ9Pbgywj4mBxt/U95huMbX7ZXfQ8bboDzvWIOBtkTJurUo0bG1y+xHXS25UuArLT0iR4oyJ54wf4P+im/BCL2NBwEMC97REYfoxD9/k+Br2Dsub/AQx0NzgsE6ryvYu5RnO0h9yOZmUcSNXTCQ4giN6kiN6Iqi/YKIlWLBEQzaIIKPmJY8KrXVu3acxoDFNMUGzhQbmwO+R9wi/0414Q09xgoAXErijQILac3ZfJ7xFfYWJmxy2CRG/wiHsD9gbcDrAW3rnOANyKfukRk6sH7CzTtlgeoPxJq2SGMgr7Ff4AXaUfol1nJ9hLPKfVbK0YZSNXb56l7LB1Oo3fobtVaIS3mCvwo7lkMXQXTSe2FsUhwgyOhI3WTdKLRGmOmdTdCvHXUM5QVC6jtMK/SqhtqAUyXeSLUZeyViHhMuxnZQgSMAGvM75kQeKT3jFRkyIKbQFJLRJIBghK85dqUtkMqOTneEV+mPHPaE/Rkz0LL1xzieIkwtJC/GdRIFFBB1NTopRFEQxik1YsImccBmXMIpEUDCgCCBIhIQjkzMZyJARLiMjQEYyki+zI3BZ7FJoGyWACdiI1zkPXhHF54udJUQZtk1Gh21xIAiQcGIgYyAbsiEJCZL8D0Y8hmzBjJ4AGDL8C6kAfPCN4g8vAAAAAElFTkSuQmCC\",\"type\":\"image\",\"xaxis\":\"x\",\"yaxis\":\"y\",\"hovertemplate\":\"x: %{x}<br>y: %{y}<extra></extra>\"}],                        {\"template\":{\"data\":{\"histogram2dcontour\":[{\"type\":\"histogram2dcontour\",\"colorbar\":{\"outlinewidth\":0,\"ticks\":\"\"},\"colorscale\":[[0.0,\"#0d0887\"],[0.1111111111111111,\"#46039f\"],[0.2222222222222222,\"#7201a8\"],[0.3333333333333333,\"#9c179e\"],[0.4444444444444444,\"#bd3786\"],[0.5555555555555556,\"#d8576b\"],[0.6666666666666666,\"#ed7953\"],[0.7777777777777778,\"#fb9f3a\"],[0.8888888888888888,\"#fdca26\"],[1.0,\"#f0f921\"]]}],\"choropleth\":[{\"type\":\"choropleth\",\"colorbar\":{\"outlinewidth\":0,\"ticks\":\"\"}}],\"histogram2d\":[{\"type\":\"histogram2d\",\"colorbar\":{\"outlinewidth\":0,\"ticks\":\"\"},\"colorscale\":[[0.0,\"#0d0887\"],[0.1111111111111111,\"#46039f\"],[0.2222222222222222,\"#7201a8\"],[0.3333333333333333,\"#9c179e\"],[0.4444444444444444,\"#bd3786\"],[0.5555555555555556,\"#d8576b\"],[0.6666666666666666,\"#ed7953\"],[0.7777777777777778,\"#fb9f3a\"],[0.8888888888888888,\"#fdca26\"],[1.0,\"#f0f921\"]]}],\"heatmap\":[{\"type\":\"heatmap\",\"colorbar\":{\"outlinewidth\":0,\"ticks\":\"\"},\"colorscale\":[[0.0,\"#0d0887\"],[0.1111111111111111,\"#46039f\"],[0.2222222222222222,\"#7201a8\"],[0.3333333333333333,\"#9c179e\"],[0.4444444444444444,\"#bd3786\"],[0.5555555555555556,\"#d8576b\"],[0.6666666666666666,\"#ed7953\"],[0.7777777777777778,\"#fb9f3a\"],[0.8888888888888888,\"#fdca26\"],[1.0,\"#f0f921\"]]}],\"heatmapgl\":[{\"type\":\"heatmapgl\",\"colorbar\":{\"outlinewidth\":0,\"ticks\":\"\"},\"colorscale\":[[0.0,\"#0d0887\"],[0.1111111111111111,\"#46039f\"],[0.2222222222222222,\"#7201a8\"],[0.3333333333333333,\"#9c179e\"],[0.4444444444444444,\"#bd3786\"],[0.5555555555555556,\"#d8576b\"],[0.6666666666666666,\"#ed7953\"],[0.7777777777777778,\"#fb9f3a\"],[0.8888888888888888,\"#fdca26\"],[1.0,\"#f0f921\"]]}],\"contourcarpet\":[{\"type\":\"contourcarpet\",\"colorbar\":{\"outlinewidth\":0,\"ticks\":\"\"}}],\"contour\":[{\"type\":\"contour\",\"colorbar\":{\"outlinewidth\":0,\"ticks\":\"\"},\"colorscale\":[[0.0,\"#0d0887\"],[0.1111111111111111,\"#46039f\"],[0.2222222222222222,\"#7201a8\"],[0.3333333333333333,\"#9c179e\"],[0.4444444444444444,\"#bd3786\"],[0.5555555555555556,\"#d8576b\"],[0.6666666666666666,\"#ed7953\"],[0.7777777777777778,\"#fb9f3a\"],[0.8888888888888888,\"#fdca26\"],[1.0,\"#f0f921\"]]}],\"surface\":[{\"type\":\"surface\",\"colorbar\":{\"outlinewidth\":0,\"ticks\":\"\"},\"colorscale\":[[0.0,\"#0d0887\"],[0.1111111111111111,\"#46039f\"],[0.2222222222222222,\"#7201a8\"],[0.3333333333333333,\"#9c179e\"],[0.4444444444444444,\"#bd3786\"],[0.5555555555555556,\"#d8576b\"],[0.6666666666666666,\"#ed7953\"],[0.7777777777777778,\"#fb9f3a\"],[0.8888888888888888,\"#fdca26\"],[1.0,\"#f0f921\"]]}],\"mesh3d\":[{\"type\":\"mesh3d\",\"colorbar\":{\"outlinewidth\":0,\"ticks\":\"\"}}],\"scatter\":[{\"fillpattern\":{\"fillmode\":\"overlay\",\"size\":10,\"solidity\":0.2},\"type\":\"scatter\"}],\"parcoords\":[{\"type\":\"parcoords\",\"line\":{\"colorbar\":{\"outlinewidth\":0,\"ticks\":\"\"}}}],\"scatterpolargl\":[{\"type\":\"scatterpolargl\",\"marker\":{\"colorbar\":{\"outlinewidth\":0,\"ticks\":\"\"}}}],\"bar\":[{\"error_x\":{\"color\":\"#2a3f5f\"},\"error_y\":{\"color\":\"#2a3f5f\"},\"marker\":{\"line\":{\"color\":\"#E5ECF6\",\"width\":0.5},\"pattern\":{\"fillmode\":\"overlay\",\"size\":10,\"solidity\":0.2}},\"type\":\"bar\"}],\"scattergeo\":[{\"type\":\"scattergeo\",\"marker\":{\"colorbar\":{\"outlinewidth\":0,\"ticks\":\"\"}}}],\"scatterpolar\":[{\"type\":\"scatterpolar\",\"marker\":{\"colorbar\":{\"outlinewidth\":0,\"ticks\":\"\"}}}],\"histogram\":[{\"marker\":{\"pattern\":{\"fillmode\":\"overlay\",\"size\":10,\"solidity\":0.2}},\"type\":\"histogram\"}],\"scattergl\":[{\"type\":\"scattergl\",\"marker\":{\"colorbar\":{\"outlinewidth\":0,\"ticks\":\"\"}}}],\"scatter3d\":[{\"type\":\"scatter3d\",\"line\":{\"colorbar\":{\"outlinewidth\":0,\"ticks\":\"\"}},\"marker\":{\"colorbar\":{\"outlinewidth\":0,\"ticks\":\"\"}}}],\"scattermapbox\":[{\"type\":\"scattermapbox\",\"marker\":{\"colorbar\":{\"outlinewidth\":0,\"ticks\":\"\"}}}],\"scatterternary\":[{\"type\":\"scatterternary\",\"marker\":{\"colorbar\":{\"outlinewidth\":0,\"ticks\":\"\"}}}],\"scattercarpet\":[{\"type\":\"scattercarpet\",\"marker\":{\"colorbar\":{\"outlinewidth\":0,\"ticks\":\"\"}}}],\"carpet\":[{\"aaxis\":{\"endlinecolor\":\"#2a3f5f\",\"gridcolor\":\"white\",\"linecolor\":\"white\",\"minorgridcolor\":\"white\",\"startlinecolor\":\"#2a3f5f\"},\"baxis\":{\"endlinecolor\":\"#2a3f5f\",\"gridcolor\":\"white\",\"linecolor\":\"white\",\"minorgridcolor\":\"white\",\"startlinecolor\":\"#2a3f5f\"},\"type\":\"carpet\"}],\"table\":[{\"cells\":{\"fill\":{\"color\":\"#EBF0F8\"},\"line\":{\"color\":\"white\"}},\"header\":{\"fill\":{\"color\":\"#C8D4E3\"},\"line\":{\"color\":\"white\"}},\"type\":\"table\"}],\"barpolar\":[{\"marker\":{\"line\":{\"color\":\"#E5ECF6\",\"width\":0.5},\"pattern\":{\"fillmode\":\"overlay\",\"size\":10,\"solidity\":0.2}},\"type\":\"barpolar\"}],\"pie\":[{\"automargin\":true,\"type\":\"pie\"}]},\"layout\":{\"autotypenumbers\":\"strict\",\"colorway\":[\"#636efa\",\"#EF553B\",\"#00cc96\",\"#ab63fa\",\"#FFA15A\",\"#19d3f3\",\"#FF6692\",\"#B6E880\",\"#FF97FF\",\"#FECB52\"],\"font\":{\"color\":\"#2a3f5f\"},\"hovermode\":\"closest\",\"hoverlabel\":{\"align\":\"left\"},\"paper_bgcolor\":\"white\",\"plot_bgcolor\":\"#E5ECF6\",\"polar\":{\"bgcolor\":\"#E5ECF6\",\"angularaxis\":{\"gridcolor\":\"white\",\"linecolor\":\"white\",\"ticks\":\"\"},\"radialaxis\":{\"gridcolor\":\"white\",\"linecolor\":\"white\",\"ticks\":\"\"}},\"ternary\":{\"bgcolor\":\"#E5ECF6\",\"aaxis\":{\"gridcolor\":\"white\",\"linecolor\":\"white\",\"ticks\":\"\"},\"baxis\":{\"gridcolor\":\"white\",\"linecolor\":\"white\",\"ticks\":\"\"},\"caxis\":{\"gridcolor\":\"white\",\"linecolor\":\"white\",\"ticks\":\"\"}},\"coloraxis\":{\"colorbar\":{\"outlinewidth\":0,\"ticks\":\"\"}},\"colorscale\":{\"sequential\":[[0.0,\"#0d0887\"],[0.1111111111111111,\"#46039f\"],[0.2222222222222222,\"#7201a8\"],[0.3333333333333333,\"#9c179e\"],[0.4444444444444444,\"#bd3786\"],[0.5555555555555556,\"#d8576b\"],[0.6666666666666666,\"#ed7953\"],[0.7777777777777778,\"#fb9f3a\"],[0.8888888888888888,\"#fdca26\"],[1.0,\"#f0f921\"]],\"sequentialminus\":[[0.0,\"#0d0887\"],[0.1111111111111111,\"#46039f\"],[0.2222222222222222,\"#7201a8\"],[0.3333333333333333,\"#9c179e\"],[0.4444444444444444,\"#bd3786\"],[0.5555555555555556,\"#d8576b\"],[0.6666666666666666,\"#ed7953\"],[0.7777777777777778,\"#fb9f3a\"],[0.8888888888888888,\"#fdca26\"],[1.0,\"#f0f921\"]],\"diverging\":[[0,\"#8e0152\"],[0.1,\"#c51b7d\"],[0.2,\"#de77ae\"],[0.3,\"#f1b6da\"],[0.4,\"#fde0ef\"],[0.5,\"#f7f7f7\"],[0.6,\"#e6f5d0\"],[0.7,\"#b8e186\"],[0.8,\"#7fbc41\"],[0.9,\"#4d9221\"],[1,\"#276419\"]]},\"xaxis\":{\"gridcolor\":\"white\",\"linecolor\":\"white\",\"ticks\":\"\",\"title\":{\"standoff\":15},\"zerolinecolor\":\"white\",\"automargin\":true,\"zerolinewidth\":2},\"yaxis\":{\"gridcolor\":\"white\",\"linecolor\":\"white\",\"ticks\":\"\",\"title\":{\"standoff\":15},\"zerolinecolor\":\"white\",\"automargin\":true,\"zerolinewidth\":2},\"scene\":{\"xaxis\":{\"backgroundcolor\":\"#E5ECF6\",\"gridcolor\":\"white\",\"linecolor\":\"white\",\"showbackground\":true,\"ticks\":\"\",\"zerolinecolor\":\"white\",\"gridwidth\":2},\"yaxis\":{\"backgroundcolor\":\"#E5ECF6\",\"gridcolor\":\"white\",\"linecolor\":\"white\",\"showbackground\":true,\"ticks\":\"\",\"zerolinecolor\":\"white\",\"gridwidth\":2},\"zaxis\":{\"backgroundcolor\":\"#E5ECF6\",\"gridcolor\":\"white\",\"linecolor\":\"white\",\"showbackground\":true,\"ticks\":\"\",\"zerolinecolor\":\"white\",\"gridwidth\":2}},\"shapedefaults\":{\"line\":{\"color\":\"#2a3f5f\"}},\"annotationdefaults\":{\"arrowcolor\":\"#2a3f5f\",\"arrowhead\":0,\"arrowwidth\":1},\"geo\":{\"bgcolor\":\"white\",\"landcolor\":\"#E5ECF6\",\"subunitcolor\":\"white\",\"showland\":true,\"showlakes\":true,\"lakecolor\":\"white\"},\"title\":{\"x\":0.05},\"mapbox\":{\"style\":\"light\"}}},\"xaxis\":{\"anchor\":\"y\",\"domain\":[0.0,1.0]},\"yaxis\":{\"anchor\":\"x\",\"domain\":[0.0,1.0]},\"margin\":{\"t\":60}},                        {\"responsive\": true}                    ).then(function(){\n",
       "                            \n",
       "var gd = document.getElementById('acda174d-5e12-42d9-bb25-4d676f754ded');\n",
       "var x = new MutationObserver(function (mutations, observer) {{\n",
       "        var display = window.getComputedStyle(gd).display;\n",
       "        if (!display || display === 'none') {{\n",
       "            console.log([gd, 'removed!']);\n",
       "            Plotly.purge(gd);\n",
       "            observer.disconnect();\n",
       "        }}\n",
       "}});\n",
       "\n",
       "// Listen for the removal of the full notebook cells\n",
       "var notebookContainer = gd.closest('#notebook-container');\n",
       "if (notebookContainer) {{\n",
       "    x.observe(notebookContainer, {childList: true});\n",
       "}}\n",
       "\n",
       "// Listen for the clearing of the current output cell\n",
       "var outputEl = gd.closest('.output');\n",
       "if (outputEl) {{\n",
       "    x.observe(outputEl, {childList: true});\n",
       "}}\n",
       "\n",
       "                        })                };                });            </script>        </div>"
      ]
     },
     "metadata": {},
     "output_type": "display_data"
    },
    {
     "data": {
      "application/vnd.plotly.v1+json": {
       "config": {
        "plotlyServerURL": "https://plot.ly"
       },
       "data": [
        {
         "coloraxis": "coloraxis",
         "hovertemplate": "x: %{x}<br>y: %{y}<br>color: %{z}<extra></extra>",
         "name": "0",
         "type": "heatmap",
         "xaxis": "x",
         "yaxis": "y",
         "z": [
          [
           -0.6257733149423328,
           -0.6013223026898326,
           0.4325659978879912,
           -0.9746047536255124,
           -0.9958416794392125,
           -0.8021314831459387,
           -0.4325659978879912,
           -0.826562315324934,
           -0.8470928602354652,
           -0.5652484351642988,
           -0.8150131679266575,
           -0.980323829993617,
           -0.9699623607702004,
           -0.937764826817868,
           -0.9510477191483265,
           -0.920313679800054,
           -0.9306303822404322,
           -0.9333025784329958,
           -0.9474860933413357,
           -0.9419113105464726
          ],
          [
           -0.6013223026898326,
           -0.5762946750089544,
           0.4602745512142974,
           -0.9672039542384626,
           -0.9981849334490246,
           -0.8202361335444772,
           -0.4602745512142974,
           -0.8435931657599596,
           -0.8631416318557948,
           -0.5905191131321113,
           -0.8325634486813411,
           -0.9859657014614862,
           -0.9619654977191487,
           -0.9265627976599209,
           -0.9410229258057464,
           -0.9077604430024102,
           -0.9188530972696657,
           -0.9217367121300416,
           -0.9371300698007763,
           -0.9310605540470328
          ],
          [
           0.4325659978879912,
           0.4602745512142974,
           1,
           -0.21968321013730474,
           -0.5129039070750423,
           -0.8853643083421048,
           -1,
           -0.8650052798310526,
           -0.8455755015839941,
           -0.988257655755092,
           -0.8749736008447826,
           -0.6020274551215152,
           -0.20025343189024625,
           -0.09254487856389915,
           -0.1327560718057157,
           -0.04540654699053448,
           -0.07260823653643911,
           -0.07995776135169308,
           -0.1215205913410955,
           -0.10462513199581736
          ],
          [
           -0.9746047536255124,
           -0.9672039542384626,
           -0.21968321013730474,
           -0.9034785743675375,
           -0.7247988975707087,
           -0.259041340899293,
           0.21968321013730474,
           -0.2994781909064796,
           -0.3350556870160974,
           0.06803962682559625,
           -0.28012594196111723,
           -0.6467143167936097,
           -0.9118179019216692,
           -0.9510540558472954,
           -0.9377719473561961,
           -0.9645899928337855,
           -0.9570454688123442,
           -0.9548823515368431,
           -0.9416451827421943,
           -0.9472326789406913
          ],
          [
           -0.9958416794392125,
           -0.9981849334490246,
           -0.5129039070750423,
           -0.7247988975707087,
           -0.4738591642143128,
           0.055017072181273996,
           0.5129039070750423,
           0.012928340850854814,
           -0.024587457237083,
           0.37571356487010826,
           0.03314302551338055,
           -0.3766657899213879,
           -0.7383466899332425,
           -0.8072953888408934,
           -0.782756590841774,
           -0.8342714230344197,
           -0.8189391441406467,
           -0.8146868519572729,
           -0.7897556213303721,
           -0.8000720052075703
          ],
          [
           -0.8021314831459387,
           -0.8202361335444772,
           -0.8853643083421048,
           -0.259041340899293,
           0.055017072181273996,
           0.5677399169721871,
           0.8853643083421048,
           0.5325763571293938,
           0.5004539135717562,
           0.8039332325903388,
           0.5495804966283613,
           0.16180410455822708,
           -0.2781837312421481,
           -0.3809668478719541,
           -0.34324546330037137,
           -0.42421704688411016,
           -0.39938606175745334,
           -0.3926176492277276,
           -0.3538624889158263,
           -0.3697150403110635
          ],
          [
           -0.4325659978879912,
           -0.4602745512142974,
           -1,
           0.21968321013730474,
           0.5129039070750423,
           0.8853643083421048,
           1,
           0.8650052798310526,
           0.8455755015839941,
           0.988257655755092,
           0.8749736008447826,
           0.6020274551215152,
           0.20025343189024625,
           0.09254487856389915,
           0.1327560718057157,
           0.04540654699053448,
           0.07260823653643911,
           0.07995776135169308,
           0.1215205913410955,
           0.10462513199581736
          ],
          [
           -0.826562315324934,
           -0.8435931657599596,
           -0.8650052798310526,
           -0.2994781909064796,
           0.012928340850854814,
           0.5325763571293938,
           0.8650052798310526,
           0.4964682682711952,
           0.46355828820917017,
           0.7781804385530351,
           0.5139179941128951,
           0.12011171458524017,
           -0.31837884215274204,
           -0.41955764226504033,
           -0.38248682302155973,
           -0.4619683329570789,
           -0.4376318671580189,
           -0.43099235520975415,
           -0.39292819687698827,
           -0.40850765763573926
          ],
          [
           -0.8470928602354652,
           -0.8631416318557948,
           -0.8455755015839941,
           -0.3350556870160974,
           -0.024587457237083,
           0.5004539135717562,
           0.8455755015839941,
           0.46355828820917017,
           0.4299958577580463,
           0.7540750953180309,
           0.4813789176537113,
           0.08278890912190717,
           -0.3537127422698263,
           -0.45331113551406865,
           -0.41687527358345666,
           -0.4949105648190597,
           -0.471051014444797,
           -0.46453625663627507,
           -0.42714456407254237,
           -0.44245745902968947
          ],
          [
           -0.5652484351642988,
           -0.5905191131321113,
           -0.988257655755092,
           0.06803962682559625,
           0.37571356487010826,
           0.8039332325903388,
           0.988257655755092,
           0.7781804385530351,
           0.7540750953180309,
           0.9533063883170996,
           0.7907197259972102,
           0.4729539044918301,
           0.04820039939556167,
           -0.06068270670202221,
           -0.02024696909699153,
           -0.10776565242218988,
           -0.08063766954037548,
           -0.0732885299762203,
           -0.03157057186382235,
           -0.04856143922298539
          ],
          [
           -0.8150131679266575,
           -0.8325634486813411,
           -0.8749736008447826,
           -0.28012594196111723,
           0.03314302551338055,
           0.5495804966283613,
           0.8749736008447826,
           0.5139179941128951,
           0.4813789176537113,
           0.7907197259972102,
           0.5311576043505699,
           0.14015980009411616,
           -0.2991468658138691,
           -0.4011184918668881,
           -0.36372705067651484,
           -0.4439417208907035,
           -0.4193623889815054,
           -0.4126595064189851,
           -0.3742550877413888,
           -0.3899691413723888
          ],
          [
           -0.980323829993617,
           -0.9859657014614862,
           -0.6020274551215152,
           -0.6467143167936097,
           -0.3766657899213879,
           0.16180410455822708,
           0.6020274551215152,
           0.12011171458524017,
           0.08278890912190717,
           0.4729539044918301,
           0.14015980009411616,
           -0.2751258865598239,
           -0.6617435102778981,
           -0.7393341833418577,
           -0.7114850736981897,
           -0.7703158440152064,
           -0.7526556899586263,
           -0.7477821026994684,
           -0.7193990821210743,
           -0.7311059365631972
          ],
          [
           -0.9699623607702004,
           -0.9619654977191487,
           -0.20025343189024625,
           -0.9118179019216692,
           -0.7383466899332425,
           -0.2781837312421481,
           0.20025343189024625,
           -0.31837884215274204,
           -0.3537127422698263,
           0.04820039939556167,
           -0.2991468658138691,
           -0.6617435102778981,
           -0.919797126032357,
           -0.9570071439369213,
           -0.9444873026720211,
           -0.9696407974677473,
           -0.9626180860501454,
           -0.9605954220659291,
           -0.9481482448076238,
           -0.9534154896524006
          ],
          [
           -0.937764826817868,
           -0.9265627976599209,
           -0.09254487856389915,
           -0.9510540558472954,
           -0.8072953888408934,
           -0.3809668478719541,
           0.09254487856389915,
           -0.41955764226504033,
           -0.45331113551406865,
           -0.06068270670202221,
           -0.4011184918668881,
           -0.7393341833418577,
           -0.9570071439369213,
           -0.9828708909031861,
           -0.9746093451118049,
           -0.9904793880442206,
           -0.9863608596941597,
           -0.9851208258462885,
           -0.9770831213342331,
           -0.9805612773219984
          ],
          [
           -0.9510477191483265,
           -0.9410229258057464,
           -0.1327560718057157,
           -0.9377719473561961,
           -0.782756590841774,
           -0.34324546330037137,
           0.1327560718057157,
           -0.38248682302155973,
           -0.41687527358345666,
           -0.02024696909699153,
           -0.36372705067651484,
           -0.7114850736981897,
           -0.9444873026720211,
           -0.9746093451118049,
           -0.9647516507974314,
           -0.9840984656005771,
           -0.9788934572104204,
           -0.9773604540970908,
           -0.9676706522439006,
           -0.9718194271899127
          ],
          [
           -0.920313679800054,
           -0.9077604430024102,
           -0.04540654699053448,
           -0.9645899928337855,
           -0.8342714230344197,
           -0.42421704688411016,
           0.04540654699053448,
           -0.4619683329570789,
           -0.4949105648190597,
           -0.10776565242218988,
           -0.4439417208907035,
           -0.7703158440152064,
           -0.9696407974677473,
           -0.9904793880442206,
           -0.9840984656005771,
           -0.9958764909807927,
           -0.9930349625185576,
           -0.9921395399129077,
           -0.9860473150856011,
           -0.9887353158474325
          ],
          [
           -0.9306303822404322,
           -0.9188530972696657,
           -0.07260823653643911,
           -0.9570454688123442,
           -0.8189391441406467,
           -0.39938606175745334,
           0.07260823653643911,
           -0.4376318671580189,
           -0.471051014444797,
           -0.08063766954037548,
           -0.4193623889815054,
           -0.7526556899586263,
           -0.9626180860501454,
           -0.9863608596941597,
           -0.9788934572104204,
           -0.9930349625185576,
           -0.989456087974137,
           -0.9883616500614214,
           -0.981145614877532,
           -0.9842901086850183
          ],
          [
           -0.9333025784329958,
           -0.9217367121300416,
           -0.07995776135169308,
           -0.9548823515368431,
           -0.8146868519572729,
           -0.3926176492277276,
           0.07995776135169308,
           -0.43099235520975415,
           -0.46453625663627507,
           -0.0732885299762203,
           -0.4126595064189851,
           -0.7477821026994684,
           -0.9605954220659291,
           -0.9851208258462885,
           -0.9773604540970908,
           -0.9921395399129077,
           -0.9883616500614214,
           -0.9872135127992514,
           -0.979694377418956,
           -0.9829619636496595
          ],
          [
           -0.9474860933413357,
           -0.9371300698007763,
           -0.1215205913410955,
           -0.9416451827421943,
           -0.7897556213303721,
           -0.3538624889158263,
           0.1215205913410955,
           -0.39292819687698827,
           -0.42714456407254237,
           -0.03157057186382235,
           -0.3742550877413888,
           -0.7193990821210743,
           -0.9481482448076238,
           -0.9770831213342331,
           -0.9676706522439006,
           -0.9860473150856011,
           -0.981145614877532,
           -0.979694377418956,
           -0.9704654917602209,
           -0.9744272072907844
          ],
          [
           -0.9419113105464726,
           -0.9310605540470328,
           -0.10462513199581736,
           -0.9472326789406913,
           -0.8000720052075703,
           -0.3697150403110635,
           0.10462513199581736,
           -0.40850765763573926,
           -0.44245745902968947,
           -0.04856143922298539,
           -0.3899691413723888,
           -0.7311059365631972,
           -0.9534154896524006,
           -0.9805612773219984,
           -0.9718194271899127,
           -0.9887353158474325,
           -0.9842901086850183,
           -0.9829619636496595,
           -0.9744272072907844,
           -0.9781071635097155
          ]
         ]
        }
       ],
       "layout": {
        "autosize": true,
        "coloraxis": {
         "cmax": 1,
         "cmin": -1,
         "colorscale": [
          [
           0,
           "rgb(5,48,97)"
          ],
          [
           0.1,
           "rgb(33,102,172)"
          ],
          [
           0.2,
           "rgb(67,147,195)"
          ],
          [
           0.3,
           "rgb(146,197,222)"
          ],
          [
           0.4,
           "rgb(209,229,240)"
          ],
          [
           0.5,
           "rgb(247,247,247)"
          ],
          [
           0.6,
           "rgb(253,219,199)"
          ],
          [
           0.7,
           "rgb(244,165,130)"
          ],
          [
           0.8,
           "rgb(214,96,77)"
          ],
          [
           0.9,
           "rgb(178,24,43)"
          ],
          [
           1,
           "rgb(103,0,31)"
          ]
         ]
        },
        "margin": {
         "t": 60
        },
        "template": {
         "data": {
          "bar": [
           {
            "error_x": {
             "color": "#2a3f5f"
            },
            "error_y": {
             "color": "#2a3f5f"
            },
            "marker": {
             "line": {
              "color": "#E5ECF6",
              "width": 0.5
             },
             "pattern": {
              "fillmode": "overlay",
              "size": 10,
              "solidity": 0.2
             }
            },
            "type": "bar"
           }
          ],
          "barpolar": [
           {
            "marker": {
             "line": {
              "color": "#E5ECF6",
              "width": 0.5
             },
             "pattern": {
              "fillmode": "overlay",
              "size": 10,
              "solidity": 0.2
             }
            },
            "type": "barpolar"
           }
          ],
          "carpet": [
           {
            "aaxis": {
             "endlinecolor": "#2a3f5f",
             "gridcolor": "white",
             "linecolor": "white",
             "minorgridcolor": "white",
             "startlinecolor": "#2a3f5f"
            },
            "baxis": {
             "endlinecolor": "#2a3f5f",
             "gridcolor": "white",
             "linecolor": "white",
             "minorgridcolor": "white",
             "startlinecolor": "#2a3f5f"
            },
            "type": "carpet"
           }
          ],
          "choropleth": [
           {
            "colorbar": {
             "outlinewidth": 0,
             "ticks": ""
            },
            "type": "choropleth"
           }
          ],
          "contour": [
           {
            "colorbar": {
             "outlinewidth": 0,
             "ticks": ""
            },
            "colorscale": [
             [
              0,
              "#0d0887"
             ],
             [
              0.1111111111111111,
              "#46039f"
             ],
             [
              0.2222222222222222,
              "#7201a8"
             ],
             [
              0.3333333333333333,
              "#9c179e"
             ],
             [
              0.4444444444444444,
              "#bd3786"
             ],
             [
              0.5555555555555556,
              "#d8576b"
             ],
             [
              0.6666666666666666,
              "#ed7953"
             ],
             [
              0.7777777777777778,
              "#fb9f3a"
             ],
             [
              0.8888888888888888,
              "#fdca26"
             ],
             [
              1,
              "#f0f921"
             ]
            ],
            "type": "contour"
           }
          ],
          "contourcarpet": [
           {
            "colorbar": {
             "outlinewidth": 0,
             "ticks": ""
            },
            "type": "contourcarpet"
           }
          ],
          "heatmap": [
           {
            "colorbar": {
             "outlinewidth": 0,
             "ticks": ""
            },
            "colorscale": [
             [
              0,
              "#0d0887"
             ],
             [
              0.1111111111111111,
              "#46039f"
             ],
             [
              0.2222222222222222,
              "#7201a8"
             ],
             [
              0.3333333333333333,
              "#9c179e"
             ],
             [
              0.4444444444444444,
              "#bd3786"
             ],
             [
              0.5555555555555556,
              "#d8576b"
             ],
             [
              0.6666666666666666,
              "#ed7953"
             ],
             [
              0.7777777777777778,
              "#fb9f3a"
             ],
             [
              0.8888888888888888,
              "#fdca26"
             ],
             [
              1,
              "#f0f921"
             ]
            ],
            "type": "heatmap"
           }
          ],
          "heatmapgl": [
           {
            "colorbar": {
             "outlinewidth": 0,
             "ticks": ""
            },
            "colorscale": [
             [
              0,
              "#0d0887"
             ],
             [
              0.1111111111111111,
              "#46039f"
             ],
             [
              0.2222222222222222,
              "#7201a8"
             ],
             [
              0.3333333333333333,
              "#9c179e"
             ],
             [
              0.4444444444444444,
              "#bd3786"
             ],
             [
              0.5555555555555556,
              "#d8576b"
             ],
             [
              0.6666666666666666,
              "#ed7953"
             ],
             [
              0.7777777777777778,
              "#fb9f3a"
             ],
             [
              0.8888888888888888,
              "#fdca26"
             ],
             [
              1,
              "#f0f921"
             ]
            ],
            "type": "heatmapgl"
           }
          ],
          "histogram": [
           {
            "marker": {
             "pattern": {
              "fillmode": "overlay",
              "size": 10,
              "solidity": 0.2
             }
            },
            "type": "histogram"
           }
          ],
          "histogram2d": [
           {
            "colorbar": {
             "outlinewidth": 0,
             "ticks": ""
            },
            "colorscale": [
             [
              0,
              "#0d0887"
             ],
             [
              0.1111111111111111,
              "#46039f"
             ],
             [
              0.2222222222222222,
              "#7201a8"
             ],
             [
              0.3333333333333333,
              "#9c179e"
             ],
             [
              0.4444444444444444,
              "#bd3786"
             ],
             [
              0.5555555555555556,
              "#d8576b"
             ],
             [
              0.6666666666666666,
              "#ed7953"
             ],
             [
              0.7777777777777778,
              "#fb9f3a"
             ],
             [
              0.8888888888888888,
              "#fdca26"
             ],
             [
              1,
              "#f0f921"
             ]
            ],
            "type": "histogram2d"
           }
          ],
          "histogram2dcontour": [
           {
            "colorbar": {
             "outlinewidth": 0,
             "ticks": ""
            },
            "colorscale": [
             [
              0,
              "#0d0887"
             ],
             [
              0.1111111111111111,
              "#46039f"
             ],
             [
              0.2222222222222222,
              "#7201a8"
             ],
             [
              0.3333333333333333,
              "#9c179e"
             ],
             [
              0.4444444444444444,
              "#bd3786"
             ],
             [
              0.5555555555555556,
              "#d8576b"
             ],
             [
              0.6666666666666666,
              "#ed7953"
             ],
             [
              0.7777777777777778,
              "#fb9f3a"
             ],
             [
              0.8888888888888888,
              "#fdca26"
             ],
             [
              1,
              "#f0f921"
             ]
            ],
            "type": "histogram2dcontour"
           }
          ],
          "mesh3d": [
           {
            "colorbar": {
             "outlinewidth": 0,
             "ticks": ""
            },
            "type": "mesh3d"
           }
          ],
          "parcoords": [
           {
            "line": {
             "colorbar": {
              "outlinewidth": 0,
              "ticks": ""
             }
            },
            "type": "parcoords"
           }
          ],
          "pie": [
           {
            "automargin": true,
            "type": "pie"
           }
          ],
          "scatter": [
           {
            "fillpattern": {
             "fillmode": "overlay",
             "size": 10,
             "solidity": 0.2
            },
            "type": "scatter"
           }
          ],
          "scatter3d": [
           {
            "line": {
             "colorbar": {
              "outlinewidth": 0,
              "ticks": ""
             }
            },
            "marker": {
             "colorbar": {
              "outlinewidth": 0,
              "ticks": ""
             }
            },
            "type": "scatter3d"
           }
          ],
          "scattercarpet": [
           {
            "marker": {
             "colorbar": {
              "outlinewidth": 0,
              "ticks": ""
             }
            },
            "type": "scattercarpet"
           }
          ],
          "scattergeo": [
           {
            "marker": {
             "colorbar": {
              "outlinewidth": 0,
              "ticks": ""
             }
            },
            "type": "scattergeo"
           }
          ],
          "scattergl": [
           {
            "marker": {
             "colorbar": {
              "outlinewidth": 0,
              "ticks": ""
             }
            },
            "type": "scattergl"
           }
          ],
          "scattermapbox": [
           {
            "marker": {
             "colorbar": {
              "outlinewidth": 0,
              "ticks": ""
             }
            },
            "type": "scattermapbox"
           }
          ],
          "scatterpolar": [
           {
            "marker": {
             "colorbar": {
              "outlinewidth": 0,
              "ticks": ""
             }
            },
            "type": "scatterpolar"
           }
          ],
          "scatterpolargl": [
           {
            "marker": {
             "colorbar": {
              "outlinewidth": 0,
              "ticks": ""
             }
            },
            "type": "scatterpolargl"
           }
          ],
          "scatterternary": [
           {
            "marker": {
             "colorbar": {
              "outlinewidth": 0,
              "ticks": ""
             }
            },
            "type": "scatterternary"
           }
          ],
          "surface": [
           {
            "colorbar": {
             "outlinewidth": 0,
             "ticks": ""
            },
            "colorscale": [
             [
              0,
              "#0d0887"
             ],
             [
              0.1111111111111111,
              "#46039f"
             ],
             [
              0.2222222222222222,
              "#7201a8"
             ],
             [
              0.3333333333333333,
              "#9c179e"
             ],
             [
              0.4444444444444444,
              "#bd3786"
             ],
             [
              0.5555555555555556,
              "#d8576b"
             ],
             [
              0.6666666666666666,
              "#ed7953"
             ],
             [
              0.7777777777777778,
              "#fb9f3a"
             ],
             [
              0.8888888888888888,
              "#fdca26"
             ],
             [
              1,
              "#f0f921"
             ]
            ],
            "type": "surface"
           }
          ],
          "table": [
           {
            "cells": {
             "fill": {
              "color": "#EBF0F8"
             },
             "line": {
              "color": "white"
             }
            },
            "header": {
             "fill": {
              "color": "#C8D4E3"
             },
             "line": {
              "color": "white"
             }
            },
            "type": "table"
           }
          ]
         },
         "layout": {
          "annotationdefaults": {
           "arrowcolor": "#2a3f5f",
           "arrowhead": 0,
           "arrowwidth": 1
          },
          "autotypenumbers": "strict",
          "coloraxis": {
           "colorbar": {
            "outlinewidth": 0,
            "ticks": ""
           }
          },
          "colorscale": {
           "diverging": [
            [
             0,
             "#8e0152"
            ],
            [
             0.1,
             "#c51b7d"
            ],
            [
             0.2,
             "#de77ae"
            ],
            [
             0.3,
             "#f1b6da"
            ],
            [
             0.4,
             "#fde0ef"
            ],
            [
             0.5,
             "#f7f7f7"
            ],
            [
             0.6,
             "#e6f5d0"
            ],
            [
             0.7,
             "#b8e186"
            ],
            [
             0.8,
             "#7fbc41"
            ],
            [
             0.9,
             "#4d9221"
            ],
            [
             1,
             "#276419"
            ]
           ],
           "sequential": [
            [
             0,
             "#0d0887"
            ],
            [
             0.1111111111111111,
             "#46039f"
            ],
            [
             0.2222222222222222,
             "#7201a8"
            ],
            [
             0.3333333333333333,
             "#9c179e"
            ],
            [
             0.4444444444444444,
             "#bd3786"
            ],
            [
             0.5555555555555556,
             "#d8576b"
            ],
            [
             0.6666666666666666,
             "#ed7953"
            ],
            [
             0.7777777777777778,
             "#fb9f3a"
            ],
            [
             0.8888888888888888,
             "#fdca26"
            ],
            [
             1,
             "#f0f921"
            ]
           ],
           "sequentialminus": [
            [
             0,
             "#0d0887"
            ],
            [
             0.1111111111111111,
             "#46039f"
            ],
            [
             0.2222222222222222,
             "#7201a8"
            ],
            [
             0.3333333333333333,
             "#9c179e"
            ],
            [
             0.4444444444444444,
             "#bd3786"
            ],
            [
             0.5555555555555556,
             "#d8576b"
            ],
            [
             0.6666666666666666,
             "#ed7953"
            ],
            [
             0.7777777777777778,
             "#fb9f3a"
            ],
            [
             0.8888888888888888,
             "#fdca26"
            ],
            [
             1,
             "#f0f921"
            ]
           ]
          },
          "colorway": [
           "#636efa",
           "#EF553B",
           "#00cc96",
           "#ab63fa",
           "#FFA15A",
           "#19d3f3",
           "#FF6692",
           "#B6E880",
           "#FF97FF",
           "#FECB52"
          ],
          "font": {
           "color": "#2a3f5f"
          },
          "geo": {
           "bgcolor": "white",
           "lakecolor": "white",
           "landcolor": "#E5ECF6",
           "showlakes": true,
           "showland": true,
           "subunitcolor": "white"
          },
          "hoverlabel": {
           "align": "left"
          },
          "hovermode": "closest",
          "mapbox": {
           "style": "light"
          },
          "paper_bgcolor": "white",
          "plot_bgcolor": "#E5ECF6",
          "polar": {
           "angularaxis": {
            "gridcolor": "white",
            "linecolor": "white",
            "ticks": ""
           },
           "bgcolor": "#E5ECF6",
           "radialaxis": {
            "gridcolor": "white",
            "linecolor": "white",
            "ticks": ""
           }
          },
          "scene": {
           "xaxis": {
            "backgroundcolor": "#E5ECF6",
            "gridcolor": "white",
            "gridwidth": 2,
            "linecolor": "white",
            "showbackground": true,
            "ticks": "",
            "zerolinecolor": "white"
           },
           "yaxis": {
            "backgroundcolor": "#E5ECF6",
            "gridcolor": "white",
            "gridwidth": 2,
            "linecolor": "white",
            "showbackground": true,
            "ticks": "",
            "zerolinecolor": "white"
           },
           "zaxis": {
            "backgroundcolor": "#E5ECF6",
            "gridcolor": "white",
            "gridwidth": 2,
            "linecolor": "white",
            "showbackground": true,
            "ticks": "",
            "zerolinecolor": "white"
           }
          },
          "shapedefaults": {
           "line": {
            "color": "#2a3f5f"
           }
          },
          "ternary": {
           "aaxis": {
            "gridcolor": "white",
            "linecolor": "white",
            "ticks": ""
           },
           "baxis": {
            "gridcolor": "white",
            "linecolor": "white",
            "ticks": ""
           },
           "bgcolor": "#E5ECF6",
           "caxis": {
            "gridcolor": "white",
            "linecolor": "white",
            "ticks": ""
           }
          },
          "title": {
           "x": 0.05
          },
          "xaxis": {
           "automargin": true,
           "gridcolor": "white",
           "linecolor": "white",
           "ticks": "",
           "title": {
            "standoff": 15
           },
           "zerolinecolor": "white",
           "zerolinewidth": 2
          },
          "yaxis": {
           "automargin": true,
           "gridcolor": "white",
           "linecolor": "white",
           "ticks": "",
           "title": {
            "standoff": 15
           },
           "zerolinecolor": "white",
           "zerolinewidth": 2
          }
         }
        },
        "xaxis": {
         "anchor": "y",
         "autorange": true,
         "constrain": "domain",
         "domain": [
          0.41365777080062793,
          0.5863422291993721
         ],
         "range": [
          -0.5,
          19.5
         ],
         "scaleanchor": "y"
        },
        "yaxis": {
         "anchor": "x",
         "autorange": true,
         "constrain": "domain",
         "domain": [
          0,
          1
         ],
         "range": [
          19.5,
          -0.5
         ]
        }
       }
      },
      "image/png": "[encoded data removed]",
      "text/html": [
       "<div>                            <div id=\"a77f0246-78a0-424f-b45d-6768bae14656\" class=\"plotly-graph-div\" style=\"height:525px; width:100%;\"></div>            <script type=\"text/javascript\">                require([\"plotly\"], function(Plotly) {                    window.PLOTLYENV=window.PLOTLYENV || {};                                    if (document.getElementById(\"a77f0246-78a0-424f-b45d-6768bae14656\")) {                    Plotly.newPlot(                        \"a77f0246-78a0-424f-b45d-6768bae14656\",                        [{\"coloraxis\":\"coloraxis\",\"name\":\"0\",\"z\":[[-0.6257733149423328,-0.6013223026898326,0.4325659978879912,-0.9746047536255124,-0.9958416794392125,-0.8021314831459387,-0.4325659978879912,-0.826562315324934,-0.8470928602354652,-0.5652484351642988,-0.8150131679266575,-0.980323829993617,-0.9699623607702004,-0.937764826817868,-0.9510477191483265,-0.920313679800054,-0.9306303822404322,-0.9333025784329958,-0.9474860933413357,-0.9419113105464726],[-0.6013223026898326,-0.5762946750089544,0.4602745512142974,-0.9672039542384626,-0.9981849334490246,-0.8202361335444772,-0.4602745512142974,-0.8435931657599596,-0.8631416318557948,-0.5905191131321113,-0.8325634486813411,-0.9859657014614862,-0.9619654977191487,-0.9265627976599209,-0.9410229258057464,-0.9077604430024102,-0.9188530972696657,-0.9217367121300416,-0.9371300698007763,-0.9310605540470328],[0.4325659978879912,0.4602745512142974,1.0,-0.21968321013730474,-0.5129039070750423,-0.8853643083421048,-1.0,-0.8650052798310526,-0.8455755015839941,-0.988257655755092,-0.8749736008447826,-0.6020274551215152,-0.20025343189024625,-0.09254487856389915,-0.1327560718057157,-0.04540654699053448,-0.07260823653643911,-0.07995776135169308,-0.1215205913410955,-0.10462513199581736],[-0.9746047536255124,-0.9672039542384626,-0.21968321013730474,-0.9034785743675375,-0.7247988975707087,-0.259041340899293,0.21968321013730474,-0.2994781909064796,-0.3350556870160974,0.06803962682559625,-0.28012594196111723,-0.6467143167936097,-0.9118179019216692,-0.9510540558472954,-0.9377719473561961,-0.9645899928337855,-0.9570454688123442,-0.9548823515368431,-0.9416451827421943,-0.9472326789406913],[-0.9958416794392125,-0.9981849334490246,-0.5129039070750423,-0.7247988975707087,-0.4738591642143128,0.055017072181273996,0.5129039070750423,0.012928340850854814,-0.024587457237083,0.37571356487010826,0.03314302551338055,-0.3766657899213879,-0.7383466899332425,-0.8072953888408934,-0.782756590841774,-0.8342714230344197,-0.8189391441406467,-0.8146868519572729,-0.7897556213303721,-0.8000720052075703],[-0.8021314831459387,-0.8202361335444772,-0.8853643083421048,-0.259041340899293,0.055017072181273996,0.5677399169721871,0.8853643083421048,0.5325763571293938,0.5004539135717562,0.8039332325903388,0.5495804966283613,0.16180410455822708,-0.2781837312421481,-0.3809668478719541,-0.34324546330037137,-0.42421704688411016,-0.39938606175745334,-0.3926176492277276,-0.3538624889158263,-0.3697150403110635],[-0.4325659978879912,-0.4602745512142974,-1.0,0.21968321013730474,0.5129039070750423,0.8853643083421048,1.0,0.8650052798310526,0.8455755015839941,0.988257655755092,0.8749736008447826,0.6020274551215152,0.20025343189024625,0.09254487856389915,0.1327560718057157,0.04540654699053448,0.07260823653643911,0.07995776135169308,0.1215205913410955,0.10462513199581736],[-0.826562315324934,-0.8435931657599596,-0.8650052798310526,-0.2994781909064796,0.012928340850854814,0.5325763571293938,0.8650052798310526,0.4964682682711952,0.46355828820917017,0.7781804385530351,0.5139179941128951,0.12011171458524017,-0.31837884215274204,-0.41955764226504033,-0.38248682302155973,-0.4619683329570789,-0.4376318671580189,-0.43099235520975415,-0.39292819687698827,-0.40850765763573926],[-0.8470928602354652,-0.8631416318557948,-0.8455755015839941,-0.3350556870160974,-0.024587457237083,0.5004539135717562,0.8455755015839941,0.46355828820917017,0.4299958577580463,0.7540750953180309,0.4813789176537113,0.08278890912190717,-0.3537127422698263,-0.45331113551406865,-0.41687527358345666,-0.4949105648190597,-0.471051014444797,-0.46453625663627507,-0.42714456407254237,-0.44245745902968947],[-0.5652484351642988,-0.5905191131321113,-0.988257655755092,0.06803962682559625,0.37571356487010826,0.8039332325903388,0.988257655755092,0.7781804385530351,0.7540750953180309,0.9533063883170996,0.7907197259972102,0.4729539044918301,0.04820039939556167,-0.06068270670202221,-0.02024696909699153,-0.10776565242218988,-0.08063766954037548,-0.0732885299762203,-0.03157057186382235,-0.04856143922298539],[-0.8150131679266575,-0.8325634486813411,-0.8749736008447826,-0.28012594196111723,0.03314302551338055,0.5495804966283613,0.8749736008447826,0.5139179941128951,0.4813789176537113,0.7907197259972102,0.5311576043505699,0.14015980009411616,-0.2991468658138691,-0.4011184918668881,-0.36372705067651484,-0.4439417208907035,-0.4193623889815054,-0.4126595064189851,-0.3742550877413888,-0.3899691413723888],[-0.980323829993617,-0.9859657014614862,-0.6020274551215152,-0.6467143167936097,-0.3766657899213879,0.16180410455822708,0.6020274551215152,0.12011171458524017,0.08278890912190717,0.4729539044918301,0.14015980009411616,-0.2751258865598239,-0.6617435102778981,-0.7393341833418577,-0.7114850736981897,-0.7703158440152064,-0.7526556899586263,-0.7477821026994684,-0.7193990821210743,-0.7311059365631972],[-0.9699623607702004,-0.9619654977191487,-0.20025343189024625,-0.9118179019216692,-0.7383466899332425,-0.2781837312421481,0.20025343189024625,-0.31837884215274204,-0.3537127422698263,0.04820039939556167,-0.2991468658138691,-0.6617435102778981,-0.919797126032357,-0.9570071439369213,-0.9444873026720211,-0.9696407974677473,-0.9626180860501454,-0.9605954220659291,-0.9481482448076238,-0.9534154896524006],[-0.937764826817868,-0.9265627976599209,-0.09254487856389915,-0.9510540558472954,-0.8072953888408934,-0.3809668478719541,0.09254487856389915,-0.41955764226504033,-0.45331113551406865,-0.06068270670202221,-0.4011184918668881,-0.7393341833418577,-0.9570071439369213,-0.9828708909031861,-0.9746093451118049,-0.9904793880442206,-0.9863608596941597,-0.9851208258462885,-0.9770831213342331,-0.9805612773219984],[-0.9510477191483265,-0.9410229258057464,-0.1327560718057157,-0.9377719473561961,-0.782756590841774,-0.34324546330037137,0.1327560718057157,-0.38248682302155973,-0.41687527358345666,-0.02024696909699153,-0.36372705067651484,-0.7114850736981897,-0.9444873026720211,-0.9746093451118049,-0.9647516507974314,-0.9840984656005771,-0.9788934572104204,-0.9773604540970908,-0.9676706522439006,-0.9718194271899127],[-0.920313679800054,-0.9077604430024102,-0.04540654699053448,-0.9645899928337855,-0.8342714230344197,-0.42421704688411016,0.04540654699053448,-0.4619683329570789,-0.4949105648190597,-0.10776565242218988,-0.4439417208907035,-0.7703158440152064,-0.9696407974677473,-0.9904793880442206,-0.9840984656005771,-0.9958764909807927,-0.9930349625185576,-0.9921395399129077,-0.9860473150856011,-0.9887353158474325],[-0.9306303822404322,-0.9188530972696657,-0.07260823653643911,-0.9570454688123442,-0.8189391441406467,-0.39938606175745334,0.07260823653643911,-0.4376318671580189,-0.471051014444797,-0.08063766954037548,-0.4193623889815054,-0.7526556899586263,-0.9626180860501454,-0.9863608596941597,-0.9788934572104204,-0.9930349625185576,-0.989456087974137,-0.9883616500614214,-0.981145614877532,-0.9842901086850183],[-0.9333025784329958,-0.9217367121300416,-0.07995776135169308,-0.9548823515368431,-0.8146868519572729,-0.3926176492277276,0.07995776135169308,-0.43099235520975415,-0.46453625663627507,-0.0732885299762203,-0.4126595064189851,-0.7477821026994684,-0.9605954220659291,-0.9851208258462885,-0.9773604540970908,-0.9921395399129077,-0.9883616500614214,-0.9872135127992514,-0.979694377418956,-0.9829619636496595],[-0.9474860933413357,-0.9371300698007763,-0.1215205913410955,-0.9416451827421943,-0.7897556213303721,-0.3538624889158263,0.1215205913410955,-0.39292819687698827,-0.42714456407254237,-0.03157057186382235,-0.3742550877413888,-0.7193990821210743,-0.9481482448076238,-0.9770831213342331,-0.9676706522439006,-0.9860473150856011,-0.981145614877532,-0.979694377418956,-0.9704654917602209,-0.9744272072907844],[-0.9419113105464726,-0.9310605540470328,-0.10462513199581736,-0.9472326789406913,-0.8000720052075703,-0.3697150403110635,0.10462513199581736,-0.40850765763573926,-0.44245745902968947,-0.04856143922298539,-0.3899691413723888,-0.7311059365631972,-0.9534154896524006,-0.9805612773219984,-0.9718194271899127,-0.9887353158474325,-0.9842901086850183,-0.9829619636496595,-0.9744272072907844,-0.9781071635097155]],\"type\":\"heatmap\",\"xaxis\":\"x\",\"yaxis\":\"y\",\"hovertemplate\":\"x: %{x}<br>y: %{y}<br>color: %{z}<extra></extra>\"}],                        {\"template\":{\"data\":{\"histogram2dcontour\":[{\"type\":\"histogram2dcontour\",\"colorbar\":{\"outlinewidth\":0,\"ticks\":\"\"},\"colorscale\":[[0.0,\"#0d0887\"],[0.1111111111111111,\"#46039f\"],[0.2222222222222222,\"#7201a8\"],[0.3333333333333333,\"#9c179e\"],[0.4444444444444444,\"#bd3786\"],[0.5555555555555556,\"#d8576b\"],[0.6666666666666666,\"#ed7953\"],[0.7777777777777778,\"#fb9f3a\"],[0.8888888888888888,\"#fdca26\"],[1.0,\"#f0f921\"]]}],\"choropleth\":[{\"type\":\"choropleth\",\"colorbar\":{\"outlinewidth\":0,\"ticks\":\"\"}}],\"histogram2d\":[{\"type\":\"histogram2d\",\"colorbar\":{\"outlinewidth\":0,\"ticks\":\"\"},\"colorscale\":[[0.0,\"#0d0887\"],[0.1111111111111111,\"#46039f\"],[0.2222222222222222,\"#7201a8\"],[0.3333333333333333,\"#9c179e\"],[0.4444444444444444,\"#bd3786\"],[0.5555555555555556,\"#d8576b\"],[0.6666666666666666,\"#ed7953\"],[0.7777777777777778,\"#fb9f3a\"],[0.8888888888888888,\"#fdca26\"],[1.0,\"#f0f921\"]]}],\"heatmap\":[{\"type\":\"heatmap\",\"colorbar\":{\"outlinewidth\":0,\"ticks\":\"\"},\"colorscale\":[[0.0,\"#0d0887\"],[0.1111111111111111,\"#46039f\"],[0.2222222222222222,\"#7201a8\"],[0.3333333333333333,\"#9c179e\"],[0.4444444444444444,\"#bd3786\"],[0.5555555555555556,\"#d8576b\"],[0.6666666666666666,\"#ed7953\"],[0.7777777777777778,\"#fb9f3a\"],[0.8888888888888888,\"#fdca26\"],[1.0,\"#f0f921\"]]}],\"heatmapgl\":[{\"type\":\"heatmapgl\",\"colorbar\":{\"outlinewidth\":0,\"ticks\":\"\"},\"colorscale\":[[0.0,\"#0d0887\"],[0.1111111111111111,\"#46039f\"],[0.2222222222222222,\"#7201a8\"],[0.3333333333333333,\"#9c179e\"],[0.4444444444444444,\"#bd3786\"],[0.5555555555555556,\"#d8576b\"],[0.6666666666666666,\"#ed7953\"],[0.7777777777777778,\"#fb9f3a\"],[0.8888888888888888,\"#fdca26\"],[1.0,\"#f0f921\"]]}],\"contourcarpet\":[{\"type\":\"contourcarpet\",\"colorbar\":{\"outlinewidth\":0,\"ticks\":\"\"}}],\"contour\":[{\"type\":\"contour\",\"colorbar\":{\"outlinewidth\":0,\"ticks\":\"\"},\"colorscale\":[[0.0,\"#0d0887\"],[0.1111111111111111,\"#46039f\"],[0.2222222222222222,\"#7201a8\"],[0.3333333333333333,\"#9c179e\"],[0.4444444444444444,\"#bd3786\"],[0.5555555555555556,\"#d8576b\"],[0.6666666666666666,\"#ed7953\"],[0.7777777777777778,\"#fb9f3a\"],[0.8888888888888888,\"#fdca26\"],[1.0,\"#f0f921\"]]}],\"surface\":[{\"type\":\"surface\",\"colorbar\":{\"outlinewidth\":0,\"ticks\":\"\"},\"colorscale\":[[0.0,\"#0d0887\"],[0.1111111111111111,\"#46039f\"],[0.2222222222222222,\"#7201a8\"],[0.3333333333333333,\"#9c179e\"],[0.4444444444444444,\"#bd3786\"],[0.5555555555555556,\"#d8576b\"],[0.6666666666666666,\"#ed7953\"],[0.7777777777777778,\"#fb9f3a\"],[0.8888888888888888,\"#fdca26\"],[1.0,\"#f0f921\"]]}],\"mesh3d\":[{\"type\":\"mesh3d\",\"colorbar\":{\"outlinewidth\":0,\"ticks\":\"\"}}],\"scatter\":[{\"fillpattern\":{\"fillmode\":\"overlay\",\"size\":10,\"solidity\":0.2},\"type\":\"scatter\"}],\"parcoords\":[{\"type\":\"parcoords\",\"line\":{\"colorbar\":{\"outlinewidth\":0,\"ticks\":\"\"}}}],\"scatterpolargl\":[{\"type\":\"scatterpolargl\",\"marker\":{\"colorbar\":{\"outlinewidth\":0,\"ticks\":\"\"}}}],\"bar\":[{\"error_x\":{\"color\":\"#2a3f5f\"},\"error_y\":{\"color\":\"#2a3f5f\"},\"marker\":{\"line\":{\"color\":\"#E5ECF6\",\"width\":0.5},\"pattern\":{\"fillmode\":\"overlay\",\"size\":10,\"solidity\":0.2}},\"type\":\"bar\"}],\"scattergeo\":[{\"type\":\"scattergeo\",\"marker\":{\"colorbar\":{\"outlinewidth\":0,\"ticks\":\"\"}}}],\"scatterpolar\":[{\"type\":\"scatterpolar\",\"marker\":{\"colorbar\":{\"outlinewidth\":0,\"ticks\":\"\"}}}],\"histogram\":[{\"marker\":{\"pattern\":{\"fillmode\":\"overlay\",\"size\":10,\"solidity\":0.2}},\"type\":\"histogram\"}],\"scattergl\":[{\"type\":\"scattergl\",\"marker\":{\"colorbar\":{\"outlinewidth\":0,\"ticks\":\"\"}}}],\"scatter3d\":[{\"type\":\"scatter3d\",\"line\":{\"colorbar\":{\"outlinewidth\":0,\"ticks\":\"\"}},\"marker\":{\"colorbar\":{\"outlinewidth\":0,\"ticks\":\"\"}}}],\"scattermapbox\":[{\"type\":\"scattermapbox\",\"marker\":{\"colorbar\":{\"outlinewidth\":0,\"ticks\":\"\"}}}],\"scatterternary\":[{\"type\":\"scatterternary\",\"marker\":{\"colorbar\":{\"outlinewidth\":0,\"ticks\":\"\"}}}],\"scattercarpet\":[{\"type\":\"scattercarpet\",\"marker\":{\"colorbar\":{\"outlinewidth\":0,\"ticks\":\"\"}}}],\"carpet\":[{\"aaxis\":{\"endlinecolor\":\"#2a3f5f\",\"gridcolor\":\"white\",\"linecolor\":\"white\",\"minorgridcolor\":\"white\",\"startlinecolor\":\"#2a3f5f\"},\"baxis\":{\"endlinecolor\":\"#2a3f5f\",\"gridcolor\":\"white\",\"linecolor\":\"white\",\"minorgridcolor\":\"white\",\"startlinecolor\":\"#2a3f5f\"},\"type\":\"carpet\"}],\"table\":[{\"cells\":{\"fill\":{\"color\":\"#EBF0F8\"},\"line\":{\"color\":\"white\"}},\"header\":{\"fill\":{\"color\":\"#C8D4E3\"},\"line\":{\"color\":\"white\"}},\"type\":\"table\"}],\"barpolar\":[{\"marker\":{\"line\":{\"color\":\"#E5ECF6\",\"width\":0.5},\"pattern\":{\"fillmode\":\"overlay\",\"size\":10,\"solidity\":0.2}},\"type\":\"barpolar\"}],\"pie\":[{\"automargin\":true,\"type\":\"pie\"}]},\"layout\":{\"autotypenumbers\":\"strict\",\"colorway\":[\"#636efa\",\"#EF553B\",\"#00cc96\",\"#ab63fa\",\"#FFA15A\",\"#19d3f3\",\"#FF6692\",\"#B6E880\",\"#FF97FF\",\"#FECB52\"],\"font\":{\"color\":\"#2a3f5f\"},\"hovermode\":\"closest\",\"hoverlabel\":{\"align\":\"left\"},\"paper_bgcolor\":\"white\",\"plot_bgcolor\":\"#E5ECF6\",\"polar\":{\"bgcolor\":\"#E5ECF6\",\"angularaxis\":{\"gridcolor\":\"white\",\"linecolor\":\"white\",\"ticks\":\"\"},\"radialaxis\":{\"gridcolor\":\"white\",\"linecolor\":\"white\",\"ticks\":\"\"}},\"ternary\":{\"bgcolor\":\"#E5ECF6\",\"aaxis\":{\"gridcolor\":\"white\",\"linecolor\":\"white\",\"ticks\":\"\"},\"baxis\":{\"gridcolor\":\"white\",\"linecolor\":\"white\",\"ticks\":\"\"},\"caxis\":{\"gridcolor\":\"white\",\"linecolor\":\"white\",\"ticks\":\"\"}},\"coloraxis\":{\"colorbar\":{\"outlinewidth\":0,\"ticks\":\"\"}},\"colorscale\":{\"sequential\":[[0.0,\"#0d0887\"],[0.1111111111111111,\"#46039f\"],[0.2222222222222222,\"#7201a8\"],[0.3333333333333333,\"#9c179e\"],[0.4444444444444444,\"#bd3786\"],[0.5555555555555556,\"#d8576b\"],[0.6666666666666666,\"#ed7953\"],[0.7777777777777778,\"#fb9f3a\"],[0.8888888888888888,\"#fdca26\"],[1.0,\"#f0f921\"]],\"sequentialminus\":[[0.0,\"#0d0887\"],[0.1111111111111111,\"#46039f\"],[0.2222222222222222,\"#7201a8\"],[0.3333333333333333,\"#9c179e\"],[0.4444444444444444,\"#bd3786\"],[0.5555555555555556,\"#d8576b\"],[0.6666666666666666,\"#ed7953\"],[0.7777777777777778,\"#fb9f3a\"],[0.8888888888888888,\"#fdca26\"],[1.0,\"#f0f921\"]],\"diverging\":[[0,\"#8e0152\"],[0.1,\"#c51b7d\"],[0.2,\"#de77ae\"],[0.3,\"#f1b6da\"],[0.4,\"#fde0ef\"],[0.5,\"#f7f7f7\"],[0.6,\"#e6f5d0\"],[0.7,\"#b8e186\"],[0.8,\"#7fbc41\"],[0.9,\"#4d9221\"],[1,\"#276419\"]]},\"xaxis\":{\"gridcolor\":\"white\",\"linecolor\":\"white\",\"ticks\":\"\",\"title\":{\"standoff\":15},\"zerolinecolor\":\"white\",\"automargin\":true,\"zerolinewidth\":2},\"yaxis\":{\"gridcolor\":\"white\",\"linecolor\":\"white\",\"ticks\":\"\",\"title\":{\"standoff\":15},\"zerolinecolor\":\"white\",\"automargin\":true,\"zerolinewidth\":2},\"scene\":{\"xaxis\":{\"backgroundcolor\":\"#E5ECF6\",\"gridcolor\":\"white\",\"linecolor\":\"white\",\"showbackground\":true,\"ticks\":\"\",\"zerolinecolor\":\"white\",\"gridwidth\":2},\"yaxis\":{\"backgroundcolor\":\"#E5ECF6\",\"gridcolor\":\"white\",\"linecolor\":\"white\",\"showbackground\":true,\"ticks\":\"\",\"zerolinecolor\":\"white\",\"gridwidth\":2},\"zaxis\":{\"backgroundcolor\":\"#E5ECF6\",\"gridcolor\":\"white\",\"linecolor\":\"white\",\"showbackground\":true,\"ticks\":\"\",\"zerolinecolor\":\"white\",\"gridwidth\":2}},\"shapedefaults\":{\"line\":{\"color\":\"#2a3f5f\"}},\"annotationdefaults\":{\"arrowcolor\":\"#2a3f5f\",\"arrowhead\":0,\"arrowwidth\":1},\"geo\":{\"bgcolor\":\"white\",\"landcolor\":\"#E5ECF6\",\"subunitcolor\":\"white\",\"showland\":true,\"showlakes\":true,\"lakecolor\":\"white\"},\"title\":{\"x\":0.05},\"mapbox\":{\"style\":\"light\"}}},\"xaxis\":{\"anchor\":\"y\",\"domain\":[0.0,1.0],\"scaleanchor\":\"y\",\"constrain\":\"domain\"},\"yaxis\":{\"anchor\":\"x\",\"domain\":[0.0,1.0],\"autorange\":\"reversed\",\"constrain\":\"domain\"},\"coloraxis\":{\"colorscale\":[[0.0,\"rgb(5,48,97)\"],[0.1,\"rgb(33,102,172)\"],[0.2,\"rgb(67,147,195)\"],[0.3,\"rgb(146,197,222)\"],[0.4,\"rgb(209,229,240)\"],[0.5,\"rgb(247,247,247)\"],[0.6,\"rgb(253,219,199)\"],[0.7,\"rgb(244,165,130)\"],[0.8,\"rgb(214,96,77)\"],[0.9,\"rgb(178,24,43)\"],[1.0,\"rgb(103,0,31)\"]],\"cmin\":-1.0,\"cmax\":1.0},\"margin\":{\"t\":60}},                        {\"responsive\": true}                    ).then(function(){\n",
       "                            \n",
       "var gd = document.getElementById('a77f0246-78a0-424f-b45d-6768bae14656');\n",
       "var x = new MutationObserver(function (mutations, observer) {{\n",
       "        var display = window.getComputedStyle(gd).display;\n",
       "        if (!display || display === 'none') {{\n",
       "            console.log([gd, 'removed!']);\n",
       "            Plotly.purge(gd);\n",
       "            observer.disconnect();\n",
       "        }}\n",
       "}});\n",
       "\n",
       "// Listen for the removal of the full notebook cells\n",
       "var notebookContainer = gd.closest('#notebook-container');\n",
       "if (notebookContainer) {{\n",
       "    x.observe(notebookContainer, {childList: true});\n",
       "}}\n",
       "\n",
       "// Listen for the clearing of the current output cell\n",
       "var outputEl = gd.closest('.output');\n",
       "if (outputEl) {{\n",
       "    x.observe(outputEl, {childList: true});\n",
       "}}\n",
       "\n",
       "                        })                };                });            </script>        </div>"
      ]
     },
     "metadata": {},
     "output_type": "display_data"
    },
    {
     "data": {
      "application/vnd.plotly.v1+json": {
       "config": {
        "plotlyServerURL": "https://plot.ly"
       },
       "data": [
        {
         "coloraxis": "coloraxis",
         "hovertemplate": "x: %{x}<br>y: %{y}<br>color: %{z}<extra></extra>",
         "name": "0",
         "type": "heatmap",
         "xaxis": "x",
         "yaxis": "y",
         "z": [
          [
           0,
           -0.030962599184095885,
           -0.9016022723303033,
           0.6200658378979595,
           0.8337698906185793,
           0.9993454888689265,
           0.9016022723303033,
           0.996936234227175,
           0.9933006831683071,
           0.9571099687228123,
           0.9983139379599637,
           0.8881826240106057,
           0.6043529471088908,
           0.5141483198999438,
           0.5484304199090689,
           0.4730584913020032,
           0.49688800769139585,
           0.5032711301569223,
           0.5389234539888681,
           0.5245222157898143
          ],
          [
           0.030962599184095885,
           0,
           -0.887776625905682,
           0.6440602438451117,
           0.850464960079915,
           0.999986402764103,
           0.887776625905682,
           0.9988800972251461,
           0.9964024286123325,
           0.947680440978655,
           0.9996325300118613,
           0.9019838031122823,
           0.6287316064753403,
           0.5404584695964775,
           0.5740582791244713,
           0.500110690908621,
           0.5235195695553042,
           0.529785499957489,
           0.5647465560261933,
           0.5506321870210696
          ],
          [
           0.9016022723303033,
           0.887776625905682,
           0,
           0.9755712619710406,
           0.8584460274863857,
           0.46489788288817413,
           0,
           0.5017627585467084,
           0.5338558523805624,
           0.1527966159358584,
           0.484170628833178,
           0.7984753867715096,
           0.9797441314017545,
           0.9957085143010443,
           0.9911487403002214,
           0.9989685908427733,
           0.9973605386153337,
           0.9967982526066274,
           0.9925889108186281,
           0.9945117303254184
          ],
          [
           -0.6200658378979595,
           -0.6440602438451117,
           -0.9755712619710406,
           0,
           0.31178813284725015,
           0.7616057162945138,
           0.9755712619710406,
           0.7336454389315029,
           0.7076399917705438,
           0.930548917290631,
           0.7472349419712201,
           0.4119090479525194,
           -0.01987184263632341,
           -0.12845631881316005,
           -0.08822572848687826,
           -0.17515930451337708,
           -0.14826885583994207,
           -0.14097534584562937,
           -0.09950312162522747,
           -0.11640825738204719
          ],
          [
           -0.8337698906185793,
           -0.850464960079915,
           -0.8584460274863857,
           -0.31178813284725015,
           0,
           0.5215895328502513,
           0.8584460274863857,
           0.48520426694235863,
           0.45206417777372015,
           0.7699958774146203,
           0.5027846045811449,
           0.10726693170844026,
           -0.3306078298331061,
           -0.4312580039255021,
           -0.39440013892617604,
           -0.4733958234026095,
           -0.44921986480077525,
           -0.4426222957284487,
           -0.4047838615836752,
           -0.42027392317881973
          ],
          [
           -0.9993454888689265,
           -0.999986402764103,
           -0.46489788288817413,
           -0.7616057162945138,
           -0.5215895328502513,
           0,
           0.46489788288817413,
           -0.042103714391984015,
           -0.07955065698879665,
           0.3241582217235067,
           -0.02189401930066681,
           -0.42706031921060456,
           -0.774333088723884,
           -0.838540861957989,
           -0.8158097021970262,
           -0.8633417279218372,
           -0.8492720079928396,
           -0.8453574015028054,
           -0.8223081288531835,
           -0.8318651878959227
          ],
          [
           -0.9016022723303033,
           -0.887776625905682,
           0,
           -0.9755712619710406,
           -0.8584460274863857,
           -0.46489788288817413,
           0,
           -0.5017627585467084,
           -0.5338558523805624,
           -0.1527966159358584,
           -0.484170628833178,
           -0.7984753867715096,
           -0.9797441314017545,
           -0.9957085143010443,
           -0.9911487403002214,
           -0.9989685908427733,
           -0.9973605386153337,
           -0.9967982526066274,
           -0.9925889108186281,
           -0.9945117303254184
          ],
          [
           -0.996936234227175,
           -0.9988800972251461,
           -0.5017627585467084,
           -0.7336454389315029,
           -0.48520426694235863,
           0.042103714391984015,
           0.5017627585467084,
           0,
           -0.03750983474359204,
           0.3637010079817432,
           0.020219017335604828,
           -0.3886104687698715,
           -0.747004132152311,
           -0.8148575484855443,
           -0.7907368406545274,
           -0.8413297911903341,
           -0.8262900227396706,
           -0.8221159245280549,
           -0.7976201414283318,
           -0.8077609027418681
          ],
          [
           -0.9933006831683071,
           -0.9964024286123325,
           -0.5338558523805624,
           -0.7076399917705438,
           -0.45206417777372015,
           0.07955065698879665,
           0.5338558523805624,
           0.03750983474359204,
           0,
           0.3983860580244507,
           0.05770695516162905,
           -0.35377534546139555,
           -0.7215411687601129,
           -0.7925411013823731,
           -0.767218487351168,
           -0.820462816421244,
           -0.8045813056937331,
           -0.8001822635850481,
           -0.7744343872599813,
           -0.7850800161790256
          ],
          [
           -0.9571099687228123,
           -0.947680440978655,
           -0.1527966159358584,
           -0.930548917290631,
           -0.7699958774146203,
           -0.3241582217235067,
           0.1527966159358584,
           -0.3637010079817432,
           -0.3983860580244507,
           0,
           -0.34479232539384996,
           -0.6971116560659081,
           -0.9376415918165352,
           -0.9698760178917768,
           -0.959225652076858,
           -0.9803003910377607,
           -0.9745548950027872,
           -0.9728762290294519,
           -0.9623656550106736,
           -0.9668474651215347
          ],
          [
           -0.9983139379599637,
           -0.9996325300118613,
           -0.484170628833178,
           -0.7472349419712201,
           -0.5027846045811449,
           0.02189401930066681,
           0.484170628833178,
           -0.020219017335604828,
           -0.05770695516162905,
           0.34479232539384996,
           0,
           -0.40716087282837643,
           -0.7602934205148344,
           -0.8264111521002203,
           -0.8029523915056591,
           -0.8520866286509894,
           -0.8375093662704345,
           -0.8334589568052655,
           -0.809652392331778,
           -0.8195150938150376
          ],
          [
           -0.8881826240106057,
           -0.9019838031122823,
           -0.7984753867715096,
           -0.4119090479525194,
           -0.10726693170844026,
           0.42706031921060456,
           0.7984753867715096,
           0.3886104687698715,
           0.35377534546139555,
           0.6971116560659081,
           0.40716087282837643,
           0,
           -0.42993542961715125,
           -0.5255490552024508,
           -0.49069629798850267,
           -0.5651505083211753,
           -0.5424625371499826,
           -0.5362556108656639,
           -0.5005345747901916,
           -0.5151827733599258
          ],
          [
           -0.6043529471088908,
           -0.6287316064753403,
           -0.9797441314017545,
           0.01987184263632341,
           0.3306078298331061,
           0.774333088723884,
           0.9797441314017545,
           0.747004132152311,
           0.7215411687601129,
           0.9376415918165352,
           0.7602934205148344,
           0.42993542961715125,
           0,
           -0.10872374548685425,
           -0.06841395449921389,
           -0.15556009072563443,
           -0.12858737705161838,
           -0.12127412354233441,
           -0.07971024963672266,
           -0.09664852798273611
          ],
          [
           -0.5141483198999438,
           -0.5404584695964775,
           -0.9957085143010443,
           0.12845631881316005,
           0.4312580039255021,
           0.838540861957989,
           0.9957085143010443,
           0.8148575484855443,
           0.7925411013823731,
           0.9698760178917768,
           0.8264111521002203,
           0.5255490552024508,
           0.10872374548685425,
           0,
           0.04046061121226634,
           -0.04723774148520827,
           -0.020003970602864518,
           -0.012633949477855413,
           0.02914006724564369,
           0.012139167424766895
          ],
          [
           -0.5484304199090689,
           -0.5740582791244713,
           -0.9911487403002214,
           0.08822572848687826,
           0.39440013892617604,
           0.8158097021970262,
           0.9911487403002214,
           0.7907368406545274,
           0.767218487351168,
           0.959225652076858,
           0.8029523915056591,
           0.49069629798850267,
           0.06841395449921389,
           -0.04046061121226634,
           0,
           -0.08761450412652678,
           -0.060440105102092384,
           -0.05308098595790103,
           -0.011327223689930138,
           -0.028328402901309058
          ],
          [
           -0.4730584913020032,
           -0.500110690908621,
           -0.9989685908427733,
           0.17515930451337708,
           0.4733958234026095,
           0.8633417279218372,
           0.9989685908427733,
           0.8413297911903341,
           0.820462816421244,
           0.9803003910377607,
           0.8520866286509894,
           0.5651505083211753,
           0.15556009072563443,
           0.04723774148520827,
           0.08761450412652678,
           0,
           0.02724664957324341,
           0.03461412548737812,
           0.07632521886902521,
           0.05935987706094196
          ],
          [
           -0.49688800769139585,
           -0.5235195695553042,
           -0.9973605386153337,
           0.14826885583994207,
           0.44921986480077525,
           0.8492720079928396,
           0.9973605386153337,
           0.8262900227396706,
           0.8045813056937331,
           0.9745548950027872,
           0.8375093662704345,
           0.5424625371499826,
           0.12858737705161838,
           0.020003970602864518,
           0.060440105102092384,
           -0.02724664957324341,
           0,
           0.007370952623829738,
           0.04912971201264345,
           0.03213923504631745
          ],
          [
           -0.5032711301569223,
           -0.529785499957489,
           -0.9967982526066274,
           0.14097534584562937,
           0.4426222957284487,
           0.8453574015028054,
           0.9967982526066274,
           0.8221159245280549,
           0.8001822635850481,
           0.9728762290294519,
           0.8334589568052655,
           0.5362556108656639,
           0.12127412354233441,
           0.012633949477855413,
           0.05308098595790103,
           -0.03461412548737812,
           -0.007370952623829738,
           0,
           0.0417663258529552,
           0.024771217157349326
          ],
          [
           -0.5389234539888681,
           -0.5647465560261933,
           -0.9925889108186281,
           0.09950312162522747,
           0.4047838615836752,
           0.8223081288531835,
           0.9925889108186281,
           0.7976201414283318,
           0.7744343872599813,
           0.9623656550106736,
           0.809652392331778,
           0.5005345747901916,
           0.07971024963672266,
           -0.02914006724564369,
           0.011327223689930138,
           -0.07632521886902521,
           -0.04912971201264345,
           -0.0417663258529552,
           0,
           -0.01700390775281739
          ],
          [
           -0.5245222157898143,
           -0.5506321870210696,
           -0.9945117303254184,
           0.11640825738204719,
           0.42027392317881973,
           0.8318651878959227,
           0.9945117303254184,
           0.8077609027418681,
           0.7850800161790256,
           0.9668474651215347,
           0.8195150938150376,
           0.5151827733599258,
           0.09664852798273611,
           -0.012139167424766895,
           0.028328402901309058,
           -0.05935987706094196,
           -0.03213923504631745,
           -0.024771217157349326,
           0.01700390775281739,
           0
          ]
         ]
        }
       ],
       "layout": {
        "autosize": true,
        "coloraxis": {
         "cmax": 1,
         "cmin": -1,
         "colorscale": [
          [
           0,
           "rgb(5,48,97)"
          ],
          [
           0.1,
           "rgb(33,102,172)"
          ],
          [
           0.2,
           "rgb(67,147,195)"
          ],
          [
           0.3,
           "rgb(146,197,222)"
          ],
          [
           0.4,
           "rgb(209,229,240)"
          ],
          [
           0.5,
           "rgb(247,247,247)"
          ],
          [
           0.6,
           "rgb(253,219,199)"
          ],
          [
           0.7,
           "rgb(244,165,130)"
          ],
          [
           0.8,
           "rgb(214,96,77)"
          ],
          [
           0.9,
           "rgb(178,24,43)"
          ],
          [
           1,
           "rgb(103,0,31)"
          ]
         ]
        },
        "margin": {
         "t": 60
        },
        "template": {
         "data": {
          "bar": [
           {
            "error_x": {
             "color": "#2a3f5f"
            },
            "error_y": {
             "color": "#2a3f5f"
            },
            "marker": {
             "line": {
              "color": "#E5ECF6",
              "width": 0.5
             },
             "pattern": {
              "fillmode": "overlay",
              "size": 10,
              "solidity": 0.2
             }
            },
            "type": "bar"
           }
          ],
          "barpolar": [
           {
            "marker": {
             "line": {
              "color": "#E5ECF6",
              "width": 0.5
             },
             "pattern": {
              "fillmode": "overlay",
              "size": 10,
              "solidity": 0.2
             }
            },
            "type": "barpolar"
           }
          ],
          "carpet": [
           {
            "aaxis": {
             "endlinecolor": "#2a3f5f",
             "gridcolor": "white",
             "linecolor": "white",
             "minorgridcolor": "white",
             "startlinecolor": "#2a3f5f"
            },
            "baxis": {
             "endlinecolor": "#2a3f5f",
             "gridcolor": "white",
             "linecolor": "white",
             "minorgridcolor": "white",
             "startlinecolor": "#2a3f5f"
            },
            "type": "carpet"
           }
          ],
          "choropleth": [
           {
            "colorbar": {
             "outlinewidth": 0,
             "ticks": ""
            },
            "type": "choropleth"
           }
          ],
          "contour": [
           {
            "colorbar": {
             "outlinewidth": 0,
             "ticks": ""
            },
            "colorscale": [
             [
              0,
              "#0d0887"
             ],
             [
              0.1111111111111111,
              "#46039f"
             ],
             [
              0.2222222222222222,
              "#7201a8"
             ],
             [
              0.3333333333333333,
              "#9c179e"
             ],
             [
              0.4444444444444444,
              "#bd3786"
             ],
             [
              0.5555555555555556,
              "#d8576b"
             ],
             [
              0.6666666666666666,
              "#ed7953"
             ],
             [
              0.7777777777777778,
              "#fb9f3a"
             ],
             [
              0.8888888888888888,
              "#fdca26"
             ],
             [
              1,
              "#f0f921"
             ]
            ],
            "type": "contour"
           }
          ],
          "contourcarpet": [
           {
            "colorbar": {
             "outlinewidth": 0,
             "ticks": ""
            },
            "type": "contourcarpet"
           }
          ],
          "heatmap": [
           {
            "colorbar": {
             "outlinewidth": 0,
             "ticks": ""
            },
            "colorscale": [
             [
              0,
              "#0d0887"
             ],
             [
              0.1111111111111111,
              "#46039f"
             ],
             [
              0.2222222222222222,
              "#7201a8"
             ],
             [
              0.3333333333333333,
              "#9c179e"
             ],
             [
              0.4444444444444444,
              "#bd3786"
             ],
             [
              0.5555555555555556,
              "#d8576b"
             ],
             [
              0.6666666666666666,
              "#ed7953"
             ],
             [
              0.7777777777777778,
              "#fb9f3a"
             ],
             [
              0.8888888888888888,
              "#fdca26"
             ],
             [
              1,
              "#f0f921"
             ]
            ],
            "type": "heatmap"
           }
          ],
          "heatmapgl": [
           {
            "colorbar": {
             "outlinewidth": 0,
             "ticks": ""
            },
            "colorscale": [
             [
              0,
              "#0d0887"
             ],
             [
              0.1111111111111111,
              "#46039f"
             ],
             [
              0.2222222222222222,
              "#7201a8"
             ],
             [
              0.3333333333333333,
              "#9c179e"
             ],
             [
              0.4444444444444444,
              "#bd3786"
             ],
             [
              0.5555555555555556,
              "#d8576b"
             ],
             [
              0.6666666666666666,
              "#ed7953"
             ],
             [
              0.7777777777777778,
              "#fb9f3a"
             ],
             [
              0.8888888888888888,
              "#fdca26"
             ],
             [
              1,
              "#f0f921"
             ]
            ],
            "type": "heatmapgl"
           }
          ],
          "histogram": [
           {
            "marker": {
             "pattern": {
              "fillmode": "overlay",
              "size": 10,
              "solidity": 0.2
             }
            },
            "type": "histogram"
           }
          ],
          "histogram2d": [
           {
            "colorbar": {
             "outlinewidth": 0,
             "ticks": ""
            },
            "colorscale": [
             [
              0,
              "#0d0887"
             ],
             [
              0.1111111111111111,
              "#46039f"
             ],
             [
              0.2222222222222222,
              "#7201a8"
             ],
             [
              0.3333333333333333,
              "#9c179e"
             ],
             [
              0.4444444444444444,
              "#bd3786"
             ],
             [
              0.5555555555555556,
              "#d8576b"
             ],
             [
              0.6666666666666666,
              "#ed7953"
             ],
             [
              0.7777777777777778,
              "#fb9f3a"
             ],
             [
              0.8888888888888888,
              "#fdca26"
             ],
             [
              1,
              "#f0f921"
             ]
            ],
            "type": "histogram2d"
           }
          ],
          "histogram2dcontour": [
           {
            "colorbar": {
             "outlinewidth": 0,
             "ticks": ""
            },
            "colorscale": [
             [
              0,
              "#0d0887"
             ],
             [
              0.1111111111111111,
              "#46039f"
             ],
             [
              0.2222222222222222,
              "#7201a8"
             ],
             [
              0.3333333333333333,
              "#9c179e"
             ],
             [
              0.4444444444444444,
              "#bd3786"
             ],
             [
              0.5555555555555556,
              "#d8576b"
             ],
             [
              0.6666666666666666,
              "#ed7953"
             ],
             [
              0.7777777777777778,
              "#fb9f3a"
             ],
             [
              0.8888888888888888,
              "#fdca26"
             ],
             [
              1,
              "#f0f921"
             ]
            ],
            "type": "histogram2dcontour"
           }
          ],
          "mesh3d": [
           {
            "colorbar": {
             "outlinewidth": 0,
             "ticks": ""
            },
            "type": "mesh3d"
           }
          ],
          "parcoords": [
           {
            "line": {
             "colorbar": {
              "outlinewidth": 0,
              "ticks": ""
             }
            },
            "type": "parcoords"
           }
          ],
          "pie": [
           {
            "automargin": true,
            "type": "pie"
           }
          ],
          "scatter": [
           {
            "fillpattern": {
             "fillmode": "overlay",
             "size": 10,
             "solidity": 0.2
            },
            "type": "scatter"
           }
          ],
          "scatter3d": [
           {
            "line": {
             "colorbar": {
              "outlinewidth": 0,
              "ticks": ""
             }
            },
            "marker": {
             "colorbar": {
              "outlinewidth": 0,
              "ticks": ""
             }
            },
            "type": "scatter3d"
           }
          ],
          "scattercarpet": [
           {
            "marker": {
             "colorbar": {
              "outlinewidth": 0,
              "ticks": ""
             }
            },
            "type": "scattercarpet"
           }
          ],
          "scattergeo": [
           {
            "marker": {
             "colorbar": {
              "outlinewidth": 0,
              "ticks": ""
             }
            },
            "type": "scattergeo"
           }
          ],
          "scattergl": [
           {
            "marker": {
             "colorbar": {
              "outlinewidth": 0,
              "ticks": ""
             }
            },
            "type": "scattergl"
           }
          ],
          "scattermapbox": [
           {
            "marker": {
             "colorbar": {
              "outlinewidth": 0,
              "ticks": ""
             }
            },
            "type": "scattermapbox"
           }
          ],
          "scatterpolar": [
           {
            "marker": {
             "colorbar": {
              "outlinewidth": 0,
              "ticks": ""
             }
            },
            "type": "scatterpolar"
           }
          ],
          "scatterpolargl": [
           {
            "marker": {
             "colorbar": {
              "outlinewidth": 0,
              "ticks": ""
             }
            },
            "type": "scatterpolargl"
           }
          ],
          "scatterternary": [
           {
            "marker": {
             "colorbar": {
              "outlinewidth": 0,
              "ticks": ""
             }
            },
            "type": "scatterternary"
           }
          ],
          "surface": [
           {
            "colorbar": {
             "outlinewidth": 0,
             "ticks": ""
            },
            "colorscale": [
             [
              0,
              "#0d0887"
             ],
             [
              0.1111111111111111,
              "#46039f"
             ],
             [
              0.2222222222222222,
              "#7201a8"
             ],
             [
              0.3333333333333333,
              "#9c179e"
             ],
             [
              0.4444444444444444,
              "#bd3786"
             ],
             [
              0.5555555555555556,
              "#d8576b"
             ],
             [
              0.6666666666666666,
              "#ed7953"
             ],
             [
              0.7777777777777778,
              "#fb9f3a"
             ],
             [
              0.8888888888888888,
              "#fdca26"
             ],
             [
              1,
              "#f0f921"
             ]
            ],
            "type": "surface"
           }
          ],
          "table": [
           {
            "cells": {
             "fill": {
              "color": "#EBF0F8"
             },
             "line": {
              "color": "white"
             }
            },
            "header": {
             "fill": {
              "color": "#C8D4E3"
             },
             "line": {
              "color": "white"
             }
            },
            "type": "table"
           }
          ]
         },
         "layout": {
          "annotationdefaults": {
           "arrowcolor": "#2a3f5f",
           "arrowhead": 0,
           "arrowwidth": 1
          },
          "autotypenumbers": "strict",
          "coloraxis": {
           "colorbar": {
            "outlinewidth": 0,
            "ticks": ""
           }
          },
          "colorscale": {
           "diverging": [
            [
             0,
             "#8e0152"
            ],
            [
             0.1,
             "#c51b7d"
            ],
            [
             0.2,
             "#de77ae"
            ],
            [
             0.3,
             "#f1b6da"
            ],
            [
             0.4,
             "#fde0ef"
            ],
            [
             0.5,
             "#f7f7f7"
            ],
            [
             0.6,
             "#e6f5d0"
            ],
            [
             0.7,
             "#b8e186"
            ],
            [
             0.8,
             "#7fbc41"
            ],
            [
             0.9,
             "#4d9221"
            ],
            [
             1,
             "#276419"
            ]
           ],
           "sequential": [
            [
             0,
             "#0d0887"
            ],
            [
             0.1111111111111111,
             "#46039f"
            ],
            [
             0.2222222222222222,
             "#7201a8"
            ],
            [
             0.3333333333333333,
             "#9c179e"
            ],
            [
             0.4444444444444444,
             "#bd3786"
            ],
            [
             0.5555555555555556,
             "#d8576b"
            ],
            [
             0.6666666666666666,
             "#ed7953"
            ],
            [
             0.7777777777777778,
             "#fb9f3a"
            ],
            [
             0.8888888888888888,
             "#fdca26"
            ],
            [
             1,
             "#f0f921"
            ]
           ],
           "sequentialminus": [
            [
             0,
             "#0d0887"
            ],
            [
             0.1111111111111111,
             "#46039f"
            ],
            [
             0.2222222222222222,
             "#7201a8"
            ],
            [
             0.3333333333333333,
             "#9c179e"
            ],
            [
             0.4444444444444444,
             "#bd3786"
            ],
            [
             0.5555555555555556,
             "#d8576b"
            ],
            [
             0.6666666666666666,
             "#ed7953"
            ],
            [
             0.7777777777777778,
             "#fb9f3a"
            ],
            [
             0.8888888888888888,
             "#fdca26"
            ],
            [
             1,
             "#f0f921"
            ]
           ]
          },
          "colorway": [
           "#636efa",
           "#EF553B",
           "#00cc96",
           "#ab63fa",
           "#FFA15A",
           "#19d3f3",
           "#FF6692",
           "#B6E880",
           "#FF97FF",
           "#FECB52"
          ],
          "font": {
           "color": "#2a3f5f"
          },
          "geo": {
           "bgcolor": "white",
           "lakecolor": "white",
           "landcolor": "#E5ECF6",
           "showlakes": true,
           "showland": true,
           "subunitcolor": "white"
          },
          "hoverlabel": {
           "align": "left"
          },
          "hovermode": "closest",
          "mapbox": {
           "style": "light"
          },
          "paper_bgcolor": "white",
          "plot_bgcolor": "#E5ECF6",
          "polar": {
           "angularaxis": {
            "gridcolor": "white",
            "linecolor": "white",
            "ticks": ""
           },
           "bgcolor": "#E5ECF6",
           "radialaxis": {
            "gridcolor": "white",
            "linecolor": "white",
            "ticks": ""
           }
          },
          "scene": {
           "xaxis": {
            "backgroundcolor": "#E5ECF6",
            "gridcolor": "white",
            "gridwidth": 2,
            "linecolor": "white",
            "showbackground": true,
            "ticks": "",
            "zerolinecolor": "white"
           },
           "yaxis": {
            "backgroundcolor": "#E5ECF6",
            "gridcolor": "white",
            "gridwidth": 2,
            "linecolor": "white",
            "showbackground": true,
            "ticks": "",
            "zerolinecolor": "white"
           },
           "zaxis": {
            "backgroundcolor": "#E5ECF6",
            "gridcolor": "white",
            "gridwidth": 2,
            "linecolor": "white",
            "showbackground": true,
            "ticks": "",
            "zerolinecolor": "white"
           }
          },
          "shapedefaults": {
           "line": {
            "color": "#2a3f5f"
           }
          },
          "ternary": {
           "aaxis": {
            "gridcolor": "white",
            "linecolor": "white",
            "ticks": ""
           },
           "baxis": {
            "gridcolor": "white",
            "linecolor": "white",
            "ticks": ""
           },
           "bgcolor": "#E5ECF6",
           "caxis": {
            "gridcolor": "white",
            "linecolor": "white",
            "ticks": ""
           }
          },
          "title": {
           "x": 0.05
          },
          "xaxis": {
           "automargin": true,
           "gridcolor": "white",
           "linecolor": "white",
           "ticks": "",
           "title": {
            "standoff": 15
           },
           "zerolinecolor": "white",
           "zerolinewidth": 2
          },
          "yaxis": {
           "automargin": true,
           "gridcolor": "white",
           "linecolor": "white",
           "ticks": "",
           "title": {
            "standoff": 15
           },
           "zerolinecolor": "white",
           "zerolinewidth": 2
          }
         }
        },
        "xaxis": {
         "anchor": "y",
         "autorange": true,
         "constrain": "domain",
         "domain": [
          0.41365777080062793,
          0.5863422291993721
         ],
         "range": [
          -0.5,
          19.5
         ],
         "scaleanchor": "y"
        },
        "yaxis": {
         "anchor": "x",
         "autorange": true,
         "constrain": "domain",
         "domain": [
          0,
          1
         ],
         "range": [
          19.5,
          -0.5
         ]
        }
       }
      },
      "image/png": "[encoded data removed]",
      "text/html": [
       "<div>                            <div id=\"83c8cd04-f2ac-421a-8b80-53e906b27b26\" class=\"plotly-graph-div\" style=\"height:525px; width:100%;\"></div>            <script type=\"text/javascript\">                require([\"plotly\"], function(Plotly) {                    window.PLOTLYENV=window.PLOTLYENV || {};                                    if (document.getElementById(\"83c8cd04-f2ac-421a-8b80-53e906b27b26\")) {                    Plotly.newPlot(                        \"83c8cd04-f2ac-421a-8b80-53e906b27b26\",                        [{\"coloraxis\":\"coloraxis\",\"name\":\"0\",\"z\":[[0.0,-0.030962599184095885,-0.9016022723303033,0.6200658378979595,0.8337698906185793,0.9993454888689265,0.9016022723303033,0.996936234227175,0.9933006831683071,0.9571099687228123,0.9983139379599637,0.8881826240106057,0.6043529471088908,0.5141483198999438,0.5484304199090689,0.4730584913020032,0.49688800769139585,0.5032711301569223,0.5389234539888681,0.5245222157898143],[0.030962599184095885,0.0,-0.887776625905682,0.6440602438451117,0.850464960079915,0.999986402764103,0.887776625905682,0.9988800972251461,0.9964024286123325,0.947680440978655,0.9996325300118613,0.9019838031122823,0.6287316064753403,0.5404584695964775,0.5740582791244713,0.500110690908621,0.5235195695553042,0.529785499957489,0.5647465560261933,0.5506321870210696],[0.9016022723303033,0.887776625905682,0.0,0.9755712619710406,0.8584460274863857,0.46489788288817413,0.0,0.5017627585467084,0.5338558523805624,0.1527966159358584,0.484170628833178,0.7984753867715096,0.9797441314017545,0.9957085143010443,0.9911487403002214,0.9989685908427733,0.9973605386153337,0.9967982526066274,0.9925889108186281,0.9945117303254184],[-0.6200658378979595,-0.6440602438451117,-0.9755712619710406,0.0,0.31178813284725015,0.7616057162945138,0.9755712619710406,0.7336454389315029,0.7076399917705438,0.930548917290631,0.7472349419712201,0.4119090479525194,-0.01987184263632341,-0.12845631881316005,-0.08822572848687826,-0.17515930451337708,-0.14826885583994207,-0.14097534584562937,-0.09950312162522747,-0.11640825738204719],[-0.8337698906185793,-0.850464960079915,-0.8584460274863857,-0.31178813284725015,0.0,0.5215895328502513,0.8584460274863857,0.48520426694235863,0.45206417777372015,0.7699958774146203,0.5027846045811449,0.10726693170844026,-0.3306078298331061,-0.4312580039255021,-0.39440013892617604,-0.4733958234026095,-0.44921986480077525,-0.4426222957284487,-0.4047838615836752,-0.42027392317881973],[-0.9993454888689265,-0.999986402764103,-0.46489788288817413,-0.7616057162945138,-0.5215895328502513,0.0,0.46489788288817413,-0.042103714391984015,-0.07955065698879665,0.3241582217235067,-0.02189401930066681,-0.42706031921060456,-0.774333088723884,-0.838540861957989,-0.8158097021970262,-0.8633417279218372,-0.8492720079928396,-0.8453574015028054,-0.8223081288531835,-0.8318651878959227],[-0.9016022723303033,-0.887776625905682,-0.0,-0.9755712619710406,-0.8584460274863857,-0.46489788288817413,0.0,-0.5017627585467084,-0.5338558523805624,-0.1527966159358584,-0.484170628833178,-0.7984753867715096,-0.9797441314017545,-0.9957085143010443,-0.9911487403002214,-0.9989685908427733,-0.9973605386153337,-0.9967982526066274,-0.9925889108186281,-0.9945117303254184],[-0.996936234227175,-0.9988800972251461,-0.5017627585467084,-0.7336454389315029,-0.48520426694235863,0.042103714391984015,0.5017627585467084,0.0,-0.03750983474359204,0.3637010079817432,0.020219017335604828,-0.3886104687698715,-0.747004132152311,-0.8148575484855443,-0.7907368406545274,-0.8413297911903341,-0.8262900227396706,-0.8221159245280549,-0.7976201414283318,-0.8077609027418681],[-0.9933006831683071,-0.9964024286123325,-0.5338558523805624,-0.7076399917705438,-0.45206417777372015,0.07955065698879665,0.5338558523805624,0.03750983474359204,0.0,0.3983860580244507,0.05770695516162905,-0.35377534546139555,-0.7215411687601129,-0.7925411013823731,-0.767218487351168,-0.820462816421244,-0.8045813056937331,-0.8001822635850481,-0.7744343872599813,-0.7850800161790256],[-0.9571099687228123,-0.947680440978655,-0.1527966159358584,-0.930548917290631,-0.7699958774146203,-0.3241582217235067,0.1527966159358584,-0.3637010079817432,-0.3983860580244507,0.0,-0.34479232539384996,-0.6971116560659081,-0.9376415918165352,-0.9698760178917768,-0.959225652076858,-0.9803003910377607,-0.9745548950027872,-0.9728762290294519,-0.9623656550106736,-0.9668474651215347],[-0.9983139379599637,-0.9996325300118613,-0.484170628833178,-0.7472349419712201,-0.5027846045811449,0.02189401930066681,0.484170628833178,-0.020219017335604828,-0.05770695516162905,0.34479232539384996,0.0,-0.40716087282837643,-0.7602934205148344,-0.8264111521002203,-0.8029523915056591,-0.8520866286509894,-0.8375093662704345,-0.8334589568052655,-0.809652392331778,-0.8195150938150376],[-0.8881826240106057,-0.9019838031122823,-0.7984753867715096,-0.4119090479525194,-0.10726693170844026,0.42706031921060456,0.7984753867715096,0.3886104687698715,0.35377534546139555,0.6971116560659081,0.40716087282837643,0.0,-0.42993542961715125,-0.5255490552024508,-0.49069629798850267,-0.5651505083211753,-0.5424625371499826,-0.5362556108656639,-0.5005345747901916,-0.5151827733599258],[-0.6043529471088908,-0.6287316064753403,-0.9797441314017545,0.01987184263632341,0.3306078298331061,0.774333088723884,0.9797441314017545,0.747004132152311,0.7215411687601129,0.9376415918165352,0.7602934205148344,0.42993542961715125,0.0,-0.10872374548685425,-0.06841395449921389,-0.15556009072563443,-0.12858737705161838,-0.12127412354233441,-0.07971024963672266,-0.09664852798273611],[-0.5141483198999438,-0.5404584695964775,-0.9957085143010443,0.12845631881316005,0.4312580039255021,0.838540861957989,0.9957085143010443,0.8148575484855443,0.7925411013823731,0.9698760178917768,0.8264111521002203,0.5255490552024508,0.10872374548685425,0.0,0.04046061121226634,-0.04723774148520827,-0.020003970602864518,-0.012633949477855413,0.02914006724564369,0.012139167424766895],[-0.5484304199090689,-0.5740582791244713,-0.9911487403002214,0.08822572848687826,0.39440013892617604,0.8158097021970262,0.9911487403002214,0.7907368406545274,0.767218487351168,0.959225652076858,0.8029523915056591,0.49069629798850267,0.06841395449921389,-0.04046061121226634,0.0,-0.08761450412652678,-0.060440105102092384,-0.05308098595790103,-0.011327223689930138,-0.028328402901309058],[-0.4730584913020032,-0.500110690908621,-0.9989685908427733,0.17515930451337708,0.4733958234026095,0.8633417279218372,0.9989685908427733,0.8413297911903341,0.820462816421244,0.9803003910377607,0.8520866286509894,0.5651505083211753,0.15556009072563443,0.04723774148520827,0.08761450412652678,0.0,0.02724664957324341,0.03461412548737812,0.07632521886902521,0.05935987706094196],[-0.49688800769139585,-0.5235195695553042,-0.9973605386153337,0.14826885583994207,0.44921986480077525,0.8492720079928396,0.9973605386153337,0.8262900227396706,0.8045813056937331,0.9745548950027872,0.8375093662704345,0.5424625371499826,0.12858737705161838,0.020003970602864518,0.060440105102092384,-0.02724664957324341,0.0,0.007370952623829738,0.04912971201264345,0.03213923504631745],[-0.5032711301569223,-0.529785499957489,-0.9967982526066274,0.14097534584562937,0.4426222957284487,0.8453574015028054,0.9967982526066274,0.8221159245280549,0.8001822635850481,0.9728762290294519,0.8334589568052655,0.5362556108656639,0.12127412354233441,0.012633949477855413,0.05308098595790103,-0.03461412548737812,-0.007370952623829738,0.0,0.0417663258529552,0.024771217157349326],[-0.5389234539888681,-0.5647465560261933,-0.9925889108186281,0.09950312162522747,0.4047838615836752,0.8223081288531835,0.9925889108186281,0.7976201414283318,0.7744343872599813,0.9623656550106736,0.809652392331778,0.5005345747901916,0.07971024963672266,-0.02914006724564369,0.011327223689930138,-0.07632521886902521,-0.04912971201264345,-0.0417663258529552,0.0,-0.01700390775281739],[-0.5245222157898143,-0.5506321870210696,-0.9945117303254184,0.11640825738204719,0.42027392317881973,0.8318651878959227,0.9945117303254184,0.8077609027418681,0.7850800161790256,0.9668474651215347,0.8195150938150376,0.5151827733599258,0.09664852798273611,-0.012139167424766895,0.028328402901309058,-0.05935987706094196,-0.03213923504631745,-0.024771217157349326,0.01700390775281739,0.0]],\"type\":\"heatmap\",\"xaxis\":\"x\",\"yaxis\":\"y\",\"hovertemplate\":\"x: %{x}<br>y: %{y}<br>color: %{z}<extra></extra>\"}],                        {\"template\":{\"data\":{\"histogram2dcontour\":[{\"type\":\"histogram2dcontour\",\"colorbar\":{\"outlinewidth\":0,\"ticks\":\"\"},\"colorscale\":[[0.0,\"#0d0887\"],[0.1111111111111111,\"#46039f\"],[0.2222222222222222,\"#7201a8\"],[0.3333333333333333,\"#9c179e\"],[0.4444444444444444,\"#bd3786\"],[0.5555555555555556,\"#d8576b\"],[0.6666666666666666,\"#ed7953\"],[0.7777777777777778,\"#fb9f3a\"],[0.8888888888888888,\"#fdca26\"],[1.0,\"#f0f921\"]]}],\"choropleth\":[{\"type\":\"choropleth\",\"colorbar\":{\"outlinewidth\":0,\"ticks\":\"\"}}],\"histogram2d\":[{\"type\":\"histogram2d\",\"colorbar\":{\"outlinewidth\":0,\"ticks\":\"\"},\"colorscale\":[[0.0,\"#0d0887\"],[0.1111111111111111,\"#46039f\"],[0.2222222222222222,\"#7201a8\"],[0.3333333333333333,\"#9c179e\"],[0.4444444444444444,\"#bd3786\"],[0.5555555555555556,\"#d8576b\"],[0.6666666666666666,\"#ed7953\"],[0.7777777777777778,\"#fb9f3a\"],[0.8888888888888888,\"#fdca26\"],[1.0,\"#f0f921\"]]}],\"heatmap\":[{\"type\":\"heatmap\",\"colorbar\":{\"outlinewidth\":0,\"ticks\":\"\"},\"colorscale\":[[0.0,\"#0d0887\"],[0.1111111111111111,\"#46039f\"],[0.2222222222222222,\"#7201a8\"],[0.3333333333333333,\"#9c179e\"],[0.4444444444444444,\"#bd3786\"],[0.5555555555555556,\"#d8576b\"],[0.6666666666666666,\"#ed7953\"],[0.7777777777777778,\"#fb9f3a\"],[0.8888888888888888,\"#fdca26\"],[1.0,\"#f0f921\"]]}],\"heatmapgl\":[{\"type\":\"heatmapgl\",\"colorbar\":{\"outlinewidth\":0,\"ticks\":\"\"},\"colorscale\":[[0.0,\"#0d0887\"],[0.1111111111111111,\"#46039f\"],[0.2222222222222222,\"#7201a8\"],[0.3333333333333333,\"#9c179e\"],[0.4444444444444444,\"#bd3786\"],[0.5555555555555556,\"#d8576b\"],[0.6666666666666666,\"#ed7953\"],[0.7777777777777778,\"#fb9f3a\"],[0.8888888888888888,\"#fdca26\"],[1.0,\"#f0f921\"]]}],\"contourcarpet\":[{\"type\":\"contourcarpet\",\"colorbar\":{\"outlinewidth\":0,\"ticks\":\"\"}}],\"contour\":[{\"type\":\"contour\",\"colorbar\":{\"outlinewidth\":0,\"ticks\":\"\"},\"colorscale\":[[0.0,\"#0d0887\"],[0.1111111111111111,\"#46039f\"],[0.2222222222222222,\"#7201a8\"],[0.3333333333333333,\"#9c179e\"],[0.4444444444444444,\"#bd3786\"],[0.5555555555555556,\"#d8576b\"],[0.6666666666666666,\"#ed7953\"],[0.7777777777777778,\"#fb9f3a\"],[0.8888888888888888,\"#fdca26\"],[1.0,\"#f0f921\"]]}],\"surface\":[{\"type\":\"surface\",\"colorbar\":{\"outlinewidth\":0,\"ticks\":\"\"},\"colorscale\":[[0.0,\"#0d0887\"],[0.1111111111111111,\"#46039f\"],[0.2222222222222222,\"#7201a8\"],[0.3333333333333333,\"#9c179e\"],[0.4444444444444444,\"#bd3786\"],[0.5555555555555556,\"#d8576b\"],[0.6666666666666666,\"#ed7953\"],[0.7777777777777778,\"#fb9f3a\"],[0.8888888888888888,\"#fdca26\"],[1.0,\"#f0f921\"]]}],\"mesh3d\":[{\"type\":\"mesh3d\",\"colorbar\":{\"outlinewidth\":0,\"ticks\":\"\"}}],\"scatter\":[{\"fillpattern\":{\"fillmode\":\"overlay\",\"size\":10,\"solidity\":0.2},\"type\":\"scatter\"}],\"parcoords\":[{\"type\":\"parcoords\",\"line\":{\"colorbar\":{\"outlinewidth\":0,\"ticks\":\"\"}}}],\"scatterpolargl\":[{\"type\":\"scatterpolargl\",\"marker\":{\"colorbar\":{\"outlinewidth\":0,\"ticks\":\"\"}}}],\"bar\":[{\"error_x\":{\"color\":\"#2a3f5f\"},\"error_y\":{\"color\":\"#2a3f5f\"},\"marker\":{\"line\":{\"color\":\"#E5ECF6\",\"width\":0.5},\"pattern\":{\"fillmode\":\"overlay\",\"size\":10,\"solidity\":0.2}},\"type\":\"bar\"}],\"scattergeo\":[{\"type\":\"scattergeo\",\"marker\":{\"colorbar\":{\"outlinewidth\":0,\"ticks\":\"\"}}}],\"scatterpolar\":[{\"type\":\"scatterpolar\",\"marker\":{\"colorbar\":{\"outlinewidth\":0,\"ticks\":\"\"}}}],\"histogram\":[{\"marker\":{\"pattern\":{\"fillmode\":\"overlay\",\"size\":10,\"solidity\":0.2}},\"type\":\"histogram\"}],\"scattergl\":[{\"type\":\"scattergl\",\"marker\":{\"colorbar\":{\"outlinewidth\":0,\"ticks\":\"\"}}}],\"scatter3d\":[{\"type\":\"scatter3d\",\"line\":{\"colorbar\":{\"outlinewidth\":0,\"ticks\":\"\"}},\"marker\":{\"colorbar\":{\"outlinewidth\":0,\"ticks\":\"\"}}}],\"scattermapbox\":[{\"type\":\"scattermapbox\",\"marker\":{\"colorbar\":{\"outlinewidth\":0,\"ticks\":\"\"}}}],\"scatterternary\":[{\"type\":\"scatterternary\",\"marker\":{\"colorbar\":{\"outlinewidth\":0,\"ticks\":\"\"}}}],\"scattercarpet\":[{\"type\":\"scattercarpet\",\"marker\":{\"colorbar\":{\"outlinewidth\":0,\"ticks\":\"\"}}}],\"carpet\":[{\"aaxis\":{\"endlinecolor\":\"#2a3f5f\",\"gridcolor\":\"white\",\"linecolor\":\"white\",\"minorgridcolor\":\"white\",\"startlinecolor\":\"#2a3f5f\"},\"baxis\":{\"endlinecolor\":\"#2a3f5f\",\"gridcolor\":\"white\",\"linecolor\":\"white\",\"minorgridcolor\":\"white\",\"startlinecolor\":\"#2a3f5f\"},\"type\":\"carpet\"}],\"table\":[{\"cells\":{\"fill\":{\"color\":\"#EBF0F8\"},\"line\":{\"color\":\"white\"}},\"header\":{\"fill\":{\"color\":\"#C8D4E3\"},\"line\":{\"color\":\"white\"}},\"type\":\"table\"}],\"barpolar\":[{\"marker\":{\"line\":{\"color\":\"#E5ECF6\",\"width\":0.5},\"pattern\":{\"fillmode\":\"overlay\",\"size\":10,\"solidity\":0.2}},\"type\":\"barpolar\"}],\"pie\":[{\"automargin\":true,\"type\":\"pie\"}]},\"layout\":{\"autotypenumbers\":\"strict\",\"colorway\":[\"#636efa\",\"#EF553B\",\"#00cc96\",\"#ab63fa\",\"#FFA15A\",\"#19d3f3\",\"#FF6692\",\"#B6E880\",\"#FF97FF\",\"#FECB52\"],\"font\":{\"color\":\"#2a3f5f\"},\"hovermode\":\"closest\",\"hoverlabel\":{\"align\":\"left\"},\"paper_bgcolor\":\"white\",\"plot_bgcolor\":\"#E5ECF6\",\"polar\":{\"bgcolor\":\"#E5ECF6\",\"angularaxis\":{\"gridcolor\":\"white\",\"linecolor\":\"white\",\"ticks\":\"\"},\"radialaxis\":{\"gridcolor\":\"white\",\"linecolor\":\"white\",\"ticks\":\"\"}},\"ternary\":{\"bgcolor\":\"#E5ECF6\",\"aaxis\":{\"gridcolor\":\"white\",\"linecolor\":\"white\",\"ticks\":\"\"},\"baxis\":{\"gridcolor\":\"white\",\"linecolor\":\"white\",\"ticks\":\"\"},\"caxis\":{\"gridcolor\":\"white\",\"linecolor\":\"white\",\"ticks\":\"\"}},\"coloraxis\":{\"colorbar\":{\"outlinewidth\":0,\"ticks\":\"\"}},\"colorscale\":{\"sequential\":[[0.0,\"#0d0887\"],[0.1111111111111111,\"#46039f\"],[0.2222222222222222,\"#7201a8\"],[0.3333333333333333,\"#9c179e\"],[0.4444444444444444,\"#bd3786\"],[0.5555555555555556,\"#d8576b\"],[0.6666666666666666,\"#ed7953\"],[0.7777777777777778,\"#fb9f3a\"],[0.8888888888888888,\"#fdca26\"],[1.0,\"#f0f921\"]],\"sequentialminus\":[[0.0,\"#0d0887\"],[0.1111111111111111,\"#46039f\"],[0.2222222222222222,\"#7201a8\"],[0.3333333333333333,\"#9c179e\"],[0.4444444444444444,\"#bd3786\"],[0.5555555555555556,\"#d8576b\"],[0.6666666666666666,\"#ed7953\"],[0.7777777777777778,\"#fb9f3a\"],[0.8888888888888888,\"#fdca26\"],[1.0,\"#f0f921\"]],\"diverging\":[[0,\"#8e0152\"],[0.1,\"#c51b7d\"],[0.2,\"#de77ae\"],[0.3,\"#f1b6da\"],[0.4,\"#fde0ef\"],[0.5,\"#f7f7f7\"],[0.6,\"#e6f5d0\"],[0.7,\"#b8e186\"],[0.8,\"#7fbc41\"],[0.9,\"#4d9221\"],[1,\"#276419\"]]},\"xaxis\":{\"gridcolor\":\"white\",\"linecolor\":\"white\",\"ticks\":\"\",\"title\":{\"standoff\":15},\"zerolinecolor\":\"white\",\"automargin\":true,\"zerolinewidth\":2},\"yaxis\":{\"gridcolor\":\"white\",\"linecolor\":\"white\",\"ticks\":\"\",\"title\":{\"standoff\":15},\"zerolinecolor\":\"white\",\"automargin\":true,\"zerolinewidth\":2},\"scene\":{\"xaxis\":{\"backgroundcolor\":\"#E5ECF6\",\"gridcolor\":\"white\",\"linecolor\":\"white\",\"showbackground\":true,\"ticks\":\"\",\"zerolinecolor\":\"white\",\"gridwidth\":2},\"yaxis\":{\"backgroundcolor\":\"#E5ECF6\",\"gridcolor\":\"white\",\"linecolor\":\"white\",\"showbackground\":true,\"ticks\":\"\",\"zerolinecolor\":\"white\",\"gridwidth\":2},\"zaxis\":{\"backgroundcolor\":\"#E5ECF6\",\"gridcolor\":\"white\",\"linecolor\":\"white\",\"showbackground\":true,\"ticks\":\"\",\"zerolinecolor\":\"white\",\"gridwidth\":2}},\"shapedefaults\":{\"line\":{\"color\":\"#2a3f5f\"}},\"annotationdefaults\":{\"arrowcolor\":\"#2a3f5f\",\"arrowhead\":0,\"arrowwidth\":1},\"geo\":{\"bgcolor\":\"white\",\"landcolor\":\"#E5ECF6\",\"subunitcolor\":\"white\",\"showland\":true,\"showlakes\":true,\"lakecolor\":\"white\"},\"title\":{\"x\":0.05},\"mapbox\":{\"style\":\"light\"}}},\"xaxis\":{\"anchor\":\"y\",\"domain\":[0.0,1.0],\"scaleanchor\":\"y\",\"constrain\":\"domain\"},\"yaxis\":{\"anchor\":\"x\",\"domain\":[0.0,1.0],\"autorange\":\"reversed\",\"constrain\":\"domain\"},\"coloraxis\":{\"colorscale\":[[0.0,\"rgb(5,48,97)\"],[0.1,\"rgb(33,102,172)\"],[0.2,\"rgb(67,147,195)\"],[0.3,\"rgb(146,197,222)\"],[0.4,\"rgb(209,229,240)\"],[0.5,\"rgb(247,247,247)\"],[0.6,\"rgb(253,219,199)\"],[0.7,\"rgb(244,165,130)\"],[0.8,\"rgb(214,96,77)\"],[0.9,\"rgb(178,24,43)\"],[1.0,\"rgb(103,0,31)\"]],\"cmin\":-1.0,\"cmax\":1.0},\"margin\":{\"t\":60}},                        {\"responsive\": true}                    ).then(function(){\n",
       "                            \n",
       "var gd = document.getElementById('83c8cd04-f2ac-421a-8b80-53e906b27b26');\n",
       "var x = new MutationObserver(function (mutations, observer) {{\n",
       "        var display = window.getComputedStyle(gd).display;\n",
       "        if (!display || display === 'none') {{\n",
       "            console.log([gd, 'removed!']);\n",
       "            Plotly.purge(gd);\n",
       "            observer.disconnect();\n",
       "        }}\n",
       "}});\n",
       "\n",
       "// Listen for the removal of the full notebook cells\n",
       "var notebookContainer = gd.closest('#notebook-container');\n",
       "if (notebookContainer) {{\n",
       "    x.observe(notebookContainer, {childList: true});\n",
       "}}\n",
       "\n",
       "// Listen for the clearing of the current output cell\n",
       "var outputEl = gd.closest('.output');\n",
       "if (outputEl) {{\n",
       "    x.observe(outputEl, {childList: true});\n",
       "}}\n",
       "\n",
       "                        })                };                });            </script>        </div>"
      ]
     },
     "metadata": {},
     "output_type": "display_data"
    },
    {
     "data": {
      "application/vnd.plotly.v1+json": {
       "config": {
        "plotlyServerURL": "https://plot.ly"
       },
       "data": [
        {
         "coloraxis": "coloraxis",
         "hovertemplate": "x: %{x}<br>y: %{y}<br>color: %{z}<extra></extra>",
         "name": "0",
         "type": "heatmap",
         "xaxis": "x",
         "yaxis": "y",
         "z": [
          [
           0.5714285714285714,
           0.5714285714285714,
           0.5714285714285714,
           0.42857142857142855,
           0.42857142857142855,
           0,
           0,
           0,
           0,
           0,
           0,
           0,
           0.42857142857142855,
           0.5714285714285714,
           0.42857142857142855,
           0.5714285714285714,
           0.5714285714285714,
           0.5714285714285714,
           0.42857142857142855,
           0.42857142857142855
          ],
          [
           0.5714285714285714,
           0.5714285714285714,
           0.5714285714285714,
           0.42857142857142855,
           0.42857142857142855,
           0,
           0,
           0,
           0,
           0,
           0,
           0,
           0.42857142857142855,
           0.5714285714285714,
           0.42857142857142855,
           0.5714285714285714,
           0.5714285714285714,
           0.5714285714285714,
           0.42857142857142855,
           0.42857142857142855
          ],
          [
           0.5714285714285714,
           0.5714285714285714,
           0.5714285714285714,
           0.42857142857142855,
           0.42857142857142855,
           0,
           0,
           0,
           0,
           0,
           0,
           0,
           0.42857142857142855,
           0.5714285714285714,
           0.42857142857142855,
           0.5714285714285714,
           0.5714285714285714,
           0.5714285714285714,
           0.42857142857142855,
           0.42857142857142855
          ],
          [
           0.4,
           0.4,
           0.4,
           0.4,
           0.4,
           0.2,
           0.2,
           0.2,
           0.2,
           0.2,
           0.2,
           0.2,
           0.4,
           0.4,
           0.4,
           0.4,
           0.4,
           0.4,
           0.4,
           0.4
          ],
          [
           0.4,
           0.4,
           0.4,
           0.4,
           0.4,
           0.2,
           0.2,
           0.2,
           0.2,
           0.2,
           0.2,
           0.2,
           0.4,
           0.4,
           0.4,
           0.4,
           0.4,
           0.4,
           0.4,
           0.4
          ],
          [
           0,
           0,
           0,
           0.14285714285714285,
           0.14285714285714285,
           0.8571428571428571,
           0.8571428571428571,
           0.8571428571428571,
           0.8571428571428571,
           0.8571428571428571,
           0.8571428571428571,
           0.8571428571428571,
           0.14285714285714285,
           0,
           0.14285714285714285,
           0,
           0,
           0,
           0.14285714285714285,
           0.14285714285714285
          ],
          [
           0,
           0,
           0,
           0.14285714285714285,
           0.14285714285714285,
           0.8571428571428571,
           0.8571428571428571,
           0.8571428571428571,
           0.8571428571428571,
           0.8571428571428571,
           0.8571428571428571,
           0.8571428571428571,
           0.14285714285714285,
           0,
           0.14285714285714285,
           0,
           0,
           0,
           0.14285714285714285,
           0.14285714285714285
          ],
          [
           0,
           0,
           0,
           0.14285714285714285,
           0.14285714285714285,
           0.8571428571428571,
           0.8571428571428571,
           0.8571428571428571,
           0.8571428571428571,
           0.8571428571428571,
           0.8571428571428571,
           0.8571428571428571,
           0.14285714285714285,
           0,
           0.14285714285714285,
           0,
           0,
           0,
           0.14285714285714285,
           0.14285714285714285
          ],
          [
           0,
           0,
           0,
           0.14285714285714285,
           0.14285714285714285,
           0.8571428571428571,
           0.8571428571428571,
           0.8571428571428571,
           0.8571428571428571,
           0.8571428571428571,
           0.8571428571428571,
           0.8571428571428571,
           0.14285714285714285,
           0,
           0.14285714285714285,
           0,
           0,
           0,
           0.14285714285714285,
           0.14285714285714285
          ],
          [
           0,
           0,
           0,
           0.14285714285714285,
           0.14285714285714285,
           0.8571428571428571,
           0.8571428571428571,
           0.8571428571428571,
           0.8571428571428571,
           0.8571428571428571,
           0.8571428571428571,
           0.8571428571428571,
           0.14285714285714285,
           0,
           0.14285714285714285,
           0,
           0,
           0,
           0.14285714285714285,
           0.14285714285714285
          ],
          [
           0,
           0,
           0,
           0.14285714285714285,
           0.14285714285714285,
           0.8571428571428571,
           0.8571428571428571,
           0.8571428571428571,
           0.8571428571428571,
           0.8571428571428571,
           0.8571428571428571,
           0.8571428571428571,
           0.14285714285714285,
           0,
           0.14285714285714285,
           0,
           0,
           0,
           0.14285714285714285,
           0.14285714285714285
          ],
          [
           0,
           0,
           0,
           0.14285714285714285,
           0.14285714285714285,
           0.8571428571428571,
           0.8571428571428571,
           0.8571428571428571,
           0.8571428571428571,
           0.8571428571428571,
           0.8571428571428571,
           0.8571428571428571,
           0.14285714285714285,
           0,
           0.14285714285714285,
           0,
           0,
           0,
           0.14285714285714285,
           0.14285714285714285
          ],
          [
           0.4,
           0.4,
           0.4,
           0.4,
           0.4,
           0.2,
           0.2,
           0.2,
           0.2,
           0.2,
           0.2,
           0.2,
           0.4,
           0.4,
           0.4,
           0.4,
           0.4,
           0.4,
           0.4,
           0.4
          ],
          [
           0.5714285714285714,
           0.5714285714285714,
           0.5714285714285714,
           0.42857142857142855,
           0.42857142857142855,
           0,
           0,
           0,
           0,
           0,
           0,
           0,
           0.42857142857142855,
           0.5714285714285714,
           0.42857142857142855,
           0.5714285714285714,
           0.5714285714285714,
           0.5714285714285714,
           0.42857142857142855,
           0.42857142857142855
          ],
          [
           0.4,
           0.4,
           0.4,
           0.4,
           0.4,
           0.2,
           0.2,
           0.2,
           0.2,
           0.2,
           0.2,
           0.2,
           0.4,
           0.4,
           0.4,
           0.4,
           0.4,
           0.4,
           0.4,
           0.4
          ],
          [
           0.5714285714285714,
           0.5714285714285714,
           0.5714285714285714,
           0.42857142857142855,
           0.42857142857142855,
           0,
           0,
           0,
           0,
           0,
           0,
           0,
           0.42857142857142855,
           0.5714285714285714,
           0.42857142857142855,
           0.5714285714285714,
           0.5714285714285714,
           0.5714285714285714,
           0.42857142857142855,
           0.42857142857142855
          ],
          [
           0.5714285714285714,
           0.5714285714285714,
           0.5714285714285714,
           0.42857142857142855,
           0.42857142857142855,
           0,
           0,
           0,
           0,
           0,
           0,
           0,
           0.42857142857142855,
           0.5714285714285714,
           0.42857142857142855,
           0.5714285714285714,
           0.5714285714285714,
           0.5714285714285714,
           0.42857142857142855,
           0.42857142857142855
          ],
          [
           0.5714285714285714,
           0.5714285714285714,
           0.5714285714285714,
           0.42857142857142855,
           0.42857142857142855,
           0,
           0,
           0,
           0,
           0,
           0,
           0,
           0.42857142857142855,
           0.5714285714285714,
           0.42857142857142855,
           0.5714285714285714,
           0.5714285714285714,
           0.5714285714285714,
           0.42857142857142855,
           0.42857142857142855
          ],
          [
           0.4,
           0.4,
           0.4,
           0.4,
           0.4,
           0.2,
           0.2,
           0.2,
           0.2,
           0.2,
           0.2,
           0.2,
           0.4,
           0.4,
           0.4,
           0.4,
           0.4,
           0.4,
           0.4,
           0.4
          ],
          [
           0.4,
           0.4,
           0.4,
           0.4,
           0.4,
           0.2,
           0.2,
           0.2,
           0.2,
           0.2,
           0.2,
           0.2,
           0.4,
           0.4,
           0.4,
           0.4,
           0.4,
           0.4,
           0.4,
           0.4
          ]
         ]
        }
       ],
       "layout": {
        "autosize": true,
        "coloraxis": {
         "cmax": 1,
         "cmin": -1,
         "colorscale": [
          [
           0,
           "rgb(5,48,97)"
          ],
          [
           0.1,
           "rgb(33,102,172)"
          ],
          [
           0.2,
           "rgb(67,147,195)"
          ],
          [
           0.3,
           "rgb(146,197,222)"
          ],
          [
           0.4,
           "rgb(209,229,240)"
          ],
          [
           0.5,
           "rgb(247,247,247)"
          ],
          [
           0.6,
           "rgb(253,219,199)"
          ],
          [
           0.7,
           "rgb(244,165,130)"
          ],
          [
           0.8,
           "rgb(214,96,77)"
          ],
          [
           0.9,
           "rgb(178,24,43)"
          ],
          [
           1,
           "rgb(103,0,31)"
          ]
         ]
        },
        "margin": {
         "t": 60
        },
        "template": {
         "data": {
          "bar": [
           {
            "error_x": {
             "color": "#2a3f5f"
            },
            "error_y": {
             "color": "#2a3f5f"
            },
            "marker": {
             "line": {
              "color": "#E5ECF6",
              "width": 0.5
             },
             "pattern": {
              "fillmode": "overlay",
              "size": 10,
              "solidity": 0.2
             }
            },
            "type": "bar"
           }
          ],
          "barpolar": [
           {
            "marker": {
             "line": {
              "color": "#E5ECF6",
              "width": 0.5
             },
             "pattern": {
              "fillmode": "overlay",
              "size": 10,
              "solidity": 0.2
             }
            },
            "type": "barpolar"
           }
          ],
          "carpet": [
           {
            "aaxis": {
             "endlinecolor": "#2a3f5f",
             "gridcolor": "white",
             "linecolor": "white",
             "minorgridcolor": "white",
             "startlinecolor": "#2a3f5f"
            },
            "baxis": {
             "endlinecolor": "#2a3f5f",
             "gridcolor": "white",
             "linecolor": "white",
             "minorgridcolor": "white",
             "startlinecolor": "#2a3f5f"
            },
            "type": "carpet"
           }
          ],
          "choropleth": [
           {
            "colorbar": {
             "outlinewidth": 0,
             "ticks": ""
            },
            "type": "choropleth"
           }
          ],
          "contour": [
           {
            "colorbar": {
             "outlinewidth": 0,
             "ticks": ""
            },
            "colorscale": [
             [
              0,
              "#0d0887"
             ],
             [
              0.1111111111111111,
              "#46039f"
             ],
             [
              0.2222222222222222,
              "#7201a8"
             ],
             [
              0.3333333333333333,
              "#9c179e"
             ],
             [
              0.4444444444444444,
              "#bd3786"
             ],
             [
              0.5555555555555556,
              "#d8576b"
             ],
             [
              0.6666666666666666,
              "#ed7953"
             ],
             [
              0.7777777777777778,
              "#fb9f3a"
             ],
             [
              0.8888888888888888,
              "#fdca26"
             ],
             [
              1,
              "#f0f921"
             ]
            ],
            "type": "contour"
           }
          ],
          "contourcarpet": [
           {
            "colorbar": {
             "outlinewidth": 0,
             "ticks": ""
            },
            "type": "contourcarpet"
           }
          ],
          "heatmap": [
           {
            "colorbar": {
             "outlinewidth": 0,
             "ticks": ""
            },
            "colorscale": [
             [
              0,
              "#0d0887"
             ],
             [
              0.1111111111111111,
              "#46039f"
             ],
             [
              0.2222222222222222,
              "#7201a8"
             ],
             [
              0.3333333333333333,
              "#9c179e"
             ],
             [
              0.4444444444444444,
              "#bd3786"
             ],
             [
              0.5555555555555556,
              "#d8576b"
             ],
             [
              0.6666666666666666,
              "#ed7953"
             ],
             [
              0.7777777777777778,
              "#fb9f3a"
             ],
             [
              0.8888888888888888,
              "#fdca26"
             ],
             [
              1,
              "#f0f921"
             ]
            ],
            "type": "heatmap"
           }
          ],
          "heatmapgl": [
           {
            "colorbar": {
             "outlinewidth": 0,
             "ticks": ""
            },
            "colorscale": [
             [
              0,
              "#0d0887"
             ],
             [
              0.1111111111111111,
              "#46039f"
             ],
             [
              0.2222222222222222,
              "#7201a8"
             ],
             [
              0.3333333333333333,
              "#9c179e"
             ],
             [
              0.4444444444444444,
              "#bd3786"
             ],
             [
              0.5555555555555556,
              "#d8576b"
             ],
             [
              0.6666666666666666,
              "#ed7953"
             ],
             [
              0.7777777777777778,
              "#fb9f3a"
             ],
             [
              0.8888888888888888,
              "#fdca26"
             ],
             [
              1,
              "#f0f921"
             ]
            ],
            "type": "heatmapgl"
           }
          ],
          "histogram": [
           {
            "marker": {
             "pattern": {
              "fillmode": "overlay",
              "size": 10,
              "solidity": 0.2
             }
            },
            "type": "histogram"
           }
          ],
          "histogram2d": [
           {
            "colorbar": {
             "outlinewidth": 0,
             "ticks": ""
            },
            "colorscale": [
             [
              0,
              "#0d0887"
             ],
             [
              0.1111111111111111,
              "#46039f"
             ],
             [
              0.2222222222222222,
              "#7201a8"
             ],
             [
              0.3333333333333333,
              "#9c179e"
             ],
             [
              0.4444444444444444,
              "#bd3786"
             ],
             [
              0.5555555555555556,
              "#d8576b"
             ],
             [
              0.6666666666666666,
              "#ed7953"
             ],
             [
              0.7777777777777778,
              "#fb9f3a"
             ],
             [
              0.8888888888888888,
              "#fdca26"
             ],
             [
              1,
              "#f0f921"
             ]
            ],
            "type": "histogram2d"
           }
          ],
          "histogram2dcontour": [
           {
            "colorbar": {
             "outlinewidth": 0,
             "ticks": ""
            },
            "colorscale": [
             [
              0,
              "#0d0887"
             ],
             [
              0.1111111111111111,
              "#46039f"
             ],
             [
              0.2222222222222222,
              "#7201a8"
             ],
             [
              0.3333333333333333,
              "#9c179e"
             ],
             [
              0.4444444444444444,
              "#bd3786"
             ],
             [
              0.5555555555555556,
              "#d8576b"
             ],
             [
              0.6666666666666666,
              "#ed7953"
             ],
             [
              0.7777777777777778,
              "#fb9f3a"
             ],
             [
              0.8888888888888888,
              "#fdca26"
             ],
             [
              1,
              "#f0f921"
             ]
            ],
            "type": "histogram2dcontour"
           }
          ],
          "mesh3d": [
           {
            "colorbar": {
             "outlinewidth": 0,
             "ticks": ""
            },
            "type": "mesh3d"
           }
          ],
          "parcoords": [
           {
            "line": {
             "colorbar": {
              "outlinewidth": 0,
              "ticks": ""
             }
            },
            "type": "parcoords"
           }
          ],
          "pie": [
           {
            "automargin": true,
            "type": "pie"
           }
          ],
          "scatter": [
           {
            "fillpattern": {
             "fillmode": "overlay",
             "size": 10,
             "solidity": 0.2
            },
            "type": "scatter"
           }
          ],
          "scatter3d": [
           {
            "line": {
             "colorbar": {
              "outlinewidth": 0,
              "ticks": ""
             }
            },
            "marker": {
             "colorbar": {
              "outlinewidth": 0,
              "ticks": ""
             }
            },
            "type": "scatter3d"
           }
          ],
          "scattercarpet": [
           {
            "marker": {
             "colorbar": {
              "outlinewidth": 0,
              "ticks": ""
             }
            },
            "type": "scattercarpet"
           }
          ],
          "scattergeo": [
           {
            "marker": {
             "colorbar": {
              "outlinewidth": 0,
              "ticks": ""
             }
            },
            "type": "scattergeo"
           }
          ],
          "scattergl": [
           {
            "marker": {
             "colorbar": {
              "outlinewidth": 0,
              "ticks": ""
             }
            },
            "type": "scattergl"
           }
          ],
          "scattermapbox": [
           {
            "marker": {
             "colorbar": {
              "outlinewidth": 0,
              "ticks": ""
             }
            },
            "type": "scattermapbox"
           }
          ],
          "scatterpolar": [
           {
            "marker": {
             "colorbar": {
              "outlinewidth": 0,
              "ticks": ""
             }
            },
            "type": "scatterpolar"
           }
          ],
          "scatterpolargl": [
           {
            "marker": {
             "colorbar": {
              "outlinewidth": 0,
              "ticks": ""
             }
            },
            "type": "scatterpolargl"
           }
          ],
          "scatterternary": [
           {
            "marker": {
             "colorbar": {
              "outlinewidth": 0,
              "ticks": ""
             }
            },
            "type": "scatterternary"
           }
          ],
          "surface": [
           {
            "colorbar": {
             "outlinewidth": 0,
             "ticks": ""
            },
            "colorscale": [
             [
              0,
              "#0d0887"
             ],
             [
              0.1111111111111111,
              "#46039f"
             ],
             [
              0.2222222222222222,
              "#7201a8"
             ],
             [
              0.3333333333333333,
              "#9c179e"
             ],
             [
              0.4444444444444444,
              "#bd3786"
             ],
             [
              0.5555555555555556,
              "#d8576b"
             ],
             [
              0.6666666666666666,
              "#ed7953"
             ],
             [
              0.7777777777777778,
              "#fb9f3a"
             ],
             [
              0.8888888888888888,
              "#fdca26"
             ],
             [
              1,
              "#f0f921"
             ]
            ],
            "type": "surface"
           }
          ],
          "table": [
           {
            "cells": {
             "fill": {
              "color": "#EBF0F8"
             },
             "line": {
              "color": "white"
             }
            },
            "header": {
             "fill": {
              "color": "#C8D4E3"
             },
             "line": {
              "color": "white"
             }
            },
            "type": "table"
           }
          ]
         },
         "layout": {
          "annotationdefaults": {
           "arrowcolor": "#2a3f5f",
           "arrowhead": 0,
           "arrowwidth": 1
          },
          "autotypenumbers": "strict",
          "coloraxis": {
           "colorbar": {
            "outlinewidth": 0,
            "ticks": ""
           }
          },
          "colorscale": {
           "diverging": [
            [
             0,
             "#8e0152"
            ],
            [
             0.1,
             "#c51b7d"
            ],
            [
             0.2,
             "#de77ae"
            ],
            [
             0.3,
             "#f1b6da"
            ],
            [
             0.4,
             "#fde0ef"
            ],
            [
             0.5,
             "#f7f7f7"
            ],
            [
             0.6,
             "#e6f5d0"
            ],
            [
             0.7,
             "#b8e186"
            ],
            [
             0.8,
             "#7fbc41"
            ],
            [
             0.9,
             "#4d9221"
            ],
            [
             1,
             "#276419"
            ]
           ],
           "sequential": [
            [
             0,
             "#0d0887"
            ],
            [
             0.1111111111111111,
             "#46039f"
            ],
            [
             0.2222222222222222,
             "#7201a8"
            ],
            [
             0.3333333333333333,
             "#9c179e"
            ],
            [
             0.4444444444444444,
             "#bd3786"
            ],
            [
             0.5555555555555556,
             "#d8576b"
            ],
            [
             0.6666666666666666,
             "#ed7953"
            ],
            [
             0.7777777777777778,
             "#fb9f3a"
            ],
            [
             0.8888888888888888,
             "#fdca26"
            ],
            [
             1,
             "#f0f921"
            ]
           ],
           "sequentialminus": [
            [
             0,
             "#0d0887"
            ],
            [
             0.1111111111111111,
             "#46039f"
            ],
            [
             0.2222222222222222,
             "#7201a8"
            ],
            [
             0.3333333333333333,
             "#9c179e"
            ],
            [
             0.4444444444444444,
             "#bd3786"
            ],
            [
             0.5555555555555556,
             "#d8576b"
            ],
            [
             0.6666666666666666,
             "#ed7953"
            ],
            [
             0.7777777777777778,
             "#fb9f3a"
            ],
            [
             0.8888888888888888,
             "#fdca26"
            ],
            [
             1,
             "#f0f921"
            ]
           ]
          },
          "colorway": [
           "#636efa",
           "#EF553B",
           "#00cc96",
           "#ab63fa",
           "#FFA15A",
           "#19d3f3",
           "#FF6692",
           "#B6E880",
           "#FF97FF",
           "#FECB52"
          ],
          "font": {
           "color": "#2a3f5f"
          },
          "geo": {
           "bgcolor": "white",
           "lakecolor": "white",
           "landcolor": "#E5ECF6",
           "showlakes": true,
           "showland": true,
           "subunitcolor": "white"
          },
          "hoverlabel": {
           "align": "left"
          },
          "hovermode": "closest",
          "mapbox": {
           "style": "light"
          },
          "paper_bgcolor": "white",
          "plot_bgcolor": "#E5ECF6",
          "polar": {
           "angularaxis": {
            "gridcolor": "white",
            "linecolor": "white",
            "ticks": ""
           },
           "bgcolor": "#E5ECF6",
           "radialaxis": {
            "gridcolor": "white",
            "linecolor": "white",
            "ticks": ""
           }
          },
          "scene": {
           "xaxis": {
            "backgroundcolor": "#E5ECF6",
            "gridcolor": "white",
            "gridwidth": 2,
            "linecolor": "white",
            "showbackground": true,
            "ticks": "",
            "zerolinecolor": "white"
           },
           "yaxis": {
            "backgroundcolor": "#E5ECF6",
            "gridcolor": "white",
            "gridwidth": 2,
            "linecolor": "white",
            "showbackground": true,
            "ticks": "",
            "zerolinecolor": "white"
           },
           "zaxis": {
            "backgroundcolor": "#E5ECF6",
            "gridcolor": "white",
            "gridwidth": 2,
            "linecolor": "white",
            "showbackground": true,
            "ticks": "",
            "zerolinecolor": "white"
           }
          },
          "shapedefaults": {
           "line": {
            "color": "#2a3f5f"
           }
          },
          "ternary": {
           "aaxis": {
            "gridcolor": "white",
            "linecolor": "white",
            "ticks": ""
           },
           "baxis": {
            "gridcolor": "white",
            "linecolor": "white",
            "ticks": ""
           },
           "bgcolor": "#E5ECF6",
           "caxis": {
            "gridcolor": "white",
            "linecolor": "white",
            "ticks": ""
           }
          },
          "title": {
           "x": 0.05
          },
          "xaxis": {
           "automargin": true,
           "gridcolor": "white",
           "linecolor": "white",
           "ticks": "",
           "title": {
            "standoff": 15
           },
           "zerolinecolor": "white",
           "zerolinewidth": 2
          },
          "yaxis": {
           "automargin": true,
           "gridcolor": "white",
           "linecolor": "white",
           "ticks": "",
           "title": {
            "standoff": 15
           },
           "zerolinecolor": "white",
           "zerolinewidth": 2
          }
         }
        },
        "xaxis": {
         "anchor": "y",
         "autorange": true,
         "constrain": "domain",
         "domain": [
          0.41365777080062793,
          0.5863422291993721
         ],
         "range": [
          -0.5,
          19.5
         ],
         "scaleanchor": "y"
        },
        "yaxis": {
         "anchor": "x",
         "autorange": true,
         "constrain": "domain",
         "domain": [
          0,
          1
         ],
         "range": [
          19.5,
          -0.5
         ]
        }
       }
      },
      "image/png": "[encoded data removed]",
      "text/html": [
       "<div>                            <div id=\"509d973b-8eda-4106-bbc6-2061991d4c25\" class=\"plotly-graph-div\" style=\"height:525px; width:100%;\"></div>            <script type=\"text/javascript\">                require([\"plotly\"], function(Plotly) {                    window.PLOTLYENV=window.PLOTLYENV || {};                                    if (document.getElementById(\"509d973b-8eda-4106-bbc6-2061991d4c25\")) {                    Plotly.newPlot(                        \"509d973b-8eda-4106-bbc6-2061991d4c25\",                        [{\"coloraxis\":\"coloraxis\",\"name\":\"0\",\"z\":[[0.5714285714285714,0.5714285714285714,0.5714285714285714,0.42857142857142855,0.42857142857142855,0.0,0.0,0.0,0.0,0.0,0.0,0.0,0.42857142857142855,0.5714285714285714,0.42857142857142855,0.5714285714285714,0.5714285714285714,0.5714285714285714,0.42857142857142855,0.42857142857142855],[0.5714285714285714,0.5714285714285714,0.5714285714285714,0.42857142857142855,0.42857142857142855,0.0,0.0,0.0,0.0,0.0,0.0,0.0,0.42857142857142855,0.5714285714285714,0.42857142857142855,0.5714285714285714,0.5714285714285714,0.5714285714285714,0.42857142857142855,0.42857142857142855],[0.5714285714285714,0.5714285714285714,0.5714285714285714,0.42857142857142855,0.42857142857142855,0.0,0.0,0.0,0.0,0.0,0.0,0.0,0.42857142857142855,0.5714285714285714,0.42857142857142855,0.5714285714285714,0.5714285714285714,0.5714285714285714,0.42857142857142855,0.42857142857142855],[0.4,0.4,0.4,0.4,0.4,0.2,0.2,0.2,0.2,0.2,0.2,0.2,0.4,0.4,0.4,0.4,0.4,0.4,0.4,0.4],[0.4,0.4,0.4,0.4,0.4,0.2,0.2,0.2,0.2,0.2,0.2,0.2,0.4,0.4,0.4,0.4,0.4,0.4,0.4,0.4],[0.0,0.0,0.0,0.14285714285714285,0.14285714285714285,0.8571428571428571,0.8571428571428571,0.8571428571428571,0.8571428571428571,0.8571428571428571,0.8571428571428571,0.8571428571428571,0.14285714285714285,0.0,0.14285714285714285,0.0,0.0,0.0,0.14285714285714285,0.14285714285714285],[0.0,0.0,0.0,0.14285714285714285,0.14285714285714285,0.8571428571428571,0.8571428571428571,0.8571428571428571,0.8571428571428571,0.8571428571428571,0.8571428571428571,0.8571428571428571,0.14285714285714285,0.0,0.14285714285714285,0.0,0.0,0.0,0.14285714285714285,0.14285714285714285],[0.0,0.0,0.0,0.14285714285714285,0.14285714285714285,0.8571428571428571,0.8571428571428571,0.8571428571428571,0.8571428571428571,0.8571428571428571,0.8571428571428571,0.8571428571428571,0.14285714285714285,0.0,0.14285714285714285,0.0,0.0,0.0,0.14285714285714285,0.14285714285714285],[0.0,0.0,0.0,0.14285714285714285,0.14285714285714285,0.8571428571428571,0.8571428571428571,0.8571428571428571,0.8571428571428571,0.8571428571428571,0.8571428571428571,0.8571428571428571,0.14285714285714285,0.0,0.14285714285714285,0.0,0.0,0.0,0.14285714285714285,0.14285714285714285],[0.0,0.0,0.0,0.14285714285714285,0.14285714285714285,0.8571428571428571,0.8571428571428571,0.8571428571428571,0.8571428571428571,0.8571428571428571,0.8571428571428571,0.8571428571428571,0.14285714285714285,0.0,0.14285714285714285,0.0,0.0,0.0,0.14285714285714285,0.14285714285714285],[0.0,0.0,0.0,0.14285714285714285,0.14285714285714285,0.8571428571428571,0.8571428571428571,0.8571428571428571,0.8571428571428571,0.8571428571428571,0.8571428571428571,0.8571428571428571,0.14285714285714285,0.0,0.14285714285714285,0.0,0.0,0.0,0.14285714285714285,0.14285714285714285],[0.0,0.0,0.0,0.14285714285714285,0.14285714285714285,0.8571428571428571,0.8571428571428571,0.8571428571428571,0.8571428571428571,0.8571428571428571,0.8571428571428571,0.8571428571428571,0.14285714285714285,0.0,0.14285714285714285,0.0,0.0,0.0,0.14285714285714285,0.14285714285714285],[0.4,0.4,0.4,0.4,0.4,0.2,0.2,0.2,0.2,0.2,0.2,0.2,0.4,0.4,0.4,0.4,0.4,0.4,0.4,0.4],[0.5714285714285714,0.5714285714285714,0.5714285714285714,0.42857142857142855,0.42857142857142855,0.0,0.0,0.0,0.0,0.0,0.0,0.0,0.42857142857142855,0.5714285714285714,0.42857142857142855,0.5714285714285714,0.5714285714285714,0.5714285714285714,0.42857142857142855,0.42857142857142855],[0.4,0.4,0.4,0.4,0.4,0.2,0.2,0.2,0.2,0.2,0.2,0.2,0.4,0.4,0.4,0.4,0.4,0.4,0.4,0.4],[0.5714285714285714,0.5714285714285714,0.5714285714285714,0.42857142857142855,0.42857142857142855,0.0,0.0,0.0,0.0,0.0,0.0,0.0,0.42857142857142855,0.5714285714285714,0.42857142857142855,0.5714285714285714,0.5714285714285714,0.5714285714285714,0.42857142857142855,0.42857142857142855],[0.5714285714285714,0.5714285714285714,0.5714285714285714,0.42857142857142855,0.42857142857142855,0.0,0.0,0.0,0.0,0.0,0.0,0.0,0.42857142857142855,0.5714285714285714,0.42857142857142855,0.5714285714285714,0.5714285714285714,0.5714285714285714,0.42857142857142855,0.42857142857142855],[0.5714285714285714,0.5714285714285714,0.5714285714285714,0.42857142857142855,0.42857142857142855,0.0,0.0,0.0,0.0,0.0,0.0,0.0,0.42857142857142855,0.5714285714285714,0.42857142857142855,0.5714285714285714,0.5714285714285714,0.5714285714285714,0.42857142857142855,0.42857142857142855],[0.4,0.4,0.4,0.4,0.4,0.2,0.2,0.2,0.2,0.2,0.2,0.2,0.4,0.4,0.4,0.4,0.4,0.4,0.4,0.4],[0.4,0.4,0.4,0.4,0.4,0.2,0.2,0.2,0.2,0.2,0.2,0.2,0.4,0.4,0.4,0.4,0.4,0.4,0.4,0.4]],\"type\":\"heatmap\",\"xaxis\":\"x\",\"yaxis\":\"y\",\"hovertemplate\":\"x: %{x}<br>y: %{y}<br>color: %{z}<extra></extra>\"}],                        {\"template\":{\"data\":{\"histogram2dcontour\":[{\"type\":\"histogram2dcontour\",\"colorbar\":{\"outlinewidth\":0,\"ticks\":\"\"},\"colorscale\":[[0.0,\"#0d0887\"],[0.1111111111111111,\"#46039f\"],[0.2222222222222222,\"#7201a8\"],[0.3333333333333333,\"#9c179e\"],[0.4444444444444444,\"#bd3786\"],[0.5555555555555556,\"#d8576b\"],[0.6666666666666666,\"#ed7953\"],[0.7777777777777778,\"#fb9f3a\"],[0.8888888888888888,\"#fdca26\"],[1.0,\"#f0f921\"]]}],\"choropleth\":[{\"type\":\"choropleth\",\"colorbar\":{\"outlinewidth\":0,\"ticks\":\"\"}}],\"histogram2d\":[{\"type\":\"histogram2d\",\"colorbar\":{\"outlinewidth\":0,\"ticks\":\"\"},\"colorscale\":[[0.0,\"#0d0887\"],[0.1111111111111111,\"#46039f\"],[0.2222222222222222,\"#7201a8\"],[0.3333333333333333,\"#9c179e\"],[0.4444444444444444,\"#bd3786\"],[0.5555555555555556,\"#d8576b\"],[0.6666666666666666,\"#ed7953\"],[0.7777777777777778,\"#fb9f3a\"],[0.8888888888888888,\"#fdca26\"],[1.0,\"#f0f921\"]]}],\"heatmap\":[{\"type\":\"heatmap\",\"colorbar\":{\"outlinewidth\":0,\"ticks\":\"\"},\"colorscale\":[[0.0,\"#0d0887\"],[0.1111111111111111,\"#46039f\"],[0.2222222222222222,\"#7201a8\"],[0.3333333333333333,\"#9c179e\"],[0.4444444444444444,\"#bd3786\"],[0.5555555555555556,\"#d8576b\"],[0.6666666666666666,\"#ed7953\"],[0.7777777777777778,\"#fb9f3a\"],[0.8888888888888888,\"#fdca26\"],[1.0,\"#f0f921\"]]}],\"heatmapgl\":[{\"type\":\"heatmapgl\",\"colorbar\":{\"outlinewidth\":0,\"ticks\":\"\"},\"colorscale\":[[0.0,\"#0d0887\"],[0.1111111111111111,\"#46039f\"],[0.2222222222222222,\"#7201a8\"],[0.3333333333333333,\"#9c179e\"],[0.4444444444444444,\"#bd3786\"],[0.5555555555555556,\"#d8576b\"],[0.6666666666666666,\"#ed7953\"],[0.7777777777777778,\"#fb9f3a\"],[0.8888888888888888,\"#fdca26\"],[1.0,\"#f0f921\"]]}],\"contourcarpet\":[{\"type\":\"contourcarpet\",\"colorbar\":{\"outlinewidth\":0,\"ticks\":\"\"}}],\"contour\":[{\"type\":\"contour\",\"colorbar\":{\"outlinewidth\":0,\"ticks\":\"\"},\"colorscale\":[[0.0,\"#0d0887\"],[0.1111111111111111,\"#46039f\"],[0.2222222222222222,\"#7201a8\"],[0.3333333333333333,\"#9c179e\"],[0.4444444444444444,\"#bd3786\"],[0.5555555555555556,\"#d8576b\"],[0.6666666666666666,\"#ed7953\"],[0.7777777777777778,\"#fb9f3a\"],[0.8888888888888888,\"#fdca26\"],[1.0,\"#f0f921\"]]}],\"surface\":[{\"type\":\"surface\",\"colorbar\":{\"outlinewidth\":0,\"ticks\":\"\"},\"colorscale\":[[0.0,\"#0d0887\"],[0.1111111111111111,\"#46039f\"],[0.2222222222222222,\"#7201a8\"],[0.3333333333333333,\"#9c179e\"],[0.4444444444444444,\"#bd3786\"],[0.5555555555555556,\"#d8576b\"],[0.6666666666666666,\"#ed7953\"],[0.7777777777777778,\"#fb9f3a\"],[0.8888888888888888,\"#fdca26\"],[1.0,\"#f0f921\"]]}],\"mesh3d\":[{\"type\":\"mesh3d\",\"colorbar\":{\"outlinewidth\":0,\"ticks\":\"\"}}],\"scatter\":[{\"fillpattern\":{\"fillmode\":\"overlay\",\"size\":10,\"solidity\":0.2},\"type\":\"scatter\"}],\"parcoords\":[{\"type\":\"parcoords\",\"line\":{\"colorbar\":{\"outlinewidth\":0,\"ticks\":\"\"}}}],\"scatterpolargl\":[{\"type\":\"scatterpolargl\",\"marker\":{\"colorbar\":{\"outlinewidth\":0,\"ticks\":\"\"}}}],\"bar\":[{\"error_x\":{\"color\":\"#2a3f5f\"},\"error_y\":{\"color\":\"#2a3f5f\"},\"marker\":{\"line\":{\"color\":\"#E5ECF6\",\"width\":0.5},\"pattern\":{\"fillmode\":\"overlay\",\"size\":10,\"solidity\":0.2}},\"type\":\"bar\"}],\"scattergeo\":[{\"type\":\"scattergeo\",\"marker\":{\"colorbar\":{\"outlinewidth\":0,\"ticks\":\"\"}}}],\"scatterpolar\":[{\"type\":\"scatterpolar\",\"marker\":{\"colorbar\":{\"outlinewidth\":0,\"ticks\":\"\"}}}],\"histogram\":[{\"marker\":{\"pattern\":{\"fillmode\":\"overlay\",\"size\":10,\"solidity\":0.2}},\"type\":\"histogram\"}],\"scattergl\":[{\"type\":\"scattergl\",\"marker\":{\"colorbar\":{\"outlinewidth\":0,\"ticks\":\"\"}}}],\"scatter3d\":[{\"type\":\"scatter3d\",\"line\":{\"colorbar\":{\"outlinewidth\":0,\"ticks\":\"\"}},\"marker\":{\"colorbar\":{\"outlinewidth\":0,\"ticks\":\"\"}}}],\"scattermapbox\":[{\"type\":\"scattermapbox\",\"marker\":{\"colorbar\":{\"outlinewidth\":0,\"ticks\":\"\"}}}],\"scatterternary\":[{\"type\":\"scatterternary\",\"marker\":{\"colorbar\":{\"outlinewidth\":0,\"ticks\":\"\"}}}],\"scattercarpet\":[{\"type\":\"scattercarpet\",\"marker\":{\"colorbar\":{\"outlinewidth\":0,\"ticks\":\"\"}}}],\"carpet\":[{\"aaxis\":{\"endlinecolor\":\"#2a3f5f\",\"gridcolor\":\"white\",\"linecolor\":\"white\",\"minorgridcolor\":\"white\",\"startlinecolor\":\"#2a3f5f\"},\"baxis\":{\"endlinecolor\":\"#2a3f5f\",\"gridcolor\":\"white\",\"linecolor\":\"white\",\"minorgridcolor\":\"white\",\"startlinecolor\":\"#2a3f5f\"},\"type\":\"carpet\"}],\"table\":[{\"cells\":{\"fill\":{\"color\":\"#EBF0F8\"},\"line\":{\"color\":\"white\"}},\"header\":{\"fill\":{\"color\":\"#C8D4E3\"},\"line\":{\"color\":\"white\"}},\"type\":\"table\"}],\"barpolar\":[{\"marker\":{\"line\":{\"color\":\"#E5ECF6\",\"width\":0.5},\"pattern\":{\"fillmode\":\"overlay\",\"size\":10,\"solidity\":0.2}},\"type\":\"barpolar\"}],\"pie\":[{\"automargin\":true,\"type\":\"pie\"}]},\"layout\":{\"autotypenumbers\":\"strict\",\"colorway\":[\"#636efa\",\"#EF553B\",\"#00cc96\",\"#ab63fa\",\"#FFA15A\",\"#19d3f3\",\"#FF6692\",\"#B6E880\",\"#FF97FF\",\"#FECB52\"],\"font\":{\"color\":\"#2a3f5f\"},\"hovermode\":\"closest\",\"hoverlabel\":{\"align\":\"left\"},\"paper_bgcolor\":\"white\",\"plot_bgcolor\":\"#E5ECF6\",\"polar\":{\"bgcolor\":\"#E5ECF6\",\"angularaxis\":{\"gridcolor\":\"white\",\"linecolor\":\"white\",\"ticks\":\"\"},\"radialaxis\":{\"gridcolor\":\"white\",\"linecolor\":\"white\",\"ticks\":\"\"}},\"ternary\":{\"bgcolor\":\"#E5ECF6\",\"aaxis\":{\"gridcolor\":\"white\",\"linecolor\":\"white\",\"ticks\":\"\"},\"baxis\":{\"gridcolor\":\"white\",\"linecolor\":\"white\",\"ticks\":\"\"},\"caxis\":{\"gridcolor\":\"white\",\"linecolor\":\"white\",\"ticks\":\"\"}},\"coloraxis\":{\"colorbar\":{\"outlinewidth\":0,\"ticks\":\"\"}},\"colorscale\":{\"sequential\":[[0.0,\"#0d0887\"],[0.1111111111111111,\"#46039f\"],[0.2222222222222222,\"#7201a8\"],[0.3333333333333333,\"#9c179e\"],[0.4444444444444444,\"#bd3786\"],[0.5555555555555556,\"#d8576b\"],[0.6666666666666666,\"#ed7953\"],[0.7777777777777778,\"#fb9f3a\"],[0.8888888888888888,\"#fdca26\"],[1.0,\"#f0f921\"]],\"sequentialminus\":[[0.0,\"#0d0887\"],[0.1111111111111111,\"#46039f\"],[0.2222222222222222,\"#7201a8\"],[0.3333333333333333,\"#9c179e\"],[0.4444444444444444,\"#bd3786\"],[0.5555555555555556,\"#d8576b\"],[0.6666666666666666,\"#ed7953\"],[0.7777777777777778,\"#fb9f3a\"],[0.8888888888888888,\"#fdca26\"],[1.0,\"#f0f921\"]],\"diverging\":[[0,\"#8e0152\"],[0.1,\"#c51b7d\"],[0.2,\"#de77ae\"],[0.3,\"#f1b6da\"],[0.4,\"#fde0ef\"],[0.5,\"#f7f7f7\"],[0.6,\"#e6f5d0\"],[0.7,\"#b8e186\"],[0.8,\"#7fbc41\"],[0.9,\"#4d9221\"],[1,\"#276419\"]]},\"xaxis\":{\"gridcolor\":\"white\",\"linecolor\":\"white\",\"ticks\":\"\",\"title\":{\"standoff\":15},\"zerolinecolor\":\"white\",\"automargin\":true,\"zerolinewidth\":2},\"yaxis\":{\"gridcolor\":\"white\",\"linecolor\":\"white\",\"ticks\":\"\",\"title\":{\"standoff\":15},\"zerolinecolor\":\"white\",\"automargin\":true,\"zerolinewidth\":2},\"scene\":{\"xaxis\":{\"backgroundcolor\":\"#E5ECF6\",\"gridcolor\":\"white\",\"linecolor\":\"white\",\"showbackground\":true,\"ticks\":\"\",\"zerolinecolor\":\"white\",\"gridwidth\":2},\"yaxis\":{\"backgroundcolor\":\"#E5ECF6\",\"gridcolor\":\"white\",\"linecolor\":\"white\",\"showbackground\":true,\"ticks\":\"\",\"zerolinecolor\":\"white\",\"gridwidth\":2},\"zaxis\":{\"backgroundcolor\":\"#E5ECF6\",\"gridcolor\":\"white\",\"linecolor\":\"white\",\"showbackground\":true,\"ticks\":\"\",\"zerolinecolor\":\"white\",\"gridwidth\":2}},\"shapedefaults\":{\"line\":{\"color\":\"#2a3f5f\"}},\"annotationdefaults\":{\"arrowcolor\":\"#2a3f5f\",\"arrowhead\":0,\"arrowwidth\":1},\"geo\":{\"bgcolor\":\"white\",\"landcolor\":\"#E5ECF6\",\"subunitcolor\":\"white\",\"showland\":true,\"showlakes\":true,\"lakecolor\":\"white\"},\"title\":{\"x\":0.05},\"mapbox\":{\"style\":\"light\"}}},\"xaxis\":{\"anchor\":\"y\",\"domain\":[0.0,1.0],\"scaleanchor\":\"y\",\"constrain\":\"domain\"},\"yaxis\":{\"anchor\":\"x\",\"domain\":[0.0,1.0],\"autorange\":\"reversed\",\"constrain\":\"domain\"},\"coloraxis\":{\"colorscale\":[[0.0,\"rgb(5,48,97)\"],[0.1,\"rgb(33,102,172)\"],[0.2,\"rgb(67,147,195)\"],[0.3,\"rgb(146,197,222)\"],[0.4,\"rgb(209,229,240)\"],[0.5,\"rgb(247,247,247)\"],[0.6,\"rgb(253,219,199)\"],[0.7,\"rgb(244,165,130)\"],[0.8,\"rgb(214,96,77)\"],[0.9,\"rgb(178,24,43)\"],[1.0,\"rgb(103,0,31)\"]],\"cmin\":-1.0,\"cmax\":1.0},\"margin\":{\"t\":60}},                        {\"responsive\": true}                    ).then(function(){\n",
       "                            \n",
       "var gd = document.getElementById('509d973b-8eda-4106-bbc6-2061991d4c25');\n",
       "var x = new MutationObserver(function (mutations, observer) {{\n",
       "        var display = window.getComputedStyle(gd).display;\n",
       "        if (!display || display === 'none') {{\n",
       "            console.log([gd, 'removed!']);\n",
       "            Plotly.purge(gd);\n",
       "            observer.disconnect();\n",
       "        }}\n",
       "}});\n",
       "\n",
       "// Listen for the removal of the full notebook cells\n",
       "var notebookContainer = gd.closest('#notebook-container');\n",
       "if (notebookContainer) {{\n",
       "    x.observe(notebookContainer, {childList: true});\n",
       "}}\n",
       "\n",
       "// Listen for the clearing of the current output cell\n",
       "var outputEl = gd.closest('.output');\n",
       "if (outputEl) {{\n",
       "    x.observe(outputEl, {childList: true});\n",
       "}}\n",
       "\n",
       "                        })                };                });            </script>        </div>"
      ]
     },
     "metadata": {},
     "output_type": "display_data"
    }
   ],
   "source": [
    "if __name__ == '__main__':\n",
    "    # demonstração do que é cada canal de uma imagem\n",
    "\n",
    "    def create_gaf2(dft, quantis):\n",
    "        # cria uma imagem gaf RGB\n",
    "        # precisa da df_janela transposta pra funcionar\n",
    "        gasf = GramianAngularField(method='summation')#, image_size=0.5)\n",
    "        gadf = GramianAngularField(method='difference')#, image_size=0.5)\n",
    "        mtf = MarkovTransitionField(n_bins=quantis)#, image_size=0.5)# , \n",
    "        gadf = gadf.transform(dft)\n",
    "        gasf = gasf.transform(dft)\n",
    "        mtf = mtf.transform(dft)\n",
    "\n",
    "        # une os 3 metodos em uma unica imagem com 3 canais (RGB) com np.stack\n",
    "        # depois une as 9(timeframes) matrizes geradas  horizontalmente com np.vstack\n",
    "        return (np.stack((gasf,gadf, mtf), axis=-1))\n",
    "\n",
    "    df_janela = cria_janela(99,dfs, lookback)[0]\n",
    "    img = create_gaf2(df_janela.T, quantis)\n",
    "    print(img.shape[0], \"imagens de dimensão\", img.shape[1:3], \"com\", img.shape[3], \"canais (RGB)\")\n",
    "\n",
    "    # representação visual do que cada timeframe vira\n",
    "    fig = px.imshow(img[0, :, :, :], zmin=-1., zmax=1.)# color_continuous_scale='RdBu_r'\n",
    "    fig.show()\n",
    "\n",
    "    fig = px.imshow(img[0, :, :, 0], zmin=-1., zmax=1., color_continuous_scale='RdBu_r')\n",
    "    fig.show()\n",
    "\n",
    "    fig = px.imshow(img[0, :, :, 1], zmin=-1., zmax=1., color_continuous_scale='RdBu_r')\n",
    "    fig.show()\n",
    "\n",
    "    fig = px.imshow(img[0, :, :, 2], zmin=-1., zmax=1., color_continuous_scale='RdBu_r')\n",
    "    fig.show()"
   ]
  },
  {
   "cell_type": "code",
   "execution_count": 38,
   "id": "2d548ffd",
   "metadata": {},
   "outputs": [],
   "source": [
    "if __name__ == '__main__':\n",
    "    # cria um df com close times e close prices pra verificar as janelas\n",
    "    dfs = [(pd.read_csv(f\"./Dados/Processados/BTCUSDT-{timeframe}.csv\", \n",
    "                          usecols=[\"Close time\", \"Close\"])[[\"Close\", \"Close time\"]][::-1]).rename(columns={\"Close\" : f\"Close_{timeframe}\",\n",
    "                                                                                                          \"Close time\" : f\"Close time_{timeframe}\"}).reset_index(drop=True) for timeframe in timeframes]\n",
    "\n",
    "    dfs_teste = pd.concat(dfs, axis=1)\n",
    "    for timeframe in timeframes:\n",
    "        dfs_teste[f\"Close time_{timeframe}\"] = pd.to_datetime(dfs_teste[f\"Close time_{timeframe}\"], unit=\"ms\")\n",
    "    dfs_teste[:2000].to_csv(\"teste.csv\")"
   ]
  },
  {
   "cell_type": "code",
   "execution_count": 51,
   "id": "709ce15c",
   "metadata": {},
   "outputs": [
    {
     "data": {
      "text/html": [
       "<div>\n",
       "<style scoped>\n",
       "    .dataframe tbody tr th:only-of-type {\n",
       "        vertical-align: middle;\n",
       "    }\n",
       "\n",
       "    .dataframe tbody tr th {\n",
       "        vertical-align: top;\n",
       "    }\n",
       "\n",
       "    .dataframe thead th {\n",
       "        text-align: right;\n",
       "    }\n",
       "</style>\n",
       "<table border=\"1\" class=\"dataframe\">\n",
       "  <thead>\n",
       "    <tr style=\"text-align: right;\">\n",
       "      <th></th>\n",
       "      <th>Close</th>\n",
       "      <th>Close time</th>\n",
       "    </tr>\n",
       "  </thead>\n",
       "  <tbody>\n",
       "    <tr>\n",
       "      <th>2817998</th>\n",
       "      <td>16542.40</td>\n",
       "      <td>1672531199999</td>\n",
       "    </tr>\n",
       "    <tr>\n",
       "      <th>2817997</th>\n",
       "      <td>16536.42</td>\n",
       "      <td>1672531139999</td>\n",
       "    </tr>\n",
       "    <tr>\n",
       "      <th>2817996</th>\n",
       "      <td>16537.78</td>\n",
       "      <td>1672531079999</td>\n",
       "    </tr>\n",
       "    <tr>\n",
       "      <th>2817995</th>\n",
       "      <td>16540.52</td>\n",
       "      <td>1672531019999</td>\n",
       "    </tr>\n",
       "    <tr>\n",
       "      <th>2817994</th>\n",
       "      <td>16539.28</td>\n",
       "      <td>1672530959999</td>\n",
       "    </tr>\n",
       "    <tr>\n",
       "      <th>...</th>\n",
       "      <td>...</td>\n",
       "      <td>...</td>\n",
       "    </tr>\n",
       "    <tr>\n",
       "      <th>4</th>\n",
       "      <td>4261.48</td>\n",
       "      <td>1502942699999</td>\n",
       "    </tr>\n",
       "    <tr>\n",
       "      <th>3</th>\n",
       "      <td>4261.48</td>\n",
       "      <td>1502942639999</td>\n",
       "    </tr>\n",
       "    <tr>\n",
       "      <th>2</th>\n",
       "      <td>4280.56</td>\n",
       "      <td>1502942579999</td>\n",
       "    </tr>\n",
       "    <tr>\n",
       "      <th>1</th>\n",
       "      <td>4261.48</td>\n",
       "      <td>1502942519999</td>\n",
       "    </tr>\n",
       "    <tr>\n",
       "      <th>0</th>\n",
       "      <td>4261.48</td>\n",
       "      <td>1502942459999</td>\n",
       "    </tr>\n",
       "  </tbody>\n",
       "</table>\n",
       "<p>2817999 rows × 2 columns</p>\n",
       "</div>"
      ],
      "text/plain": [
       "            Close     Close time\n",
       "2817998  16542.40  1672531199999\n",
       "2817997  16536.42  1672531139999\n",
       "2817996  16537.78  1672531079999\n",
       "2817995  16540.52  1672531019999\n",
       "2817994  16539.28  1672530959999\n",
       "...           ...            ...\n",
       "4         4261.48  1502942699999\n",
       "3         4261.48  1502942639999\n",
       "2         4280.56  1502942579999\n",
       "1         4261.48  1502942519999\n",
       "0         4261.48  1502942459999\n",
       "\n",
       "[2817999 rows x 2 columns]"
      ]
     },
     "execution_count": 51,
     "metadata": {},
     "output_type": "execute_result"
    }
   ],
   "source": [
    "if __name__ == '__main__':\n",
    "    # cria um dicionário de dataframes. Pra acessar é só falar o timeframe desejado\n",
    "    dfs = {}\n",
    "    for timeframe in timeframes:\n",
    "        dfs[timeframe] = (pd.read_csv(f\"./Dados/Processados/BTCUSDT-{timeframe}.csv\", \n",
    "                          usecols=[\"Close time\", \"Close\"])[::-1])\n",
    "    dfs[\"1m\"]"
   ]
  },
  {
   "cell_type": "code",
   "execution_count": 52,
   "id": "119fe691",
   "metadata": {},
   "outputs": [
    {
     "name": "stdout",
     "output_type": "stream",
     "text": [
      "Num linhas:  2817979\n",
      "Wall time: 3.98 ms\n"
     ]
    }
   ],
   "source": [
    "if __name__ == '__main__':\n",
    "    %%time\n",
    "\n",
    "    # versao com query melhorada\n",
    "    # confirmei que funciona batendo o resultado com o da versao antiga e lenta\n",
    "    # ver se dá pra usar só numpy (fica mto escroto)\n",
    "    # e depois paralelismo\n",
    "\n",
    "    lookback = 20\n",
    "    linha = 0\n",
    "\n",
    "    colunas = [f\"Close_{timeframe}\" for timeframe in timeframes]\n",
    "    colunas.append(\"Close time\")\n",
    "\n",
    "    # pra todas as linhas\n",
    "    print(\"Num linhas: \", len(dfs[timeframes[0]])-lookback)\n",
    "    #for linha in range(100):\n",
    "    for linha in [100]:\n",
    "    #for linha in range(len(df)-lookback):\n",
    "        # cria o esqueleto da janela com o primeiro timeframe\n",
    "        df_janela = pd.DataFrame(np.nan, index=range(0,lookback), columns= colunas)\n",
    "        df_janela[[colunas[0], colunas[-1]]] = dfs[timeframes[0]].iloc[linha:linha+lookback].reset_index(drop=True)\n",
    "        # junta o preço de fechamento pra todos os timeframes\n",
    "        i = 1\n",
    "        for timeframe in timeframes[1:]:\n",
    "            # pega o numero da linha o primeiro closetime do timeframe é igual ou menor que o da janela atual\n",
    "            index = (dfs[timeframe].iloc[:,1] <= df_janela.iat[0,-1]).values.argmax()\n",
    "            # coloca as 20 (lookback) linhas subsequentes dentro da janela\n",
    "            df_janela.iloc[:, i] = dfs[timeframe].iloc[index:index+lookback, 0].reset_index(drop=True)\n",
    "            i += 1\n",
    "        # remove a coluna close time, que foi utilizada pra sincronizar cada timeframe\n",
    "        df_janela.drop(\"Close time\", inplace=True, axis=1)\n",
    "        # define se é long ou short\n",
    "        # create_gaf(df_janela)\n",
    "        # salva na pasta long ou short\n",
    "\n",
    "\n",
    "    df_janela2 = df_janela"
   ]
  },
  {
   "cell_type": "code",
   "execution_count": 61,
   "id": "bd12e5e0",
   "metadata": {},
   "outputs": [
    {
     "name": "stdout",
     "output_type": "stream",
     "text": [
      "1m\n",
      "5m\n",
      "15m\n",
      "30m\n",
      "1h\n",
      "2h\n",
      "4h\n",
      "8h\n",
      "1d\n"
     ]
    },
    {
     "data": {
      "text/html": [
       "<div>\n",
       "<style scoped>\n",
       "    .dataframe tbody tr th:only-of-type {\n",
       "        vertical-align: middle;\n",
       "    }\n",
       "\n",
       "    .dataframe tbody tr th {\n",
       "        vertical-align: top;\n",
       "    }\n",
       "\n",
       "    .dataframe thead th {\n",
       "        text-align: right;\n",
       "    }\n",
       "</style>\n",
       "<table border=\"1\" class=\"dataframe\">\n",
       "  <thead>\n",
       "    <tr style=\"text-align: right;\">\n",
       "      <th></th>\n",
       "      <th>Open_1m</th>\n",
       "      <th>High_1m</th>\n",
       "      <th>Low_1m</th>\n",
       "      <th>Close_1m</th>\n",
       "      <th>Volume_1m</th>\n",
       "      <th>Number of trades_1m</th>\n",
       "      <th>Open_5m</th>\n",
       "      <th>High_5m</th>\n",
       "      <th>Low_5m</th>\n",
       "      <th>Close_5m</th>\n",
       "      <th>...</th>\n",
       "      <th>Low_8h</th>\n",
       "      <th>Close_8h</th>\n",
       "      <th>Volume_8h</th>\n",
       "      <th>Number of trades_8h</th>\n",
       "      <th>Open_1d</th>\n",
       "      <th>High_1d</th>\n",
       "      <th>Low_1d</th>\n",
       "      <th>Close_1d</th>\n",
       "      <th>Volume_1d</th>\n",
       "      <th>Number of trades_1d</th>\n",
       "    </tr>\n",
       "    <tr>\n",
       "      <th>Close time</th>\n",
       "      <th></th>\n",
       "      <th></th>\n",
       "      <th></th>\n",
       "      <th></th>\n",
       "      <th></th>\n",
       "      <th></th>\n",
       "      <th></th>\n",
       "      <th></th>\n",
       "      <th></th>\n",
       "      <th></th>\n",
       "      <th></th>\n",
       "      <th></th>\n",
       "      <th></th>\n",
       "      <th></th>\n",
       "      <th></th>\n",
       "      <th></th>\n",
       "      <th></th>\n",
       "      <th></th>\n",
       "      <th></th>\n",
       "      <th></th>\n",
       "      <th></th>\n",
       "    </tr>\n",
       "  </thead>\n",
       "  <tbody>\n",
       "    <tr>\n",
       "      <th>2022-12-31 22:20:59.999</th>\n",
       "      <td>16531.61</td>\n",
       "      <td>16537.39</td>\n",
       "      <td>16528.91</td>\n",
       "      <td>16532.26</td>\n",
       "      <td>110.79296</td>\n",
       "      <td>2708</td>\n",
       "      <td>NaN</td>\n",
       "      <td>NaN</td>\n",
       "      <td>NaN</td>\n",
       "      <td>NaN</td>\n",
       "      <td>...</td>\n",
       "      <td>NaN</td>\n",
       "      <td>NaN</td>\n",
       "      <td>NaN</td>\n",
       "      <td>NaN</td>\n",
       "      <td>NaN</td>\n",
       "      <td>NaN</td>\n",
       "      <td>NaN</td>\n",
       "      <td>NaN</td>\n",
       "      <td>NaN</td>\n",
       "      <td>NaN</td>\n",
       "    </tr>\n",
       "    <tr>\n",
       "      <th>2022-12-31 22:19:59.999</th>\n",
       "      <td>16519.14</td>\n",
       "      <td>16531.70</td>\n",
       "      <td>16506.36</td>\n",
       "      <td>16531.62</td>\n",
       "      <td>638.64815</td>\n",
       "      <td>8301</td>\n",
       "      <td>16564.95</td>\n",
       "      <td>16565.62</td>\n",
       "      <td>16506.36</td>\n",
       "      <td>16531.62</td>\n",
       "      <td>...</td>\n",
       "      <td>NaN</td>\n",
       "      <td>NaN</td>\n",
       "      <td>NaN</td>\n",
       "      <td>NaN</td>\n",
       "      <td>NaN</td>\n",
       "      <td>NaN</td>\n",
       "      <td>NaN</td>\n",
       "      <td>NaN</td>\n",
       "      <td>NaN</td>\n",
       "      <td>NaN</td>\n",
       "    </tr>\n",
       "    <tr>\n",
       "      <th>2022-12-31 22:18:59.999</th>\n",
       "      <td>16547.34</td>\n",
       "      <td>16547.85</td>\n",
       "      <td>16515.16</td>\n",
       "      <td>16519.14</td>\n",
       "      <td>408.04045</td>\n",
       "      <td>6108</td>\n",
       "      <td>NaN</td>\n",
       "      <td>NaN</td>\n",
       "      <td>NaN</td>\n",
       "      <td>NaN</td>\n",
       "      <td>...</td>\n",
       "      <td>NaN</td>\n",
       "      <td>NaN</td>\n",
       "      <td>NaN</td>\n",
       "      <td>NaN</td>\n",
       "      <td>NaN</td>\n",
       "      <td>NaN</td>\n",
       "      <td>NaN</td>\n",
       "      <td>NaN</td>\n",
       "      <td>NaN</td>\n",
       "      <td>NaN</td>\n",
       "    </tr>\n",
       "    <tr>\n",
       "      <th>2022-12-31 22:17:59.999</th>\n",
       "      <td>16554.12</td>\n",
       "      <td>16554.23</td>\n",
       "      <td>16545.78</td>\n",
       "      <td>16547.34</td>\n",
       "      <td>96.98766</td>\n",
       "      <td>2665</td>\n",
       "      <td>NaN</td>\n",
       "      <td>NaN</td>\n",
       "      <td>NaN</td>\n",
       "      <td>NaN</td>\n",
       "      <td>...</td>\n",
       "      <td>NaN</td>\n",
       "      <td>NaN</td>\n",
       "      <td>NaN</td>\n",
       "      <td>NaN</td>\n",
       "      <td>NaN</td>\n",
       "      <td>NaN</td>\n",
       "      <td>NaN</td>\n",
       "      <td>NaN</td>\n",
       "      <td>NaN</td>\n",
       "      <td>NaN</td>\n",
       "    </tr>\n",
       "    <tr>\n",
       "      <th>2022-12-31 22:16:59.999</th>\n",
       "      <td>16562.27</td>\n",
       "      <td>16563.55</td>\n",
       "      <td>16553.57</td>\n",
       "      <td>16554.12</td>\n",
       "      <td>109.60176</td>\n",
       "      <td>2619</td>\n",
       "      <td>NaN</td>\n",
       "      <td>NaN</td>\n",
       "      <td>NaN</td>\n",
       "      <td>NaN</td>\n",
       "      <td>...</td>\n",
       "      <td>NaN</td>\n",
       "      <td>NaN</td>\n",
       "      <td>NaN</td>\n",
       "      <td>NaN</td>\n",
       "      <td>NaN</td>\n",
       "      <td>NaN</td>\n",
       "      <td>NaN</td>\n",
       "      <td>NaN</td>\n",
       "      <td>NaN</td>\n",
       "      <td>NaN</td>\n",
       "    </tr>\n",
       "    <tr>\n",
       "      <th>2022-12-31 22:15:59.999</th>\n",
       "      <td>16564.95</td>\n",
       "      <td>16565.62</td>\n",
       "      <td>16561.78</td>\n",
       "      <td>16562.73</td>\n",
       "      <td>76.53378</td>\n",
       "      <td>1809</td>\n",
       "      <td>NaN</td>\n",
       "      <td>NaN</td>\n",
       "      <td>NaN</td>\n",
       "      <td>NaN</td>\n",
       "      <td>...</td>\n",
       "      <td>NaN</td>\n",
       "      <td>NaN</td>\n",
       "      <td>NaN</td>\n",
       "      <td>NaN</td>\n",
       "      <td>NaN</td>\n",
       "      <td>NaN</td>\n",
       "      <td>NaN</td>\n",
       "      <td>NaN</td>\n",
       "      <td>NaN</td>\n",
       "      <td>NaN</td>\n",
       "    </tr>\n",
       "    <tr>\n",
       "      <th>2022-12-31 22:14:59.999</th>\n",
       "      <td>16562.26</td>\n",
       "      <td>16567.49</td>\n",
       "      <td>16562.14</td>\n",
       "      <td>16565.38</td>\n",
       "      <td>98.09439</td>\n",
       "      <td>2583</td>\n",
       "      <td>16556.18</td>\n",
       "      <td>16567.49</td>\n",
       "      <td>16555.75</td>\n",
       "      <td>16565.38</td>\n",
       "      <td>...</td>\n",
       "      <td>NaN</td>\n",
       "      <td>NaN</td>\n",
       "      <td>NaN</td>\n",
       "      <td>NaN</td>\n",
       "      <td>NaN</td>\n",
       "      <td>NaN</td>\n",
       "      <td>NaN</td>\n",
       "      <td>NaN</td>\n",
       "      <td>NaN</td>\n",
       "      <td>NaN</td>\n",
       "    </tr>\n",
       "    <tr>\n",
       "      <th>2022-12-31 22:13:59.999</th>\n",
       "      <td>16562.15</td>\n",
       "      <td>16563.80</td>\n",
       "      <td>16560.68</td>\n",
       "      <td>16562.26</td>\n",
       "      <td>70.03443</td>\n",
       "      <td>1721</td>\n",
       "      <td>NaN</td>\n",
       "      <td>NaN</td>\n",
       "      <td>NaN</td>\n",
       "      <td>NaN</td>\n",
       "      <td>...</td>\n",
       "      <td>NaN</td>\n",
       "      <td>NaN</td>\n",
       "      <td>NaN</td>\n",
       "      <td>NaN</td>\n",
       "      <td>NaN</td>\n",
       "      <td>NaN</td>\n",
       "      <td>NaN</td>\n",
       "      <td>NaN</td>\n",
       "      <td>NaN</td>\n",
       "      <td>NaN</td>\n",
       "    </tr>\n",
       "    <tr>\n",
       "      <th>2022-12-31 22:12:59.999</th>\n",
       "      <td>16565.11</td>\n",
       "      <td>16565.16</td>\n",
       "      <td>16560.26</td>\n",
       "      <td>16561.81</td>\n",
       "      <td>77.08899</td>\n",
       "      <td>1988</td>\n",
       "      <td>NaN</td>\n",
       "      <td>NaN</td>\n",
       "      <td>NaN</td>\n",
       "      <td>NaN</td>\n",
       "      <td>...</td>\n",
       "      <td>NaN</td>\n",
       "      <td>NaN</td>\n",
       "      <td>NaN</td>\n",
       "      <td>NaN</td>\n",
       "      <td>NaN</td>\n",
       "      <td>NaN</td>\n",
       "      <td>NaN</td>\n",
       "      <td>NaN</td>\n",
       "      <td>NaN</td>\n",
       "      <td>NaN</td>\n",
       "    </tr>\n",
       "    <tr>\n",
       "      <th>2022-12-31 22:11:59.999</th>\n",
       "      <td>16562.46</td>\n",
       "      <td>16566.96</td>\n",
       "      <td>16561.87</td>\n",
       "      <td>16565.11</td>\n",
       "      <td>147.50505</td>\n",
       "      <td>2786</td>\n",
       "      <td>NaN</td>\n",
       "      <td>NaN</td>\n",
       "      <td>NaN</td>\n",
       "      <td>NaN</td>\n",
       "      <td>...</td>\n",
       "      <td>NaN</td>\n",
       "      <td>NaN</td>\n",
       "      <td>NaN</td>\n",
       "      <td>NaN</td>\n",
       "      <td>NaN</td>\n",
       "      <td>NaN</td>\n",
       "      <td>NaN</td>\n",
       "      <td>NaN</td>\n",
       "      <td>NaN</td>\n",
       "      <td>NaN</td>\n",
       "    </tr>\n",
       "    <tr>\n",
       "      <th>2022-12-31 22:10:59.999</th>\n",
       "      <td>16556.18</td>\n",
       "      <td>16562.94</td>\n",
       "      <td>16555.75</td>\n",
       "      <td>16562.49</td>\n",
       "      <td>83.03595</td>\n",
       "      <td>2705</td>\n",
       "      <td>NaN</td>\n",
       "      <td>NaN</td>\n",
       "      <td>NaN</td>\n",
       "      <td>NaN</td>\n",
       "      <td>...</td>\n",
       "      <td>NaN</td>\n",
       "      <td>NaN</td>\n",
       "      <td>NaN</td>\n",
       "      <td>NaN</td>\n",
       "      <td>NaN</td>\n",
       "      <td>NaN</td>\n",
       "      <td>NaN</td>\n",
       "      <td>NaN</td>\n",
       "      <td>NaN</td>\n",
       "      <td>NaN</td>\n",
       "    </tr>\n",
       "    <tr>\n",
       "      <th>2022-12-31 22:09:59.999</th>\n",
       "      <td>16546.89</td>\n",
       "      <td>16556.36</td>\n",
       "      <td>16546.20</td>\n",
       "      <td>16556.18</td>\n",
       "      <td>103.51733</td>\n",
       "      <td>3363</td>\n",
       "      <td>16543.94</td>\n",
       "      <td>16556.36</td>\n",
       "      <td>16542.02</td>\n",
       "      <td>16556.18</td>\n",
       "      <td>...</td>\n",
       "      <td>NaN</td>\n",
       "      <td>NaN</td>\n",
       "      <td>NaN</td>\n",
       "      <td>NaN</td>\n",
       "      <td>NaN</td>\n",
       "      <td>NaN</td>\n",
       "      <td>NaN</td>\n",
       "      <td>NaN</td>\n",
       "      <td>NaN</td>\n",
       "      <td>NaN</td>\n",
       "    </tr>\n",
       "    <tr>\n",
       "      <th>2022-12-31 22:08:59.999</th>\n",
       "      <td>16544.40</td>\n",
       "      <td>16547.15</td>\n",
       "      <td>16544.27</td>\n",
       "      <td>16546.89</td>\n",
       "      <td>22.43411</td>\n",
       "      <td>1079</td>\n",
       "      <td>NaN</td>\n",
       "      <td>NaN</td>\n",
       "      <td>NaN</td>\n",
       "      <td>NaN</td>\n",
       "      <td>...</td>\n",
       "      <td>NaN</td>\n",
       "      <td>NaN</td>\n",
       "      <td>NaN</td>\n",
       "      <td>NaN</td>\n",
       "      <td>NaN</td>\n",
       "      <td>NaN</td>\n",
       "      <td>NaN</td>\n",
       "      <td>NaN</td>\n",
       "      <td>NaN</td>\n",
       "      <td>NaN</td>\n",
       "    </tr>\n",
       "    <tr>\n",
       "      <th>2022-12-31 22:07:59.999</th>\n",
       "      <td>16545.33</td>\n",
       "      <td>16547.00</td>\n",
       "      <td>16543.27</td>\n",
       "      <td>16544.40</td>\n",
       "      <td>55.45378</td>\n",
       "      <td>1854</td>\n",
       "      <td>NaN</td>\n",
       "      <td>NaN</td>\n",
       "      <td>NaN</td>\n",
       "      <td>NaN</td>\n",
       "      <td>...</td>\n",
       "      <td>NaN</td>\n",
       "      <td>NaN</td>\n",
       "      <td>NaN</td>\n",
       "      <td>NaN</td>\n",
       "      <td>NaN</td>\n",
       "      <td>NaN</td>\n",
       "      <td>NaN</td>\n",
       "      <td>NaN</td>\n",
       "      <td>NaN</td>\n",
       "      <td>NaN</td>\n",
       "    </tr>\n",
       "    <tr>\n",
       "      <th>2022-12-31 22:06:59.999</th>\n",
       "      <td>16543.03</td>\n",
       "      <td>16545.87</td>\n",
       "      <td>16542.90</td>\n",
       "      <td>16545.33</td>\n",
       "      <td>53.46548</td>\n",
       "      <td>1886</td>\n",
       "      <td>NaN</td>\n",
       "      <td>NaN</td>\n",
       "      <td>NaN</td>\n",
       "      <td>NaN</td>\n",
       "      <td>...</td>\n",
       "      <td>NaN</td>\n",
       "      <td>NaN</td>\n",
       "      <td>NaN</td>\n",
       "      <td>NaN</td>\n",
       "      <td>NaN</td>\n",
       "      <td>NaN</td>\n",
       "      <td>NaN</td>\n",
       "      <td>NaN</td>\n",
       "      <td>NaN</td>\n",
       "      <td>NaN</td>\n",
       "    </tr>\n",
       "    <tr>\n",
       "      <th>2022-12-31 22:05:59.999</th>\n",
       "      <td>16543.94</td>\n",
       "      <td>16545.80</td>\n",
       "      <td>16542.02</td>\n",
       "      <td>16543.31</td>\n",
       "      <td>43.52228</td>\n",
       "      <td>1984</td>\n",
       "      <td>NaN</td>\n",
       "      <td>NaN</td>\n",
       "      <td>NaN</td>\n",
       "      <td>NaN</td>\n",
       "      <td>...</td>\n",
       "      <td>NaN</td>\n",
       "      <td>NaN</td>\n",
       "      <td>NaN</td>\n",
       "      <td>NaN</td>\n",
       "      <td>NaN</td>\n",
       "      <td>NaN</td>\n",
       "      <td>NaN</td>\n",
       "      <td>NaN</td>\n",
       "      <td>NaN</td>\n",
       "      <td>NaN</td>\n",
       "    </tr>\n",
       "    <tr>\n",
       "      <th>2022-12-31 22:04:59.999</th>\n",
       "      <td>16543.71</td>\n",
       "      <td>16546.26</td>\n",
       "      <td>16542.16</td>\n",
       "      <td>16543.94</td>\n",
       "      <td>56.92487</td>\n",
       "      <td>1955</td>\n",
       "      <td>16548.28</td>\n",
       "      <td>16548.46</td>\n",
       "      <td>16542.16</td>\n",
       "      <td>16543.94</td>\n",
       "      <td>...</td>\n",
       "      <td>NaN</td>\n",
       "      <td>NaN</td>\n",
       "      <td>NaN</td>\n",
       "      <td>NaN</td>\n",
       "      <td>NaN</td>\n",
       "      <td>NaN</td>\n",
       "      <td>NaN</td>\n",
       "      <td>NaN</td>\n",
       "      <td>NaN</td>\n",
       "      <td>NaN</td>\n",
       "    </tr>\n",
       "    <tr>\n",
       "      <th>2022-12-31 22:03:59.999</th>\n",
       "      <td>16545.49</td>\n",
       "      <td>16545.49</td>\n",
       "      <td>16543.00</td>\n",
       "      <td>16544.11</td>\n",
       "      <td>25.34680</td>\n",
       "      <td>1196</td>\n",
       "      <td>NaN</td>\n",
       "      <td>NaN</td>\n",
       "      <td>NaN</td>\n",
       "      <td>NaN</td>\n",
       "      <td>...</td>\n",
       "      <td>NaN</td>\n",
       "      <td>NaN</td>\n",
       "      <td>NaN</td>\n",
       "      <td>NaN</td>\n",
       "      <td>NaN</td>\n",
       "      <td>NaN</td>\n",
       "      <td>NaN</td>\n",
       "      <td>NaN</td>\n",
       "      <td>NaN</td>\n",
       "      <td>NaN</td>\n",
       "    </tr>\n",
       "    <tr>\n",
       "      <th>2022-12-31 22:02:59.999</th>\n",
       "      <td>16544.68</td>\n",
       "      <td>16546.64</td>\n",
       "      <td>16543.42</td>\n",
       "      <td>16545.07</td>\n",
       "      <td>47.01264</td>\n",
       "      <td>1628</td>\n",
       "      <td>NaN</td>\n",
       "      <td>NaN</td>\n",
       "      <td>NaN</td>\n",
       "      <td>NaN</td>\n",
       "      <td>...</td>\n",
       "      <td>NaN</td>\n",
       "      <td>NaN</td>\n",
       "      <td>NaN</td>\n",
       "      <td>NaN</td>\n",
       "      <td>NaN</td>\n",
       "      <td>NaN</td>\n",
       "      <td>NaN</td>\n",
       "      <td>NaN</td>\n",
       "      <td>NaN</td>\n",
       "      <td>NaN</td>\n",
       "    </tr>\n",
       "    <tr>\n",
       "      <th>2022-12-31 22:01:59.999</th>\n",
       "      <td>16546.05</td>\n",
       "      <td>16547.14</td>\n",
       "      <td>16543.21</td>\n",
       "      <td>16544.68</td>\n",
       "      <td>66.45158</td>\n",
       "      <td>1923</td>\n",
       "      <td>NaN</td>\n",
       "      <td>NaN</td>\n",
       "      <td>NaN</td>\n",
       "      <td>NaN</td>\n",
       "      <td>...</td>\n",
       "      <td>NaN</td>\n",
       "      <td>NaN</td>\n",
       "      <td>NaN</td>\n",
       "      <td>NaN</td>\n",
       "      <td>NaN</td>\n",
       "      <td>NaN</td>\n",
       "      <td>NaN</td>\n",
       "      <td>NaN</td>\n",
       "      <td>NaN</td>\n",
       "      <td>NaN</td>\n",
       "    </tr>\n",
       "  </tbody>\n",
       "</table>\n",
       "<p>20 rows × 54 columns</p>\n",
       "</div>"
      ],
      "text/plain": [
       "                          Open_1m   High_1m    Low_1m  Close_1m  Volume_1m  \\\n",
       "Close time                                                                   \n",
       "2022-12-31 22:20:59.999  16531.61  16537.39  16528.91  16532.26  110.79296   \n",
       "2022-12-31 22:19:59.999  16519.14  16531.70  16506.36  16531.62  638.64815   \n",
       "2022-12-31 22:18:59.999  16547.34  16547.85  16515.16  16519.14  408.04045   \n",
       "2022-12-31 22:17:59.999  16554.12  16554.23  16545.78  16547.34   96.98766   \n",
       "2022-12-31 22:16:59.999  16562.27  16563.55  16553.57  16554.12  109.60176   \n",
       "2022-12-31 22:15:59.999  16564.95  16565.62  16561.78  16562.73   76.53378   \n",
       "2022-12-31 22:14:59.999  16562.26  16567.49  16562.14  16565.38   98.09439   \n",
       "2022-12-31 22:13:59.999  16562.15  16563.80  16560.68  16562.26   70.03443   \n",
       "2022-12-31 22:12:59.999  16565.11  16565.16  16560.26  16561.81   77.08899   \n",
       "2022-12-31 22:11:59.999  16562.46  16566.96  16561.87  16565.11  147.50505   \n",
       "2022-12-31 22:10:59.999  16556.18  16562.94  16555.75  16562.49   83.03595   \n",
       "2022-12-31 22:09:59.999  16546.89  16556.36  16546.20  16556.18  103.51733   \n",
       "2022-12-31 22:08:59.999  16544.40  16547.15  16544.27  16546.89   22.43411   \n",
       "2022-12-31 22:07:59.999  16545.33  16547.00  16543.27  16544.40   55.45378   \n",
       "2022-12-31 22:06:59.999  16543.03  16545.87  16542.90  16545.33   53.46548   \n",
       "2022-12-31 22:05:59.999  16543.94  16545.80  16542.02  16543.31   43.52228   \n",
       "2022-12-31 22:04:59.999  16543.71  16546.26  16542.16  16543.94   56.92487   \n",
       "2022-12-31 22:03:59.999  16545.49  16545.49  16543.00  16544.11   25.34680   \n",
       "2022-12-31 22:02:59.999  16544.68  16546.64  16543.42  16545.07   47.01264   \n",
       "2022-12-31 22:01:59.999  16546.05  16547.14  16543.21  16544.68   66.45158   \n",
       "\n",
       "                         Number of trades_1m   Open_5m   High_5m    Low_5m  \\\n",
       "Close time                                                                   \n",
       "2022-12-31 22:20:59.999                 2708       NaN       NaN       NaN   \n",
       "2022-12-31 22:19:59.999                 8301  16564.95  16565.62  16506.36   \n",
       "2022-12-31 22:18:59.999                 6108       NaN       NaN       NaN   \n",
       "2022-12-31 22:17:59.999                 2665       NaN       NaN       NaN   \n",
       "2022-12-31 22:16:59.999                 2619       NaN       NaN       NaN   \n",
       "2022-12-31 22:15:59.999                 1809       NaN       NaN       NaN   \n",
       "2022-12-31 22:14:59.999                 2583  16556.18  16567.49  16555.75   \n",
       "2022-12-31 22:13:59.999                 1721       NaN       NaN       NaN   \n",
       "2022-12-31 22:12:59.999                 1988       NaN       NaN       NaN   \n",
       "2022-12-31 22:11:59.999                 2786       NaN       NaN       NaN   \n",
       "2022-12-31 22:10:59.999                 2705       NaN       NaN       NaN   \n",
       "2022-12-31 22:09:59.999                 3363  16543.94  16556.36  16542.02   \n",
       "2022-12-31 22:08:59.999                 1079       NaN       NaN       NaN   \n",
       "2022-12-31 22:07:59.999                 1854       NaN       NaN       NaN   \n",
       "2022-12-31 22:06:59.999                 1886       NaN       NaN       NaN   \n",
       "2022-12-31 22:05:59.999                 1984       NaN       NaN       NaN   \n",
       "2022-12-31 22:04:59.999                 1955  16548.28  16548.46  16542.16   \n",
       "2022-12-31 22:03:59.999                 1196       NaN       NaN       NaN   \n",
       "2022-12-31 22:02:59.999                 1628       NaN       NaN       NaN   \n",
       "2022-12-31 22:01:59.999                 1923       NaN       NaN       NaN   \n",
       "\n",
       "                         Close_5m  ...  Low_8h  Close_8h  Volume_8h  \\\n",
       "Close time                         ...                                \n",
       "2022-12-31 22:20:59.999       NaN  ...     NaN       NaN        NaN   \n",
       "2022-12-31 22:19:59.999  16531.62  ...     NaN       NaN        NaN   \n",
       "2022-12-31 22:18:59.999       NaN  ...     NaN       NaN        NaN   \n",
       "2022-12-31 22:17:59.999       NaN  ...     NaN       NaN        NaN   \n",
       "2022-12-31 22:16:59.999       NaN  ...     NaN       NaN        NaN   \n",
       "2022-12-31 22:15:59.999       NaN  ...     NaN       NaN        NaN   \n",
       "2022-12-31 22:14:59.999  16565.38  ...     NaN       NaN        NaN   \n",
       "2022-12-31 22:13:59.999       NaN  ...     NaN       NaN        NaN   \n",
       "2022-12-31 22:12:59.999       NaN  ...     NaN       NaN        NaN   \n",
       "2022-12-31 22:11:59.999       NaN  ...     NaN       NaN        NaN   \n",
       "2022-12-31 22:10:59.999       NaN  ...     NaN       NaN        NaN   \n",
       "2022-12-31 22:09:59.999  16556.18  ...     NaN       NaN        NaN   \n",
       "2022-12-31 22:08:59.999       NaN  ...     NaN       NaN        NaN   \n",
       "2022-12-31 22:07:59.999       NaN  ...     NaN       NaN        NaN   \n",
       "2022-12-31 22:06:59.999       NaN  ...     NaN       NaN        NaN   \n",
       "2022-12-31 22:05:59.999       NaN  ...     NaN       NaN        NaN   \n",
       "2022-12-31 22:04:59.999  16543.94  ...     NaN       NaN        NaN   \n",
       "2022-12-31 22:03:59.999       NaN  ...     NaN       NaN        NaN   \n",
       "2022-12-31 22:02:59.999       NaN  ...     NaN       NaN        NaN   \n",
       "2022-12-31 22:01:59.999       NaN  ...     NaN       NaN        NaN   \n",
       "\n",
       "                         Number of trades_8h  Open_1d  High_1d  Low_1d  \\\n",
       "Close time                                                               \n",
       "2022-12-31 22:20:59.999                  NaN      NaN      NaN     NaN   \n",
       "2022-12-31 22:19:59.999                  NaN      NaN      NaN     NaN   \n",
       "2022-12-31 22:18:59.999                  NaN      NaN      NaN     NaN   \n",
       "2022-12-31 22:17:59.999                  NaN      NaN      NaN     NaN   \n",
       "2022-12-31 22:16:59.999                  NaN      NaN      NaN     NaN   \n",
       "2022-12-31 22:15:59.999                  NaN      NaN      NaN     NaN   \n",
       "2022-12-31 22:14:59.999                  NaN      NaN      NaN     NaN   \n",
       "2022-12-31 22:13:59.999                  NaN      NaN      NaN     NaN   \n",
       "2022-12-31 22:12:59.999                  NaN      NaN      NaN     NaN   \n",
       "2022-12-31 22:11:59.999                  NaN      NaN      NaN     NaN   \n",
       "2022-12-31 22:10:59.999                  NaN      NaN      NaN     NaN   \n",
       "2022-12-31 22:09:59.999                  NaN      NaN      NaN     NaN   \n",
       "2022-12-31 22:08:59.999                  NaN      NaN      NaN     NaN   \n",
       "2022-12-31 22:07:59.999                  NaN      NaN      NaN     NaN   \n",
       "2022-12-31 22:06:59.999                  NaN      NaN      NaN     NaN   \n",
       "2022-12-31 22:05:59.999                  NaN      NaN      NaN     NaN   \n",
       "2022-12-31 22:04:59.999                  NaN      NaN      NaN     NaN   \n",
       "2022-12-31 22:03:59.999                  NaN      NaN      NaN     NaN   \n",
       "2022-12-31 22:02:59.999                  NaN      NaN      NaN     NaN   \n",
       "2022-12-31 22:01:59.999                  NaN      NaN      NaN     NaN   \n",
       "\n",
       "                         Close_1d  Volume_1d  Number of trades_1d  \n",
       "Close time                                                         \n",
       "2022-12-31 22:20:59.999       NaN        NaN                  NaN  \n",
       "2022-12-31 22:19:59.999       NaN        NaN                  NaN  \n",
       "2022-12-31 22:18:59.999       NaN        NaN                  NaN  \n",
       "2022-12-31 22:17:59.999       NaN        NaN                  NaN  \n",
       "2022-12-31 22:16:59.999       NaN        NaN                  NaN  \n",
       "2022-12-31 22:15:59.999       NaN        NaN                  NaN  \n",
       "2022-12-31 22:14:59.999       NaN        NaN                  NaN  \n",
       "2022-12-31 22:13:59.999       NaN        NaN                  NaN  \n",
       "2022-12-31 22:12:59.999       NaN        NaN                  NaN  \n",
       "2022-12-31 22:11:59.999       NaN        NaN                  NaN  \n",
       "2022-12-31 22:10:59.999       NaN        NaN                  NaN  \n",
       "2022-12-31 22:09:59.999       NaN        NaN                  NaN  \n",
       "2022-12-31 22:08:59.999       NaN        NaN                  NaN  \n",
       "2022-12-31 22:07:59.999       NaN        NaN                  NaN  \n",
       "2022-12-31 22:06:59.999       NaN        NaN                  NaN  \n",
       "2022-12-31 22:05:59.999       NaN        NaN                  NaN  \n",
       "2022-12-31 22:04:59.999       NaN        NaN                  NaN  \n",
       "2022-12-31 22:03:59.999       NaN        NaN                  NaN  \n",
       "2022-12-31 22:02:59.999       NaN        NaN                  NaN  \n",
       "2022-12-31 22:01:59.999       NaN        NaN                  NaN  \n",
       "\n",
       "[20 rows x 54 columns]"
      ]
     },
     "execution_count": 61,
     "metadata": {},
     "output_type": "execute_result"
    }
   ],
   "source": [
    "if __name__ == '__main__':\n",
    "    # criação de DF gigante e cheio de nan's\n",
    "\n",
    "    def une_timeframes(timeframes=timeframes):\n",
    "        # junta todos os timeframes em um df só\n",
    "\n",
    "        # pega o primeiro timeframe com as colunas desejadas\n",
    "        df = pd.read_csv(f\"./Dados/Processados/BTCUSDT-{timeframes[0]}.csv\", index_col = \"Close time\"\n",
    "                         , usecols=[\"Close time\",\"Open\", \"High\", \"Low\", \"Close\", \"Volume\", \"Number of trades\"])\n",
    "        #df.index = pd.to_datetime(df.index, unit=\"ms\")\n",
    "\n",
    "        # coloca o sufixo nas colunas do menor timeframe\n",
    "        df.columns = df.columns+f\"_{timeframes[0]}\"\n",
    "        print(timeframes[0])\n",
    "\n",
    "        # junta todos os outros timeframes e coloca o sufixo correto\n",
    "        for timeframe in timeframes[1:]:\n",
    "            print(timeframe)\n",
    "            df2 = pd.read_csv(f\"./Dados/Processados/BTCUSDT-{timeframe}.csv\", index_col = \"Close time\",\n",
    "                             usecols=[\"Close time\",\"Open\", \"High\", \"Low\", \"Close\", \"Volume\", \"Number of trades\"])\n",
    "            df2.columns = df2.columns+f\"_{timeframe}\"\n",
    "            df = df.merge(df2, how=\"left\", on=[\"Close time\"])#, suffixes=(None, f\"_{timeframe}\"))\n",
    "\n",
    "\n",
    "        # transforma o index em datetime\n",
    "        df.index = pd.to_datetime(df.index, unit=\"ms\")\n",
    "\n",
    "        #inverte a ordem do df pq vamos usar ele do fim pro começo pra fazer as janelas\n",
    "        df.sort_index(axis=0, inplace = True, ascending=False)\n",
    "        return(df)\n",
    "    df = une_timeframes(timeframes)\n",
    "    df[99:].head(20)"
   ]
  },
  {
   "cell_type": "code",
   "execution_count": 40,
   "id": "78529b48",
   "metadata": {},
   "outputs": [
    {
     "name": "stdout",
     "output_type": "stream",
     "text": [
      "Num linhas:  2817979\n",
      "Wall time: 12.7 ms\n"
     ]
    }
   ],
   "source": [
    "if __name__ == '__main__':\n",
    "    %%time\n",
    "    # solução de janela usando uma df gigante. Bem mais lento\n",
    "    # cria janela de precos\n",
    "    lookback = 20\n",
    "    linha = 0\n",
    "    # tentar fazer um loop pra pegar tudo\n",
    "\n",
    "    # pra todas as linhas\n",
    "    print(\"Num linhas: \", len(df)-lookback)\n",
    "    for linha in [2000000]:\n",
    "    #for linha in range(len(df)-lookback):\n",
    "        # zera df_janela\n",
    "        df_janela = pd.DataFrame()\n",
    "        for timeframe in timeframes:\n",
    "            # insere na ultima coluna; com o nome de Close_timeframe ;\n",
    "            # df a partir da linha atual até linha atual + lookback\n",
    "            #df_janela[f\"Close_{timeframe}\"] = df[f\"Close_{timeframe}\"].iloc[linha:].dropna().iloc[:lookback].reset_index(drop=True)\n",
    "            df_janela.insert(len(df_janela.columns),(f\"Close_{timeframe}\"),df[f\"Close_{timeframe}\"].iloc[linha:].dropna().iloc[:lookback].to_list())\n",
    "        #print(linha)\n",
    "        # define se é long ou short\n",
    "        # create_gaf(df_janela)\n",
    "        # salva na pasta long ou short\n",
    "    df_janela\n",
    "    df_janela2 = df_janela\n",
    "    # funciona, mas está muito lento\n",
    "    # se tirar o dropna vai de 4,4 seg pra 190 ms\n",
    "    # não unir mais tudo"
   ]
  },
  {
   "cell_type": "code",
   "execution_count": 112,
   "id": "90b4b053",
   "metadata": {},
   "outputs": [
    {
     "data": {
      "text/html": [
       "<div>\n",
       "<style scoped>\n",
       "    .dataframe tbody tr th:only-of-type {\n",
       "        vertical-align: middle;\n",
       "    }\n",
       "\n",
       "    .dataframe tbody tr th {\n",
       "        vertical-align: top;\n",
       "    }\n",
       "\n",
       "    .dataframe thead th {\n",
       "        text-align: right;\n",
       "    }\n",
       "</style>\n",
       "<table border=\"1\" class=\"dataframe\">\n",
       "  <thead>\n",
       "    <tr style=\"text-align: right;\">\n",
       "      <th></th>\n",
       "      <th>0</th>\n",
       "      <th>1</th>\n",
       "      <th>2</th>\n",
       "      <th>3</th>\n",
       "      <th>4</th>\n",
       "      <th>5</th>\n",
       "      <th>6</th>\n",
       "      <th>7</th>\n",
       "      <th>8</th>\n",
       "    </tr>\n",
       "  </thead>\n",
       "  <tbody>\n",
       "    <tr>\n",
       "      <th>0</th>\n",
       "      <td>16532.259766</td>\n",
       "      <td>16531.619141</td>\n",
       "      <td>16565.380859</td>\n",
       "      <td>16548.279297</td>\n",
       "      <td>16548.279297</td>\n",
       "      <td>16548.279297</td>\n",
       "      <td>16570.140625</td>\n",
       "      <td>16590.099609</td>\n",
       "      <td>16607.480469</td>\n",
       "    </tr>\n",
       "    <tr>\n",
       "      <th>1</th>\n",
       "      <td>16531.619141</td>\n",
       "      <td>16565.380859</td>\n",
       "      <td>16548.279297</td>\n",
       "      <td>16563.839844</td>\n",
       "      <td>16568.599609</td>\n",
       "      <td>16570.140625</td>\n",
       "      <td>16590.099609</td>\n",
       "      <td>16565.089844</td>\n",
       "      <td>16633.470703</td>\n",
       "    </tr>\n",
       "    <tr>\n",
       "      <th>2</th>\n",
       "      <td>16519.140625</td>\n",
       "      <td>16556.179688</td>\n",
       "      <td>16560.529297</td>\n",
       "      <td>16568.599609</td>\n",
       "      <td>16570.140625</td>\n",
       "      <td>16582.080078</td>\n",
       "      <td>16567.150391</td>\n",
       "      <td>16607.480469</td>\n",
       "      <td>16547.310547</td>\n",
       "    </tr>\n",
       "    <tr>\n",
       "      <th>3</th>\n",
       "      <td>16547.339844</td>\n",
       "      <td>16543.939453</td>\n",
       "      <td>16563.839844</td>\n",
       "      <td>16570.710938</td>\n",
       "      <td>16577.789062</td>\n",
       "      <td>16590.099609</td>\n",
       "      <td>16565.089844</td>\n",
       "      <td>16555.259766</td>\n",
       "      <td>16706.359375</td>\n",
       "    </tr>\n",
       "    <tr>\n",
       "      <th>4</th>\n",
       "      <td>16554.119141</td>\n",
       "      <td>16548.279297</td>\n",
       "      <td>16566.310547</td>\n",
       "      <td>16570.140625</td>\n",
       "      <td>16582.080078</td>\n",
       "      <td>16600.890625</td>\n",
       "      <td>16552.460938</td>\n",
       "      <td>16474.929688</td>\n",
       "      <td>16919.390625</td>\n",
       "    </tr>\n",
       "    <tr>\n",
       "      <th>5</th>\n",
       "      <td>16562.730469</td>\n",
       "      <td>16549.589844</td>\n",
       "      <td>16568.599609</td>\n",
       "      <td>16572.169922</td>\n",
       "      <td>16600.390625</td>\n",
       "      <td>16567.150391</td>\n",
       "      <td>16607.480469</td>\n",
       "      <td>16633.470703</td>\n",
       "      <td>16832.109375</td>\n",
       "    </tr>\n",
       "    <tr>\n",
       "      <th>6</th>\n",
       "      <td>16565.380859</td>\n",
       "      <td>16556.150391</td>\n",
       "      <td>16570.460938</td>\n",
       "      <td>16577.789062</td>\n",
       "      <td>16590.099609</td>\n",
       "      <td>16544.259766</td>\n",
       "      <td>16525.369141</td>\n",
       "      <td>16616.599609</td>\n",
       "      <td>16836.119141</td>\n",
       "    </tr>\n",
       "    <tr>\n",
       "      <th>7</th>\n",
       "      <td>16562.259766</td>\n",
       "      <td>16560.529297</td>\n",
       "      <td>16570.710938</td>\n",
       "      <td>16577.130859</td>\n",
       "      <td>16586.429688</td>\n",
       "      <td>16565.089844</td>\n",
       "      <td>16555.259766</td>\n",
       "      <td>16556.369141</td>\n",
       "      <td>16778.500000</td>\n",
       "    </tr>\n",
       "    <tr>\n",
       "      <th>8</th>\n",
       "      <td>16561.810547</td>\n",
       "      <td>16560.070312</td>\n",
       "      <td>16569.759766</td>\n",
       "      <td>16582.080078</td>\n",
       "      <td>16600.890625</td>\n",
       "      <td>16538.759766</td>\n",
       "      <td>16496.269531</td>\n",
       "      <td>16547.310547</td>\n",
       "      <td>16821.429688</td>\n",
       "    </tr>\n",
       "    <tr>\n",
       "      <th>9</th>\n",
       "      <td>16565.109375</td>\n",
       "      <td>16557.919922</td>\n",
       "      <td>16570.140625</td>\n",
       "      <td>16583.429688</td>\n",
       "      <td>16575.439453</td>\n",
       "      <td>16552.460938</td>\n",
       "      <td>16474.929688</td>\n",
       "      <td>16578.519531</td>\n",
       "      <td>16824.669922</td>\n",
       "    </tr>\n",
       "    <tr>\n",
       "      <th>10</th>\n",
       "      <td>16562.490234</td>\n",
       "      <td>16563.839844</td>\n",
       "      <td>16577.140625</td>\n",
       "      <td>16600.390625</td>\n",
       "      <td>16567.150391</td>\n",
       "      <td>16568.240234</td>\n",
       "      <td>16599.080078</td>\n",
       "      <td>16647.160156</td>\n",
       "      <td>16895.560547</td>\n",
       "    </tr>\n",
       "    <tr>\n",
       "      <th>11</th>\n",
       "      <td>16556.179688</td>\n",
       "      <td>16559.880859</td>\n",
       "      <td>16572.169922</td>\n",
       "      <td>16602.220703</td>\n",
       "      <td>16566.029297</td>\n",
       "      <td>16607.480469</td>\n",
       "      <td>16633.470703</td>\n",
       "      <td>16706.359375</td>\n",
       "      <td>16438.880859</td>\n",
       "    </tr>\n",
       "    <tr>\n",
       "      <th>12</th>\n",
       "      <td>16546.890625</td>\n",
       "      <td>16566.140625</td>\n",
       "      <td>16575.990234</td>\n",
       "      <td>16590.099609</td>\n",
       "      <td>16544.259766</td>\n",
       "      <td>16585.060547</td>\n",
       "      <td>16612.400391</td>\n",
       "      <td>16799.779297</td>\n",
       "      <td>16738.210938</td>\n",
       "    </tr>\n",
       "    <tr>\n",
       "      <th>13</th>\n",
       "      <td>16544.400391</td>\n",
       "      <td>16566.310547</td>\n",
       "      <td>16577.789062</td>\n",
       "      <td>16603.470703</td>\n",
       "      <td>16554.050781</td>\n",
       "      <td>16525.369141</td>\n",
       "      <td>16616.599609</td>\n",
       "      <td>16869.189453</td>\n",
       "      <td>16776.519531</td>\n",
       "    </tr>\n",
       "    <tr>\n",
       "      <th>14</th>\n",
       "      <td>16545.330078</td>\n",
       "      <td>16566.009766</td>\n",
       "      <td>16576.570312</td>\n",
       "      <td>16586.429688</td>\n",
       "      <td>16565.089844</td>\n",
       "      <td>16533.119141</td>\n",
       "      <td>16598.699219</td>\n",
       "      <td>16919.390625</td>\n",
       "      <td>16632.119141</td>\n",
       "    </tr>\n",
       "    <tr>\n",
       "      <th>15</th>\n",
       "      <td>16543.310547</td>\n",
       "      <td>16567.650391</td>\n",
       "      <td>16577.130859</td>\n",
       "      <td>16630.589844</td>\n",
       "      <td>16546.710938</td>\n",
       "      <td>16555.259766</td>\n",
       "      <td>16556.369141</td>\n",
       "      <td>16809.509766</td>\n",
       "      <td>17356.339844</td>\n",
       "    </tr>\n",
       "    <tr>\n",
       "      <th>16</th>\n",
       "      <td>16543.939453</td>\n",
       "      <td>16568.599609</td>\n",
       "      <td>16586.589844</td>\n",
       "      <td>16600.890625</td>\n",
       "      <td>16538.759766</td>\n",
       "      <td>16465.880859</td>\n",
       "      <td>16558.330078</td>\n",
       "      <td>16843.650391</td>\n",
       "      <td>17803.150391</td>\n",
       "    </tr>\n",
       "    <tr>\n",
       "      <th>17</th>\n",
       "      <td>16544.109375</td>\n",
       "      <td>16566.990234</td>\n",
       "      <td>16582.080078</td>\n",
       "      <td>16584.730469</td>\n",
       "      <td>16551.890625</td>\n",
       "      <td>16496.269531</td>\n",
       "      <td>16547.310547</td>\n",
       "      <td>16832.109375</td>\n",
       "      <td>17774.699219</td>\n",
       "    </tr>\n",
       "    <tr>\n",
       "      <th>18</th>\n",
       "      <td>16545.070312</td>\n",
       "      <td>16571.640625</td>\n",
       "      <td>16582.609375</td>\n",
       "      <td>16575.439453</td>\n",
       "      <td>16552.460938</td>\n",
       "      <td>16517.210938</td>\n",
       "      <td>16595.919922</td>\n",
       "      <td>16793.089844</td>\n",
       "      <td>17209.830078</td>\n",
       "    </tr>\n",
       "    <tr>\n",
       "      <th>19</th>\n",
       "      <td>16544.679688</td>\n",
       "      <td>16570.460938</td>\n",
       "      <td>16583.429688</td>\n",
       "      <td>16567.539062</td>\n",
       "      <td>16575.939453</td>\n",
       "      <td>16474.929688</td>\n",
       "      <td>16578.519531</td>\n",
       "      <td>16821.970703</td>\n",
       "      <td>17085.050781</td>\n",
       "    </tr>\n",
       "  </tbody>\n",
       "</table>\n",
       "</div>"
      ],
      "text/plain": [
       "               0             1             2             3             4  \\\n",
       "0   16532.259766  16531.619141  16565.380859  16548.279297  16548.279297   \n",
       "1   16531.619141  16565.380859  16548.279297  16563.839844  16568.599609   \n",
       "2   16519.140625  16556.179688  16560.529297  16568.599609  16570.140625   \n",
       "3   16547.339844  16543.939453  16563.839844  16570.710938  16577.789062   \n",
       "4   16554.119141  16548.279297  16566.310547  16570.140625  16582.080078   \n",
       "5   16562.730469  16549.589844  16568.599609  16572.169922  16600.390625   \n",
       "6   16565.380859  16556.150391  16570.460938  16577.789062  16590.099609   \n",
       "7   16562.259766  16560.529297  16570.710938  16577.130859  16586.429688   \n",
       "8   16561.810547  16560.070312  16569.759766  16582.080078  16600.890625   \n",
       "9   16565.109375  16557.919922  16570.140625  16583.429688  16575.439453   \n",
       "10  16562.490234  16563.839844  16577.140625  16600.390625  16567.150391   \n",
       "11  16556.179688  16559.880859  16572.169922  16602.220703  16566.029297   \n",
       "12  16546.890625  16566.140625  16575.990234  16590.099609  16544.259766   \n",
       "13  16544.400391  16566.310547  16577.789062  16603.470703  16554.050781   \n",
       "14  16545.330078  16566.009766  16576.570312  16586.429688  16565.089844   \n",
       "15  16543.310547  16567.650391  16577.130859  16630.589844  16546.710938   \n",
       "16  16543.939453  16568.599609  16586.589844  16600.890625  16538.759766   \n",
       "17  16544.109375  16566.990234  16582.080078  16584.730469  16551.890625   \n",
       "18  16545.070312  16571.640625  16582.609375  16575.439453  16552.460938   \n",
       "19  16544.679688  16570.460938  16583.429688  16567.539062  16575.939453   \n",
       "\n",
       "               5             6             7             8  \n",
       "0   16548.279297  16570.140625  16590.099609  16607.480469  \n",
       "1   16570.140625  16590.099609  16565.089844  16633.470703  \n",
       "2   16582.080078  16567.150391  16607.480469  16547.310547  \n",
       "3   16590.099609  16565.089844  16555.259766  16706.359375  \n",
       "4   16600.890625  16552.460938  16474.929688  16919.390625  \n",
       "5   16567.150391  16607.480469  16633.470703  16832.109375  \n",
       "6   16544.259766  16525.369141  16616.599609  16836.119141  \n",
       "7   16565.089844  16555.259766  16556.369141  16778.500000  \n",
       "8   16538.759766  16496.269531  16547.310547  16821.429688  \n",
       "9   16552.460938  16474.929688  16578.519531  16824.669922  \n",
       "10  16568.240234  16599.080078  16647.160156  16895.560547  \n",
       "11  16607.480469  16633.470703  16706.359375  16438.880859  \n",
       "12  16585.060547  16612.400391  16799.779297  16738.210938  \n",
       "13  16525.369141  16616.599609  16869.189453  16776.519531  \n",
       "14  16533.119141  16598.699219  16919.390625  16632.119141  \n",
       "15  16555.259766  16556.369141  16809.509766  17356.339844  \n",
       "16  16465.880859  16558.330078  16843.650391  17803.150391  \n",
       "17  16496.269531  16547.310547  16832.109375  17774.699219  \n",
       "18  16517.210938  16595.919922  16793.089844  17209.830078  \n",
       "19  16474.929688  16578.519531  16821.970703  17085.050781  "
      ]
     },
     "execution_count": 112,
     "metadata": {},
     "output_type": "execute_result"
    }
   ],
   "source": [
    "if __name__ == '__main__':\n",
    "    pd.DataFrame(cria_janela(99)[0])"
   ]
  },
  {
   "cell_type": "code",
   "execution_count": 111,
   "id": "87d5eda1",
   "metadata": {},
   "outputs": [
    {
     "data": {
      "text/html": [
       "<div>\n",
       "<style scoped>\n",
       "    .dataframe tbody tr th:only-of-type {\n",
       "        vertical-align: middle;\n",
       "    }\n",
       "\n",
       "    .dataframe tbody tr th {\n",
       "        vertical-align: top;\n",
       "    }\n",
       "\n",
       "    .dataframe thead th {\n",
       "        text-align: right;\n",
       "    }\n",
       "</style>\n",
       "<table border=\"1\" class=\"dataframe\">\n",
       "  <thead>\n",
       "    <tr style=\"text-align: right;\">\n",
       "      <th></th>\n",
       "      <th>Open</th>\n",
       "      <th>High</th>\n",
       "      <th>Low</th>\n",
       "      <th>Close</th>\n",
       "      <th>Volume</th>\n",
       "      <th>Number of trades</th>\n",
       "    </tr>\n",
       "    <tr>\n",
       "      <th>Close time</th>\n",
       "      <th></th>\n",
       "      <th></th>\n",
       "      <th></th>\n",
       "      <th></th>\n",
       "      <th></th>\n",
       "      <th></th>\n",
       "    </tr>\n",
       "  </thead>\n",
       "  <tbody>\n",
       "    <tr>\n",
       "      <th>2017-08-17 04:00:59.999</th>\n",
       "      <td>4261.48</td>\n",
       "      <td>4261.48</td>\n",
       "      <td>4261.48</td>\n",
       "      <td>4261.48</td>\n",
       "      <td>1.775183</td>\n",
       "      <td>3</td>\n",
       "    </tr>\n",
       "    <tr>\n",
       "      <th>2017-08-17 04:01:59.999</th>\n",
       "      <td>4261.48</td>\n",
       "      <td>4261.48</td>\n",
       "      <td>4261.48</td>\n",
       "      <td>4261.48</td>\n",
       "      <td>0.000000</td>\n",
       "      <td>0</td>\n",
       "    </tr>\n",
       "    <tr>\n",
       "      <th>2017-08-17 04:02:59.999</th>\n",
       "      <td>4280.56</td>\n",
       "      <td>4280.56</td>\n",
       "      <td>4280.56</td>\n",
       "      <td>4280.56</td>\n",
       "      <td>0.261074</td>\n",
       "      <td>2</td>\n",
       "    </tr>\n",
       "    <tr>\n",
       "      <th>2017-08-17 04:03:59.999</th>\n",
       "      <td>4261.48</td>\n",
       "      <td>4261.48</td>\n",
       "      <td>4261.48</td>\n",
       "      <td>4261.48</td>\n",
       "      <td>0.012008</td>\n",
       "      <td>3</td>\n",
       "    </tr>\n",
       "    <tr>\n",
       "      <th>2017-08-17 04:04:59.999</th>\n",
       "      <td>4261.48</td>\n",
       "      <td>4261.48</td>\n",
       "      <td>4261.48</td>\n",
       "      <td>4261.48</td>\n",
       "      <td>0.140796</td>\n",
       "      <td>1</td>\n",
       "    </tr>\n",
       "    <tr>\n",
       "      <th>...</th>\n",
       "      <td>...</td>\n",
       "      <td>...</td>\n",
       "      <td>...</td>\n",
       "      <td>...</td>\n",
       "      <td>...</td>\n",
       "      <td>...</td>\n",
       "    </tr>\n",
       "    <tr>\n",
       "      <th>2022-11-30 23:55:59.999</th>\n",
       "      <td>17175.50</td>\n",
       "      <td>17215.59</td>\n",
       "      <td>17170.01</td>\n",
       "      <td>17173.33</td>\n",
       "      <td>531.365170</td>\n",
       "      <td>6445</td>\n",
       "    </tr>\n",
       "    <tr>\n",
       "      <th>2022-11-30 23:56:59.999</th>\n",
       "      <td>17173.33</td>\n",
       "      <td>17175.40</td>\n",
       "      <td>17150.70</td>\n",
       "      <td>17167.16</td>\n",
       "      <td>322.428780</td>\n",
       "      <td>7797</td>\n",
       "    </tr>\n",
       "    <tr>\n",
       "      <th>2022-11-30 23:57:59.999</th>\n",
       "      <td>17165.50</td>\n",
       "      <td>17170.80</td>\n",
       "      <td>17156.77</td>\n",
       "      <td>17161.26</td>\n",
       "      <td>160.506230</td>\n",
       "      <td>4056</td>\n",
       "    </tr>\n",
       "    <tr>\n",
       "      <th>2022-11-30 23:58:59.999</th>\n",
       "      <td>17161.26</td>\n",
       "      <td>17170.27</td>\n",
       "      <td>17159.51</td>\n",
       "      <td>17164.87</td>\n",
       "      <td>129.203750</td>\n",
       "      <td>3760</td>\n",
       "    </tr>\n",
       "    <tr>\n",
       "      <th>2022-11-30 23:59:59.999</th>\n",
       "      <td>17164.11</td>\n",
       "      <td>17167.99</td>\n",
       "      <td>17160.00</td>\n",
       "      <td>17163.64</td>\n",
       "      <td>143.984230</td>\n",
       "      <td>3565</td>\n",
       "    </tr>\n",
       "  </tbody>\n",
       "</table>\n",
       "<p>2773359 rows × 6 columns</p>\n",
       "</div>"
      ],
      "text/plain": [
       "                             Open      High       Low     Close      Volume  \\\n",
       "Close time                                                                    \n",
       "2017-08-17 04:00:59.999   4261.48   4261.48   4261.48   4261.48    1.775183   \n",
       "2017-08-17 04:01:59.999   4261.48   4261.48   4261.48   4261.48    0.000000   \n",
       "2017-08-17 04:02:59.999   4280.56   4280.56   4280.56   4280.56    0.261074   \n",
       "2017-08-17 04:03:59.999   4261.48   4261.48   4261.48   4261.48    0.012008   \n",
       "2017-08-17 04:04:59.999   4261.48   4261.48   4261.48   4261.48    0.140796   \n",
       "...                           ...       ...       ...       ...         ...   \n",
       "2022-11-30 23:55:59.999  17175.50  17215.59  17170.01  17173.33  531.365170   \n",
       "2022-11-30 23:56:59.999  17173.33  17175.40  17150.70  17167.16  322.428780   \n",
       "2022-11-30 23:57:59.999  17165.50  17170.80  17156.77  17161.26  160.506230   \n",
       "2022-11-30 23:58:59.999  17161.26  17170.27  17159.51  17164.87  129.203750   \n",
       "2022-11-30 23:59:59.999  17164.11  17167.99  17160.00  17163.64  143.984230   \n",
       "\n",
       "                         Number of trades  \n",
       "Close time                                 \n",
       "2017-08-17 04:00:59.999                 3  \n",
       "2017-08-17 04:01:59.999                 0  \n",
       "2017-08-17 04:02:59.999                 2  \n",
       "2017-08-17 04:03:59.999                 3  \n",
       "2017-08-17 04:04:59.999                 1  \n",
       "...                                   ...  \n",
       "2022-11-30 23:55:59.999              6445  \n",
       "2022-11-30 23:56:59.999              7797  \n",
       "2022-11-30 23:57:59.999              4056  \n",
       "2022-11-30 23:58:59.999              3760  \n",
       "2022-11-30 23:59:59.999              3565  \n",
       "\n",
       "[2773359 rows x 6 columns]"
      ]
     },
     "execution_count": 111,
     "metadata": {},
     "output_type": "execute_result"
    }
   ],
   "source": [
    "if __name__ == '__main__':\n",
    "    df = pd.read_csv(f\"./Dados/Processados/BTCUSDT-1m.csv\", index_col = \"Close time\"\n",
    "                         , usecols=[\"Close time\",\"Open\", \"High\", \"Low\", \"Close\", \"Volume\", \"Number of trades\"])\n",
    "    df.index = pd.to_datetime(df.index, unit=\"ms\")\n",
    "    df"
   ]
  },
  {
   "cell_type": "markdown",
   "id": "4d519f19",
   "metadata": {},
   "source": [
    "# Falhas\n",
    "Numba. Mais devagar mesmo 100% nopython. Talvez devido a falta de suporte ao argmax(), que fez com que eu tivesse que criar uma função pra encontrar o primeiro menor. No futuro, tentar pegar o indexador somando linhas."
   ]
  },
  {
   "cell_type": "code",
   "execution_count": 7,
   "id": "cb7239bb",
   "metadata": {},
   "outputs": [],
   "source": [
    "if __name__ == '__main__':\n",
    "    # aparentemente o numba precisa de uma lista especializada quando é lista de listas\n",
    "    from numba.typed import List\n",
    "    import numba_funcs\n",
    "\n",
    "    dfs = numba_funcs.dfs_numba(timeframes)"
   ]
  },
  {
   "cell_type": "code",
   "execution_count": 8,
   "id": "9c169c99",
   "metadata": {},
   "outputs": [
    {
     "data": {
      "text/html": [
       "<div>\n",
       "<style scoped>\n",
       "    .dataframe tbody tr th:only-of-type {\n",
       "        vertical-align: middle;\n",
       "    }\n",
       "\n",
       "    .dataframe tbody tr th {\n",
       "        vertical-align: top;\n",
       "    }\n",
       "\n",
       "    .dataframe thead th {\n",
       "        text-align: right;\n",
       "    }\n",
       "</style>\n",
       "<table border=\"1\" class=\"dataframe\">\n",
       "  <thead>\n",
       "    <tr style=\"text-align: right;\">\n",
       "      <th></th>\n",
       "      <th>0</th>\n",
       "      <th>1</th>\n",
       "      <th>2</th>\n",
       "      <th>3</th>\n",
       "      <th>4</th>\n",
       "      <th>5</th>\n",
       "      <th>6</th>\n",
       "      <th>7</th>\n",
       "      <th>8</th>\n",
       "    </tr>\n",
       "  </thead>\n",
       "  <tbody>\n",
       "    <tr>\n",
       "      <th>0</th>\n",
       "      <td>16532.259766</td>\n",
       "      <td>16531.619141</td>\n",
       "      <td>16565.380859</td>\n",
       "      <td>16548.279297</td>\n",
       "      <td>16548.279297</td>\n",
       "      <td>16548.279297</td>\n",
       "      <td>16570.140625</td>\n",
       "      <td>16590.099609</td>\n",
       "      <td>16607.480469</td>\n",
       "    </tr>\n",
       "    <tr>\n",
       "      <th>1</th>\n",
       "      <td>16531.619141</td>\n",
       "      <td>16565.380859</td>\n",
       "      <td>16548.279297</td>\n",
       "      <td>16563.839844</td>\n",
       "      <td>16568.599609</td>\n",
       "      <td>16570.140625</td>\n",
       "      <td>16590.099609</td>\n",
       "      <td>16565.089844</td>\n",
       "      <td>16633.470703</td>\n",
       "    </tr>\n",
       "    <tr>\n",
       "      <th>2</th>\n",
       "      <td>16519.140625</td>\n",
       "      <td>16556.179688</td>\n",
       "      <td>16560.529297</td>\n",
       "      <td>16568.599609</td>\n",
       "      <td>16570.140625</td>\n",
       "      <td>16582.080078</td>\n",
       "      <td>16567.150391</td>\n",
       "      <td>16607.480469</td>\n",
       "      <td>16547.310547</td>\n",
       "    </tr>\n",
       "    <tr>\n",
       "      <th>3</th>\n",
       "      <td>16547.339844</td>\n",
       "      <td>16543.939453</td>\n",
       "      <td>16563.839844</td>\n",
       "      <td>16570.710938</td>\n",
       "      <td>16577.789062</td>\n",
       "      <td>16590.099609</td>\n",
       "      <td>16565.089844</td>\n",
       "      <td>16555.259766</td>\n",
       "      <td>16706.359375</td>\n",
       "    </tr>\n",
       "    <tr>\n",
       "      <th>4</th>\n",
       "      <td>16554.119141</td>\n",
       "      <td>16548.279297</td>\n",
       "      <td>16566.310547</td>\n",
       "      <td>16570.140625</td>\n",
       "      <td>16582.080078</td>\n",
       "      <td>16600.890625</td>\n",
       "      <td>16552.460938</td>\n",
       "      <td>16474.929688</td>\n",
       "      <td>16919.390625</td>\n",
       "    </tr>\n",
       "    <tr>\n",
       "      <th>5</th>\n",
       "      <td>16562.730469</td>\n",
       "      <td>16549.589844</td>\n",
       "      <td>16568.599609</td>\n",
       "      <td>16572.169922</td>\n",
       "      <td>16600.390625</td>\n",
       "      <td>16567.150391</td>\n",
       "      <td>16607.480469</td>\n",
       "      <td>16633.470703</td>\n",
       "      <td>16832.109375</td>\n",
       "    </tr>\n",
       "    <tr>\n",
       "      <th>6</th>\n",
       "      <td>16565.380859</td>\n",
       "      <td>16556.150391</td>\n",
       "      <td>16570.460938</td>\n",
       "      <td>16577.789062</td>\n",
       "      <td>16590.099609</td>\n",
       "      <td>16544.259766</td>\n",
       "      <td>16525.369141</td>\n",
       "      <td>16616.599609</td>\n",
       "      <td>16836.119141</td>\n",
       "    </tr>\n",
       "    <tr>\n",
       "      <th>7</th>\n",
       "      <td>16562.259766</td>\n",
       "      <td>16560.529297</td>\n",
       "      <td>16570.710938</td>\n",
       "      <td>16577.130859</td>\n",
       "      <td>16586.429688</td>\n",
       "      <td>16565.089844</td>\n",
       "      <td>16555.259766</td>\n",
       "      <td>16556.369141</td>\n",
       "      <td>16778.500000</td>\n",
       "    </tr>\n",
       "    <tr>\n",
       "      <th>8</th>\n",
       "      <td>16561.810547</td>\n",
       "      <td>16560.070312</td>\n",
       "      <td>16569.759766</td>\n",
       "      <td>16582.080078</td>\n",
       "      <td>16600.890625</td>\n",
       "      <td>16538.759766</td>\n",
       "      <td>16496.269531</td>\n",
       "      <td>16547.310547</td>\n",
       "      <td>16821.429688</td>\n",
       "    </tr>\n",
       "    <tr>\n",
       "      <th>9</th>\n",
       "      <td>16565.109375</td>\n",
       "      <td>16557.919922</td>\n",
       "      <td>16570.140625</td>\n",
       "      <td>16583.429688</td>\n",
       "      <td>16575.439453</td>\n",
       "      <td>16552.460938</td>\n",
       "      <td>16474.929688</td>\n",
       "      <td>16578.519531</td>\n",
       "      <td>16824.669922</td>\n",
       "    </tr>\n",
       "    <tr>\n",
       "      <th>10</th>\n",
       "      <td>16562.490234</td>\n",
       "      <td>16563.839844</td>\n",
       "      <td>16577.140625</td>\n",
       "      <td>16600.390625</td>\n",
       "      <td>16567.150391</td>\n",
       "      <td>16568.240234</td>\n",
       "      <td>16599.080078</td>\n",
       "      <td>16647.160156</td>\n",
       "      <td>16895.560547</td>\n",
       "    </tr>\n",
       "    <tr>\n",
       "      <th>11</th>\n",
       "      <td>16556.179688</td>\n",
       "      <td>16559.880859</td>\n",
       "      <td>16572.169922</td>\n",
       "      <td>16602.220703</td>\n",
       "      <td>16566.029297</td>\n",
       "      <td>16607.480469</td>\n",
       "      <td>16633.470703</td>\n",
       "      <td>16706.359375</td>\n",
       "      <td>16438.880859</td>\n",
       "    </tr>\n",
       "    <tr>\n",
       "      <th>12</th>\n",
       "      <td>16546.890625</td>\n",
       "      <td>16566.140625</td>\n",
       "      <td>16575.990234</td>\n",
       "      <td>16590.099609</td>\n",
       "      <td>16544.259766</td>\n",
       "      <td>16585.060547</td>\n",
       "      <td>16612.400391</td>\n",
       "      <td>16799.779297</td>\n",
       "      <td>16738.210938</td>\n",
       "    </tr>\n",
       "    <tr>\n",
       "      <th>13</th>\n",
       "      <td>16544.400391</td>\n",
       "      <td>16566.310547</td>\n",
       "      <td>16577.789062</td>\n",
       "      <td>16603.470703</td>\n",
       "      <td>16554.050781</td>\n",
       "      <td>16525.369141</td>\n",
       "      <td>16616.599609</td>\n",
       "      <td>16869.189453</td>\n",
       "      <td>16776.519531</td>\n",
       "    </tr>\n",
       "    <tr>\n",
       "      <th>14</th>\n",
       "      <td>16545.330078</td>\n",
       "      <td>16566.009766</td>\n",
       "      <td>16576.570312</td>\n",
       "      <td>16586.429688</td>\n",
       "      <td>16565.089844</td>\n",
       "      <td>16533.119141</td>\n",
       "      <td>16598.699219</td>\n",
       "      <td>16919.390625</td>\n",
       "      <td>16632.119141</td>\n",
       "    </tr>\n",
       "    <tr>\n",
       "      <th>15</th>\n",
       "      <td>16543.310547</td>\n",
       "      <td>16567.650391</td>\n",
       "      <td>16577.130859</td>\n",
       "      <td>16630.589844</td>\n",
       "      <td>16546.710938</td>\n",
       "      <td>16555.259766</td>\n",
       "      <td>16556.369141</td>\n",
       "      <td>16809.509766</td>\n",
       "      <td>17356.339844</td>\n",
       "    </tr>\n",
       "    <tr>\n",
       "      <th>16</th>\n",
       "      <td>16543.939453</td>\n",
       "      <td>16568.599609</td>\n",
       "      <td>16586.589844</td>\n",
       "      <td>16600.890625</td>\n",
       "      <td>16538.759766</td>\n",
       "      <td>16465.880859</td>\n",
       "      <td>16558.330078</td>\n",
       "      <td>16843.650391</td>\n",
       "      <td>17803.150391</td>\n",
       "    </tr>\n",
       "    <tr>\n",
       "      <th>17</th>\n",
       "      <td>16544.109375</td>\n",
       "      <td>16566.990234</td>\n",
       "      <td>16582.080078</td>\n",
       "      <td>16584.730469</td>\n",
       "      <td>16551.890625</td>\n",
       "      <td>16496.269531</td>\n",
       "      <td>16547.310547</td>\n",
       "      <td>16832.109375</td>\n",
       "      <td>17774.699219</td>\n",
       "    </tr>\n",
       "    <tr>\n",
       "      <th>18</th>\n",
       "      <td>16545.070312</td>\n",
       "      <td>16571.640625</td>\n",
       "      <td>16582.609375</td>\n",
       "      <td>16575.439453</td>\n",
       "      <td>16552.460938</td>\n",
       "      <td>16517.210938</td>\n",
       "      <td>16595.919922</td>\n",
       "      <td>16793.089844</td>\n",
       "      <td>17209.830078</td>\n",
       "    </tr>\n",
       "    <tr>\n",
       "      <th>19</th>\n",
       "      <td>16544.679688</td>\n",
       "      <td>16570.460938</td>\n",
       "      <td>16583.429688</td>\n",
       "      <td>16567.539062</td>\n",
       "      <td>16575.939453</td>\n",
       "      <td>16474.929688</td>\n",
       "      <td>16578.519531</td>\n",
       "      <td>16821.970703</td>\n",
       "      <td>17085.050781</td>\n",
       "    </tr>\n",
       "  </tbody>\n",
       "</table>\n",
       "</div>"
      ],
      "text/plain": [
       "               0             1             2             3             4  \\\n",
       "0   16532.259766  16531.619141  16565.380859  16548.279297  16548.279297   \n",
       "1   16531.619141  16565.380859  16548.279297  16563.839844  16568.599609   \n",
       "2   16519.140625  16556.179688  16560.529297  16568.599609  16570.140625   \n",
       "3   16547.339844  16543.939453  16563.839844  16570.710938  16577.789062   \n",
       "4   16554.119141  16548.279297  16566.310547  16570.140625  16582.080078   \n",
       "5   16562.730469  16549.589844  16568.599609  16572.169922  16600.390625   \n",
       "6   16565.380859  16556.150391  16570.460938  16577.789062  16590.099609   \n",
       "7   16562.259766  16560.529297  16570.710938  16577.130859  16586.429688   \n",
       "8   16561.810547  16560.070312  16569.759766  16582.080078  16600.890625   \n",
       "9   16565.109375  16557.919922  16570.140625  16583.429688  16575.439453   \n",
       "10  16562.490234  16563.839844  16577.140625  16600.390625  16567.150391   \n",
       "11  16556.179688  16559.880859  16572.169922  16602.220703  16566.029297   \n",
       "12  16546.890625  16566.140625  16575.990234  16590.099609  16544.259766   \n",
       "13  16544.400391  16566.310547  16577.789062  16603.470703  16554.050781   \n",
       "14  16545.330078  16566.009766  16576.570312  16586.429688  16565.089844   \n",
       "15  16543.310547  16567.650391  16577.130859  16630.589844  16546.710938   \n",
       "16  16543.939453  16568.599609  16586.589844  16600.890625  16538.759766   \n",
       "17  16544.109375  16566.990234  16582.080078  16584.730469  16551.890625   \n",
       "18  16545.070312  16571.640625  16582.609375  16575.439453  16552.460938   \n",
       "19  16544.679688  16570.460938  16583.429688  16567.539062  16575.939453   \n",
       "\n",
       "               5             6             7             8  \n",
       "0   16548.279297  16570.140625  16590.099609  16607.480469  \n",
       "1   16570.140625  16590.099609  16565.089844  16633.470703  \n",
       "2   16582.080078  16567.150391  16607.480469  16547.310547  \n",
       "3   16590.099609  16565.089844  16555.259766  16706.359375  \n",
       "4   16600.890625  16552.460938  16474.929688  16919.390625  \n",
       "5   16567.150391  16607.480469  16633.470703  16832.109375  \n",
       "6   16544.259766  16525.369141  16616.599609  16836.119141  \n",
       "7   16565.089844  16555.259766  16556.369141  16778.500000  \n",
       "8   16538.759766  16496.269531  16547.310547  16821.429688  \n",
       "9   16552.460938  16474.929688  16578.519531  16824.669922  \n",
       "10  16568.240234  16599.080078  16647.160156  16895.560547  \n",
       "11  16607.480469  16633.470703  16706.359375  16438.880859  \n",
       "12  16585.060547  16612.400391  16799.779297  16738.210938  \n",
       "13  16525.369141  16616.599609  16869.189453  16776.519531  \n",
       "14  16533.119141  16598.699219  16919.390625  16632.119141  \n",
       "15  16555.259766  16556.369141  16809.509766  17356.339844  \n",
       "16  16465.880859  16558.330078  16843.650391  17803.150391  \n",
       "17  16496.269531  16547.310547  16832.109375  17774.699219  \n",
       "18  16517.210938  16595.919922  16793.089844  17209.830078  \n",
       "19  16474.929688  16578.519531  16821.970703  17085.050781  "
      ]
     },
     "execution_count": 8,
     "metadata": {},
     "output_type": "execute_result"
    }
   ],
   "source": [
    "if __name__ == '__main__':\n",
    "    lookback = 20\n",
    "\n",
    "    pd.DataFrame(numba_funcs.cria_janela(99, dfs, lookback))"
   ]
  },
  {
   "cell_type": "code",
   "execution_count": 115,
   "id": "1a62041d",
   "metadata": {},
   "outputs": [
    {
     "name": "stdout",
     "output_type": "stream",
     "text": [
      "2797680\n"
     ]
    },
    {
     "data": {
      "text/plain": [
       "(array([[4395.  , 4395.  , 4415.07, 4415.07, 4366.47, 4366.47, 4366.47,\n",
       "         4366.47, 4366.47],\n",
       "        [4388.45, 4382.4 , 4368.01, 4366.47, 4423.46, 4374.43, 4442.48,\n",
       "         4151.  , 4100.11],\n",
       "        [4384.  , 4415.07, 4366.47, 4450.52, 4374.43, 4442.48, 4151.  ,\n",
       "         4190.4 , 4509.08],\n",
       "        [4383.85, 4403.  , 4426.27, 4423.46, 4431.61, 4322.47, 4246.82,\n",
       "         4100.11, 4472.14],\n",
       "        [4382.4 , 4367.99, 4450.52, 4413.99, 4442.48, 4151.  , 4190.4 ,\n",
       "         4015.03, 4834.91],\n",
       "        [4382.4 , 4368.01, 4425.  , 4374.43, 4390.14, 4261.04, 3988.04,\n",
       "         4186.96, 4724.89],\n",
       "        [4365.74, 4368.  , 4423.46, 4399.42, 4322.47, 4246.82, 4100.11,\n",
       "         4509.08, 4555.14],\n",
       "        [4365.74, 4368.05, 4415.72, 4431.61, 4142.69, 4120.05, 4203.67,\n",
       "         4384.15, 4587.48],\n",
       "        [4365.74, 4366.47, 4413.99, 4381.21, 4151.  , 4190.4 , 4015.03,\n",
       "         4620.87, 4386.69],\n",
       "        [4397.02, 4370.85, 4397.99, 4442.48, 4229.  , 3960.01, 4153.  ,\n",
       "         4472.14, 4310.01],\n",
       "        [4415.07, 4404.15, 4374.43, 4427.14, 4261.04, 3988.04, 4186.96,\n",
       "         4460.19, 4337.44],\n",
       "        [4403.11, 4426.27, 4370.42, 4390.14, 4221.83, 3620.  , 4340.51,\n",
       "         4697.71, 4280.68],\n",
       "        [4403.02, 4428.68, 4399.42, 4373.36, 4246.82, 4100.11, 4509.08,\n",
       "         4834.91, 4316.01],\n",
       "        [4403.02, 4450.52, 4399.42, 4322.47, 4169.76, 4258.4 , 4529.  ,\n",
       "         4803.83, 4114.01],\n",
       "        [4414.9 , 4450.52, 4431.61, 4250.  , 4120.05, 4203.67, 4384.15,\n",
       "         4707.5 , 4040.  ],\n",
       "        [4403.  , 4473.09, 4370.21, 4142.69, 4086.8 , 3972.53, 4486.  ,\n",
       "         4724.89, 4016.  ],\n",
       "        [4403.  , 4473.82, 4381.21, 4180.  , 4190.4 , 4015.03, 4620.87,\n",
       "         4648.82, 4086.29],\n",
       "        [4403.  , 4425.  , 4419.26, 4151.  , 4013.46, 4275.19, 4569.54,\n",
       "         4592.16, 4139.98],\n",
       "        [4365.73, 4430.89, 4442.48, 4202.65, 3960.01, 4153.  , 4472.14,\n",
       "         4555.14, 4108.37],\n",
       "        [4366.85, 4425.  , 4457.75, 4229.  , 4038.01, 4336.42, 4509.77,\n",
       "         4546.77, 4285.08]], dtype=float32),\n",
       " 'long')"
      ]
     },
     "execution_count": 115,
     "metadata": {},
     "output_type": "execute_result"
    }
   ],
   "source": [
    "if __name__ == '__main__':\n",
    "    #ultima_linha = ((len(dfs[-1])-lookback-6)*timeframes_padronizado[-1])\n",
    "    # ultima linha é a qtd de linhas de 1 min - (lookback (20 dias) x qtd de minutos em um dia) \n",
    "    ultima_linha = len(dfs[0])-(lookback*timeframes_padronizado[-1])\n",
    "    print(ultima_linha)\n",
    "    cria_janela(ultima_linha+200, dfs, lookback)"
   ]
  },
  {
   "cell_type": "code",
   "execution_count": null,
   "id": "1ec372ad",
   "metadata": {},
   "outputs": [],
   "source": []
  }
 ],
 "metadata": {
  "kernelspec": {
   "display_name": "Python 3 (ipykernel)",
   "language": "python",
   "name": "python3"
  },
  "language_info": {
   "codemirror_mode": {
    "name": "ipython",
    "version": 3
   },
   "file_extension": ".py",
   "mimetype": "text/x-python",
   "name": "python",
   "nbconvert_exporter": "python",
   "pygments_lexer": "ipython3",
   "version": "3.9.13"
  }
 },
 "nbformat": 4,
 "nbformat_minor": 5
}
